{
  "cells": [
    {
      "cell_type": "markdown",
      "metadata": {
        "id": "view-in-github",
        "colab_type": "text"
      },
      "source": [
        "<a href=\"https://colab.research.google.com/github/mrsferret/Machine-Learning-ITNPBD6-/blob/main/Newspaper_Multi_Linear_Reg.ipynb\" target=\"_parent\"><img src=\"https://colab.research.google.com/assets/colab-badge.svg\" alt=\"Open In Colab\"/></a>"
      ]
    },
    {
      "cell_type": "markdown",
      "metadata": {
        "id": "aewXaVEMRghZ"
      },
      "source": [
        "# Multiple Linear Regression with Numeric Values\n",
        "## Newspaper sales prediction Example\n",
        "This notebook uses multiple linear regression to predict newspaper sales from Advert Spend, Price, Offered Prize Value and whether or not it was Wet that day.\n",
        "  \n",
        "All of the variables are numeric and the data are clean, so only the basic steps of performing regresison are given. No hyper-parameter searching is included, so no validation data are used.\n",
        "\n",
        "\n",
        "Note: at various points this week we're using numpy arrays rather than pandas dataframes. Scikit-learn can handle both; in many circumstances numpy arrays are faster, but the syntax is a bit different (often more complex). You'll see many examples of numpy and scikit-learn if you look around the web, so it's helpful to see this alternative approach."
      ]
    },
    {
      "cell_type": "code",
      "execution_count": null,
      "metadata": {
        "id": "Ky2tVRVGRghd"
      },
      "outputs": [],
      "source": [
        "from sklearn.model_selection import train_test_split\n",
        "from sklearn.linear_model import LinearRegression\n",
        "from sklearn import metrics\n",
        "import numpy as np"
      ]
    },
    {
      "cell_type": "markdown",
      "metadata": {
        "id": "mQMgpOYhRghf"
      },
      "source": [
        "## Load the Data\n",
        "You should download the file called `Newspaper_Numeric.csv` from the course website and put it in a folder accessible to this notebook. In the code below, we assume it is in the same folder as the notebook. Change the code if it is somewhere else."
      ]
    },
    {
      "cell_type": "code",
      "execution_count": null,
      "metadata": {
        "id": "YA03UhSrRghg",
        "outputId": "7d54ce05-b074-4e2a-f9cc-c9f1c308e087"
      },
      "outputs": [
        {
          "data": {
            "text/plain": [
              "array([[1.7570e+03, 6.0000e+01, 3.0000e+01, 1.0000e+00, 5.0611e+04],\n",
              "       [1.6950e+03, 4.5000e+01, 3.0000e+01, 1.0000e+00, 4.5457e+04],\n",
              "       [2.3590e+03, 4.5000e+01, 7.0000e+01, 0.0000e+00, 7.2836e+04],\n",
              "       ...,\n",
              "       [1.2350e+03, 6.5000e+01, 7.0000e+01, 0.0000e+00, 5.2755e+04],\n",
              "       [1.5980e+03, 6.0000e+01, 4.0000e+01, 0.0000e+00, 5.1524e+04],\n",
              "       [2.2290e+03, 5.0000e+01, 4.0000e+01, 0.0000e+00, 6.5331e+04]])"
            ]
          },
          "execution_count": 2,
          "metadata": {},
          "output_type": "execute_result"
        }
      ],
      "source": [
        "data = np.loadtxt('Newspaper_Numeric.csv', delimiter=\",\", skiprows=1)\n",
        "data"
      ]
    },
    {
      "cell_type": "markdown",
      "metadata": {
        "id": "KZrfa61eRghh"
      },
      "source": [
        "## Extract the Inputs and Outputs - single input\n",
        "We'll begin with a simple linear regression: that is predicting a single output variable from a single input variable.\n",
        "\n",
        "The target output variable, `sales` is the last column in the file, so we put that into a variable called `y`. `advert spend` is our input, in column 0, which we put into `X`. Then we split off 30% for testing."
      ]
    },
    {
      "cell_type": "code",
      "execution_count": null,
      "metadata": {
        "id": "znBg98uKRghi"
      },
      "outputs": [],
      "source": [
        "cols = data.shape[1]\n",
        "X = data[:,0:1]\n",
        "y = data[:,cols-1]\n",
        "X_train, X_test, y_train, y_test = train_test_split(X, y, test_size=0.30)"
      ]
    },
    {
      "cell_type": "markdown",
      "metadata": {
        "id": "ICJ8ors0Rghi"
      },
      "source": [
        "## Build the Regression Model\n",
        "We fit the regression model next and print the R-squared value."
      ]
    },
    {
      "cell_type": "code",
      "execution_count": null,
      "metadata": {
        "id": "mbq7TTl6Rghj",
        "outputId": "88220a4f-cc35-4d56-a232-3403ca48fc9b"
      },
      "outputs": [
        {
          "name": "stdout",
          "output_type": "stream",
          "text": [
            "R Squared = 0.726620842800324\n",
            "Coefficients and intercept = [15.14810098] 28954.981043024127\n"
          ]
        }
      ],
      "source": [
        "# make a new regression model object, and fit it to the data\n",
        "reg = LinearRegression().fit(X_train, y_train)\n",
        "\n",
        "# we can interrogate this object for the trained model coefficients and r^2 achieved on the training data\n",
        "print(\"R Squared =\",reg.score(X, y))\n",
        "print(\"Coefficients and intercept =\",reg.coef_, reg.intercept_)"
      ]
    },
    {
      "cell_type": "markdown",
      "metadata": {
        "id": "e2B_tzFVRghk"
      },
      "source": [
        "## Finally, Predict on the Test Data\n",
        "We predict the values for the test data and calculate the mean absolute error for that data. Try other metrics in the second line."
      ]
    },
    {
      "cell_type": "code",
      "execution_count": null,
      "metadata": {
        "id": "ppxJWmyORghk",
        "outputId": "7896adec-4a72-4a4c-f197-621d630e9954"
      },
      "outputs": [
        {
          "name": "stdout",
          "output_type": "stream",
          "text": [
            "Mean Absolute Error on test = 4159.239375606203\n"
          ]
        }
      ],
      "source": [
        "preds = reg.predict(X_test)\n",
        "test_MAE = metrics.mean_absolute_error(y_test, preds)\n",
        "print(\"Mean Absolute Error on test =\",test_MAE)"
      ]
    },
    {
      "cell_type": "markdown",
      "metadata": {
        "id": "SmKKnYH3Rghl"
      },
      "source": [
        "## Extract the Inputs and Outputs - multiple inputs\n",
        "Now we'll try multiple linear regression.\n",
        "\n",
        "The target output variable, `sales` is the last column in the file, so we put that into a variable called `y` and the other, input, columns into `X`. Then we split off 30% for testing."
      ]
    },
    {
      "cell_type": "code",
      "execution_count": null,
      "metadata": {
        "id": "JgjiNC3LRghm"
      },
      "outputs": [],
      "source": [
        "# how many columns are in the data?\n",
        "cols = data.shape[1]\n",
        "\n",
        "# get the feature columns\n",
        "X = data[:,0:cols-1]\n",
        "\n",
        "# the target variable is in the last column\n",
        "y = data[:,cols-1]\n",
        "\n",
        "# train/test split\n",
        "X_train, X_test, y_train, y_test = train_test_split(X, y, test_size=0.30)"
      ]
    },
    {
      "cell_type": "markdown",
      "metadata": {
        "id": "umL4lt24Rghn"
      },
      "source": [
        "## Build the Regression Model\n",
        "We fit the regression model next and print the R-squared value. It should be a bit better than the score for simple linear regression."
      ]
    },
    {
      "cell_type": "code",
      "execution_count": null,
      "metadata": {
        "id": "IMS2J5FXRghn",
        "outputId": "36db15da-7f99-4cc6-bc8f-8e72fdd9b17e"
      },
      "outputs": [
        {
          "name": "stdout",
          "output_type": "stream",
          "text": [
            "R Squared = 0.8320826538396755\n",
            "Coefficients and intercept = [   14.89245903   -98.46943215    95.25523222 -2354.41589321] 30378.572340188475\n"
          ]
        }
      ],
      "source": [
        "reg = LinearRegression().fit(X_train, y_train)\n",
        "print(\"R Squared =\",reg.score(X, y))\n",
        "print(\"Coefficients and intercept =\",reg.coef_, reg.intercept_)"
      ]
    },
    {
      "cell_type": "markdown",
      "metadata": {
        "id": "Ha4XaSbmRgho"
      },
      "source": [
        "## Finally, Predict on the Test Data\n",
        "We predict the values for the test data and calculate the mean absolute error for that data. Try other metrics in the second line."
      ]
    },
    {
      "cell_type": "code",
      "execution_count": null,
      "metadata": {
        "id": "RfxyYtlKRgho",
        "outputId": "9a323c8c-6346-4c20-ee23-61c7c54d4e9d"
      },
      "outputs": [
        {
          "name": "stdout",
          "output_type": "stream",
          "text": [
            "Mean Absolute Error on test = 3217.632677845297\n"
          ]
        }
      ],
      "source": [
        "preds = reg.predict(X_test)\n",
        "test_MAE = metrics.mean_absolute_error(y_test, preds)\n",
        "print(\"Mean Absolute Error on test =\",test_MAE)"
      ]
    }
  ],
  "metadata": {
    "kernelspec": {
      "display_name": "Python 3 (ipykernel)",
      "language": "python",
      "name": "python3"
    },
    "language_info": {
      "codemirror_mode": {
        "name": "ipython",
        "version": 3
      },
      "file_extension": ".py",
      "mimetype": "text/x-python",
      "name": "python",
      "nbconvert_exporter": "python",
      "pygments_lexer": "ipython3",
      "version": "3.11.4"
    },
    "colab": {
      "provenance": [],
      "include_colab_link": true
    }
  },
  "nbformat": 4,
  "nbformat_minor": 0
}