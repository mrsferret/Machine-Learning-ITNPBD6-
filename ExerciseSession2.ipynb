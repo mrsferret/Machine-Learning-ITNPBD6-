{
  "cells": [
    {
      "cell_type": "markdown",
      "metadata": {
        "id": "view-in-github",
        "colab_type": "text"
      },
      "source": [
        "<a href=\"https://colab.research.google.com/github/mrsferret/Machine-Learning-ITNPBD6-/blob/main/ExerciseSession2.ipynb\" target=\"_parent\"><img src=\"https://colab.research.google.com/assets/colab-badge.svg\" alt=\"Open In Colab\"/></a>"
      ]
    },
    {
      "cell_type": "markdown",
      "metadata": {
        "id": "oaSFPty-lIht"
      },
      "source": [
        "# Splitting Your Data\n",
        "In this exercise, we'll load the same motor premiums data as you did in your last exercise with Python.\n",
        "\n",
        "In practice, what should happen is to do data cleaning after splitting training/test data. The reasoning behind this is that any data cleaning is part of the pipeline: it can influence the model accuracy too. Once you've decided the cleaning steps, you'd then (possibly) apply them to test data too. More discussion on this will follow in later weeks.\n",
        "\n",
        "Here we'll look at how we can split the data into train/validation/test sets and how to use cross-fold validation. Cleaning steps are added after the train/test split.\n",
        "\n",
        "(remember, click on a cell, then control+enter will run it)"
      ]
    },
    {
      "cell_type": "code",
      "execution_count": null,
      "metadata": {
        "id": "9zjO96WslIhu",
        "outputId": "67d4e557-ab3b-43ef-a5f4-52589fb194e0"
      },
      "outputs": [
        {
          "name": "stdout",
          "output_type": "stream",
          "text": [
            "          ID  Age Gender LicenceCountry  Yrs DL  Points  NCD  Engine cc  \\\n",
            "0  B69193007   52      M             UK      16       0    0       1200   \n",
            "1  B58763002   46      F             UK      22       8    1       1400   \n",
            "2  A57010377   59      F             UK       9       0    0       1400   \n",
            "3  B61470950   62      M             UK      35       0    0       1400   \n",
            "4  B43586226   59      F             UK       3       0    4       1400   \n",
            "\n",
            "   Ins Group  Stored  Car Age  Premium  \n",
            "0          4  Garage        2   195.32  \n",
            "1          2  Garage        7   225.09  \n",
            "2          5  Garage       14   201.08  \n",
            "3          4       0       12   211.76  \n",
            "4          5    Road       13   251.49  \n"
          ]
        }
      ],
      "source": [
        "import pandas as pd\n",
        "import numpy as np\n",
        "\n",
        "# load the data...\n",
        "# remember to change this path if you've saved the data somewhere else\n",
        "df=pd.read_csv(\"MotorPremiums.csv\")\n",
        "print(df.head())"
      ]
    },
    {
      "cell_type": "markdown",
      "metadata": {
        "id": "T2twcHrIlIhv"
      },
      "source": [
        "# Train / Test split\n",
        "If you've also completed this exercise in Orange, we're now replicating what we did with Data Sampler.\n",
        "\n",
        "First, we separate into X (the input features) and y (the target).\n",
        "\n",
        "Then splitting is really easy! We use train_test_split(); test_size is the fraction of the data that will form your test set; random_state initialises the random number generator so if you rerun it the split will be the same (change the number for a different split)."
      ]
    },
    {
      "cell_type": "code",
      "execution_count": null,
      "metadata": {
        "id": "WYW3eG91lIhv",
        "outputId": "6735410a-97e3-4c04-db50-ee8c2bda9026"
      },
      "outputs": [
        {
          "name": "stdout",
          "output_type": "stream",
          "text": [
            "          ID  Age Gender LicenceCountry  Yrs DL  Points  NCD  Engine cc  \\\n",
            "0  B69193007   52      M             UK      16       0    0       1200   \n",
            "1  B58763002   46      F             UK      22       8    1       1400   \n",
            "2  A57010377   59      F             UK       9       0    0       1400   \n",
            "3  B61470950   62      M             UK      35       0    0       1400   \n",
            "4  B43586226   59      F             UK       3       0    4       1400   \n",
            "\n",
            "   Ins Group  Stored  Car Age  \n",
            "0          4  Garage        2  \n",
            "1          2  Garage        7  \n",
            "2          5  Garage       14  \n",
            "3          4       0       12  \n",
            "4          5    Road       13  \n",
            "0    195.32\n",
            "1    225.09\n",
            "2    201.08\n",
            "3    211.76\n",
            "4    251.49\n",
            "Name: Premium, dtype: float64\n"
          ]
        }
      ],
      "source": [
        "# set features and targets\n",
        "targetName=\"Premium\"\n",
        "#===================================================================\n",
        "# Split the data into 2 separate files ie. target and features\n",
        "#===================================================================\n",
        "# df.columns != targetName creates a boolean array where each element is True if the corresponding column name is not equal to\n",
        "# targetName (\"Premium\"), and False otherwise.\n",
        "# df.columns[df.columns != targetName] uses this boolean array to filter out the column names that are not equal to targetName.\n",
        "# This results in an Index object containing only the names of the feature columns.\n",
        "allFeatureNames=df.columns[df.columns != targetName]\n",
        "X = df[allFeatureNames]\n",
        "y = df[targetName]\n",
        "print(X.head())\n",
        "print(y.head())"
      ]
    },
    {
      "cell_type": "code",
      "execution_count": null,
      "metadata": {
        "id": "cv8P-HA3lIhv"
      },
      "outputs": [],
      "source": [
        "# Split the data into training and testing sets:\n",
        "\n",
        "# train_test_split(X, y, test_size=0.2, random_state=402):\n",
        "# X: The feature matrix.\n",
        "# y: The target vector.\n",
        "# test_size=0.2: Specifies the proportion of the dataset to include in the test split. Here, 20% of the data\n",
        "# will be used for testing, and the remaining 80% will be used for training.\n",
        "# random_state=402: Sets the seed for the random number generator. This ensures that the split is reproducible,\n",
        "# meaning the same split will be obtained every time you run the code with this seed.\n",
        "\n",
        "# random_state=402: Sets the seed for the random number generator. This ensures that the split is reproducible,\n",
        "# meaning the same split will be obtained every time you run the code with this seed.\n",
        "# test_size=0.2 means that 20% of the data will be used to testing and 80% for training\n",
        "\n",
        "from sklearn.model_selection import train_test_split\n",
        "X_train, X_test, y_train, y_test = train_test_split(X, y, test_size=0.2, random_state=402)"
      ]
    },
    {
      "cell_type": "markdown",
      "metadata": {
        "id": "2hw5-hOQlIhw"
      },
      "source": [
        "We have now split the data, at random, into two sets. X_train and y_train are the training data, and should contain 3509 data points."
      ]
    },
    {
      "cell_type": "code",
      "execution_count": null,
      "metadata": {
        "id": "oLoIsx9llIhw",
        "outputId": "03d4189f-ed3a-482a-c722-748b15c78663"
      },
      "outputs": [
        {
          "data": {
            "text/html": [
              "<div>\n",
              "<style scoped>\n",
              "    .dataframe tbody tr th:only-of-type {\n",
              "        vertical-align: middle;\n",
              "    }\n",
              "\n",
              "    .dataframe tbody tr th {\n",
              "        vertical-align: top;\n",
              "    }\n",
              "\n",
              "    .dataframe thead th {\n",
              "        text-align: right;\n",
              "    }\n",
              "</style>\n",
              "<table border=\"1\" class=\"dataframe\">\n",
              "  <thead>\n",
              "    <tr style=\"text-align: right;\">\n",
              "      <th></th>\n",
              "      <th>ID</th>\n",
              "      <th>Age</th>\n",
              "      <th>Gender</th>\n",
              "      <th>LicenceCountry</th>\n",
              "      <th>Yrs DL</th>\n",
              "      <th>Points</th>\n",
              "      <th>NCD</th>\n",
              "      <th>Engine cc</th>\n",
              "      <th>Ins Group</th>\n",
              "      <th>Stored</th>\n",
              "      <th>Car Age</th>\n",
              "    </tr>\n",
              "  </thead>\n",
              "  <tbody>\n",
              "    <tr>\n",
              "      <th>3942</th>\n",
              "      <td>B11376082</td>\n",
              "      <td>35</td>\n",
              "      <td>M</td>\n",
              "      <td>UK</td>\n",
              "      <td>7</td>\n",
              "      <td>4</td>\n",
              "      <td>1</td>\n",
              "      <td>1200</td>\n",
              "      <td>4</td>\n",
              "      <td>Road</td>\n",
              "      <td>15</td>\n",
              "    </tr>\n",
              "    <tr>\n",
              "      <th>519</th>\n",
              "      <td>B39004071</td>\n",
              "      <td>53</td>\n",
              "      <td>M</td>\n",
              "      <td>UK</td>\n",
              "      <td>35</td>\n",
              "      <td>0</td>\n",
              "      <td>3</td>\n",
              "      <td>1200</td>\n",
              "      <td>3</td>\n",
              "      <td>Garage</td>\n",
              "      <td>1</td>\n",
              "    </tr>\n",
              "    <tr>\n",
              "      <th>2165</th>\n",
              "      <td>B520403</td>\n",
              "      <td>55</td>\n",
              "      <td>M</td>\n",
              "      <td>UK</td>\n",
              "      <td>16</td>\n",
              "      <td>0</td>\n",
              "      <td>3</td>\n",
              "      <td>1200</td>\n",
              "      <td>3</td>\n",
              "      <td>Garage</td>\n",
              "      <td>3</td>\n",
              "    </tr>\n",
              "    <tr>\n",
              "      <th>2171</th>\n",
              "      <td>A51648972</td>\n",
              "      <td>61</td>\n",
              "      <td>M</td>\n",
              "      <td>UK</td>\n",
              "      <td>39</td>\n",
              "      <td>0</td>\n",
              "      <td>4</td>\n",
              "      <td>1400</td>\n",
              "      <td>6</td>\n",
              "      <td>Garage</td>\n",
              "      <td>3</td>\n",
              "    </tr>\n",
              "    <tr>\n",
              "      <th>1135</th>\n",
              "      <td>B45810673</td>\n",
              "      <td>18</td>\n",
              "      <td>F</td>\n",
              "      <td>UK</td>\n",
              "      <td>1</td>\n",
              "      <td>0</td>\n",
              "      <td>3</td>\n",
              "      <td>1200</td>\n",
              "      <td>4</td>\n",
              "      <td>Garage</td>\n",
              "      <td>1</td>\n",
              "    </tr>\n",
              "    <tr>\n",
              "      <th>...</th>\n",
              "      <td>...</td>\n",
              "      <td>...</td>\n",
              "      <td>...</td>\n",
              "      <td>...</td>\n",
              "      <td>...</td>\n",
              "      <td>...</td>\n",
              "      <td>...</td>\n",
              "      <td>...</td>\n",
              "      <td>...</td>\n",
              "      <td>...</td>\n",
              "      <td>...</td>\n",
              "    </tr>\n",
              "    <tr>\n",
              "      <th>2469</th>\n",
              "      <td>A36517462</td>\n",
              "      <td>50</td>\n",
              "      <td>M</td>\n",
              "      <td>UK</td>\n",
              "      <td>11</td>\n",
              "      <td>0</td>\n",
              "      <td>0</td>\n",
              "      <td>1400</td>\n",
              "      <td>6</td>\n",
              "      <td>Garage</td>\n",
              "      <td>10</td>\n",
              "    </tr>\n",
              "    <tr>\n",
              "      <th>1807</th>\n",
              "      <td>A65813411</td>\n",
              "      <td>36</td>\n",
              "      <td>F</td>\n",
              "      <td>UK</td>\n",
              "      <td>12</td>\n",
              "      <td>0</td>\n",
              "      <td>2</td>\n",
              "      <td>1200</td>\n",
              "      <td>2</td>\n",
              "      <td>Road</td>\n",
              "      <td>1</td>\n",
              "    </tr>\n",
              "    <tr>\n",
              "      <th>2014</th>\n",
              "      <td>A96543980</td>\n",
              "      <td>75</td>\n",
              "      <td>F</td>\n",
              "      <td>UK</td>\n",
              "      <td>12</td>\n",
              "      <td>0</td>\n",
              "      <td>1</td>\n",
              "      <td>1800</td>\n",
              "      <td>3</td>\n",
              "      <td>Garage</td>\n",
              "      <td>1</td>\n",
              "    </tr>\n",
              "    <tr>\n",
              "      <th>1226</th>\n",
              "      <td>B66545713</td>\n",
              "      <td>78</td>\n",
              "      <td>M</td>\n",
              "      <td>UK</td>\n",
              "      <td>48</td>\n",
              "      <td>0</td>\n",
              "      <td>1</td>\n",
              "      <td>1400</td>\n",
              "      <td>3</td>\n",
              "      <td>Road</td>\n",
              "      <td>1</td>\n",
              "    </tr>\n",
              "    <tr>\n",
              "      <th>389</th>\n",
              "      <td>A49764633</td>\n",
              "      <td>31</td>\n",
              "      <td>F</td>\n",
              "      <td>UK</td>\n",
              "      <td>9</td>\n",
              "      <td>0</td>\n",
              "      <td>1</td>\n",
              "      <td>1200</td>\n",
              "      <td>5</td>\n",
              "      <td>Road</td>\n",
              "      <td>1</td>\n",
              "    </tr>\n",
              "  </tbody>\n",
              "</table>\n",
              "<p>3509 rows × 11 columns</p>\n",
              "</div>"
            ],
            "text/plain": [
              "             ID  Age Gender LicenceCountry  Yrs DL  Points  NCD  Engine cc  \\\n",
              "3942  B11376082   35      M             UK       7       4    1       1200   \n",
              "519   B39004071   53      M             UK      35       0    3       1200   \n",
              "2165    B520403   55      M             UK      16       0    3       1200   \n",
              "2171  A51648972   61      M             UK      39       0    4       1400   \n",
              "1135  B45810673   18      F             UK       1       0    3       1200   \n",
              "...         ...  ...    ...            ...     ...     ...  ...        ...   \n",
              "2469  A36517462   50      M             UK      11       0    0       1400   \n",
              "1807  A65813411   36      F             UK      12       0    2       1200   \n",
              "2014  A96543980   75      F             UK      12       0    1       1800   \n",
              "1226  B66545713   78      M             UK      48       0    1       1400   \n",
              "389   A49764633   31      F             UK       9       0    1       1200   \n",
              "\n",
              "      Ins Group  Stored  Car Age  \n",
              "3942          4    Road       15  \n",
              "519           3  Garage        1  \n",
              "2165          3  Garage        3  \n",
              "2171          6  Garage        3  \n",
              "1135          4  Garage        1  \n",
              "...         ...     ...      ...  \n",
              "2469          6  Garage       10  \n",
              "1807          2    Road        1  \n",
              "2014          3  Garage        1  \n",
              "1226          3    Road        1  \n",
              "389           5    Road        1  \n",
              "\n",
              "[3509 rows x 11 columns]"
            ]
          },
          "execution_count": 4,
          "metadata": {},
          "output_type": "execute_result"
        }
      ],
      "source": [
        "X_train"
      ]
    },
    {
      "cell_type": "code",
      "execution_count": null,
      "metadata": {
        "id": "ebMuklwelIhw",
        "outputId": "60cb4483-7655-4a8b-c2a5-daa7a6d9cc74"
      },
      "outputs": [
        {
          "data": {
            "text/plain": [
              "3942    239.28\n",
              "519     227.10\n",
              "2165    222.74\n",
              "2171    250.71\n",
              "1135    189.86\n",
              "         ...  \n",
              "2469    204.59\n",
              "1807    216.04\n",
              "2014    199.35\n",
              "1226    233.49\n",
              "389     214.76\n",
              "Name: Premium, Length: 3509, dtype: float64"
            ]
          },
          "execution_count": 5,
          "metadata": {},
          "output_type": "execute_result"
        }
      ],
      "source": [
        "y_train"
      ]
    },
    {
      "cell_type": "markdown",
      "metadata": {
        "id": "R9JPo3P9lIhw"
      },
      "source": [
        "We repeat the same process to produce a validation set as well..."
      ]
    },
    {
      "cell_type": "code",
      "execution_count": null,
      "metadata": {
        "id": "0PwgWJR7lIhw"
      },
      "outputs": [],
      "source": [
        "# we now further split X_train and y_train randomly to produce a validation set X_validation and y_validation\n",
        "\n",
        "X_train, X_validation, y_train, y_validation = train_test_split(X_train, y_train, test_size=0.2, random_state=42)"
      ]
    },
    {
      "cell_type": "markdown",
      "metadata": {
        "id": "U_ieJFgXlIhw"
      },
      "source": [
        "We now have X_train, X_validation, and X_test, with the \"y_\" equivalents. We now start to develop our pipeline. For now, that means we do the same data cleaning we did in week 1..."
      ]
    },
    {
      "cell_type": "markdown",
      "metadata": {
        "id": "wBOrDC27lIhw"
      },
      "source": [
        "This code snippet is performing data cleaning and preprocessing on the training dataset for a machine learning model. Let's break down each part of the code step by step:\n",
        "\n",
        "### Step-by-Step Explanaon - from chatGon\n",
        "\n",
        "#### 1. Filtering the Rows\n",
        "\n",
        "```python\n",
        "# choose the rows we want to keep\n",
        "# ie. where LicenceCountry = \"UK\" and Stored not 0\n",
        "X_train_cleaned = X_train[(X_train.LicenceCountry==\"UK\") & (X_train.Stored!=\"0\")]\n",
        "y_train_cleaned = y_train[(X_train.LicenceCountry==\"UK\") & (X_train.Stored!=\"0\")] # remove the same rows from the target\n",
        "```\n",
        "\n",
        "- **Filtering Criteria**: The code selects rows where the `LicenceCountry` column is \"UK\" and the `Stored` column is not \"0\".\n",
        "- **`X_train_cleaned`**: This DataFrame contains the filtered rows of `X_train`.\n",
        "- **`y_train_cleaned`**: This Series contains the corresponding rows of `y_train` that match the filtering criteria applied to `X_train`.\n",
        "\n",
        "#### 2. Resetting the Index\n",
        "\n",
        "```python\n",
        "# this is needed so the row numbers are still in sequence\n",
        "X_train_cleaned = X_train_cleaned.reset_index(drop=True)\n",
        "y_train_cleaned = y_train_cleaned.reset_index(drop=True)\n",
        "```\n",
        "\n",
        "- **Purpose**: After filtering, the index might not be in sequence. `reset_index(drop=True)` resets the index of both `X_train_cleaned` and `y_train_cleaned` to ensure the row numbers are sequential and drop the old index.\n",
        "\n",
        "#### 3. Selecting Specific Features\n",
        "\n",
        "```python\n",
        "# define the list of features to keep\n",
        "selected_features = ['Age','Gender','Yrs DL','Points','NCD','Engine cc',\n",
        "                     'Ins Group','Stored','Car Age']\n",
        "\n",
        "# update the data frame\n",
        "X_train_cleaned = X_train_cleaned[selected_features]\n",
        "```\n",
        "\n",
        "- **`selected_features`**: A list of column names that are to be kept in the cleaned dataset.\n",
        "- **Updating `X_train_cleaned`**: The DataFrame `X_train_cleaned` is updated to only include the columns specified in `selected_features`.\n",
        "\n",
        "#### 4. Mapping Values in the 'Gender' Column\n",
        "\n",
        "```python\n",
        "# Map 'Female' and 'Male' F and M\n",
        "X_train_cleaned['Gender'] = X_train_cleaned['Gender'].replace({'Female':'F','Male':'M'})\n",
        "```\n",
        "\n",
        "- **Purpose**: This line replaces the values in the `Gender` column. \"Female\" is replaced with \"F\" and \"Male\" is replaced with \"M\".\n",
        "\n",
        "### Summary\n",
        "\n",
        "1. **Filtering Data**: The code filters rows in `X_train` where `LicenceCountry` is \"UK\" and `Stored` is not \"0\". Corresponding rows in `y_train` are also filtered.\n",
        "2. **Resetting Index**: The index of the filtered DataFrames `X_train_cleaned` and `y_train_cleaned` is reset to ensure sequential row numbers.\n",
        "3. **Selecting Features**: Only specific columns (features) are retained in `X_train_cleaned`.\n",
        "4. **Mapping Values**: The `Gender` column values are mapped from \"Female\" to \"F\" and \"Male\" to \"M\".\n",
        "\n",
        "This preprocessing step is crucial to prepare the dataset for training a machine learning model by ensuring the data is clean, relevant, and in a consistent format."
      ]
    },
    {
      "cell_type": "code",
      "execution_count": null,
      "metadata": {
        "id": "MNRIKvH5lIhx"
      },
      "outputs": [],
      "source": [
        "# choose the rows we want to keep\n",
        "# ie. where LicenceCountry = \"UK\" and Stored not 0\n",
        "X_train_cleaned = X_train[(X_train.LicenceCountry==\"UK\") & (X_train.Stored!=\"0\")]\n",
        "y_train_cleaned = y_train[(X_train.LicenceCountry==\"UK\") & (X_train.Stored!=\"0\")] # remove the same rows from the target\n",
        "\n",
        "# this is needed so the row numbers are still in sequence\n",
        "X_train_cleaned = X_train_cleaned.reset_index(drop=True)\n",
        "y_train_cleaned = y_train_cleaned.reset_index(drop=True)\n",
        "\n",
        "# define the list of features to keep\n",
        "selected_features = ['Age','Gender','Yrs DL','Points','NCD','Engine cc',\n",
        "                     'Ins Group','Stored','Car Age']\n",
        "\n",
        "# update the data frame\n",
        "X_train_cleaned = X_train_cleaned[selected_features]\n",
        "\n",
        "# Map 'Female' and 'Male' F and M\n",
        "X_train_cleaned['Gender'] = X_train_cleaned['Gender'].replace({'Female':'F','Male':'M'})"
      ]
    },
    {
      "cell_type": "markdown",
      "metadata": {
        "id": "zjsgqN6WlIhx"
      },
      "source": [
        "Now, encode the categorical variables.\n",
        "\n",
        "This happens automatically in Orange: the models will only accept numbers as inputs, so we need to \"encode\" categorical variables, converting them into numbers. We used get_dummies() to do this last time, but now we're working on train/test sets separately we will want to be able to create the same columns on both; for that we'll use the OneHotEncoder that comes with sklearn. Doing it this way lets us remember the columns from the training set to use on the test set (or in deployment) later."
      ]
    },
    {
      "cell_type": "markdown",
      "metadata": {
        "id": "deZJKR0flIhx"
      },
      "source": [
        "This code demonstrates how to use the `OneHotEncoder` from the `sklearn.preprocessing` module to encode categorical variables into a format suitable for machine learning algorithms. Let's go through the steps:\n",
        "\n",
        "### Step-by-Step Explanation - from chatGPT\n",
        "\n",
        "#### 1. Importing the Necessary Modules\n",
        "\n",
        "```python\n",
        "from numpy import asarray\n",
        "from sklearn.preprocessing import OneHotEncoder\n",
        "```\n",
        "- **`asarray`**: This function from the NumPy library converts the input into an array.\n",
        "- **`OneHotEncoder`**: This class from scikit-learn is used for converting categorical data into a one-hot encoded format.\n",
        "\n",
        "#### 2. Creating the Example List\n",
        "\n",
        "```python\n",
        "# example_list = asarray([['apple'], ['orange'], ['pear'], ['apple']])\n",
        "```\n",
        "\n",
        "- **Example List**: A NumPy array is created with a list of categorical values (fruits in this case): \"apple\", \"orange\", \"pear\", and \"apple\" again.\n",
        "\n",
        "#### 3. Instantiating the OneHotEncoder\n",
        "\n",
        "```python\n",
        "# make a new OneHotEncoder to do the work for us...\n",
        "# (\"sparse\" makes the output more condensed for efficiency, but harder to read, so we'll disable that)\n",
        "enc = OneHotEncoder(sparse=False)\n",
        "```\n",
        "\n",
        "- **OneHotEncoder Object**: An instance of `OneHotEncoder` is created with `sparse=False`.\n",
        "  - **`sparse_output=False`**: This ensures that the output will be a dense array, which is easier to read for demonstration purposes. If `sparse_output=True`, the output will be a sparse matrix which is more memory efficient.\n",
        "\n",
        "#### 4. Fitting the Encoder\n",
        "\n",
        "```python\n",
        "# fit() works out which columns to make and stores them in \"enc\"\n",
        "enc.fit(example_list)\n",
        "```\n",
        "\n",
        "- **`fit` Method**: This method analyzes the input data (`example_list`) and determines the unique categories within it. It then prepares the encoder to transform the data into a one-hot encoded format.\n",
        "  - **Storing Columns**: The `fit` method identifies unique categories (\"apple\", \"orange\", and \"pear\") and prepares to create one-hot encoded columns for each category.\n",
        "\n",
        "### Summary\n",
        "\n",
        "Here's a quick summary of what the code does:\n",
        "\n",
        "1. **Import Modules**: Import `asarray` from NumPy and `OneHotEncoder` from scikit-learn.\n",
        "2. **Create Example List**: Define a list of categorical values (fruits) and convert it into a NumPy array.\n",
        "3. **Instantiate OneHotEncoder**: Create an instance of `OneHotEncoder` with `sparse=False` to get a dense output.\n",
        "4. **Fit the Encoder**: Use the `fit` method on the `example_list` to learn the unique categories and prepare for one-hot encoding.\n",
        "\n",
        "### What is One-Hot Encoding?\n",
        "\n",
        "One-hot encoding is a process of converting categorical variables into a binary matrix representation. Each category becomes a column, and rows have binary values (0 or 1) indicating the presence of each category. For example:\n",
        "\n",
        "- Original Data: `[['apple'], ['orange'], ['pear'], ['apple']]`\n",
        "- One-Hot Encoded Data:\n",
        "  ```\n",
        "  [[1, 0, 0],\n",
        "   [0, 1, 0],\n",
        "   [0, 0, 1],\n",
        "   [1, 0, 0]]\n",
        "  ```\n",
        "\n",
        "In this encoding, each unique category gets its own column. For example, \"apple\" is represented as `[1, 0, 0]`, \"orange\" as `[0, 1, 0]`, and \"pear\" as `[0, 0, 1]`."
      ]
    },
    {
      "cell_type": "code",
      "execution_count": null,
      "metadata": {
        "id": "ROdwUJp0lIhx",
        "outputId": "825a6ab2-0dde-47fb-e7e1-a4b2528d0220"
      },
      "outputs": [
        {
          "data": {
            "text/html": [
              "<style>#sk-container-id-1 {color: black;}#sk-container-id-1 pre{padding: 0;}#sk-container-id-1 div.sk-toggleable {background-color: white;}#sk-container-id-1 label.sk-toggleable__label {cursor: pointer;display: block;width: 100%;margin-bottom: 0;padding: 0.3em;box-sizing: border-box;text-align: center;}#sk-container-id-1 label.sk-toggleable__label-arrow:before {content: \"▸\";float: left;margin-right: 0.25em;color: #696969;}#sk-container-id-1 label.sk-toggleable__label-arrow:hover:before {color: black;}#sk-container-id-1 div.sk-estimator:hover label.sk-toggleable__label-arrow:before {color: black;}#sk-container-id-1 div.sk-toggleable__content {max-height: 0;max-width: 0;overflow: hidden;text-align: left;background-color: #f0f8ff;}#sk-container-id-1 div.sk-toggleable__content pre {margin: 0.2em;color: black;border-radius: 0.25em;background-color: #f0f8ff;}#sk-container-id-1 input.sk-toggleable__control:checked~div.sk-toggleable__content {max-height: 200px;max-width: 100%;overflow: auto;}#sk-container-id-1 input.sk-toggleable__control:checked~label.sk-toggleable__label-arrow:before {content: \"▾\";}#sk-container-id-1 div.sk-estimator input.sk-toggleable__control:checked~label.sk-toggleable__label {background-color: #d4ebff;}#sk-container-id-1 div.sk-label input.sk-toggleable__control:checked~label.sk-toggleable__label {background-color: #d4ebff;}#sk-container-id-1 input.sk-hidden--visually {border: 0;clip: rect(1px 1px 1px 1px);clip: rect(1px, 1px, 1px, 1px);height: 1px;margin: -1px;overflow: hidden;padding: 0;position: absolute;width: 1px;}#sk-container-id-1 div.sk-estimator {font-family: monospace;background-color: #f0f8ff;border: 1px dotted black;border-radius: 0.25em;box-sizing: border-box;margin-bottom: 0.5em;}#sk-container-id-1 div.sk-estimator:hover {background-color: #d4ebff;}#sk-container-id-1 div.sk-parallel-item::after {content: \"\";width: 100%;border-bottom: 1px solid gray;flex-grow: 1;}#sk-container-id-1 div.sk-label:hover label.sk-toggleable__label {background-color: #d4ebff;}#sk-container-id-1 div.sk-serial::before {content: \"\";position: absolute;border-left: 1px solid gray;box-sizing: border-box;top: 0;bottom: 0;left: 50%;z-index: 0;}#sk-container-id-1 div.sk-serial {display: flex;flex-direction: column;align-items: center;background-color: white;padding-right: 0.2em;padding-left: 0.2em;position: relative;}#sk-container-id-1 div.sk-item {position: relative;z-index: 1;}#sk-container-id-1 div.sk-parallel {display: flex;align-items: stretch;justify-content: center;background-color: white;position: relative;}#sk-container-id-1 div.sk-item::before, #sk-container-id-1 div.sk-parallel-item::before {content: \"\";position: absolute;border-left: 1px solid gray;box-sizing: border-box;top: 0;bottom: 0;left: 50%;z-index: -1;}#sk-container-id-1 div.sk-parallel-item {display: flex;flex-direction: column;z-index: 1;position: relative;background-color: white;}#sk-container-id-1 div.sk-parallel-item:first-child::after {align-self: flex-end;width: 50%;}#sk-container-id-1 div.sk-parallel-item:last-child::after {align-self: flex-start;width: 50%;}#sk-container-id-1 div.sk-parallel-item:only-child::after {width: 0;}#sk-container-id-1 div.sk-dashed-wrapped {border: 1px dashed gray;margin: 0 0.4em 0.5em 0.4em;box-sizing: border-box;padding-bottom: 0.4em;background-color: white;}#sk-container-id-1 div.sk-label label {font-family: monospace;font-weight: bold;display: inline-block;line-height: 1.2em;}#sk-container-id-1 div.sk-label-container {text-align: center;}#sk-container-id-1 div.sk-container {/* jupyter's `normalize.less` sets `[hidden] { display: none; }` but bootstrap.min.css set `[hidden] { display: none !important; }` so we also need the `!important` here to be able to override the default hidden behavior on the sphinx rendered scikit-learn.org. See: https://github.com/scikit-learn/scikit-learn/issues/21755 */display: inline-block !important;position: relative;}#sk-container-id-1 div.sk-text-repr-fallback {display: none;}</style><div id=\"sk-container-id-1\" class=\"sk-top-container\"><div class=\"sk-text-repr-fallback\"><pre>OneHotEncoder(sparse_output=False)</pre><b>In a Jupyter environment, please rerun this cell to show the HTML representation or trust the notebook. <br />On GitHub, the HTML representation is unable to render, please try loading this page with nbviewer.org.</b></div><div class=\"sk-container\" hidden><div class=\"sk-item\"><div class=\"sk-estimator sk-toggleable\"><input class=\"sk-toggleable__control sk-hidden--visually\" id=\"sk-estimator-id-1\" type=\"checkbox\" checked><label for=\"sk-estimator-id-1\" class=\"sk-toggleable__label sk-toggleable__label-arrow\">OneHotEncoder</label><div class=\"sk-toggleable__content\"><pre>OneHotEncoder(sparse_output=False)</pre></div></div></div></div></div>"
            ],
            "text/plain": [
              "OneHotEncoder(sparse_output=False)"
            ]
          },
          "execution_count": 8,
          "metadata": {},
          "output_type": "execute_result"
        }
      ],
      "source": [
        "# As an example of how OneHotEncoder works, here is a list of values for a categorical variable:\n",
        "# (this is actually a grid/table, with only one column)\n",
        "# example of a dummy variable encoding\n",
        "from numpy import asarray\n",
        "#data = asarray([['red'], ['green'], ['blue']])\n",
        "example_list = asarray([['apple'], ['orange'], ['pear'], ['apple']])\n",
        "\n",
        "# make a new OneHotEncoder to do the work for us...\n",
        "# (\"sparse\" makes the output more condensed for efficiency, but harder to read, so we'll disable that)\n",
        "from sklearn.preprocessing import OneHotEncoder\n",
        "enc = OneHotEncoder(sparse_output=False)\n",
        "\n",
        "# fit() works out which columns to make and stores them in \"enc\"\n",
        "enc.fit(example_list)"
      ]
    },
    {
      "cell_type": "code",
      "execution_count": null,
      "metadata": {
        "id": "loPbS9i-lIhx",
        "outputId": "3960371e-34c5-4d10-b85b-2f77ed0cb871"
      },
      "outputs": [
        {
          "name": "stdout",
          "output_type": "stream",
          "text": [
            "[[1. 0. 0.]\n",
            " [0. 1. 0.]\n",
            " [0. 0. 1.]\n",
            " [1. 0. 0.]]\n"
          ]
        }
      ],
      "source": [
        "# transform() then makes those columns in the data set we provide\n",
        "transformed_data = enc.transform(example_list)\n",
        "\n",
        "# you should see four rows, corresponding to the four data points in the original example_list\n",
        "# there are three columns, one for each of apple/orange/pear\n",
        "# each row has a 1 to show which fruit was in that position in the list\n",
        "print(transformed_data)"
      ]
    },
    {
      "cell_type": "markdown",
      "metadata": {
        "id": "SmuNCpOllIhx"
      },
      "source": [
        "At the same time, we can normalise the numerical variables to the range 0..1 using a MinMaxScaler, which is used in a similar way. These two processing steps can be combined into one processing routine using ColumnTransformer..."
      ]
    },
    {
      "cell_type": "code",
      "execution_count": null,
      "metadata": {
        "id": "0v887uZQlIhx",
        "outputId": "c51638a6-1ed1-41e1-a5d3-2e919b76dc23"
      },
      "outputs": [
        {
          "data": {
            "text/plain": [
              "Index(['Age', 'Yrs DL', 'Points', 'NCD', 'Engine cc', 'Ins Group', 'Car Age'], dtype='object')"
            ]
          },
          "execution_count": 11,
          "metadata": {},
          "output_type": "execute_result"
        }
      ],
      "source": [
        "# First, determine categorical and numerical features\n",
        "# we can do that automatically looking for the column data types like this:\n",
        "numerical_ix = X_train_cleaned.select_dtypes(include=['int64', 'float64']).columns\n",
        "categorical_ix = X_train_cleaned.select_dtypes(include=['object', 'bool']).columns\n",
        "\n",
        "# this now contains the names of the numerical variables:\n",
        "numerical_ix"
      ]
    },
    {
      "cell_type": "code",
      "execution_count": null,
      "metadata": {
        "id": "4sWfcJYolIhy",
        "outputId": "f4f345bb-d510-41a8-8432-b84592b04884"
      },
      "outputs": [
        {
          "data": {
            "text/plain": [
              "Index(['Gender', 'Stored'], dtype='object')"
            ]
          },
          "execution_count": 12,
          "metadata": {},
          "output_type": "execute_result"
        }
      ],
      "source": [
        "# ...and similar for the categorical:\n",
        "categorical_ix"
      ]
    },
    {
      "cell_type": "code",
      "execution_count": null,
      "metadata": {
        "id": "2bUlPKBXlIhy",
        "outputId": "0ce91840-8f55-448d-9caa-d5e92fb55e76"
      },
      "outputs": [
        {
          "name": "stdout",
          "output_type": "stream",
          "text": [
            "[('cat', OneHotEncoder(drop='first', handle_unknown='infrequent_if_exist'), Index(['Gender', 'Stored'], dtype='object')), ('num', MinMaxScaler(), Index(['Age', 'Yrs DL', 'Points', 'NCD', 'Engine cc', 'Ins Group', 'Car Age'], dtype='object'))]\n",
            "[[0.         0.         1.         ... 0.         0.66666667 0.        ]\n",
            " [1.         1.         0.         ... 0.         0.66666667 0.26315789]\n",
            " [0.         1.         0.         ... 0.07692308 0.33333333 0.        ]\n",
            " ...\n",
            " [0.         1.         0.         ... 0.         0.66666667 0.05263158]\n",
            " [1.         0.         1.         ... 0.07692308 0.16666667 0.        ]\n",
            " [1.         0.         1.         ... 0.         0.5        0.        ]]\n"
          ]
        }
      ],
      "source": [
        "from sklearn.preprocessing import OneHotEncoder\n",
        "from sklearn.preprocessing import MinMaxScaler\n",
        "from sklearn.compose import ColumnTransformer\n",
        "\n",
        "# define the data preparation for the columns\n",
        "#\n",
        "# categorical columns will have a one hot encoder applied\n",
        "#   (note - we also set this to drop the first \"dummy\" column, similer to what we did last week; we have also\n",
        "#    told it how to handle unknown values, those that don't appear in the training data but do appear in validation\n",
        "#    or testing. 'infrequent_if_exist' assigns any unknown values to a separate category)\n",
        "#\n",
        "# numerical columns will be normalised\n",
        "#\n",
        "# each processing step also includes the list of columns that it will be applied to\n",
        "t = [('cat', OneHotEncoder(drop='first', handle_unknown='infrequent_if_exist'), categorical_ix), ('num', MinMaxScaler(), numerical_ix)]\n",
        "col_transform = ColumnTransformer(transformers=t)\n",
        "\n",
        "print(t)\n",
        "\n",
        "\n",
        "# fit() works out which columns to make and stores them in \"enc\"\n",
        "col_transform.fit(X_train_cleaned)\n",
        "\n",
        "# transform() then makes those columns in the data set we provide\n",
        "X_train_encoded = col_transform.transform(X_train_cleaned)\n",
        "\n",
        "# X_train_encoded will now be a numpy array, which can be used for training\n",
        "# the columns in this are the raw data\n",
        "print(X_train_encoded)"
      ]
    },
    {
      "cell_type": "markdown",
      "metadata": {
        "id": "ddU2Lu4BlIhy"
      },
      "source": [
        "We can then use the training data to train a model and use that model for doing predictions, like this:"
      ]
    },
    {
      "cell_type": "code",
      "execution_count": null,
      "metadata": {
        "id": "nUHaaVfWlIhy",
        "outputId": "73394134-3eb4-43ea-d9de-03b83044b61a"
      },
      "outputs": [
        {
          "name": "stdout",
          "output_type": "stream",
          "text": [
            "MLPRegressor(alpha=0.001, hidden_layer_sizes=10, learning_rate_init=0.01,\n",
            "             max_iter=1000, random_state=1)\n"
          ]
        },
        {
          "data": {
            "text/html": [
              "<style>#sk-container-id-2 {color: black;}#sk-container-id-2 pre{padding: 0;}#sk-container-id-2 div.sk-toggleable {background-color: white;}#sk-container-id-2 label.sk-toggleable__label {cursor: pointer;display: block;width: 100%;margin-bottom: 0;padding: 0.3em;box-sizing: border-box;text-align: center;}#sk-container-id-2 label.sk-toggleable__label-arrow:before {content: \"▸\";float: left;margin-right: 0.25em;color: #696969;}#sk-container-id-2 label.sk-toggleable__label-arrow:hover:before {color: black;}#sk-container-id-2 div.sk-estimator:hover label.sk-toggleable__label-arrow:before {color: black;}#sk-container-id-2 div.sk-toggleable__content {max-height: 0;max-width: 0;overflow: hidden;text-align: left;background-color: #f0f8ff;}#sk-container-id-2 div.sk-toggleable__content pre {margin: 0.2em;color: black;border-radius: 0.25em;background-color: #f0f8ff;}#sk-container-id-2 input.sk-toggleable__control:checked~div.sk-toggleable__content {max-height: 200px;max-width: 100%;overflow: auto;}#sk-container-id-2 input.sk-toggleable__control:checked~label.sk-toggleable__label-arrow:before {content: \"▾\";}#sk-container-id-2 div.sk-estimator input.sk-toggleable__control:checked~label.sk-toggleable__label {background-color: #d4ebff;}#sk-container-id-2 div.sk-label input.sk-toggleable__control:checked~label.sk-toggleable__label {background-color: #d4ebff;}#sk-container-id-2 input.sk-hidden--visually {border: 0;clip: rect(1px 1px 1px 1px);clip: rect(1px, 1px, 1px, 1px);height: 1px;margin: -1px;overflow: hidden;padding: 0;position: absolute;width: 1px;}#sk-container-id-2 div.sk-estimator {font-family: monospace;background-color: #f0f8ff;border: 1px dotted black;border-radius: 0.25em;box-sizing: border-box;margin-bottom: 0.5em;}#sk-container-id-2 div.sk-estimator:hover {background-color: #d4ebff;}#sk-container-id-2 div.sk-parallel-item::after {content: \"\";width: 100%;border-bottom: 1px solid gray;flex-grow: 1;}#sk-container-id-2 div.sk-label:hover label.sk-toggleable__label {background-color: #d4ebff;}#sk-container-id-2 div.sk-serial::before {content: \"\";position: absolute;border-left: 1px solid gray;box-sizing: border-box;top: 0;bottom: 0;left: 50%;z-index: 0;}#sk-container-id-2 div.sk-serial {display: flex;flex-direction: column;align-items: center;background-color: white;padding-right: 0.2em;padding-left: 0.2em;position: relative;}#sk-container-id-2 div.sk-item {position: relative;z-index: 1;}#sk-container-id-2 div.sk-parallel {display: flex;align-items: stretch;justify-content: center;background-color: white;position: relative;}#sk-container-id-2 div.sk-item::before, #sk-container-id-2 div.sk-parallel-item::before {content: \"\";position: absolute;border-left: 1px solid gray;box-sizing: border-box;top: 0;bottom: 0;left: 50%;z-index: -1;}#sk-container-id-2 div.sk-parallel-item {display: flex;flex-direction: column;z-index: 1;position: relative;background-color: white;}#sk-container-id-2 div.sk-parallel-item:first-child::after {align-self: flex-end;width: 50%;}#sk-container-id-2 div.sk-parallel-item:last-child::after {align-self: flex-start;width: 50%;}#sk-container-id-2 div.sk-parallel-item:only-child::after {width: 0;}#sk-container-id-2 div.sk-dashed-wrapped {border: 1px dashed gray;margin: 0 0.4em 0.5em 0.4em;box-sizing: border-box;padding-bottom: 0.4em;background-color: white;}#sk-container-id-2 div.sk-label label {font-family: monospace;font-weight: bold;display: inline-block;line-height: 1.2em;}#sk-container-id-2 div.sk-label-container {text-align: center;}#sk-container-id-2 div.sk-container {/* jupyter's `normalize.less` sets `[hidden] { display: none; }` but bootstrap.min.css set `[hidden] { display: none !important; }` so we also need the `!important` here to be able to override the default hidden behavior on the sphinx rendered scikit-learn.org. See: https://github.com/scikit-learn/scikit-learn/issues/21755 */display: inline-block !important;position: relative;}#sk-container-id-2 div.sk-text-repr-fallback {display: none;}</style><div id=\"sk-container-id-2\" class=\"sk-top-container\"><div class=\"sk-text-repr-fallback\"><pre>MLPRegressor(alpha=0.001, hidden_layer_sizes=10, learning_rate_init=0.01,\n",
              "             max_iter=1000, random_state=1)</pre><b>In a Jupyter environment, please rerun this cell to show the HTML representation or trust the notebook. <br />On GitHub, the HTML representation is unable to render, please try loading this page with nbviewer.org.</b></div><div class=\"sk-container\" hidden><div class=\"sk-item\"><div class=\"sk-estimator sk-toggleable\"><input class=\"sk-toggleable__control sk-hidden--visually\" id=\"sk-estimator-id-2\" type=\"checkbox\" checked><label for=\"sk-estimator-id-2\" class=\"sk-toggleable__label sk-toggleable__label-arrow\">MLPRegressor</label><div class=\"sk-toggleable__content\"><pre>MLPRegressor(alpha=0.001, hidden_layer_sizes=10, learning_rate_init=0.01,\n",
              "             max_iter=1000, random_state=1)</pre></div></div></div></div></div>"
            ],
            "text/plain": [
              "MLPRegressor(alpha=0.001, hidden_layer_sizes=10, learning_rate_init=0.01,\n",
              "             max_iter=1000, random_state=1)"
            ]
          },
          "execution_count": 15,
          "metadata": {},
          "output_type": "execute_result"
        }
      ],
      "source": [
        "# make a new model - MLPRegressor is an artificial neural network\n",
        "from sklearn.neural_network import MLPRegressor\n",
        "mlp_model = MLPRegressor(hidden_layer_sizes=(10), alpha=0.001, batch_size='auto',\n",
        "    learning_rate='constant', learning_rate_init=0.01, max_iter=1000, random_state=1)\n",
        "\n",
        "print(mlp_model)\n",
        "\n",
        "# train the model on (or fit the model to) our training data\n",
        "mlp_model.fit(X_train_encoded, y_train_cleaned)"
      ]
    },
    {
      "cell_type": "markdown",
      "metadata": {
        "id": "_q4CcH6elIhy"
      },
      "source": [
        "Well done, you've just made your first model in scikit learn! We can now apply this model to unseen data to make some predictions. We'll use the validation set we separated out above for this."
      ]
    },
    {
      "cell_type": "code",
      "execution_count": null,
      "metadata": {
        "id": "-EIpfi22lIhy"
      },
      "outputs": [],
      "source": [
        "# first, apply the same column transformations to the validation data...\n",
        "X_validation_transformed = col_transform.transform(X_validation)"
      ]
    },
    {
      "cell_type": "code",
      "execution_count": null,
      "metadata": {
        "id": "gyvE3V-blIhy",
        "outputId": "55101293-6fef-4e5e-cf72-827784f1ea74"
      },
      "outputs": [
        {
          "name": "stdout",
          "output_type": "stream",
          "text": [
            "18.69373788890384\n"
          ]
        },
        {
          "data": {
            "text/plain": [
              "Text(0, 0.5, 'Predictions')"
            ]
          },
          "execution_count": 17,
          "metadata": {},
          "output_type": "execute_result"
        },
        {
          "data": {
            "image/png": "[encoded data removed]",
            "text/plain": [
              "<Figure size 640x480 with 1 Axes>"
            ]
          },
          "metadata": {},
          "output_type": "display_data"
        }
      ],
      "source": [
        "# make some predictions using the model\n",
        "# store the predictions in y_pred\n",
        "y_pred = mlp_model.predict(X_validation_transformed)\n",
        "\n",
        "# how do the predictions compare to the true values?\n",
        "# print mean square error\n",
        "from sklearn import metrics\n",
        "print(metrics.mean_squared_error(y_validation, y_pred))\n",
        "\n",
        "# and a scatter plot\n",
        "from matplotlib import pyplot as plt\n",
        "plt.scatter(y_validation, y_pred)\n",
        "plt.xlabel(\"True Values\")\n",
        "plt.ylabel(\"Predictions\")"
      ]
    },
    {
      "cell_type": "markdown",
      "metadata": {
        "id": "DsztuyjBlIhy"
      },
      "source": [
        "# Cross-fold validation\n",
        "As in Orange, sklearn makes it easy to do cross-fold validation. By default, the built-in tool for this calls the `score` function of the model to measure model quality on each fold; `score()` works differently per model but the documentation will tell you that for an `MLPRegressor` it's the R^2 value, which would be 1.0 for a perfect model. If you want to use a different measure like mean square error you can specify which one you want from the list [here](https://scikit-learn.org/stable/modules/model_evaluation.html#scoring-parameter).\n",
        "\n",
        "Here's how to perform the cross-fold validation, using 5 folds of our training set. We get a list of scores back in which each element is the score for one fold. We usually aggregate these (e.g. take the average) to get one overall score. You'll see the scores are negative: this is deliberate, and is so a \"bigger\" score (smaller error) is \"better\"."
      ]
    },
    {
      "cell_type": "code",
      "execution_count": null,
      "metadata": {
        "scrolled": true,
        "id": "UR9emT-UlIhy",
        "outputId": "8f27b57d-3793-4222-94b6-04c8df5ee6d2"
      },
      "outputs": [
        {
          "name": "stdout",
          "output_type": "stream",
          "text": [
            "[-19.30991429 -18.63603471 -20.86669768 -21.72356501 -20.18491094]\n",
            "-20.144224523434428\n"
          ]
        }
      ],
      "source": [
        "# we'll reuse our training data from before. In practice we'd skip the extra split to training/validation sets.\n",
        "\n",
        "# compute scores for the 5 folds...\n",
        "# remember, this makes 5 seperate models, and tests them each on a different 0.2 of the data set.\n",
        "# the scores for these tests are returned in a list.\n",
        "from sklearn.model_selection import cross_val_score\n",
        "\n",
        "scores = cross_val_score(mlp_model, X_train_encoded, y_train_cleaned, cv=5, scoring='neg_mean_squared_error')\n",
        "print(scores)\n",
        "print(scores.mean())"
      ]
    },
    {
      "cell_type": "markdown",
      "metadata": {
        "id": "k34UwQwtlIhz"
      },
      "source": [
        "To interpret the results of the cross-validation, let's break down the output and what it signifies:\n",
        "\n",
        "### Output\n",
        "```\n",
        "[-19.30991429 -18.63603471 -20.86669768 -21.72356501 -20.18491094]\n",
        "-20.144224523434428\n",
        "```\n",
        "\n",
        "### Interpretation\n",
        "\n",
        "1. **Scores for Each Fold:**\n",
        "   ```python\n",
        "   [-19.30991429 -18.63603471 -20.86669768 -21.72356501 -20.18491094]\n",
        "   ```\n",
        "   - These values represent the negative mean squared error (MSE) for each of the 5 folds in the cross-validation process.\n",
        "   - The values are negative because we used `neg_mean_squared_error` as the scoring metric. This function returns the negative of the MSE values.\n",
        "\n",
        "2. **Understanding Each Fold's Score:**\n",
        "   - **-19.30991429**: The negative MSE for the first fold.\n",
        "   - **-18.63603471**: The negative MSE for the second fold.\n",
        "   - **-20.86669768**: The negative MSE for the third fold.\n",
        "   - **-21.72356501**: The negative MSE for the fourth fold.\n",
        "   - **-20.18491094**: The negative MSE for the fifth fold.\n",
        "\n",
        "3. **Mean Score:**\n",
        "   ```python\n",
        "   -20.144224523434428\n",
        "   ```\n",
        "   - This value represents the average negative mean squared error across all 5 folds.\n",
        "   - To interpret it in terms of actual MSE, you take the negative of this mean score: `20.144224523434428`.\n",
        "\n",
        "### Good or Bad?\n",
        "- **Magnitude of MSE**:\n",
        "  - The actual MSE values (after taking the negative) are quite large (around 20). Whether these scores are good or bad depends on the context of your problem and the scale of your target variable.\n",
        "  - For instance, if the target values in your dataset range from 0 to 100, an MSE of 20 might indicate a considerable error. However, if the target values range from 0 to 1000, an MSE of 20 might be acceptable.\n",
        "\n",
        "- **Consistency**:\n",
        "  - The MSE values across the folds are relatively consistent, ranging from approximately 18.6 to 21.7. This consistency indicates that the model's performance is stable across different subsets of the data.\n",
        "\n",
        "### Contextual Factors to Consider\n",
        "- **Target Variable Scale**: If your target variable (in `y_train_cleaned`) has a wide range, then the MSE might need to be evaluated in that context. For example, if the target values are in the thousands, an MSE around 20 might be quite good.\n",
        "- **Baseline Comparison**: Compare these results to a baseline model (like a simple mean predictor) to determine if your model provides a significant improvement.\n",
        "- **Domain Expertise**: Leverage domain knowledge to judge if the prediction errors are within an acceptable range for practical use.\n",
        "\n",
        "### Next Steps\n",
        "- **Model Tuning**: If the MSE is considered high, you might want to tune your model's hyperparameters further.\n",
        "- **Feature Engineering**: Consider improving the feature set by adding new features or removing less relevant ones.\n",
        "- **Different Models**: Try different models to see if they can achieve a lower MSE.\n",
        "\n",
        "By carefully analyzing the cross-validation scores in the context of your specific problem, you can better understand the model's performance and determine the next steps for improvement."
      ]
    },
    {
      "cell_type": "markdown",
      "metadata": {
        "id": "l7YQKxfZlIhz"
      },
      "source": [
        "We'll see later that many of the tools in sklearn use cross-fold validation internally, so you don't need to do the separate steps as above. However, it's good to know that this is what's going on behind the scenes.\n",
        "\n",
        "You can load, train and test other models in much the same way as MLPRegressor. They all have `fit()` and `predict()` functions, and can all be supplied to cross_val_score.\n",
        "\n",
        "Try comparing a few other model types. Browse the [documentation](https://scikit-learn.org/stable/supervised_learning.html) for regression models: don't worry specifically which you choose, as we've not given any detail on these yet, but `sklearn.linear_model.LinearRegression` and `sklearn.ensemble.RandomForestRegressor` are good places to start. Which one performs best on this data?"
      ]
    },
    {
      "cell_type": "code",
      "execution_count": null,
      "metadata": {
        "id": "Bz8alpSolIhz",
        "outputId": "025a9703-539c-4539-960b-dca0c4caffed"
      },
      "outputs": [
        {
          "name": "stdout",
          "output_type": "stream",
          "text": [
            "[-18.20392508 -15.55852264 -14.98403196 -17.90668237 -18.33371611]\n",
            "-16.997375632892886\n",
            "[-19.28467425 -18.59132314 -20.84440275 -21.72625717 -20.14640706]\n",
            "-20.11861287615306\n"
          ]
        }
      ],
      "source": [
        "from sklearn.ensemble import RandomForestRegressor\n",
        "from sklearn.linear_model import LinearRegression\n",
        "\n",
        "m1 = RandomForestRegressor()\n",
        "m2 = LinearRegression()\n",
        "# ...\n",
        "\n",
        "scores = cross_val_score(m1, X_train_encoded, y_train_cleaned, cv=5, scoring='neg_mean_squared_error')\n",
        "print(scores)\n",
        "print(scores.mean())\n",
        "\n",
        "scores = cross_val_score(m2, X_train_encoded, y_train_cleaned, cv=5, scoring='neg_mean_squared_error')\n",
        "print(scores)\n",
        "print(scores.mean())"
      ]
    },
    {
      "cell_type": "markdown",
      "metadata": {
        "id": "DOhUKjCLlIhz"
      },
      "source": [
        "Comment: Looks like the RandomForestRegressor is the best model."
      ]
    },
    {
      "cell_type": "markdown",
      "metadata": {
        "id": "WfuzAMOqlIhz"
      },
      "source": [
        "Finally, we retrain the model that did best in cross validation on all the training data (not just one fold) then apply the best model to the original, unseen test data.\n",
        "\n",
        "The test set will need the same column transformations applied, but we can choose whether any additional cleaning is needed (e.g. outliers can affect the training so we remove them there, but we might still want to see if the final model can cope with them). Here we don't do any cleaning on the test data."
      ]
    },
    {
      "cell_type": "code",
      "execution_count": null,
      "metadata": {
        "id": "tdScyriwlIhz",
        "outputId": "71b84f50-84b8-4bb9-84da-b515a8699ba7"
      },
      "outputs": [
        {
          "name": "stdout",
          "output_type": "stream",
          "text": [
            "15.571123727904327\n"
          ]
        },
        {
          "name": "stderr",
          "output_type": "stream",
          "text": [
            "C:\\ProgramData\\anaconda3\\Lib\\site-packages\\sklearn\\preprocessing\\_encoders.py:227: UserWarning: Found unknown categories in columns [0, 1] during transform. These unknown categories will be encoded as all zeros\n",
            "  warnings.warn(\n"
          ]
        }
      ],
      "source": [
        "# Put the best model you found here...\n",
        "final_model = RandomForestRegressor()\n",
        "final_model.fit(X_train_encoded, y_train_cleaned)\n",
        "\n",
        "X_test_transformed = col_transform.transform(X_test)\n",
        "\n",
        "y_pred = final_model.predict(X_test_transformed)\n",
        "\n",
        "# how do the predictions compare to the true values?\n",
        "# print mean square error\n",
        "from sklearn import metrics\n",
        "print(metrics.mean_squared_error(y_pred, y_test))\n",
        "\n",
        "# is this error better or worse than the scores you've seen above? Often it will be worse (a bigger value) because\n",
        "# the test data is unseen but sometimes, as is the case here, we'll be lucky and it'll be better."
      ]
    },
    {
      "cell_type": "markdown",
      "metadata": {
        "id": "Ka3BHxjGlIh0"
      },
      "source": [
        "### Code Explanation\n",
        "\n",
        "```python\n",
        "# Put the best model you found here...\n",
        "final_model = RandomForestRegressor()\n",
        "```\n",
        "1. **Model Selection**:\n",
        "   - The `RandomForestRegressor` from the `sklearn.ensemble` module is chosen as the final model. This is an ensemble learning method that combines multiple decision trees to improve prediction accuracy and control overfitting.\n",
        "\n",
        "```python\n",
        "final_model.fit(X_train_encoded, y_train_cleaned)\n",
        "```\n",
        "2. **Model Training**:\n",
        "   - The `fit` method is used to train the `RandomForestRegressor` on the encoded training data (`X_train_encoded`) and the cleaned training targets (`y_train_cleaned`). This step builds the random forest model based on the provided data.\n",
        "\n",
        "```python\n",
        "X_test_transformed = col_transform.transform(X_test)\n",
        "```\n",
        "3. **Transforming Test Data**:\n",
        "   - The `ColumnTransformer` (`col_transform`) used earlier to encode the training data is now applied to the test data (`X_test`). This ensures that the test data undergoes the same preprocessing steps (e.g., one-hot encoding for categorical features and scaling for numerical features) as the training data.\n",
        "\n",
        "```python\n",
        "y_pred = final_model.predict(X_test_transformed)\n",
        "```\n",
        "4. **Model Prediction**:\n",
        "   - The trained `RandomForestRegressor` model is used to make predictions on the transformed test data (`X_test_transformed`). The predicted values are stored in `y_pred`.\n",
        "\n",
        "```python\n",
        "# how do the predictions compare to the true values?\n",
        "# print mean square error\n",
        "from sklearn import metrics\n",
        "print(metrics.mean_squared_error(y_pred, y_test))\n",
        "```\n",
        "5. **Evaluation**:\n",
        "   - The mean squared error (MSE) of the predictions is calculated using `metrics.mean_squared_error` from `sklearn`. This function compares the predicted values (`y_pred`) to the actual target values (`y_test`), which were not transformed.\n",
        "   - The MSE is a common metric for evaluating regression models. It measures the average squared difference between the predicted values and the actual values, indicating how close the predictions are to the true values. A lower MSE indicates better model performance.\n",
        "  \n",
        "### Detailed Example\n",
        "\n",
        "Let\"'\"s illustrate this with a simple example\n",
        "\n",
        "1. **Model Initialization and Training**:\n",
        "   ```python\n",
        "   from sklearn.ensemble import RandomForestRegressor\n",
        "   \n",
        "   # Initialize the model\n",
        "   final_model = RandomForestRegressor()\n",
        "   \n",
        "   # Fit the model on the training data\n",
        "   final_model.fit(X_train_encoded, y_train_cleaned)\n",
        "   ```\n",
        "   Here, the `RandomForestRegressor` is being trained on the encoded features and corresponding target values.\n",
        "2. **Transform Test Data**:\n",
        "   ```python\n",
        "   # Transform the test data using the same column transformer\n",
        "   X_test_transformed = col_transform.transform(X_test)\n",
        "   ```\n",
        "   This ensures that the test data is processed in the same way as the training data, maintaining consistency in the feature representation.\n",
        "\n",
        "3. **Model Prediction**:\n",
        "   ```python\n",
        "   # Predict on the transformed test data\n",
        "   y_pred = final_model.predict(X_test_transformed)\n",
        "   ```\n",
        "   The model uses the learned patterns to predict the target values for the test data.\n",
        "\n",
        "4. **Evaluate Model Performance**:\n",
        "   ```python\n",
        "   from sklearn import metrics\n",
        "   \n",
        "   # Calculate the mean squared error\n",
        "   mse = metrics.mean_squared_error(y_pred, y_test)\n",
        "   print(mse)\n",
        "   ```\n",
        "   The MSE is calculated to quantify the error between the predicted and actual values. This helps in assessing how well the model performs on unseen data.\n",
        "\n",
        "### Interpretation of MSE\n",
        "\n",
        "- **Good Model Performance**: If the MSE is low, it means that the model\"'\"s predictions are close to the actual values, indicating good performance.\n",
        "- **Poor Model Performance**: If the MSE is high, it suggests that there is a significant difference between the predicted and actual values, indicating that the model may not be performing well.\n",
        "\n",
        "To determine if the MSE value is good or bad, it should be compared to a baseline model or other models trained on the same data. Additionally, the scale of the target variable plays a crucial role in interpreting the MSE.\n"
      ]
    },
    {
      "cell_type": "code",
      "execution_count": null,
      "metadata": {
        "id": "caJmUcdUlIh0"
      },
      "outputs": [],
      "source": []
    }
  ],
  "metadata": {
    "kernelspec": {
      "display_name": "Python 3 (ipykernel)",
      "language": "python",
      "name": "python3"
    },
    "language_info": {
      "codemirror_mode": {
        "name": "ipython",
        "version": 3
      },
      "file_extension": ".py",
      "mimetype": "text/x-python",
      "name": "python",
      "nbconvert_exporter": "python",
      "pygments_lexer": "ipython3",
      "version": "3.12.3"
    },
    "colab": {
      "provenance": [],
      "include_colab_link": true
    }
  },
  "nbformat": 4,
  "nbformat_minor": 0
}