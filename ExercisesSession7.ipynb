{
  "cells": [
    {
      "cell_type": "markdown",
      "metadata": {
        "id": "view-in-github",
        "colab_type": "text"
      },
      "source": [
        "<a href=\"https://colab.research.google.com/github/mrsferret/Machine-Learning-ITNPBD6-/blob/main/ExercisesSession7.ipynb\" target=\"_parent\"><img src=\"https://colab.research.google.com/assets/colab-badge.svg\" alt=\"Open In Colab\"/></a>"
      ]
    },
    {
      "cell_type": "markdown",
      "metadata": {
        "id": "UDhMIQdvPhkl"
      },
      "source": [
        "# Section 7.3 - Hyper Parameter Tuning"
      ]
    },
    {
      "cell_type": "markdown",
      "metadata": {
        "id": "JF5n8JhvPhko"
      },
      "source": [
        "In this practical, we will tune the hyper-parameters of a MLP model. Let's start by getting a dataset, doing a little preprocessing, and creating and training a MLP model that we can tune.\n",
        "\n",
        "\n",
        "We begin by importing the necessary libraries."
      ]
    },
    {
      "cell_type": "code",
      "execution_count": null,
      "metadata": {
        "id": "ttqOrmSQPhkp"
      },
      "outputs": [],
      "source": [
        "# Import the necessary libraries\n",
        "from sklearn.neural_network import MLPClassifier\n",
        "from sklearn import datasets\n",
        "from sklearn.model_selection import train_test_split\n",
        "from sklearn.preprocessing import MinMaxScaler\n",
        "from sklearn.model_selection import cross_val_score\n",
        "from sklearn.model_selection import KFold\n",
        "import numpy as np"
      ]
    },
    {
      "cell_type": "markdown",
      "metadata": {
        "id": "5y50BV2gPhkq"
      },
      "source": [
        "Now we load the dataset, and preprocess it"
      ]
    },
    {
      "cell_type": "code",
      "execution_count": null,
      "metadata": {
        "id": "5R9zZGMjPhkr"
      },
      "outputs": [],
      "source": [
        "# Load data\n",
        "iris = datasets.load_iris()\n",
        "X = iris.data\n",
        "y = iris.target\n",
        "# Split the dataset into training and testing data\n",
        "X_train, X_test, y_train, y_test = train_test_split(X, y, test_size=0.33, random_state=42)\n",
        "# Preprocess data\n",
        "X_train = MinMaxScaler().fit_transform(X_train)"
      ]
    },
    {
      "cell_type": "markdown",
      "metadata": {
        "id": "Xlj1qXqkPhkr"
      },
      "source": [
        "And finally, we create an NLP model"
      ]
    },
    {
      "cell_type": "code",
      "execution_count": null,
      "metadata": {
        "id": "MPEp-z56Phks"
      },
      "outputs": [],
      "source": [
        "# Create a MLP model\n",
        "mlp_model = MLPClassifier()"
      ]
    },
    {
      "cell_type": "markdown",
      "metadata": {
        "id": "PRN8mBvGPhks"
      },
      "source": [
        "Now that we have a model created with the default hyperparameters, we will test it using cross validation accuracy as the metric."
      ]
    },
    {
      "cell_type": "code",
      "execution_count": null,
      "metadata": {
        "scrolled": true,
        "id": "iW3ZxLqAPhkt",
        "outputId": "deb634c4-aba8-4bd6-fd38-28a4aabc3cfe"
      },
      "outputs": [
        {
          "name": "stderr",
          "output_type": "stream",
          "text": [
            "/home/oldchap/anaconda3/lib/python3.9/site-packages/sklearn/neural_network/_multilayer_perceptron.py:614: ConvergenceWarning: Stochastic Optimizer: Maximum iterations (200) reached and the optimization hasn't converged yet.\n",
            "  warnings.warn(\n",
            "/home/oldchap/anaconda3/lib/python3.9/site-packages/sklearn/neural_network/_multilayer_perceptron.py:614: ConvergenceWarning: Stochastic Optimizer: Maximum iterations (200) reached and the optimization hasn't converged yet.\n",
            "  warnings.warn(\n",
            "/home/oldchap/anaconda3/lib/python3.9/site-packages/sklearn/neural_network/_multilayer_perceptron.py:614: ConvergenceWarning: Stochastic Optimizer: Maximum iterations (200) reached and the optimization hasn't converged yet.\n",
            "  warnings.warn(\n"
          ]
        },
        {
          "name": "stdout",
          "output_type": "stream",
          "text": [
            "Average accuracy: 0.9199999999999999\n"
          ]
        },
        {
          "name": "stderr",
          "output_type": "stream",
          "text": [
            "/home/oldchap/anaconda3/lib/python3.9/site-packages/sklearn/neural_network/_multilayer_perceptron.py:614: ConvergenceWarning: Stochastic Optimizer: Maximum iterations (200) reached and the optimization hasn't converged yet.\n",
            "  warnings.warn(\n",
            "/home/oldchap/anaconda3/lib/python3.9/site-packages/sklearn/neural_network/_multilayer_perceptron.py:614: ConvergenceWarning: Stochastic Optimizer: Maximum iterations (200) reached and the optimization hasn't converged yet.\n",
            "  warnings.warn(\n"
          ]
        }
      ],
      "source": [
        "# Determine the splits\n",
        "splits = KFold(n_splits=5)\n",
        "# Test Model\n",
        "score = np.mean(cross_val_score(mlp_model, X_train, y_train, cv=splits, scoring='accuracy'))\n",
        "print(\"Average accuracy: \" + str(score))"
      ]
    },
    {
      "cell_type": "markdown",
      "metadata": {
        "id": "I-0HA8ggPhkv"
      },
      "source": [
        "As you can see, this is quite a good model, but choosing better hyperparameters may be able to improve it.\n",
        "**Try manually altering the values in the code below and try to find the best values.**"
      ]
    },
    {
      "cell_type": "code",
      "execution_count": null,
      "metadata": {
        "id": "4bNcdxK7Phkv",
        "outputId": "68064163-7a5e-4e3d-bd6e-8df7165eb330"
      },
      "outputs": [
        {
          "name": "stderr",
          "output_type": "stream",
          "text": [
            "/home/oldchap/anaconda3/lib/python3.9/site-packages/sklearn/neural_network/_multilayer_perceptron.py:614: ConvergenceWarning: Stochastic Optimizer: Maximum iterations (800) reached and the optimization hasn't converged yet.\n",
            "  warnings.warn(\n",
            "/home/oldchap/anaconda3/lib/python3.9/site-packages/sklearn/neural_network/_multilayer_perceptron.py:614: ConvergenceWarning: Stochastic Optimizer: Maximum iterations (800) reached and the optimization hasn't converged yet.\n",
            "  warnings.warn(\n",
            "/home/oldchap/anaconda3/lib/python3.9/site-packages/sklearn/neural_network/_multilayer_perceptron.py:614: ConvergenceWarning: Stochastic Optimizer: Maximum iterations (800) reached and the optimization hasn't converged yet.\n",
            "  warnings.warn(\n",
            "/home/oldchap/anaconda3/lib/python3.9/site-packages/sklearn/neural_network/_multilayer_perceptron.py:614: ConvergenceWarning: Stochastic Optimizer: Maximum iterations (800) reached and the optimization hasn't converged yet.\n",
            "  warnings.warn(\n"
          ]
        },
        {
          "name": "stdout",
          "output_type": "stream",
          "text": [
            "Average accuracy: 0.9200000000000002\n"
          ]
        },
        {
          "name": "stderr",
          "output_type": "stream",
          "text": [
            "/home/oldchap/anaconda3/lib/python3.9/site-packages/sklearn/neural_network/_multilayer_perceptron.py:614: ConvergenceWarning: Stochastic Optimizer: Maximum iterations (800) reached and the optimization hasn't converged yet.\n",
            "  warnings.warn(\n"
          ]
        }
      ],
      "source": [
        "mlp_model = MLPClassifier(solver='adam', hidden_layer_sizes=(10), max_iter=800, activation='relu')\n",
        "score = np.mean(cross_val_score(mlp_model, X_train, y_train, cv=5, scoring='accuracy'))\n",
        "print(\"Average accuracy: \" + str(score))"
      ]
    },
    {
      "cell_type": "markdown",
      "metadata": {
        "id": "vPBKxPhuPhkw"
      },
      "source": [
        "Now that you have seen how tricky and time consuming it can be to find the optimal parameters manually, we will try using gridsearch. Remember that this searches through a large number of permutations, so it make take some time (Tip: to the left of the code, it says 'In[ ]' in blue text. While python code is running, it becomes 'In[*]', and the asterix disappears after it has completed)"
      ]
    },
    {
      "cell_type": "code",
      "execution_count": null,
      "metadata": {
        "id": "s7rltEMwPhkw",
        "outputId": "cb3dcd8b-639e-40d8-ffb3-7a2e012bdf7e"
      },
      "outputs": [
        {
          "name": "stderr",
          "output_type": "stream",
          "text": [
            "/home/oldchap/anaconda3/lib/python3.9/site-packages/sklearn/neural_network/_multilayer_perceptron.py:614: ConvergenceWarning: Stochastic Optimizer: Maximum iterations (800) reached and the optimization hasn't converged yet.\n",
            "  warnings.warn(\n",
            "/home/oldchap/anaconda3/lib/python3.9/site-packages/sklearn/neural_network/_multilayer_perceptron.py:614: ConvergenceWarning: Stochastic Optimizer: Maximum iterations (800) reached and the optimization hasn't converged yet.\n",
            "  warnings.warn(\n",
            "/home/oldchap/anaconda3/lib/python3.9/site-packages/sklearn/neural_network/_multilayer_perceptron.py:614: ConvergenceWarning: Stochastic Optimizer: Maximum iterations (800) reached and the optimization hasn't converged yet.\n",
            "  warnings.warn(\n",
            "/home/oldchap/anaconda3/lib/python3.9/site-packages/sklearn/neural_network/_multilayer_perceptron.py:614: ConvergenceWarning: Stochastic Optimizer: Maximum iterations (800) reached and the optimization hasn't converged yet.\n",
            "  warnings.warn(\n",
            "/home/oldchap/anaconda3/lib/python3.9/site-packages/sklearn/neural_network/_multilayer_perceptron.py:614: ConvergenceWarning: Stochastic Optimizer: Maximum iterations (800) reached and the optimization hasn't converged yet.\n",
            "  warnings.warn(\n",
            "/home/oldchap/anaconda3/lib/python3.9/site-packages/sklearn/neural_network/_multilayer_perceptron.py:614: ConvergenceWarning: Stochastic Optimizer: Maximum iterations (800) reached and the optimization hasn't converged yet.\n",
            "  warnings.warn(\n",
            "/home/oldchap/anaconda3/lib/python3.9/site-packages/sklearn/neural_network/_multilayer_perceptron.py:614: ConvergenceWarning: Stochastic Optimizer: Maximum iterations (800) reached and the optimization hasn't converged yet.\n",
            "  warnings.warn(\n",
            "/home/oldchap/anaconda3/lib/python3.9/site-packages/sklearn/neural_network/_multilayer_perceptron.py:614: ConvergenceWarning: Stochastic Optimizer: Maximum iterations (800) reached and the optimization hasn't converged yet.\n",
            "  warnings.warn(\n",
            "/home/oldchap/anaconda3/lib/python3.9/site-packages/sklearn/neural_network/_multilayer_perceptron.py:614: ConvergenceWarning: Stochastic Optimizer: Maximum iterations (800) reached and the optimization hasn't converged yet.\n",
            "  warnings.warn(\n",
            "/home/oldchap/anaconda3/lib/python3.9/site-packages/sklearn/neural_network/_multilayer_perceptron.py:614: ConvergenceWarning: Stochastic Optimizer: Maximum iterations (800) reached and the optimization hasn't converged yet.\n",
            "  warnings.warn(\n",
            "/home/oldchap/anaconda3/lib/python3.9/site-packages/sklearn/neural_network/_multilayer_perceptron.py:614: ConvergenceWarning: Stochastic Optimizer: Maximum iterations (800) reached and the optimization hasn't converged yet.\n",
            "  warnings.warn(\n",
            "/home/oldchap/anaconda3/lib/python3.9/site-packages/sklearn/neural_network/_multilayer_perceptron.py:614: ConvergenceWarning: Stochastic Optimizer: Maximum iterations (800) reached and the optimization hasn't converged yet.\n",
            "  warnings.warn(\n",
            "/home/oldchap/anaconda3/lib/python3.9/site-packages/sklearn/neural_network/_multilayer_perceptron.py:614: ConvergenceWarning: Stochastic Optimizer: Maximum iterations (800) reached and the optimization hasn't converged yet.\n",
            "  warnings.warn(\n",
            "/home/oldchap/anaconda3/lib/python3.9/site-packages/sklearn/neural_network/_multilayer_perceptron.py:614: ConvergenceWarning: Stochastic Optimizer: Maximum iterations (800) reached and the optimization hasn't converged yet.\n",
            "  warnings.warn(\n",
            "/home/oldchap/anaconda3/lib/python3.9/site-packages/sklearn/neural_network/_multilayer_perceptron.py:614: ConvergenceWarning: Stochastic Optimizer: Maximum iterations (800) reached and the optimization hasn't converged yet.\n",
            "  warnings.warn(\n",
            "/home/oldchap/anaconda3/lib/python3.9/site-packages/sklearn/neural_network/_multilayer_perceptron.py:614: ConvergenceWarning: Stochastic Optimizer: Maximum iterations (800) reached and the optimization hasn't converged yet.\n",
            "  warnings.warn(\n",
            "/home/oldchap/anaconda3/lib/python3.9/site-packages/sklearn/neural_network/_multilayer_perceptron.py:614: ConvergenceWarning: Stochastic Optimizer: Maximum iterations (800) reached and the optimization hasn't converged yet.\n",
            "  warnings.warn(\n",
            "/home/oldchap/anaconda3/lib/python3.9/site-packages/sklearn/neural_network/_multilayer_perceptron.py:614: ConvergenceWarning: Stochastic Optimizer: Maximum iterations (800) reached and the optimization hasn't converged yet.\n",
            "  warnings.warn(\n",
            "/home/oldchap/anaconda3/lib/python3.9/site-packages/sklearn/neural_network/_multilayer_perceptron.py:614: ConvergenceWarning: Stochastic Optimizer: Maximum iterations (800) reached and the optimization hasn't converged yet.\n",
            "  warnings.warn(\n",
            "/home/oldchap/anaconda3/lib/python3.9/site-packages/sklearn/neural_network/_multilayer_perceptron.py:614: ConvergenceWarning: Stochastic Optimizer: Maximum iterations (800) reached and the optimization hasn't converged yet.\n",
            "  warnings.warn(\n",
            "/home/oldchap/anaconda3/lib/python3.9/site-packages/sklearn/neural_network/_multilayer_perceptron.py:614: ConvergenceWarning: Stochastic Optimizer: Maximum iterations (800) reached and the optimization hasn't converged yet.\n",
            "  warnings.warn(\n",
            "/home/oldchap/anaconda3/lib/python3.9/site-packages/sklearn/neural_network/_multilayer_perceptron.py:614: ConvergenceWarning: Stochastic Optimizer: Maximum iterations (800) reached and the optimization hasn't converged yet.\n",
            "  warnings.warn(\n",
            "/home/oldchap/anaconda3/lib/python3.9/site-packages/sklearn/neural_network/_multilayer_perceptron.py:614: ConvergenceWarning: Stochastic Optimizer: Maximum iterations (800) reached and the optimization hasn't converged yet.\n",
            "  warnings.warn(\n",
            "/home/oldchap/anaconda3/lib/python3.9/site-packages/sklearn/neural_network/_multilayer_perceptron.py:614: ConvergenceWarning: Stochastic Optimizer: Maximum iterations (800) reached and the optimization hasn't converged yet.\n",
            "  warnings.warn(\n",
            "/home/oldchap/anaconda3/lib/python3.9/site-packages/sklearn/neural_network/_multilayer_perceptron.py:614: ConvergenceWarning: Stochastic Optimizer: Maximum iterations (800) reached and the optimization hasn't converged yet.\n",
            "  warnings.warn(\n",
            "/home/oldchap/anaconda3/lib/python3.9/site-packages/sklearn/neural_network/_multilayer_perceptron.py:614: ConvergenceWarning: Stochastic Optimizer: Maximum iterations (800) reached and the optimization hasn't converged yet.\n",
            "  warnings.warn(\n",
            "/home/oldchap/anaconda3/lib/python3.9/site-packages/sklearn/neural_network/_multilayer_perceptron.py:614: ConvergenceWarning: Stochastic Optimizer: Maximum iterations (800) reached and the optimization hasn't converged yet.\n",
            "  warnings.warn(\n",
            "/home/oldchap/anaconda3/lib/python3.9/site-packages/sklearn/neural_network/_multilayer_perceptron.py:614: ConvergenceWarning: Stochastic Optimizer: Maximum iterations (800) reached and the optimization hasn't converged yet.\n",
            "  warnings.warn(\n",
            "/home/oldchap/anaconda3/lib/python3.9/site-packages/sklearn/neural_network/_multilayer_perceptron.py:614: ConvergenceWarning: Stochastic Optimizer: Maximum iterations (800) reached and the optimization hasn't converged yet.\n",
            "  warnings.warn(\n",
            "/home/oldchap/anaconda3/lib/python3.9/site-packages/sklearn/neural_network/_multilayer_perceptron.py:614: ConvergenceWarning: Stochastic Optimizer: Maximum iterations (800) reached and the optimization hasn't converged yet.\n",
            "  warnings.warn(\n",
            "/home/oldchap/anaconda3/lib/python3.9/site-packages/sklearn/neural_network/_multilayer_perceptron.py:614: ConvergenceWarning: Stochastic Optimizer: Maximum iterations (800) reached and the optimization hasn't converged yet.\n",
            "  warnings.warn(\n",
            "/home/oldchap/anaconda3/lib/python3.9/site-packages/sklearn/neural_network/_multilayer_perceptron.py:614: ConvergenceWarning: Stochastic Optimizer: Maximum iterations (800) reached and the optimization hasn't converged yet.\n",
            "  warnings.warn(\n",
            "/home/oldchap/anaconda3/lib/python3.9/site-packages/sklearn/neural_network/_multilayer_perceptron.py:614: ConvergenceWarning: Stochastic Optimizer: Maximum iterations (800) reached and the optimization hasn't converged yet.\n",
            "  warnings.warn(\n",
            "/home/oldchap/anaconda3/lib/python3.9/site-packages/sklearn/neural_network/_multilayer_perceptron.py:614: ConvergenceWarning: Stochastic Optimizer: Maximum iterations (800) reached and the optimization hasn't converged yet.\n",
            "  warnings.warn(\n",
            "/home/oldchap/anaconda3/lib/python3.9/site-packages/sklearn/neural_network/_multilayer_perceptron.py:614: ConvergenceWarning: Stochastic Optimizer: Maximum iterations (800) reached and the optimization hasn't converged yet.\n",
            "  warnings.warn(\n",
            "/home/oldchap/anaconda3/lib/python3.9/site-packages/sklearn/neural_network/_multilayer_perceptron.py:614: ConvergenceWarning: Stochastic Optimizer: Maximum iterations (800) reached and the optimization hasn't converged yet.\n",
            "  warnings.warn(\n",
            "/home/oldchap/anaconda3/lib/python3.9/site-packages/sklearn/neural_network/_multilayer_perceptron.py:614: ConvergenceWarning: Stochastic Optimizer: Maximum iterations (800) reached and the optimization hasn't converged yet.\n",
            "  warnings.warn(\n"
          ]
        },
        {
          "name": "stderr",
          "output_type": "stream",
          "text": [
            "/home/oldchap/anaconda3/lib/python3.9/site-packages/sklearn/neural_network/_multilayer_perceptron.py:614: ConvergenceWarning: Stochastic Optimizer: Maximum iterations (800) reached and the optimization hasn't converged yet.\n",
            "  warnings.warn(\n",
            "/home/oldchap/anaconda3/lib/python3.9/site-packages/sklearn/neural_network/_multilayer_perceptron.py:614: ConvergenceWarning: Stochastic Optimizer: Maximum iterations (800) reached and the optimization hasn't converged yet.\n",
            "  warnings.warn(\n",
            "/home/oldchap/anaconda3/lib/python3.9/site-packages/sklearn/neural_network/_multilayer_perceptron.py:614: ConvergenceWarning: Stochastic Optimizer: Maximum iterations (800) reached and the optimization hasn't converged yet.\n",
            "  warnings.warn(\n",
            "/home/oldchap/anaconda3/lib/python3.9/site-packages/sklearn/neural_network/_multilayer_perceptron.py:614: ConvergenceWarning: Stochastic Optimizer: Maximum iterations (800) reached and the optimization hasn't converged yet.\n",
            "  warnings.warn(\n",
            "/home/oldchap/anaconda3/lib/python3.9/site-packages/sklearn/neural_network/_multilayer_perceptron.py:614: ConvergenceWarning: Stochastic Optimizer: Maximum iterations (800) reached and the optimization hasn't converged yet.\n",
            "  warnings.warn(\n",
            "/home/oldchap/anaconda3/lib/python3.9/site-packages/sklearn/neural_network/_multilayer_perceptron.py:614: ConvergenceWarning: Stochastic Optimizer: Maximum iterations (800) reached and the optimization hasn't converged yet.\n",
            "  warnings.warn(\n",
            "/home/oldchap/anaconda3/lib/python3.9/site-packages/sklearn/neural_network/_multilayer_perceptron.py:614: ConvergenceWarning: Stochastic Optimizer: Maximum iterations (800) reached and the optimization hasn't converged yet.\n",
            "  warnings.warn(\n",
            "/home/oldchap/anaconda3/lib/python3.9/site-packages/sklearn/neural_network/_multilayer_perceptron.py:614: ConvergenceWarning: Stochastic Optimizer: Maximum iterations (800) reached and the optimization hasn't converged yet.\n",
            "  warnings.warn(\n",
            "/home/oldchap/anaconda3/lib/python3.9/site-packages/sklearn/neural_network/_multilayer_perceptron.py:614: ConvergenceWarning: Stochastic Optimizer: Maximum iterations (800) reached and the optimization hasn't converged yet.\n",
            "  warnings.warn(\n",
            "/home/oldchap/anaconda3/lib/python3.9/site-packages/sklearn/neural_network/_multilayer_perceptron.py:614: ConvergenceWarning: Stochastic Optimizer: Maximum iterations (800) reached and the optimization hasn't converged yet.\n",
            "  warnings.warn(\n",
            "/home/oldchap/anaconda3/lib/python3.9/site-packages/sklearn/neural_network/_multilayer_perceptron.py:614: ConvergenceWarning: Stochastic Optimizer: Maximum iterations (800) reached and the optimization hasn't converged yet.\n",
            "  warnings.warn(\n",
            "/home/oldchap/anaconda3/lib/python3.9/site-packages/sklearn/neural_network/_multilayer_perceptron.py:614: ConvergenceWarning: Stochastic Optimizer: Maximum iterations (800) reached and the optimization hasn't converged yet.\n",
            "  warnings.warn(\n",
            "/home/oldchap/anaconda3/lib/python3.9/site-packages/sklearn/neural_network/_multilayer_perceptron.py:614: ConvergenceWarning: Stochastic Optimizer: Maximum iterations (800) reached and the optimization hasn't converged yet.\n",
            "  warnings.warn(\n",
            "/home/oldchap/anaconda3/lib/python3.9/site-packages/sklearn/neural_network/_multilayer_perceptron.py:614: ConvergenceWarning: Stochastic Optimizer: Maximum iterations (800) reached and the optimization hasn't converged yet.\n",
            "  warnings.warn(\n",
            "/home/oldchap/anaconda3/lib/python3.9/site-packages/sklearn/neural_network/_multilayer_perceptron.py:614: ConvergenceWarning: Stochastic Optimizer: Maximum iterations (800) reached and the optimization hasn't converged yet.\n",
            "  warnings.warn(\n",
            "/home/oldchap/anaconda3/lib/python3.9/site-packages/sklearn/neural_network/_multilayer_perceptron.py:614: ConvergenceWarning: Stochastic Optimizer: Maximum iterations (800) reached and the optimization hasn't converged yet.\n",
            "  warnings.warn(\n",
            "/home/oldchap/anaconda3/lib/python3.9/site-packages/sklearn/neural_network/_multilayer_perceptron.py:614: ConvergenceWarning: Stochastic Optimizer: Maximum iterations (800) reached and the optimization hasn't converged yet.\n",
            "  warnings.warn(\n",
            "/home/oldchap/anaconda3/lib/python3.9/site-packages/sklearn/neural_network/_multilayer_perceptron.py:614: ConvergenceWarning: Stochastic Optimizer: Maximum iterations (800) reached and the optimization hasn't converged yet.\n",
            "  warnings.warn(\n",
            "/home/oldchap/anaconda3/lib/python3.9/site-packages/sklearn/neural_network/_multilayer_perceptron.py:614: ConvergenceWarning: Stochastic Optimizer: Maximum iterations (800) reached and the optimization hasn't converged yet.\n",
            "  warnings.warn(\n",
            "/home/oldchap/anaconda3/lib/python3.9/site-packages/sklearn/neural_network/_multilayer_perceptron.py:614: ConvergenceWarning: Stochastic Optimizer: Maximum iterations (800) reached and the optimization hasn't converged yet.\n",
            "  warnings.warn(\n",
            "/home/oldchap/anaconda3/lib/python3.9/site-packages/sklearn/neural_network/_multilayer_perceptron.py:614: ConvergenceWarning: Stochastic Optimizer: Maximum iterations (800) reached and the optimization hasn't converged yet.\n",
            "  warnings.warn(\n",
            "/home/oldchap/anaconda3/lib/python3.9/site-packages/sklearn/neural_network/_multilayer_perceptron.py:614: ConvergenceWarning: Stochastic Optimizer: Maximum iterations (800) reached and the optimization hasn't converged yet.\n",
            "  warnings.warn(\n",
            "/home/oldchap/anaconda3/lib/python3.9/site-packages/sklearn/neural_network/_multilayer_perceptron.py:614: ConvergenceWarning: Stochastic Optimizer: Maximum iterations (800) reached and the optimization hasn't converged yet.\n",
            "  warnings.warn(\n",
            "/home/oldchap/anaconda3/lib/python3.9/site-packages/sklearn/neural_network/_multilayer_perceptron.py:614: ConvergenceWarning: Stochastic Optimizer: Maximum iterations (800) reached and the optimization hasn't converged yet.\n",
            "  warnings.warn(\n",
            "/home/oldchap/anaconda3/lib/python3.9/site-packages/sklearn/neural_network/_multilayer_perceptron.py:614: ConvergenceWarning: Stochastic Optimizer: Maximum iterations (800) reached and the optimization hasn't converged yet.\n",
            "  warnings.warn(\n",
            "/home/oldchap/anaconda3/lib/python3.9/site-packages/sklearn/neural_network/_multilayer_perceptron.py:614: ConvergenceWarning: Stochastic Optimizer: Maximum iterations (800) reached and the optimization hasn't converged yet.\n",
            "  warnings.warn(\n",
            "/home/oldchap/anaconda3/lib/python3.9/site-packages/sklearn/neural_network/_multilayer_perceptron.py:614: ConvergenceWarning: Stochastic Optimizer: Maximum iterations (800) reached and the optimization hasn't converged yet.\n",
            "  warnings.warn(\n",
            "/home/oldchap/anaconda3/lib/python3.9/site-packages/sklearn/neural_network/_multilayer_perceptron.py:614: ConvergenceWarning: Stochastic Optimizer: Maximum iterations (800) reached and the optimization hasn't converged yet.\n",
            "  warnings.warn(\n",
            "/home/oldchap/anaconda3/lib/python3.9/site-packages/sklearn/neural_network/_multilayer_perceptron.py:614: ConvergenceWarning: Stochastic Optimizer: Maximum iterations (800) reached and the optimization hasn't converged yet.\n",
            "  warnings.warn(\n",
            "/home/oldchap/anaconda3/lib/python3.9/site-packages/sklearn/neural_network/_multilayer_perceptron.py:614: ConvergenceWarning: Stochastic Optimizer: Maximum iterations (800) reached and the optimization hasn't converged yet.\n",
            "  warnings.warn(\n",
            "/home/oldchap/anaconda3/lib/python3.9/site-packages/sklearn/neural_network/_multilayer_perceptron.py:614: ConvergenceWarning: Stochastic Optimizer: Maximum iterations (800) reached and the optimization hasn't converged yet.\n",
            "  warnings.warn(\n",
            "/home/oldchap/anaconda3/lib/python3.9/site-packages/sklearn/neural_network/_multilayer_perceptron.py:614: ConvergenceWarning: Stochastic Optimizer: Maximum iterations (800) reached and the optimization hasn't converged yet.\n",
            "  warnings.warn(\n",
            "/home/oldchap/anaconda3/lib/python3.9/site-packages/sklearn/neural_network/_multilayer_perceptron.py:614: ConvergenceWarning: Stochastic Optimizer: Maximum iterations (800) reached and the optimization hasn't converged yet.\n",
            "  warnings.warn(\n",
            "/home/oldchap/anaconda3/lib/python3.9/site-packages/sklearn/neural_network/_multilayer_perceptron.py:614: ConvergenceWarning: Stochastic Optimizer: Maximum iterations (800) reached and the optimization hasn't converged yet.\n",
            "  warnings.warn(\n",
            "/home/oldchap/anaconda3/lib/python3.9/site-packages/sklearn/neural_network/_multilayer_perceptron.py:614: ConvergenceWarning: Stochastic Optimizer: Maximum iterations (800) reached and the optimization hasn't converged yet.\n",
            "  warnings.warn(\n",
            "/home/oldchap/anaconda3/lib/python3.9/site-packages/sklearn/neural_network/_multilayer_perceptron.py:614: ConvergenceWarning: Stochastic Optimizer: Maximum iterations (800) reached and the optimization hasn't converged yet.\n",
            "  warnings.warn(\n",
            "/home/oldchap/anaconda3/lib/python3.9/site-packages/sklearn/neural_network/_multilayer_perceptron.py:614: ConvergenceWarning: Stochastic Optimizer: Maximum iterations (800) reached and the optimization hasn't converged yet.\n",
            "  warnings.warn(\n",
            "/home/oldchap/anaconda3/lib/python3.9/site-packages/sklearn/neural_network/_multilayer_perceptron.py:614: ConvergenceWarning: Stochastic Optimizer: Maximum iterations (800) reached and the optimization hasn't converged yet.\n",
            "  warnings.warn(\n"
          ]
        },
        {
          "name": "stderr",
          "output_type": "stream",
          "text": [
            "/home/oldchap/anaconda3/lib/python3.9/site-packages/sklearn/neural_network/_multilayer_perceptron.py:614: ConvergenceWarning: Stochastic Optimizer: Maximum iterations (800) reached and the optimization hasn't converged yet.\n",
            "  warnings.warn(\n",
            "/home/oldchap/anaconda3/lib/python3.9/site-packages/sklearn/neural_network/_multilayer_perceptron.py:614: ConvergenceWarning: Stochastic Optimizer: Maximum iterations (800) reached and the optimization hasn't converged yet.\n",
            "  warnings.warn(\n",
            "/home/oldchap/anaconda3/lib/python3.9/site-packages/sklearn/neural_network/_multilayer_perceptron.py:614: ConvergenceWarning: Stochastic Optimizer: Maximum iterations (800) reached and the optimization hasn't converged yet.\n",
            "  warnings.warn(\n",
            "/home/oldchap/anaconda3/lib/python3.9/site-packages/sklearn/neural_network/_multilayer_perceptron.py:614: ConvergenceWarning: Stochastic Optimizer: Maximum iterations (800) reached and the optimization hasn't converged yet.\n",
            "  warnings.warn(\n",
            "/home/oldchap/anaconda3/lib/python3.9/site-packages/sklearn/neural_network/_multilayer_perceptron.py:614: ConvergenceWarning: Stochastic Optimizer: Maximum iterations (800) reached and the optimization hasn't converged yet.\n",
            "  warnings.warn(\n"
          ]
        },
        {
          "name": "stdout",
          "output_type": "stream",
          "text": [
            "Best Hyperparameters found: {'activation': 'identity', 'alpha': 0.01, 'hidden_layer_sizes': 10, 'solver': 'adam'}\n",
            "Cross Validation accuracy: 0.95\n"
          ]
        },
        {
          "name": "stderr",
          "output_type": "stream",
          "text": [
            "/home/oldchap/anaconda3/lib/python3.9/site-packages/sklearn/neural_network/_multilayer_perceptron.py:614: ConvergenceWarning: Stochastic Optimizer: Maximum iterations (800) reached and the optimization hasn't converged yet.\n",
            "  warnings.warn(\n"
          ]
        }
      ],
      "source": [
        "from sklearn.model_selection import GridSearchCV\n",
        "# Define the Param Grid\n",
        "param_grid = {\"hidden_layer_sizes\": [(5), (10)],\n",
        "              \"activation\": ['identity', 'tanh'],\n",
        "              \"solver\": ['adam', 'sgd'],\n",
        "              \"alpha\": [0.01, 0.001]}\n",
        "\n",
        "\n",
        "# Determine the splits and perform the grid search\n",
        "grid = GridSearchCV(mlp_model, param_grid, cv=splits, n_jobs=-1).fit(X_train, y_train)\n",
        "\n",
        "# Select the best estimators\n",
        "mlp_model_tuned=grid.best_estimator_\n",
        "\n",
        "# Output the results\n",
        "print(\"Best Hyperparameters found: \" + str(grid.best_params_))\n",
        "print(\"Cross Validation accuracy: \" + str(mlp_model_tuned.score(X_train,y_train)))"
      ]
    },
    {
      "cell_type": "markdown",
      "metadata": {
        "id": "kyrScMq_Phkw"
      },
      "source": [
        "As you can see in the grid that we used, there were only a very small number of values in the search (only two for each hyperparameter). **Visit https://scikit-learn.org/stable/modules/generated/sklearn.neural_network.MLPClassifier.html and find some other values for the hyperparameters, add them to the grid in the code, and see if you can improve the results.**"
      ]
    },
    {
      "cell_type": "markdown",
      "metadata": {
        "id": "EjsldOWKPhkx"
      },
      "source": [
        "# Section 7.5 - Local Search"
      ]
    },
    {
      "cell_type": "markdown",
      "metadata": {
        "id": "z2Fx1b37Phkx"
      },
      "source": [
        "To begin, we need to have something that we want to find the optimal value for. This is best achieved by defining it inside a function like this:"
      ]
    },
    {
      "cell_type": "code",
      "execution_count": null,
      "metadata": {
        "id": "ZLjNVkwgPhkx"
      },
      "outputs": [],
      "source": [
        "# objective function\n",
        "def objective(x):\n",
        "    return round((x+.2)**2,2)"
      ]
    },
    {
      "cell_type": "markdown",
      "metadata": {
        "id": "m-SNmRD7Phkx"
      },
      "source": [
        "This fitness (or objective) function is something that we can pass a possible solution to (x) and have it return the fitness of **x**. In the video, this was a two dimensional grid coordinate to find the highest peak on the map, but this is a simple one dimensional function that we will be able to explore visually."
      ]
    },
    {
      "cell_type": "markdown",
      "metadata": {
        "id": "j9CLQcJhPhkx"
      },
      "source": [
        "Normally, we would just get the fitness of a potential solution like this:"
      ]
    },
    {
      "cell_type": "code",
      "execution_count": null,
      "metadata": {
        "id": "1w_94JAzPhkx",
        "outputId": "bb20024c-77c7-4c65-e1ed-a9a19375d5d7"
      },
      "outputs": [
        {
          "data": {
            "text/plain": [
              "104.04"
            ]
          },
          "execution_count": 8,
          "metadata": {},
          "output_type": "execute_result"
        }
      ],
      "source": [
        "objective(10)"
      ]
    },
    {
      "cell_type": "markdown",
      "metadata": {
        "id": "RdYup_NBPhky"
      },
      "source": [
        "As this is a simple problem in which we only want to find the optimum value for a single variable, and if we limit the our question to 'what is the optimal value of f(x) between -3 and 2.5?', we can query the objective function repeatedly and visualise the space that we wish to search. Here is some code to allow us to sample and visualise it, don't worry about trying to understand it, it is only for demonstration purposes."
      ]
    },
    {
      "cell_type": "code",
      "execution_count": null,
      "metadata": {
        "id": "p1U2nnXiPhky"
      },
      "outputs": [],
      "source": [
        "from numpy import arange\n",
        "from matplotlib import pyplot\n",
        "\n",
        "def visualiseSpace(x):\n",
        "    # define range\n",
        "    r_min, r_max = -3, 2.5\n",
        "    # prepare inputs\n",
        "    inputs = arange(r_min, r_max, 0.1)\n",
        "    # compute targets\n",
        "    targets = [objective(y) for y in inputs]\n",
        "    # plot inputs vs target\n",
        "    pyplot.plot(inputs, targets, '--')\n",
        "    fitness = objective(x)\n",
        "    pyplot.plot(x, fitness, 'rx', markersize=12)\n",
        "    pyplot.show()"
      ]
    },
    {
      "cell_type": "markdown",
      "metadata": {
        "id": "yGGh1CgBPhky"
      },
      "source": [
        "To call it, we simply do this:"
      ]
    },
    {
      "cell_type": "code",
      "execution_count": null,
      "metadata": {
        "id": "Qw-OIrPhPhky",
        "outputId": "21b97b01-c0d4-4fe2-d1c6-da9b632b029f"
      },
      "outputs": [
        {
          "data": {
            "image/png": "[encoded data removed]",
            "text/plain": [
              "<Figure size 432x288 with 1 Axes>"
            ]
          },
          "metadata": {
            "needs_background": "light"
          },
          "output_type": "display_data"
        },
        {
          "name": "stdout",
          "output_type": "stream",
          "text": [
            "Fitness: 6.25\n"
          ]
        }
      ],
      "source": [
        "# The value that we wish to evaluate\n",
        "x = 2.3\n",
        "\n",
        "# Visualise its fitness, and where it lies on the function (note that visualisations like this\n",
        "# are only possible with very simple problems - these search techniques are normally used on\n",
        "# much more complex problems!)\n",
        "visualiseSpace(x)\n",
        "print('Fitness: ' + str(objective(x)))"
      ]
    },
    {
      "cell_type": "markdown",
      "metadata": {
        "id": "s9AzkR-2Phkz"
      },
      "source": [
        "As you can see, the value of x we tried here was 2.3, and the red X is where that value lies on the objective function. **Try other values for x to try and find the optimal value for x - what value achieves a fitness of 0?**"
      ]
    },
    {
      "cell_type": "markdown",
      "metadata": {
        "id": "1BB5ugNTPhkz"
      },
      "source": [
        "This is a very simple problem that we defined just for demonstration purposes and it's fairly easy to find the optimal value of x, but you still had to iteratively try a few different values to find it. Instead of doing this manually, we can design a local search algorithm to do this for us."
      ]
    },
    {
      "cell_type": "markdown",
      "metadata": {
        "id": "FjDQk96bPhk0"
      },
      "source": [
        "First, we define our mutation operator. In this code, it simply takes a step of plus 0.1 or negative 0.1."
      ]
    },
    {
      "cell_type": "code",
      "execution_count": null,
      "metadata": {
        "id": "Pq7ob3DLPhk0"
      },
      "outputs": [],
      "source": [
        "import random\n",
        "\n",
        "def mutationOperator(x):\n",
        "    step_size = [-0.1, 0.1]\n",
        "    return round(x + random.choice(step_size),2)"
      ]
    },
    {
      "cell_type": "markdown",
      "metadata": {
        "id": "Ctt_rJ8gPhk0"
      },
      "source": [
        "Let's start with a random value for x, let's say 2.3"
      ]
    },
    {
      "cell_type": "code",
      "execution_count": null,
      "metadata": {
        "id": "CnZmQQkcPhk0",
        "outputId": "324435a2-ea11-472b-be88-913be6a033fc"
      },
      "outputs": [
        {
          "name": "stdout",
          "output_type": "stream",
          "text": [
            "Starting X: 2.3  with a fitness of: 6.25\n"
          ]
        }
      ],
      "source": [
        "current_x = 2.3\n",
        "# Get its fitness\n",
        "current_fitness = objective(current_x)\n",
        "\n",
        "print(\"Starting X:\",current_x,\" with a fitness of:\", current_fitness)"
      ]
    },
    {
      "cell_type": "markdown",
      "metadata": {
        "id": "QXdvLc2ZPhk1"
      },
      "source": [
        "We can now try to randomly step in different directions and see how much of a difference that makes to the fitness"
      ]
    },
    {
      "cell_type": "code",
      "execution_count": null,
      "metadata": {
        "id": "wTZpJ0hDPhk1",
        "outputId": "2b8a1787-a54e-4ee4-876e-c5054ab2bb18"
      },
      "outputs": [
        {
          "name": "stdout",
          "output_type": "stream",
          "text": [
            "New X: 2.4  with a fitness of: 6.76\n"
          ]
        }
      ],
      "source": [
        "new_x = mutationOperator(current_x)\n",
        "new_fitness = objective(new_x)\n",
        "\n",
        "print(\"New X:\",new_x,\" with a fitness of:\", new_fitness)"
      ]
    },
    {
      "cell_type": "markdown",
      "metadata": {
        "id": "IbbHfB7gPhk2"
      },
      "source": [
        "See how it made a small change to X which now has a different fitness? Now that we have the ability to make steps, we need to accept good steps, and reject bad steps"
      ]
    },
    {
      "cell_type": "code",
      "execution_count": null,
      "metadata": {
        "id": "YBTATRhHPhk2",
        "outputId": "9f2cdb51-4474-4f63-9249-061819825f62"
      },
      "outputs": [
        {
          "name": "stdout",
          "output_type": "stream",
          "text": [
            "Current X: 2.3  with a fitness of: 6.25\n"
          ]
        }
      ],
      "source": [
        "# Slightly alter our current X's value\n",
        "new_x = mutationOperator(current_x)\n",
        "# Get its fitness\n",
        "new_fitness = objective(new_x)\n",
        "# Decide if we want to keep it\n",
        "if(new_fitness < current_fitness):\n",
        "    current_x = new_x\n",
        "    current_fitness = new_fitness\n",
        "\n",
        "print(\"Current X:\",current_x,\" with a fitness of:\", current_fitness)"
      ]
    },
    {
      "cell_type": "markdown",
      "metadata": {
        "id": "bvtWGbVUPhk2"
      },
      "source": [
        "Running this cell enough times will eventually get to the optimum value for x! Let's put it all together, and instead of running it lots of times manually, we put in a loop."
      ]
    },
    {
      "cell_type": "code",
      "execution_count": null,
      "metadata": {
        "id": "bPmdKy1IPhk3",
        "outputId": "322c2073-343f-4fea-b946-25298db941f3"
      },
      "outputs": [
        {
          "name": "stdout",
          "output_type": "stream",
          "text": [
            "Starting X: 2.2  with a fitness of: 5.76\n",
            "Starting X: 2.2  with a fitness of: 5.76\n",
            "Starting X: 2.2  with a fitness of: 5.76\n",
            "Starting X: 2.1  with a fitness of: 5.29\n",
            "Starting X: 2.1  with a fitness of: 5.29\n",
            "Starting X: 2.1  with a fitness of: 5.29\n",
            "Starting X: 2.0  with a fitness of: 4.84\n",
            "Starting X: 1.9  with a fitness of: 4.41\n",
            "Starting X: 1.8  with a fitness of: 4.0\n",
            "Starting X: 1.7  with a fitness of: 3.61\n",
            "Starting X: 1.7  with a fitness of: 3.61\n",
            "Starting X: 1.7  with a fitness of: 3.61\n",
            "Starting X: 1.6  with a fitness of: 3.24\n",
            "Starting X: 1.5  with a fitness of: 2.89\n",
            "Starting X: 1.5  with a fitness of: 2.89\n",
            "Starting X: 1.5  with a fitness of: 2.89\n",
            "Starting X: 1.5  with a fitness of: 2.89\n",
            "Starting X: 1.4  with a fitness of: 2.56\n",
            "Starting X: 1.4  with a fitness of: 2.56\n",
            "Starting X: 1.3  with a fitness of: 2.25\n",
            "Starting X: 1.2  with a fitness of: 1.96\n",
            "Starting X: 1.1  with a fitness of: 1.69\n",
            "Starting X: 1.1  with a fitness of: 1.69\n",
            "Starting X: 1.1  with a fitness of: 1.69\n",
            "Starting X: 1.0  with a fitness of: 1.44\n",
            "Starting X: 1.0  with a fitness of: 1.44\n",
            "Starting X: 0.9  with a fitness of: 1.21\n",
            "Starting X: 0.9  with a fitness of: 1.21\n",
            "Starting X: 0.9  with a fitness of: 1.21\n",
            "Starting X: 0.8  with a fitness of: 1.0\n",
            "Starting X: 0.7  with a fitness of: 0.81\n",
            "Starting X: 0.7  with a fitness of: 0.81\n",
            "Starting X: 0.6  with a fitness of: 0.64\n",
            "Starting X: 0.5  with a fitness of: 0.49\n",
            "Starting X: 0.4  with a fitness of: 0.36\n",
            "Starting X: 0.4  with a fitness of: 0.36\n",
            "Starting X: 0.4  with a fitness of: 0.36\n",
            "Starting X: 0.3  with a fitness of: 0.25\n",
            "Starting X: 0.3  with a fitness of: 0.25\n",
            "Starting X: 0.3  with a fitness of: 0.25\n",
            "Starting X: 0.3  with a fitness of: 0.25\n",
            "Starting X: 0.2  with a fitness of: 0.16\n",
            "Starting X: 0.1  with a fitness of: 0.09\n",
            "Starting X: 0.0  with a fitness of: 0.04\n",
            "Starting X: -0.1  with a fitness of: 0.01\n",
            "Starting X: -0.2  with a fitness of: 0.0\n",
            "Starting X: -0.2  with a fitness of: 0.0\n",
            "Starting X: -0.2  with a fitness of: 0.0\n",
            "Starting X: -0.2  with a fitness of: 0.0\n",
            "Starting X: -0.2  with a fitness of: 0.0\n",
            "Starting X: -0.2  with a fitness of: 0.0\n",
            "Starting X: -0.2  with a fitness of: 0.0\n",
            "Starting X: -0.2  with a fitness of: 0.0\n",
            "Starting X: -0.2  with a fitness of: 0.0\n",
            "Starting X: -0.2  with a fitness of: 0.0\n",
            "Starting X: -0.2  with a fitness of: 0.0\n",
            "Starting X: -0.2  with a fitness of: 0.0\n",
            "Starting X: -0.2  with a fitness of: 0.0\n",
            "Starting X: -0.2  with a fitness of: 0.0\n",
            "Starting X: -0.2  with a fitness of: 0.0\n",
            "Starting X: -0.2  with a fitness of: 0.0\n",
            "Starting X: -0.2  with a fitness of: 0.0\n",
            "Starting X: -0.2  with a fitness of: 0.0\n",
            "Starting X: -0.2  with a fitness of: 0.0\n",
            "Starting X: -0.2  with a fitness of: 0.0\n",
            "Starting X: -0.2  with a fitness of: 0.0\n",
            "Starting X: -0.2  with a fitness of: 0.0\n",
            "Starting X: -0.2  with a fitness of: 0.0\n",
            "Starting X: -0.2  with a fitness of: 0.0\n",
            "Starting X: -0.2  with a fitness of: 0.0\n",
            "Starting X: -0.2  with a fitness of: 0.0\n",
            "Starting X: -0.2  with a fitness of: 0.0\n",
            "Starting X: -0.2  with a fitness of: 0.0\n",
            "Starting X: -0.2  with a fitness of: 0.0\n",
            "Starting X: -0.2  with a fitness of: 0.0\n",
            "Starting X: -0.2  with a fitness of: 0.0\n",
            "Starting X: -0.2  with a fitness of: 0.0\n",
            "Starting X: -0.2  with a fitness of: 0.0\n",
            "Starting X: -0.2  with a fitness of: 0.0\n",
            "Starting X: -0.2  with a fitness of: 0.0\n",
            "Starting X: -0.2  with a fitness of: 0.0\n",
            "Starting X: -0.2  with a fitness of: 0.0\n",
            "Starting X: -0.2  with a fitness of: 0.0\n",
            "Starting X: -0.2  with a fitness of: 0.0\n",
            "Starting X: -0.2  with a fitness of: 0.0\n",
            "Starting X: -0.2  with a fitness of: 0.0\n",
            "Starting X: -0.2  with a fitness of: 0.0\n",
            "Starting X: -0.2  with a fitness of: 0.0\n",
            "Starting X: -0.2  with a fitness of: 0.0\n",
            "Starting X: -0.2  with a fitness of: 0.0\n",
            "Starting X: -0.2  with a fitness of: 0.0\n",
            "Starting X: -0.2  with a fitness of: 0.0\n",
            "Starting X: -0.2  with a fitness of: 0.0\n",
            "Starting X: -0.2  with a fitness of: 0.0\n",
            "Starting X: -0.2  with a fitness of: 0.0\n",
            "Starting X: -0.2  with a fitness of: 0.0\n",
            "Starting X: -0.2  with a fitness of: 0.0\n",
            "Starting X: -0.2  with a fitness of: 0.0\n",
            "Starting X: -0.2  with a fitness of: 0.0\n",
            "Starting X: -0.2  with a fitness of: 0.0\n"
          ]
        },
        {
          "data": {
            "image/png": "[encoded data removed]",
            "text/plain": [
              "<Figure size 432x288 with 1 Axes>"
            ]
          },
          "metadata": {
            "needs_background": "light"
          },
          "output_type": "display_data"
        }
      ],
      "source": [
        "current_x = 2.3\n",
        "current_fitness = objective(current_x)\n",
        "\n",
        "for i in range(0,100):\n",
        "    # mutate the current solution\n",
        "    new_x = mutationOperator(current_x)\n",
        "    # evaluate it\n",
        "    new_fitness = objective(new_x)\n",
        "\n",
        "    if(new_fitness < current_fitness):\n",
        "        current_x = new_x\n",
        "        current_fitness = new_fitness\n",
        "\n",
        "    print(\"Starting X:\",current_x,\" with a fitness of:\", current_fitness)\n",
        "\n",
        "visualiseSpace(current_x)"
      ]
    },
    {
      "cell_type": "markdown",
      "metadata": {
        "id": "-YfxtQbbPhk3"
      },
      "source": [
        "Did it find the optimum? This is because it didn't run for enough iterations. **Change the number of iterations in the loop and give it an adequate range to find the optimum. How many iterations were necessary? If you are wondering how many iterations we should use - this is a great discussion point for the discussion boards!**"
      ]
    },
    {
      "cell_type": "markdown",
      "metadata": {
        "id": "Fnt5DHNFPhk3"
      },
      "source": [
        "Now that we have a local search, let's explore its limitations. We will now look at a different objective function that has local and global optimums."
      ]
    },
    {
      "cell_type": "code",
      "execution_count": null,
      "metadata": {
        "id": "X_24D88PPhk3",
        "outputId": "a1e5e688-2823-46b5-b5f6-de48fbe0e6a8"
      },
      "outputs": [
        {
          "data": {
            "image/png": "[encoded data removed]",
            "text/plain": [
              "<Figure size 432x288 with 1 Axes>"
            ]
          },
          "metadata": {
            "needs_background": "light"
          },
          "output_type": "display_data"
        }
      ],
      "source": [
        "# objective function\n",
        "def objective(x):\n",
        "    return (x - 2.0) * x * (x + 2.0)**2.0\n",
        "\n",
        "x = -1\n",
        "visualiseSpace(x)"
      ]
    },
    {
      "cell_type": "markdown",
      "metadata": {
        "id": "UpC2bbsxPhlL"
      },
      "source": [
        "Now that we have a new objective function, we can put our loop from earlier in a function called localSearch - this just makes it easier to call."
      ]
    },
    {
      "cell_type": "code",
      "execution_count": null,
      "metadata": {
        "id": "L2tJwBrtPhlL"
      },
      "outputs": [],
      "source": [
        "def localSearch(current_x):\n",
        "    current_fitness = objective(current_x)\n",
        "\n",
        "    for i in range(0,25):\n",
        "        # mutate the current solution\n",
        "        new_x = mutationOperator(current_x)\n",
        "        # evaluate it\n",
        "        new_fitness = objective(new_x)\n",
        "\n",
        "        if(new_fitness < current_fitness):\n",
        "            current_x = new_x\n",
        "            current_fitness = new_fitness\n",
        "\n",
        "        print(\"Current X:\",current_x,\" with a fitness of:\", current_fitness)\n",
        "    return current_x"
      ]
    },
    {
      "cell_type": "markdown",
      "metadata": {
        "id": "SJ-nSaXRPhlL"
      },
      "source": [
        "Try calling the localSearch function, and start with x=2"
      ]
    },
    {
      "cell_type": "code",
      "execution_count": null,
      "metadata": {
        "id": "wZ2QCOCGPhlL",
        "outputId": "7f3c6529-94f8-4145-e766-646d533f0fc6"
      },
      "outputs": [
        {
          "name": "stdout",
          "output_type": "stream",
          "text": [
            "Current X: 1.9  with a fitness of: -2.8899000000000026\n",
            "Current X: 1.9  with a fitness of: -2.8899000000000026\n",
            "Current X: 1.8  with a fitness of: -5.198399999999999\n",
            "Current X: 1.8  with a fitness of: -5.198399999999999\n",
            "Current X: 1.7  with a fitness of: -6.9819\n",
            "Current X: 1.6  with a fitness of: -8.2944\n",
            "Current X: 1.6  with a fitness of: -8.2944\n",
            "Current X: 1.5  with a fitness of: -9.1875\n",
            "Current X: 1.4  with a fitness of: -9.7104\n",
            "Current X: 1.4  with a fitness of: -9.7104\n",
            "Current X: 1.4  with a fitness of: -9.7104\n",
            "Current X: 1.3  with a fitness of: -9.909899999999999\n",
            "Current X: 1.3  with a fitness of: -9.909899999999999\n",
            "Current X: 1.3  with a fitness of: -9.909899999999999\n",
            "Current X: 1.3  with a fitness of: -9.909899999999999\n",
            "Current X: 1.3  with a fitness of: -9.909899999999999\n",
            "Current X: 1.3  with a fitness of: -9.909899999999999\n",
            "Current X: 1.3  with a fitness of: -9.909899999999999\n",
            "Current X: 1.3  with a fitness of: -9.909899999999999\n",
            "Current X: 1.3  with a fitness of: -9.909899999999999\n",
            "Current X: 1.3  with a fitness of: -9.909899999999999\n",
            "Current X: 1.3  with a fitness of: -9.909899999999999\n",
            "Current X: 1.3  with a fitness of: -9.909899999999999\n",
            "Current X: 1.3  with a fitness of: -9.909899999999999\n",
            "Current X: 1.3  with a fitness of: -9.909899999999999\n",
            "\n",
            "Starting X\n"
          ]
        },
        {
          "data": {
            "image/png": "[encoded data removed]",
            "text/plain": [
              "<Figure size 432x288 with 1 Axes>"
            ]
          },
          "metadata": {
            "needs_background": "light"
          },
          "output_type": "display_data"
        },
        {
          "name": "stdout",
          "output_type": "stream",
          "text": [
            "Optimised X\n"
          ]
        },
        {
          "data": {
            "image/png": "[encoded data removed]",
            "text/plain": [
              "<Figure size 432x288 with 1 Axes>"
            ]
          },
          "metadata": {
            "needs_background": "light"
          },
          "output_type": "display_data"
        }
      ],
      "source": [
        "starting_x = 2\n",
        "end_x = localSearch(starting_x)\n",
        "# Visualise where the search began\n",
        "print('')\n",
        "print('Starting X')\n",
        "visualiseSpace(starting_x)\n",
        "# Visualise where the search completed\n",
        "print('Optimised X')\n",
        "visualiseSpace(end_x)"
      ]
    },
    {
      "cell_type": "markdown",
      "metadata": {
        "id": "z2f2cn_fPhlM"
      },
      "source": [
        "Did it find the global optimum? Try the search again, but this time, start the search at x=-1"
      ]
    },
    {
      "cell_type": "code",
      "execution_count": null,
      "metadata": {
        "id": "fOdjLsxePhlM",
        "outputId": "a5b4e6d7-f888-4889-c095-450b8935f1f9"
      },
      "outputs": [
        {
          "name": "stdout",
          "output_type": "stream",
          "text": [
            "Current X: -1.1  with a fitness of: 2.7620999999999998\n",
            "Current X: -1.1  with a fitness of: 2.7620999999999998\n",
            "Current X: -1.1  with a fitness of: 2.7620999999999998\n",
            "Current X: -1.1  with a fitness of: 2.7620999999999998\n",
            "Current X: -1.1  with a fitness of: 2.7620999999999998\n",
            "Current X: -1.1  with a fitness of: 2.7620999999999998\n",
            "Current X: -1.1  with a fitness of: 2.7620999999999998\n",
            "Current X: -1.2  with a fitness of: 2.4576000000000002\n",
            "Current X: -1.3  with a fitness of: 2.1020999999999996\n",
            "Current X: -1.3  with a fitness of: 2.1020999999999996\n",
            "Current X: -1.4  with a fitness of: 1.7136000000000005\n",
            "Current X: -1.4  with a fitness of: 1.7136000000000005\n",
            "Current X: -1.5  with a fitness of: 1.3125\n",
            "Current X: -1.6  with a fitness of: 0.9215999999999996\n",
            "Current X: -1.7  with a fitness of: 0.5661000000000002\n",
            "Current X: -1.7  with a fitness of: 0.5661000000000002\n",
            "Current X: -1.8  with a fitness of: 0.27359999999999984\n",
            "Current X: -1.9  with a fitness of: 0.07410000000000012\n",
            "Current X: -2.0  with a fitness of: 0.0\n",
            "Current X: -2.0  with a fitness of: 0.0\n",
            "Current X: -2.0  with a fitness of: 0.0\n",
            "Current X: -2.0  with a fitness of: 0.0\n",
            "Current X: -2.0  with a fitness of: 0.0\n",
            "Current X: -2.0  with a fitness of: 0.0\n",
            "Current X: -2.0  with a fitness of: 0.0\n",
            "\n",
            "Starting X\n"
          ]
        },
        {
          "data": {
            "image/png": "[encoded data removed]",
            "text/plain": [
              "<Figure size 432x288 with 1 Axes>"
            ]
          },
          "metadata": {
            "needs_background": "light"
          },
          "output_type": "display_data"
        },
        {
          "name": "stdout",
          "output_type": "stream",
          "text": [
            "Optimised X\n"
          ]
        },
        {
          "data": {
            "image/png": "[encoded data removed]",
            "text/plain": [
              "<Figure size 432x288 with 1 Axes>"
            ]
          },
          "metadata": {
            "needs_background": "light"
          },
          "output_type": "display_data"
        }
      ],
      "source": [
        "starting_x = -1\n",
        "end_x = localSearch(starting_x)\n",
        "# Visualise where the search began\n",
        "print('')\n",
        "print('Starting X')\n",
        "visualiseSpace(starting_x)\n",
        "# Visualise where the search completed\n",
        "print('Optimised X')\n",
        "visualiseSpace(end_x)"
      ]
    },
    {
      "cell_type": "markdown",
      "metadata": {
        "id": "f31XtqDpPhlM"
      },
      "source": [
        "Well that's interesting! The local search got stuck in a local optimum - this is because it cannot make the deteriorating steps that would be required to get it to the global optimum. **Can you name an algorithm that might be able to deal with local optima better than local search?**"
      ]
    },
    {
      "cell_type": "markdown",
      "metadata": {
        "id": "gf3shLcmPhlN"
      },
      "source": [
        "# Section 7.6 - Feature Projection"
      ]
    },
    {
      "cell_type": "markdown",
      "metadata": {
        "id": "uecIt4MpPhlN"
      },
      "source": [
        "## Linear feature projection - unsupervised"
      ]
    },
    {
      "cell_type": "markdown",
      "metadata": {
        "id": "hjpiH90APhlO"
      },
      "source": [
        "In this practical, we are going to try the linear feature projection technique known as Principal Component Analysis. To begin, we import all the necessary libraries and data that we associate with a machine learning project."
      ]
    },
    {
      "cell_type": "code",
      "execution_count": null,
      "metadata": {
        "id": "ckxH6bilPhlO"
      },
      "outputs": [],
      "source": [
        "# Import the necessary libraries\n",
        "from sklearn.neural_network import MLPClassifier\n",
        "from sklearn import datasets\n",
        "from sklearn.model_selection import train_test_split\n",
        "from sklearn.preprocessing import MinMaxScaler\n",
        "from sklearn.model_selection import cross_val_score\n",
        "from sklearn.model_selection import KFold\n",
        "import numpy as np\n",
        "\n",
        "# Load data\n",
        "digits = datasets.load_breast_cancer()\n",
        "X = digits.data\n",
        "y = digits.target\n",
        "\n",
        "# Split the dataset into training and testing data\n",
        "X_train, X_test, y_train, y_test = train_test_split(X, y, test_size=0.33, random_state=42)\n"
      ]
    },
    {
      "cell_type": "markdown",
      "metadata": {
        "id": "YPf19BvlPhlP"
      },
      "source": [
        "With PCA, it's important that we scale the data across all of the features. This is very important as PCA seeks to minimise variance, and if the features have different scales, it will seek to minimise the variance with the largest scale, rather than the largest variance. Remember that we need to scale the test data in the same way, but we should scale it based only on the scales we see in the training data - we should never derive information from the testing data!"
      ]
    },
    {
      "cell_type": "code",
      "execution_count": null,
      "metadata": {
        "id": "kM0JcIhlPhlP"
      },
      "outputs": [],
      "source": [
        "# Preprocess data\n",
        "from sklearn.preprocessing import StandardScaler\n",
        "scaler = StandardScaler()\n",
        "# Fit on training set only.\n",
        "scaler.fit(X_train)\n",
        "# Apply transform to both the training set and the test set.\n",
        "X_train = scaler.transform(X_train)\n",
        "X_test = scaler.transform(X_test)"
      ]
    },
    {
      "cell_type": "markdown",
      "metadata": {
        "id": "q-skVOYZPhlP"
      },
      "source": [
        "As you can see when we expect the shape of the training data, there are 4 features and 100 samples"
      ]
    },
    {
      "cell_type": "code",
      "execution_count": null,
      "metadata": {
        "id": "nypltrcDPhlQ",
        "outputId": "e0a51328-21ba-4195-af71-f20dcda72ed9"
      },
      "outputs": [
        {
          "data": {
            "text/plain": [
              "(381, 30)"
            ]
          },
          "execution_count": 22,
          "metadata": {},
          "output_type": "execute_result"
        }
      ],
      "source": [
        "X_train.shape"
      ]
    },
    {
      "cell_type": "markdown",
      "metadata": {
        "id": "cN9-ZVYLPhlQ"
      },
      "source": [
        "And now we are ready to perform PCA! We can choose how many principal components to calculate, with the first explaining the most variance, the second explaining the second most variance, and so on. Here, we begin by calculating the first 10 PCs."
      ]
    },
    {
      "cell_type": "code",
      "execution_count": null,
      "metadata": {
        "id": "FxGX-zwIPhlQ"
      },
      "outputs": [],
      "source": [
        "# Import the PCA toolkit\n",
        "from sklearn.decomposition import PCA\n",
        "\n",
        "# Calculate the first 10 principal components\n",
        "numb_PC = 10\n",
        "pca = PCA(n_components=numb_PC)\n",
        "X_train_PCA = pca.fit_transform(X_train)"
      ]
    },
    {
      "cell_type": "markdown",
      "metadata": {
        "id": "EKT3Q8wuPhlQ"
      },
      "source": [
        "Note that we used fit_transform on the training data - this means that we calculated the principal components for the training data, and then applied them to that data. But just how much variance was explained by each PC? How many PC are useful? We can extract that information like this:"
      ]
    },
    {
      "cell_type": "code",
      "execution_count": null,
      "metadata": {
        "id": "2Ih-8S2mPhlR",
        "outputId": "e4e2fe41-b6d5-40e7-dde2-7d9c559b2e7e"
      },
      "outputs": [
        {
          "name": "stdout",
          "output_type": "stream",
          "text": [
            "[0.43203436 0.19853475 0.09808165 0.06500311 0.05150982 0.04204207\n",
            " 0.02264712 0.0169758  0.01297545 0.0121151 ]\n"
          ]
        }
      ],
      "source": [
        "# How much variance is explained by each variance?\n",
        "explained_variance =pca.explained_variance_ratio_\n",
        "print(explained_variance)"
      ]
    },
    {
      "cell_type": "markdown",
      "metadata": {
        "id": "V9AX_oYlPhlR"
      },
      "source": [
        "In order, we can see that around 43% of the variance was explained by the first PC, 19.85% of the variance is explained by the second PC, 9.8% by the third PC, and so on. We can understand quite a lot just by looking at these raw values, but visualising them will make it easier to see just how many PC we should use."
      ]
    },
    {
      "cell_type": "code",
      "execution_count": null,
      "metadata": {
        "id": "lwotM-daPhlR",
        "outputId": "4c299b4f-fb30-4ca5-b0a8-b04f315b449b"
      },
      "outputs": [
        {
          "data": {
            "image/png": "[encoded data removed]",
            "text/plain": [
              "<Figure size 432x288 with 1 Axes>"
            ]
          },
          "metadata": {
            "needs_background": "light"
          },
          "output_type": "display_data"
        }
      ],
      "source": [
        "from matplotlib import pyplot\n",
        "from numpy import arange\n",
        "from matplotlib import pyplot\n",
        "# Plot the variance\n",
        "pyplot.plot(arange(1, numb_PC+1), explained_variance)\n",
        "pyplot.show()"
      ]
    },
    {
      "cell_type": "markdown",
      "metadata": {
        "id": "gOwi3VdjPhlS"
      },
      "source": [
        "Here you can see that the amount of variance explained by the first PC is substantial, quite a lot by the second, and by the fourth, we see very little additional variance explained by the remaining PC."
      ]
    },
    {
      "cell_type": "markdown",
      "metadata": {
        "id": "9PD-88wZPhlS"
      },
      "source": [
        "Now that we have the new features generated by PCA, we can test them. As these were generated independently of a classifier, we can test multiple different classifiers to see if it benefits any model more than others. We start by defining some functions for easier testing of the new features. You should understand all the code here, but it isn't important for understanding PCA."
      ]
    },
    {
      "cell_type": "code",
      "execution_count": null,
      "metadata": {
        "id": "ppGQ3cB8PhlS"
      },
      "outputs": [],
      "source": [
        "# Import the classifiers\n",
        "from sklearn.neighbors import KNeighborsClassifier\n",
        "from sklearn.svm import SVC\n",
        "from sklearn.tree import DecisionTreeClassifier\n",
        "import time\n",
        "\n",
        "\n",
        "# We will be testing a few classifiers, so making a function will help keep our code clean\n",
        "def testClassifier(model, training_data, testing_data):\n",
        "    model.fit(training_data, y_train)\n",
        "    model_pred = model.predict(testing_data)\n",
        "    model_score = round(sum(model_pred == y_test)/len(y_test),4)\n",
        "    return model_score\n",
        "\n",
        "def testAllClassifier(training_data, testing_data):\n",
        "    # Get a time stamp so we can see how long it takes\n",
        "    start_time = time.perf_counter()\n",
        "\n",
        "    # Test using a MLP\n",
        "    mlp_model = MLPClassifier(max_iter=2000)\n",
        "    mlp_score = testClassifier(mlp_model, training_data, testing_data)\n",
        "    # Test using a k-NN\n",
        "    knn_model = KNeighborsClassifier()\n",
        "    knn_score = testClassifier(knn_model, training_data, testing_data)\n",
        "    # Test using a Decision Tree\n",
        "    tree_model = DecisionTreeClassifier()\n",
        "    tree_score = testClassifier(tree_model, training_data, testing_data)\n",
        "\n",
        "    # Calculate the total time taken to train and test all of the classifiers\n",
        "    time_elapsed = time.perf_counter()-start_time\n",
        "\n",
        "    return [mlp_score, knn_score, tree_score, time_elapsed]"
      ]
    },
    {
      "cell_type": "markdown",
      "metadata": {
        "id": "pzLBhhsYPhlT"
      },
      "source": [
        "Now we can perform some experimentation with our new features! Let's start by testing the original training data to create a control to compare against."
      ]
    },
    {
      "cell_type": "code",
      "execution_count": null,
      "metadata": {
        "id": "qImzdHp2PhlT",
        "outputId": "7ee49ac6-cdb9-472e-db0d-390b27053d86"
      },
      "outputs": [
        {
          "name": "stdout",
          "output_type": "stream",
          "text": [
            "Trained on full dataset X: MLP: 0.984 KNN: 0.9574 Tree: 0.9309   (Time elapsed: 0.9309 )\n"
          ]
        }
      ],
      "source": [
        "# Start by testing the entire, untransformed training and testing data\n",
        "classifier_scores = testAllClassifier(X_train, X_test)\n",
        "print(\"Trained on full dataset X:\", \"MLP:\", str(classifier_scores[0]),\"KNN:\", str(classifier_scores[1]),\"Tree:\", str(classifier_scores[2]),\"  (Time elapsed:\", str(classifier_scores[2]),\")\")"
      ]
    },
    {
      "cell_type": "markdown",
      "metadata": {
        "id": "NpBh3qvIPhlT"
      },
      "source": [
        "As you can see, we have each classifiers accuracy on the *testing* data. Now we can try training and testing the models using only the first principal component."
      ]
    },
    {
      "cell_type": "code",
      "execution_count": null,
      "metadata": {
        "id": "BGqglBRDPhlT",
        "outputId": "14d3eb67-34d5-48f6-a6b2-04694f947c7c"
      },
      "outputs": [
        {
          "name": "stdout",
          "output_type": "stream",
          "text": [
            "Trained on the domininant principal components: MLP: 0.9202 KNN: 0.8936 Tree: 0.8457    (Time elapsed: 0.8457 )\n"
          ]
        }
      ],
      "source": [
        "# Calcuate just the first (dominant) principal component\n",
        "pca = PCA(n_components=1)\n",
        "X_train_PCA = pca.fit_transform(X_train)\n",
        "X_test_PCA = pca.transform(X_test)\n",
        "\n",
        "classifier_scores = testAllClassifier(X_train_PCA, X_test_PCA)\n",
        "print(\"Trained on the domininant principal components:\", \"MLP:\", str(classifier_scores[0]),\"KNN:\", str(classifier_scores[1]),\"Tree:\", str(classifier_scores[2]),\"   (Time elapsed:\", str(classifier_scores[2]),\")\")"
      ]
    },
    {
      "cell_type": "markdown",
      "metadata": {
        "id": "IfGMtkZePhlU"
      },
      "source": [
        "As you can see, the model performs worse with just one PC with this problem. This isn't always the case, but here we need to include more PCs in the model to encompass enough of the variance. The code below will try more and more PC with each iteration of the loop."
      ]
    },
    {
      "cell_type": "code",
      "execution_count": null,
      "metadata": {
        "id": "kZxcTcUdPhlU",
        "outputId": "14ef7eb0-c7e2-4b41-d8f9-986a56ecb620"
      },
      "outputs": [
        {
          "name": "stdout",
          "output_type": "stream",
          "text": [
            "Trained on 1 principal components: MLP: 0.9149 KNN: 0.8936 Tree: 0.8457    (Time elapsed: 0.8457 )\n",
            "Trained on 2 principal components: MLP: 0.9628 KNN: 0.9415 Tree: 0.8883    (Time elapsed: 0.8883 )\n",
            "Trained on 3 principal components: MLP: 0.9574 KNN: 0.9202 Tree: 0.8936    (Time elapsed: 0.8936 )\n",
            "Trained on 4 principal components: MLP: 0.9628 KNN: 0.9574 Tree: 0.9149    (Time elapsed: 0.9149 )\n",
            "Trained on 5 principal components: MLP: 0.9734 KNN: 0.9628 Tree: 0.9362    (Time elapsed: 0.9362 )\n",
            "Trained on 6 principal components: MLP: 0.9574 KNN: 0.9574 Tree: 0.9255    (Time elapsed: 0.9255 )\n",
            "Trained on 7 principal components: MLP: 0.9628 KNN: 0.9574 Tree: 0.9255    (Time elapsed: 0.9255 )\n",
            "Trained on 8 principal components: MLP: 0.9681 KNN: 0.9574 Tree: 0.9309    (Time elapsed: 0.9309 )\n",
            "Trained on 9 principal components: MLP: 0.9681 KNN: 0.9574 Tree: 0.9149    (Time elapsed: 0.9149 )\n"
          ]
        }
      ],
      "source": [
        "for i in range(1,10):\n",
        "    pca = PCA(n_components=i)\n",
        "    X_train_PCA = pca.fit_transform(X_train)\n",
        "    X_test_PCA = pca.transform(X_test)\n",
        "\n",
        "    classifier_scores = testAllClassifier(X_train_PCA, X_test_PCA)\n",
        "    print(\"Trained on\", i, \"principal components:\", \"MLP:\", str(classifier_scores[0]),\"KNN:\", str(classifier_scores[1]),\"Tree:\", str(classifier_scores[2]),\"   (Time elapsed:\", str(classifier_scores[2]),\")\")"
      ]
    },
    {
      "cell_type": "markdown",
      "metadata": {
        "id": "lDXK3PUGPhlU"
      },
      "source": [
        "You can see how each of the classifiers were affected slightly differently to the use of PCA - **you can add additional classifiers to the above loop and test them too.**\n",
        "\n",
        "\n",
        "With this dataset, reducing the dimensionality with PCA tended to reduce the performance of our models, but if we look at the time elapsed, you will notice that it did speed up the training and testing time of the models.\n",
        "\n",
        "Our findings here identify important considerations for the use of feature projection:\n",
        "- in some problems, it will increase the predictive accuracy of our models, but in some problems, it will cause a deterioration. We need to test our models to find out if it will help.\n",
        "- in some problems, model training and testing takes too long. PCA can reduce these times, making some models a practical option that would not have been possible with the unprocessed features."
      ]
    },
    {
      "cell_type": "markdown",
      "metadata": {
        "id": "Ctn3f0UnPhlV"
      },
      "source": [
        "# Session 7.7 - Feature Selection"
      ]
    },
    {
      "cell_type": "markdown",
      "metadata": {
        "id": "CGdYucpvPhlV"
      },
      "source": [
        "In this practical, we will be attempting to answer the questions: \"Do we need all these features?\", \"Could we remove one or more for a better model?\""
      ]
    },
    {
      "cell_type": "markdown",
      "metadata": {
        "id": "gzLfesiaPhlV"
      },
      "source": [
        "As before, we will need to start by setting up a problem to apply Feature Selection to."
      ]
    },
    {
      "cell_type": "code",
      "execution_count": null,
      "metadata": {
        "id": "Dt2-HgwxPhlV"
      },
      "outputs": [],
      "source": [
        "from sklearn import datasets\n",
        "from sklearn.model_selection import train_test_split\n",
        "from sklearn.tree import DecisionTreeClassifier\n",
        "from sklearn.neighbors import KNeighborsClassifier\n",
        "from sklearn.model_selection import cross_val_score\n",
        "from sklearn.model_selection import KFold\n",
        "import numpy as np\n",
        "\n",
        "X, y = datasets.load_breast_cancer(return_X_y=True)\n",
        "\n",
        "# Split the dataset into training and testing data\n",
        "X_train, X_test, y_train, y_test = train_test_split(X, y, test_size=0.8, random_state=1)\n",
        "\n",
        "# Create a model and set the splits for k fold cross validation\n",
        "tree_model = DecisionTreeClassifier()\n",
        "splits = KFold(n_splits=10)"
      ]
    },
    {
      "cell_type": "markdown",
      "metadata": {
        "id": "rZyIxmegPhlV"
      },
      "source": [
        "And now we can establish the performance of a model trained on the entire dataset (before feature selection)"
      ]
    },
    {
      "cell_type": "code",
      "execution_count": null,
      "metadata": {
        "id": "D-3sYZQwPhlW",
        "outputId": "2dfb7df7-e1a9-4348-ae9e-a80215c6b423"
      },
      "outputs": [
        {
          "name": "stdout",
          "output_type": "stream",
          "text": [
            "Cross Validation Score with all features:  0.9454545454545455\n",
            "Test data score with all features:  0.881578947368421\n"
          ]
        }
      ],
      "source": [
        "cv_score = np.mean(cross_val_score(tree_model, X_train, y_train, cv=splits, scoring='accuracy'))\n",
        "print(\"Cross Validation Score with all features: \", str(cv_score))\n",
        "\n",
        "tree_model.fit(X_train, y_train)\n",
        "y_pred = tree_model.predict(X_test)\n",
        "print(\"Test data score with all features: \", str(sum(y_pred == y_test)/len(y_test)))"
      ]
    },
    {
      "cell_type": "markdown",
      "metadata": {
        "id": "DowHl-04PhlW"
      },
      "source": [
        "To begin, we will consider Filter based feature selection."
      ]
    },
    {
      "cell_type": "markdown",
      "metadata": {
        "id": "0gMxjnyMPhlW"
      },
      "source": [
        "### Filter Methods"
      ]
    },
    {
      "cell_type": "markdown",
      "metadata": {
        "id": "A2UITc5sPhlX"
      },
      "source": [
        "One of the simplest ways to remove features that are unhelpful, is to calculate how well they correlate with the variable we wish to predict. We will now look at how strongly each feature correlates with the outcome variable"
      ]
    },
    {
      "cell_type": "code",
      "execution_count": null,
      "metadata": {
        "id": "BApj3a7vPhlX",
        "outputId": "5973bbe2-7825-47af-ba89-cbb33e51e661"
      },
      "outputs": [
        {
          "name": "stdout",
          "output_type": "stream",
          "text": [
            "Correlation for feature 0 : -0.7388522174266782\n",
            "Correlation for feature 1 : -0.4221202658244096\n",
            "Correlation for feature 2 : -0.7496928050073911\n",
            "Correlation for feature 3 : -0.6927943422874434\n",
            "Correlation for feature 4 : -0.4395754150308515\n",
            "Correlation for feature 5 : -0.6757134761210114\n",
            "Correlation for feature 6 : -0.7598490816397308\n",
            "Correlation for feature 7 : -0.7977572284540031\n",
            "Correlation for feature 8 : -0.41549612482437503\n",
            "Correlation for feature 9 : -0.06883464126719188\n",
            "Correlation for feature 10 : -0.5544869267897183\n",
            "Correlation for feature 11 : 0.012971032995513655\n",
            "Correlation for feature 12 : -0.5398457235580976\n",
            "Correlation for feature 13 : -0.47734739570896256\n",
            "Correlation for feature 14 : 0.12637386832825342\n",
            "Correlation for feature 15 : -0.34285318865204345\n",
            "Correlation for feature 16 : -0.3669811205468624\n",
            "Correlation for feature 17 : -0.457858177216817\n",
            "Correlation for feature 18 : 0.0007555555240847614\n",
            "Correlation for feature 19 : -0.1556348028181592\n",
            "Correlation for feature 20 : -0.7849643505244531\n",
            "Correlation for feature 21 : -0.4502704837671356\n",
            "Correlation for feature 22 : -0.7898999522392492\n",
            "Correlation for feature 23 : -0.7126952640293903\n",
            "Correlation for feature 24 : -0.43736002286084413\n",
            "Correlation for feature 25 : -0.646497581602753\n",
            "Correlation for feature 26 : -0.7141270772666081\n",
            "Correlation for feature 27 : -0.8311505847218764\n",
            "Correlation for feature 28 : -0.5414197079120907\n",
            "Correlation for feature 29 : -0.41342932679466415\n"
          ]
        }
      ],
      "source": [
        "for i in range(0,X_train.shape[1]):\n",
        "    corr_coeff = np.corrcoef(X_train[:,i], y_train)[0,1]\n",
        "    print(\"Correlation for feature\", i, \":\", corr_coeff)"
      ]
    },
    {
      "cell_type": "markdown",
      "metadata": {
        "id": "pot3XApZPhlX"
      },
      "source": [
        "As you can see here, some of these variables have very low correlations (note: correlations are low when they are close to zero, and -1 is a very strong correlation!). Let's try removing one of the lowest correlation features and test again."
      ]
    },
    {
      "cell_type": "code",
      "execution_count": null,
      "metadata": {
        "id": "85vSX9skPhlX",
        "outputId": "9d9cd11e-aef2-4d03-a2e3-5e41612b31de"
      },
      "outputs": [
        {
          "name": "stdout",
          "output_type": "stream",
          "text": [
            "Cross Validation Score after removing a feature:  0.9462121212121211\n",
            "Test Set Score after removing a feature:  0.8947368421052632\n"
          ]
        }
      ],
      "source": [
        "# We can use a list of boolean variables to represent which features we want to keep\n",
        "features_to_include = [True] * (X_train.shape[1])\n",
        "# To remove a feature, we just set the boolean at its index to false. Here we are removing feature 18\n",
        "features_to_include[18] = False\n",
        "\n",
        "# Use this list to index the columns, and it will use only the features that are set to True\n",
        "score = np.mean(cross_val_score(tree_model, X_train[:, features_to_include], y_train, cv=splits, scoring='accuracy'))\n",
        "print(\"Cross Validation Score after removing a feature: \", str(score))\n",
        "# Add check it's performance on the unseen test data\n",
        "tree_model.fit(X_train[:, features_to_include], y_train)\n",
        "y_pred = tree_model.predict(X_test[:, features_to_include])\n",
        "print(\"Test Set Score after removing a feature: \", str(sum(y_pred == y_test)/len(y_test)))"
      ]
    },
    {
      "cell_type": "markdown",
      "metadata": {
        "id": "bPLHtkknPhlY"
      },
      "source": [
        "Did this improve the model's performance? **Try setting a few of the other lower correlated features to False and see how it changes the model's efficacy.**"
      ]
    },
    {
      "cell_type": "markdown",
      "metadata": {
        "id": "fNR2DxgMPhlY"
      },
      "source": [
        "As filter methods are independent of the model, you can try other classifiers.\n",
        "\n",
        "**Change the model below and experiment with how well filter selection works for them.**"
      ]
    },
    {
      "cell_type": "code",
      "execution_count": null,
      "metadata": {
        "scrolled": true,
        "id": "RvKQL-91PhlY",
        "outputId": "89f4615f-cf22-4724-9bc4-3c6acff348ee"
      },
      "outputs": [
        {
          "name": "stdout",
          "output_type": "stream",
          "text": [
            "Cross Validation Score after removing a feature:  0.9454545454545453\n",
            "Test Set Score after removing a feature:  0.8771929824561403\n"
          ]
        }
      ],
      "source": [
        "# We can use a list of boolean variables to represent which features we want to keep\n",
        "features_to_include = [True] * (X_train.shape[1])\n",
        "\n",
        "# To remove a feature, we just set the boolean at its index to false. Here we are removing feature 18,\n",
        "# feel free to remove other features here too\n",
        "features_to_include[18] = False # REMOVE OTHER FEATURES LIKE THIS\n",
        "model = KNeighborsClassifier() # CHANGE THE MODEL HERE\n",
        "\n",
        "# Use this list to index the columns, and it will use only the features that are set to True\n",
        "score = np.mean(cross_val_score(model, X_train[:, features_to_include], y_train, cv=splits, scoring='accuracy'))\n",
        "print(\"Cross Validation Score after removing a feature: \", str(score))\n",
        "# Add check it's performance on the unseen test data\n",
        "model.fit(X_train[:, features_to_include], y_train)\n",
        "y_pred = model.predict(X_test[:, features_to_include])\n",
        "print(\"Test Set Score after removing a feature: \", str(sum(y_pred == y_test)/len(y_test)))"
      ]
    },
    {
      "cell_type": "markdown",
      "metadata": {
        "id": "f83GyHyZPhlY"
      },
      "source": [
        "Scikit Learn provides an easy to use library to perform filter feature selection. In this case, it uses chi square. **Try different numbers of features by varying the value of *k*. Then, visit https://scikit-learn.org/stable/modules/generated/sklearn.feature_selection.SelectKBest.html#sklearn.feature_selection.SelectKBest and find other metrics to use.**"
      ]
    },
    {
      "cell_type": "code",
      "execution_count": null,
      "metadata": {
        "id": "69z7hMS4PhlZ",
        "outputId": "4cf22049-ab16-4ce5-de18-0cc39b143514"
      },
      "outputs": [
        {
          "name": "stdout",
          "output_type": "stream",
          "text": [
            "Cross Validation Score after feature selection:  0.9363636363636363\n"
          ]
        }
      ],
      "source": [
        "from sklearn.feature_selection import SelectKBest\n",
        "from sklearn.feature_selection import chi2\n",
        "\n",
        "# Select the k best features (in this case, 2 features) as defined by their chi2 scores\n",
        "X_new = SelectKBest(chi2, k=2).fit_transform(X_train, y_train)\n",
        "\n",
        "# Use this list to index the columns, and it will use only the features that are set to True\n",
        "score = np.mean(cross_val_score(tree_model, X_new, y_train, cv=splits, scoring='accuracy'))\n",
        "print(\"Cross Validation Score after feature selection: \", str(score))"
      ]
    },
    {
      "cell_type": "markdown",
      "metadata": {
        "id": "OSf23DD4PhlZ"
      },
      "source": [
        "### Embedded Methods"
      ]
    },
    {
      "cell_type": "markdown",
      "metadata": {
        "id": "HvHwYW5hPhlZ"
      },
      "source": [
        "Embedded methods use the values calculated within the models to choose which features to use. A powerful model that can be used in this case is Random Forest. Start by training a Random Forest model."
      ]
    },
    {
      "cell_type": "code",
      "execution_count": null,
      "metadata": {
        "id": "KxJJdaT0PhlZ",
        "outputId": "bc70caa0-e535-4596-9706-0fc4f0085a8c"
      },
      "outputs": [
        {
          "data": {
            "text/plain": [
              "RandomForestClassifier()"
            ]
          },
          "execution_count": 36,
          "metadata": {},
          "output_type": "execute_result"
        }
      ],
      "source": [
        "import pandas as pd\n",
        "from sklearn.ensemble import RandomForestClassifier\n",
        "\n",
        "model = RandomForestClassifier(n_estimators = 100)\n",
        "model.fit(X_train, y_train)"
      ]
    },
    {
      "cell_type": "markdown",
      "metadata": {
        "id": "rRc_ggCHPhla"
      },
      "source": [
        "Now that we have the Random Forest classifier, we test it to evaluate its performance prior to feature selection."
      ]
    },
    {
      "cell_type": "code",
      "execution_count": null,
      "metadata": {
        "id": "P7WyJ_L_Phla",
        "outputId": "d9cc2b10-fa1f-4be9-a018-19a338f3e064"
      },
      "outputs": [
        {
          "name": "stdout",
          "output_type": "stream",
          "text": [
            "Cross Validation score prior to feature selection:  0.9545454545454545\n",
            "Test Set score prior to feature selection:  0.8837719298245614\n"
          ]
        }
      ],
      "source": [
        "# Use this list to index the columns, and it will use only the features that are set to True\n",
        "score = np.mean(cross_val_score(tree_model, X_train, y_train, cv=splits, scoring='accuracy'))\n",
        "print(\"Cross Validation score prior to feature selection: \", str(score))\n",
        "# Add check it's performance on the unseen test data\n",
        "tree_model.fit(X_train, y_train)\n",
        "y_pred = tree_model.predict(X_test)\n",
        "print(\"Test Set score prior to feature selection: \", str(sum(y_pred == y_test)/len(y_test)))"
      ]
    },
    {
      "cell_type": "markdown",
      "metadata": {
        "id": "EUKSZ6y9Phla"
      },
      "source": [
        "Within the Random Forest, each feature contributed to reducing node impurity, and this can be used to measure their importance."
      ]
    },
    {
      "cell_type": "code",
      "execution_count": null,
      "metadata": {
        "id": "vxOy3e5ePhla",
        "outputId": "be2e772f-1d8f-4e05-bc41-20449be88466"
      },
      "outputs": [
        {
          "name": "stdout",
          "output_type": "stream",
          "text": [
            "Random Forest feature importances: [0.03226486 0.01279478 0.03024197 0.0392047  0.00233373 0.01003651\n",
            " 0.07865268 0.11401767 0.00338379 0.00079196 0.02034134 0.00470475\n",
            " 0.02956319 0.06049483 0.00306875 0.00317758 0.         0.00282269\n",
            " 0.001827   0.00190372 0.09457816 0.00994226 0.09866355 0.16341778\n",
            " 0.00234077 0.01975649 0.05060314 0.09757482 0.01070106 0.00079546]\n"
          ]
        }
      ],
      "source": [
        "print(\"Random Forest feature importances:\", str(model.feature_importances_))"
      ]
    },
    {
      "cell_type": "markdown",
      "metadata": {
        "id": "f9hgMNojPhla"
      },
      "source": [
        "We can index which of these features that we want to keep just like we did earlier, but Scikit Learn also provides an easier to use function for this too. By using SelectFromModel, only features that have an above average reduction in node impurity are selected, and we don't need to choose the number to keep."
      ]
    },
    {
      "cell_type": "code",
      "execution_count": null,
      "metadata": {
        "id": "SARxOnZBPhlb"
      },
      "outputs": [],
      "source": [
        "from sklearn.feature_selection import SelectFromModel\n",
        "\n",
        "# Create and fit the model\n",
        "rf_reduced_model = SelectFromModel(RandomForestClassifier(n_estimators = 100))\n",
        "rf_reduced_model.fit(X_train, y_train)\n",
        "# After the model is fitted, interogate the model for which features were most important\n",
        "features_to_include = rf_reduced_model.get_support()"
      ]
    },
    {
      "cell_type": "markdown",
      "metadata": {
        "id": "5odlcx-cPhlb"
      },
      "source": [
        "Now that we have the features we wish to include, we can train and test our model."
      ]
    },
    {
      "cell_type": "code",
      "execution_count": null,
      "metadata": {
        "id": "Yx8BVa2SPhlb",
        "outputId": "926d02cd-69e2-48b9-fd85-0e3ba4ad67d9"
      },
      "outputs": [
        {
          "name": "stdout",
          "output_type": "stream",
          "text": [
            "Cross Validation Score after removing features:  0.9181818181818182\n",
            "Test Set Score after removing features:  0.881578947368421\n"
          ]
        }
      ],
      "source": [
        "# Use this list to index the columns, and it will use only the features that are set to True\n",
        "score = np.mean(cross_val_score(tree_model, X_train[:, features_to_include], y_train, cv=splits, scoring='accuracy'))\n",
        "print(\"Cross Validation Score after removing features: \", str(score))\n",
        "# Add check it's performance on the unseen test data\n",
        "tree_model.fit(X_train[:, features_to_include], y_train)\n",
        "y_pred = tree_model.predict(X_test[:, features_to_include])\n",
        "print(\"Test Set Score after removing features: \", str(sum(y_pred == y_test)/len(y_test)))"
      ]
    },
    {
      "cell_type": "markdown",
      "metadata": {
        "id": "GXfUSHNhPhlb"
      },
      "source": [
        "### Wrapper methods"
      ]
    },
    {
      "cell_type": "markdown",
      "metadata": {
        "id": "9sJqsOmgPhlb"
      },
      "source": [
        "The final way in which we can perform feature selection is by using wrapper methods: these iteratively make a change to the feature subset, evaluate it, and then use what they learn in that iteration to guide the next. We start by implementing a very simply wrapper method using *local search*, much like the one you seen in an earlier practical."
      ]
    },
    {
      "cell_type": "markdown",
      "metadata": {
        "id": "UJo3hyMVPhlc"
      },
      "source": [
        "Like before, we need a mutation operator. This one simply looks at all of the booleans that represent the features in our data, and randomly flips one - if it was previously included, it is now excluded, and if it was previously excluded, it is now included."
      ]
    },
    {
      "cell_type": "code",
      "execution_count": null,
      "metadata": {
        "id": "LwFLai68Phlc"
      },
      "outputs": [],
      "source": [
        "import random\n",
        "\n",
        "def mutationOperator(features):\n",
        "    feat_to_flip = random.choice(range(0,len(features)))\n",
        "\n",
        "    if(features[feat_to_flip] ==True):\n",
        "        features[feat_to_flip] = False\n",
        "    else:\n",
        "        features[feat_to_flip] = True\n",
        "\n",
        "    return features"
      ]
    },
    {
      "cell_type": "markdown",
      "metadata": {
        "id": "7Zct9vSjPhlc"
      },
      "source": [
        "And again, just like before, we need an objective function. In this case, it is the cross validation accuracy when the given features are available."
      ]
    },
    {
      "cell_type": "code",
      "execution_count": null,
      "metadata": {
        "id": "4trp-fPbPhlc"
      },
      "outputs": [],
      "source": [
        "def objective(x_train, y_train, model, features_to_include):\n",
        "    # Determine the splits\n",
        "    splits = KFold(n_splits=10)\n",
        "    # Test Model\n",
        "    score = np.mean(cross_val_score(model, X_train[:, features_to_include], y_train, cv=splits, scoring='accuracy'))\n",
        "    return score"
      ]
    },
    {
      "cell_type": "markdown",
      "metadata": {
        "id": "z_rPJcCkPhld"
      },
      "source": [
        "Just like before, we use a function for the local search to make it easier to call. Note that it looks a lot like the one we made in the previous practical - **compare them and see where they differ.**"
      ]
    },
    {
      "cell_type": "code",
      "execution_count": null,
      "metadata": {
        "id": "KtEt7mKnPhld"
      },
      "outputs": [],
      "source": [
        "def localSearchFeatureSelection(x_train, y_train, model, current_x, number_of_iterations):\n",
        "    current_fitness = objective(x_train, y_train, model, current_x)\n",
        "\n",
        "    for i in range(0,number_of_iterations):\n",
        "        # mutate the current solution\n",
        "        new_x = mutationOperator(current_x.copy())\n",
        "        # evaluate it\n",
        "        new_fitness = objective(x_train, y_train, model, new_x)\n",
        "\n",
        "        if(new_fitness > current_fitness):\n",
        "            current_x = new_x\n",
        "            current_fitness = new_fitness\n",
        "\n",
        "        print(\"Iteration\",i, \": Selected Features:\", str(sum(current_x)),\"/\",str(x_train.shape[1]),\"Fitness:\", current_fitness)\n",
        "    return current_x"
      ]
    },
    {
      "cell_type": "markdown",
      "metadata": {
        "id": "wWAjpLAoPhld"
      },
      "source": [
        "And as always, we try with the full feature subset to establish a baseline."
      ]
    },
    {
      "cell_type": "code",
      "execution_count": null,
      "metadata": {
        "scrolled": true,
        "id": "7FUjPLCRPhle",
        "outputId": "e2c6d974-a03c-495e-9b3d-163dabae1fe8"
      },
      "outputs": [
        {
          "name": "stdout",
          "output_type": "stream",
          "text": [
            "The cross validation accuracy on the full training data is 0.9454545454545455\n"
          ]
        }
      ],
      "source": [
        "# We'll use a decision tree\n",
        "model = DecisionTreeClassifier()\n",
        "# every feature is set to True in that it should be included\n",
        "all_features = [True] * (X_train.shape[1])\n",
        "# We can test the full feature subset like this\n",
        "print(\"The cross validation accuracy on the full training data is\", objective(X_train, y_train, model, all_features))"
      ]
    },
    {
      "cell_type": "markdown",
      "metadata": {
        "id": "HCND9xcTPhle"
      },
      "source": [
        "Since we have got everything already contained within functions, the local search can be called easily."
      ]
    },
    {
      "cell_type": "code",
      "execution_count": null,
      "metadata": {
        "id": "4_Pna0GqPhlf",
        "outputId": "34829df2-6698-465d-b9bb-0116a95a4732"
      },
      "outputs": [
        {
          "name": "stdout",
          "output_type": "stream",
          "text": [
            "Iteration 0 : Selected Features: 29 / 30 Fitness: 0.9462121212121213\n",
            "Iteration 1 : Selected Features: 29 / 30 Fitness: 0.9462121212121213\n",
            "Iteration 2 : Selected Features: 28 / 30 Fitness: 0.9545454545454545\n",
            "Iteration 3 : Selected Features: 28 / 30 Fitness: 0.9545454545454545\n",
            "Iteration 4 : Selected Features: 28 / 30 Fitness: 0.9545454545454545\n",
            "Iteration 5 : Selected Features: 28 / 30 Fitness: 0.9545454545454545\n",
            "Iteration 6 : Selected Features: 28 / 30 Fitness: 0.9545454545454545\n",
            "Iteration 7 : Selected Features: 28 / 30 Fitness: 0.9545454545454545\n",
            "Iteration 8 : Selected Features: 28 / 30 Fitness: 0.9545454545454545\n",
            "Iteration 9 : Selected Features: 28 / 30 Fitness: 0.9545454545454545\n",
            "Iteration 10 : Selected Features: 28 / 30 Fitness: 0.9545454545454545\n",
            "Iteration 11 : Selected Features: 28 / 30 Fitness: 0.9545454545454545\n",
            "Iteration 12 : Selected Features: 28 / 30 Fitness: 0.9545454545454545\n",
            "Iteration 13 : Selected Features: 28 / 30 Fitness: 0.9545454545454545\n",
            "Iteration 14 : Selected Features: 28 / 30 Fitness: 0.9545454545454545\n",
            "Iteration 15 : Selected Features: 28 / 30 Fitness: 0.9545454545454545\n",
            "Iteration 16 : Selected Features: 28 / 30 Fitness: 0.9545454545454545\n",
            "Iteration 17 : Selected Features: 27 / 30 Fitness: 0.9636363636363636\n",
            "Iteration 18 : Selected Features: 27 / 30 Fitness: 0.9636363636363636\n",
            "Iteration 19 : Selected Features: 27 / 30 Fitness: 0.9636363636363636\n",
            "Iteration 20 : Selected Features: 27 / 30 Fitness: 0.9636363636363636\n",
            "Iteration 21 : Selected Features: 27 / 30 Fitness: 0.9636363636363636\n",
            "Iteration 22 : Selected Features: 27 / 30 Fitness: 0.9636363636363636\n",
            "Iteration 23 : Selected Features: 27 / 30 Fitness: 0.9636363636363636\n",
            "Iteration 24 : Selected Features: 27 / 30 Fitness: 0.9636363636363636\n",
            "Iteration 25 : Selected Features: 27 / 30 Fitness: 0.9636363636363636\n",
            "Iteration 26 : Selected Features: 27 / 30 Fitness: 0.9636363636363636\n",
            "Iteration 27 : Selected Features: 27 / 30 Fitness: 0.9636363636363636\n",
            "Iteration 28 : Selected Features: 27 / 30 Fitness: 0.9636363636363636\n",
            "Iteration 29 : Selected Features: 27 / 30 Fitness: 0.9636363636363636\n",
            "Iteration 30 : Selected Features: 27 / 30 Fitness: 0.9636363636363636\n",
            "Iteration 31 : Selected Features: 27 / 30 Fitness: 0.9636363636363636\n",
            "Iteration 32 : Selected Features: 27 / 30 Fitness: 0.9636363636363636\n",
            "Iteration 33 : Selected Features: 27 / 30 Fitness: 0.9636363636363636\n",
            "Iteration 34 : Selected Features: 27 / 30 Fitness: 0.9636363636363636\n",
            "Iteration 35 : Selected Features: 27 / 30 Fitness: 0.9636363636363636\n",
            "Iteration 36 : Selected Features: 27 / 30 Fitness: 0.9636363636363636\n",
            "Iteration 37 : Selected Features: 27 / 30 Fitness: 0.9636363636363636\n",
            "Iteration 38 : Selected Features: 27 / 30 Fitness: 0.9636363636363636\n",
            "Iteration 39 : Selected Features: 27 / 30 Fitness: 0.9636363636363636\n",
            "Iteration 40 : Selected Features: 27 / 30 Fitness: 0.9636363636363636\n",
            "Iteration 41 : Selected Features: 27 / 30 Fitness: 0.9636363636363636\n",
            "Iteration 42 : Selected Features: 27 / 30 Fitness: 0.9636363636363636\n",
            "Iteration 43 : Selected Features: 27 / 30 Fitness: 0.9636363636363636\n",
            "Iteration 44 : Selected Features: 27 / 30 Fitness: 0.9636363636363636\n",
            "Iteration 45 : Selected Features: 27 / 30 Fitness: 0.9636363636363636\n",
            "Iteration 46 : Selected Features: 27 / 30 Fitness: 0.9636363636363636\n",
            "Iteration 47 : Selected Features: 27 / 30 Fitness: 0.9636363636363636\n",
            "Iteration 48 : Selected Features: 27 / 30 Fitness: 0.9636363636363636\n",
            "Iteration 49 : Selected Features: 27 / 30 Fitness: 0.9636363636363636\n",
            "Iteration 50 : Selected Features: 27 / 30 Fitness: 0.9636363636363636\n",
            "Iteration 51 : Selected Features: 27 / 30 Fitness: 0.9636363636363636\n",
            "Iteration 52 : Selected Features: 27 / 30 Fitness: 0.9636363636363636\n",
            "Iteration 53 : Selected Features: 27 / 30 Fitness: 0.9636363636363636\n",
            "Iteration 54 : Selected Features: 27 / 30 Fitness: 0.9636363636363636\n",
            "Iteration 55 : Selected Features: 27 / 30 Fitness: 0.9636363636363636\n",
            "Iteration 56 : Selected Features: 27 / 30 Fitness: 0.9636363636363636\n",
            "Iteration 57 : Selected Features: 27 / 30 Fitness: 0.9636363636363636\n",
            "Iteration 58 : Selected Features: 27 / 30 Fitness: 0.9636363636363636\n",
            "Iteration 59 : Selected Features: 27 / 30 Fitness: 0.9636363636363636\n",
            "Iteration 60 : Selected Features: 27 / 30 Fitness: 0.9636363636363636\n",
            "Iteration 61 : Selected Features: 27 / 30 Fitness: 0.9636363636363636\n",
            "Iteration 62 : Selected Features: 27 / 30 Fitness: 0.9636363636363636\n",
            "Iteration 63 : Selected Features: 27 / 30 Fitness: 0.9636363636363636\n",
            "Iteration 64 : Selected Features: 27 / 30 Fitness: 0.9636363636363636\n",
            "Iteration 65 : Selected Features: 27 / 30 Fitness: 0.9636363636363636\n",
            "Iteration 66 : Selected Features: 27 / 30 Fitness: 0.9636363636363636\n",
            "Iteration 67 : Selected Features: 27 / 30 Fitness: 0.9636363636363636\n",
            "Iteration 68 : Selected Features: 27 / 30 Fitness: 0.9636363636363636\n",
            "Iteration 69 : Selected Features: 27 / 30 Fitness: 0.9636363636363636\n",
            "Iteration 70 : Selected Features: 27 / 30 Fitness: 0.9636363636363636\n",
            "Iteration 71 : Selected Features: 27 / 30 Fitness: 0.9636363636363636\n",
            "Iteration 72 : Selected Features: 27 / 30 Fitness: 0.9636363636363636\n",
            "Iteration 73 : Selected Features: 27 / 30 Fitness: 0.9636363636363636\n",
            "Iteration 74 : Selected Features: 27 / 30 Fitness: 0.9636363636363636\n",
            "Iteration 75 : Selected Features: 27 / 30 Fitness: 0.9636363636363636\n",
            "Iteration 76 : Selected Features: 27 / 30 Fitness: 0.9636363636363636\n",
            "Iteration 77 : Selected Features: 27 / 30 Fitness: 0.9636363636363636\n",
            "Iteration 78 : Selected Features: 27 / 30 Fitness: 0.9636363636363636\n",
            "Iteration 79 : Selected Features: 27 / 30 Fitness: 0.9636363636363636\n",
            "Iteration 80 : Selected Features: 27 / 30 Fitness: 0.9636363636363636\n",
            "Iteration 81 : Selected Features: 27 / 30 Fitness: 0.9636363636363636\n",
            "Iteration 82 : Selected Features: 27 / 30 Fitness: 0.9636363636363636\n",
            "Iteration 83 : Selected Features: 27 / 30 Fitness: 0.9636363636363636\n",
            "Iteration 84 : Selected Features: 27 / 30 Fitness: 0.9636363636363636\n",
            "Iteration 85 : Selected Features: 27 / 30 Fitness: 0.9636363636363636\n",
            "Iteration 86 : Selected Features: 27 / 30 Fitness: 0.9636363636363636\n",
            "Iteration 87 : Selected Features: 27 / 30 Fitness: 0.9636363636363636\n",
            "Iteration 88 : Selected Features: 27 / 30 Fitness: 0.9636363636363636\n",
            "Iteration 89 : Selected Features: 27 / 30 Fitness: 0.9636363636363636\n",
            "Iteration 90 : Selected Features: 27 / 30 Fitness: 0.9636363636363636\n",
            "Iteration 91 : Selected Features: 27 / 30 Fitness: 0.9636363636363636\n",
            "Iteration 92 : Selected Features: 27 / 30 Fitness: 0.9636363636363636\n",
            "Iteration 93 : Selected Features: 27 / 30 Fitness: 0.9636363636363636\n",
            "Iteration 94 : Selected Features: 27 / 30 Fitness: 0.9636363636363636\n",
            "Iteration 95 : Selected Features: 27 / 30 Fitness: 0.9636363636363636\n",
            "Iteration 96 : Selected Features: 27 / 30 Fitness: 0.9636363636363636\n",
            "Iteration 97 : Selected Features: 27 / 30 Fitness: 0.9636363636363636\n",
            "Iteration 98 : Selected Features: 27 / 30 Fitness: 0.9636363636363636\n",
            "Iteration 99 : Selected Features: 27 / 30 Fitness: 0.9636363636363636\n"
          ]
        }
      ],
      "source": [
        "number_of_iterations = 100\n",
        "best_subset = localSearchFeatureSelection(X_train, y_train, model, all_features, number_of_iterations)"
      ]
    },
    {
      "cell_type": "markdown",
      "metadata": {
        "id": "VeVhazn-Phlf"
      },
      "source": [
        "Did this method find a better scoring feature subset? How many features did it remove? Try run it all again to see if you get the same results - as this has a random element, we can never be sure of getting the same results each time! **(Remember that you will need to run the cell which resets the 'all_features' list to all True)**"
      ]
    },
    {
      "cell_type": "markdown",
      "metadata": {
        "id": "HnAgrlLkPhlf"
      },
      "source": [
        "Recently, Scikit Learn has been updated to include wrapper methods - but are not yet available (when this project was released) with Anaconda.\n",
        "\n",
        "One of these methods is Sequential Forward Selection - this iterative process tries creating a seperate model for every potential feature. It then tests each, and selects the best. It then creates every possible pair of features that include the best feature, trains seperate models for each pair, testing and choosing the best pair. It then creates every possible thruple that contain the best couple, and tests and selects the best thruple. It continues doing this to find the desired number of features.\n",
        "\n",
        "As you can imagine, this is a computationally expensive process, but often provides good results. In order to learn more or try it, visit this page https://scikit-learn.org/stable/modules/generated/sklearn.feature_selection.SequentialFeatureSelector.html."
      ]
    }
  ],
  "metadata": {
    "kernelspec": {
      "display_name": "Python 3 (ipykernel)",
      "language": "python",
      "name": "python3"
    },
    "language_info": {
      "codemirror_mode": {
        "name": "ipython",
        "version": 3
      },
      "file_extension": ".py",
      "mimetype": "text/x-python",
      "name": "python",
      "nbconvert_exporter": "python",
      "pygments_lexer": "ipython3",
      "version": "3.9.7"
    },
    "colab": {
      "provenance": [],
      "include_colab_link": true
    }
  },
  "nbformat": 4,
  "nbformat_minor": 0
}