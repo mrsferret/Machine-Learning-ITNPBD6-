{
  "cells": [
    {
      "cell_type": "markdown",
      "metadata": {
        "id": "view-in-github",
        "colab_type": "text"
      },
      "source": [
        "<a href=\"https://colab.research.google.com/github/mrsferret/Machine-Learning-ITNPBD6-/blob/main/ExerciseSession1.ipynb\" target=\"_parent\"><img src=\"https://colab.research.google.com/assets/colab-badge.svg\" alt=\"Open In Colab\"/></a>"
      ]
    },
    {
      "cell_type": "markdown",
      "metadata": {
        "id": "lpdyqpMBnKox"
      },
      "source": [
        "# Practical 1a\n",
        "\n",
        "# Introduction and Importing Data\n",
        "In the Python exercises we'll look at a powerful, and well-known, Python library called scikit-learn. This is accessed programmatically using Python code, so has a steeper learning curve than Orange's GUI-driven approach, but is more flexible and powerful. Orange actually makes use of this library for some of its modelling; Orange can also be called programmatically via an API, but scikit-learn is very popular and worth knowing about in its own right.\n",
        "\n",
        "In this exercise, we'll load the data, plot the distributions and try cleaning the data. You might have already done this in Orange and, if so, we're now repeating the same process using the same motor premiums data in Python, but the practical should work equally well on its own.\n",
        "\n",
        "A lot of code is already provided for you so you can see what to do. Click on a cell, then control+enter will run it. At various points we'll ask you to enter some additional code, usually a modification of what you've already seen: you can do this by typing within the existing cells or by adding new ones by clicking the + icon at the top of the screen."
      ]
    },
    {
      "cell_type": "markdown",
      "metadata": {
        "id": "pzY31IpVnKoy"
      },
      "source": [
        "# Check the Data\n",
        "You can skip this if you already did the exercise in Orange.\n",
        "\n",
        "Before we go anywhere near any data mining tools, let’s take a look at our data in its raw form. Browse to the local folder where you have saved these files. Double click on MotorPremiums.csv - by default it should open up in Excel.\n",
        "\n",
        "Scroll through the data. You can see that there are twelve columns; the first row identifies what each column contains. How many rows of data are there (that is, how many instances do we have?)  What types of data can you see?"
      ]
    },
    {
      "cell_type": "markdown",
      "metadata": {
        "id": "ImqH7ONlnKoy"
      },
      "source": [
        "# First Code\n",
        "Now let's get started with Python.\n",
        "\n",
        "scikit-learn uses pandas and numpy objects to contain the raw data, so we'll begin by importing them and loading the data..."
      ]
    },
    {
      "cell_type": "code",
      "execution_count": null,
      "metadata": {
        "id": "1Y5UtceWnKoz"
      },
      "outputs": [],
      "source": [
        "import pandas as pd\n",
        "import numpy as np\n",
        "\n",
        "# remember to change this path if you've saved the data somewhere else\n",
        "df=pd.read_csv(\"MotorPremiums.csv\")"
      ]
    },
    {
      "cell_type": "markdown",
      "metadata": {
        "id": "lWRbBCbTnKoz"
      },
      "source": [
        "Let's take a look at the data before doing anything else...\n",
        "\n",
        "* How many rows (instances) are there in the data?\n",
        "* How many columns (variables) are there?\n",
        "\n",
        "We can find out these like this:"
      ]
    },
    {
      "cell_type": "code",
      "execution_count": null,
      "metadata": {
        "id": "PiEvINunnKoz",
        "outputId": "31c4b7f6-678a-41c6-e337-56e79af24561"
      },
      "outputs": [
        {
          "data": {
            "text/plain": [
              "(4387, 12)"
            ]
          },
          "execution_count": 3,
          "metadata": {},
          "output_type": "execute_result"
        }
      ],
      "source": [
        "df.shape"
      ]
    },
    {
      "cell_type": "markdown",
      "metadata": {
        "id": "sKmgqja8nKo0"
      },
      "source": [
        "These values are the number of rows and columns respectively. Do they match what you saw in Excel? (and in Orange if you tried that?)\n",
        "\n",
        "It's also helpful to take a look at the first few rows of the data, which we can do like this:"
      ]
    },
    {
      "cell_type": "code",
      "execution_count": null,
      "metadata": {
        "id": "hBIIEByanKo0",
        "outputId": "1cd3ec6f-3151-4e3c-b6e0-7dabe094d8f8"
      },
      "outputs": [
        {
          "data": {
            "text/html": [
              "<div>\n",
              "<style scoped>\n",
              "    .dataframe tbody tr th:only-of-type {\n",
              "        vertical-align: middle;\n",
              "    }\n",
              "\n",
              "    .dataframe tbody tr th {\n",
              "        vertical-align: top;\n",
              "    }\n",
              "\n",
              "    .dataframe thead th {\n",
              "        text-align: right;\n",
              "    }\n",
              "</style>\n",
              "<table border=\"1\" class=\"dataframe\">\n",
              "  <thead>\n",
              "    <tr style=\"text-align: right;\">\n",
              "      <th></th>\n",
              "      <th>ID</th>\n",
              "      <th>Age</th>\n",
              "      <th>Gender</th>\n",
              "      <th>LicenceCountry</th>\n",
              "      <th>Yrs DL</th>\n",
              "      <th>Points</th>\n",
              "      <th>NCD</th>\n",
              "      <th>Engine cc</th>\n",
              "      <th>Ins Group</th>\n",
              "      <th>Stored</th>\n",
              "      <th>Car Age</th>\n",
              "      <th>Premium</th>\n",
              "    </tr>\n",
              "  </thead>\n",
              "  <tbody>\n",
              "    <tr>\n",
              "      <th>0</th>\n",
              "      <td>B69193007</td>\n",
              "      <td>52</td>\n",
              "      <td>M</td>\n",
              "      <td>UK</td>\n",
              "      <td>16</td>\n",
              "      <td>0</td>\n",
              "      <td>0</td>\n",
              "      <td>1200</td>\n",
              "      <td>4</td>\n",
              "      <td>Garage</td>\n",
              "      <td>2</td>\n",
              "      <td>195.32</td>\n",
              "    </tr>\n",
              "    <tr>\n",
              "      <th>1</th>\n",
              "      <td>B58763002</td>\n",
              "      <td>46</td>\n",
              "      <td>F</td>\n",
              "      <td>UK</td>\n",
              "      <td>22</td>\n",
              "      <td>8</td>\n",
              "      <td>1</td>\n",
              "      <td>1400</td>\n",
              "      <td>2</td>\n",
              "      <td>Garage</td>\n",
              "      <td>7</td>\n",
              "      <td>225.09</td>\n",
              "    </tr>\n",
              "    <tr>\n",
              "      <th>2</th>\n",
              "      <td>A57010377</td>\n",
              "      <td>59</td>\n",
              "      <td>F</td>\n",
              "      <td>UK</td>\n",
              "      <td>9</td>\n",
              "      <td>0</td>\n",
              "      <td>0</td>\n",
              "      <td>1400</td>\n",
              "      <td>5</td>\n",
              "      <td>Garage</td>\n",
              "      <td>14</td>\n",
              "      <td>201.08</td>\n",
              "    </tr>\n",
              "    <tr>\n",
              "      <th>3</th>\n",
              "      <td>B61470950</td>\n",
              "      <td>62</td>\n",
              "      <td>M</td>\n",
              "      <td>UK</td>\n",
              "      <td>35</td>\n",
              "      <td>0</td>\n",
              "      <td>0</td>\n",
              "      <td>1400</td>\n",
              "      <td>4</td>\n",
              "      <td>0</td>\n",
              "      <td>12</td>\n",
              "      <td>211.76</td>\n",
              "    </tr>\n",
              "    <tr>\n",
              "      <th>4</th>\n",
              "      <td>B43586226</td>\n",
              "      <td>59</td>\n",
              "      <td>F</td>\n",
              "      <td>UK</td>\n",
              "      <td>3</td>\n",
              "      <td>0</td>\n",
              "      <td>4</td>\n",
              "      <td>1400</td>\n",
              "      <td>5</td>\n",
              "      <td>Road</td>\n",
              "      <td>13</td>\n",
              "      <td>251.49</td>\n",
              "    </tr>\n",
              "  </tbody>\n",
              "</table>\n",
              "</div>"
            ],
            "text/plain": [
              "          ID  Age Gender LicenceCountry  Yrs DL  Points  NCD  Engine cc  \\\n",
              "0  B69193007   52      M             UK      16       0    0       1200   \n",
              "1  B58763002   46      F             UK      22       8    1       1400   \n",
              "2  A57010377   59      F             UK       9       0    0       1400   \n",
              "3  B61470950   62      M             UK      35       0    0       1400   \n",
              "4  B43586226   59      F             UK       3       0    4       1400   \n",
              "\n",
              "   Ins Group  Stored  Car Age  Premium  \n",
              "0          4  Garage        2   195.32  \n",
              "1          2  Garage        7   225.09  \n",
              "2          5  Garage       14   201.08  \n",
              "3          4       0       12   211.76  \n",
              "4          5    Road       13   251.49  "
            ]
          },
          "execution_count": 3,
          "metadata": {},
          "output_type": "execute_result"
        }
      ],
      "source": [
        "df.head()"
      ]
    },
    {
      "cell_type": "markdown",
      "metadata": {
        "id": "a5H6BJpJnKo0"
      },
      "source": [
        "You can also type \"df\" on its own to see the first and last few rows.\n",
        "\n",
        "One more useful command is describe, which will give us summary statistics on each of the columns and can be useful for spotting any issues early on. (\"include=all\" is needed to include all columns, otherwise we'll just get stats for numeric ones)"
      ]
    },
    {
      "cell_type": "code",
      "execution_count": null,
      "metadata": {
        "id": "L0mh23gbnKo0",
        "outputId": "c14fed8b-99fa-42cb-ba69-559eca61b76a"
      },
      "outputs": [
        {
          "data": {
            "text/html": [
              "<div>\n",
              "<style scoped>\n",
              "    .dataframe tbody tr th:only-of-type {\n",
              "        vertical-align: middle;\n",
              "    }\n",
              "\n",
              "    .dataframe tbody tr th {\n",
              "        vertical-align: top;\n",
              "    }\n",
              "\n",
              "    .dataframe thead th {\n",
              "        text-align: right;\n",
              "    }\n",
              "</style>\n",
              "<table border=\"1\" class=\"dataframe\">\n",
              "  <thead>\n",
              "    <tr style=\"text-align: right;\">\n",
              "      <th></th>\n",
              "      <th>ID</th>\n",
              "      <th>Age</th>\n",
              "      <th>Gender</th>\n",
              "      <th>LicenceCountry</th>\n",
              "      <th>Yrs DL</th>\n",
              "      <th>Points</th>\n",
              "      <th>NCD</th>\n",
              "      <th>Engine cc</th>\n",
              "      <th>Ins Group</th>\n",
              "      <th>Stored</th>\n",
              "      <th>Car Age</th>\n",
              "      <th>Premium</th>\n",
              "    </tr>\n",
              "  </thead>\n",
              "  <tbody>\n",
              "    <tr>\n",
              "      <th>count</th>\n",
              "      <td>4387</td>\n",
              "      <td>4387.000000</td>\n",
              "      <td>4387</td>\n",
              "      <td>4387</td>\n",
              "      <td>4387.000000</td>\n",
              "      <td>4387.000000</td>\n",
              "      <td>4387.000000</td>\n",
              "      <td>4387.000000</td>\n",
              "      <td>4387.000000</td>\n",
              "      <td>4387</td>\n",
              "      <td>4387.000000</td>\n",
              "      <td>4387.000000</td>\n",
              "    </tr>\n",
              "    <tr>\n",
              "      <th>unique</th>\n",
              "      <td>4387</td>\n",
              "      <td>NaN</td>\n",
              "      <td>4</td>\n",
              "      <td>3</td>\n",
              "      <td>NaN</td>\n",
              "      <td>NaN</td>\n",
              "      <td>NaN</td>\n",
              "      <td>NaN</td>\n",
              "      <td>NaN</td>\n",
              "      <td>4</td>\n",
              "      <td>NaN</td>\n",
              "      <td>NaN</td>\n",
              "    </tr>\n",
              "    <tr>\n",
              "      <th>top</th>\n",
              "      <td>B69193007</td>\n",
              "      <td>NaN</td>\n",
              "      <td>M</td>\n",
              "      <td>UK</td>\n",
              "      <td>NaN</td>\n",
              "      <td>NaN</td>\n",
              "      <td>NaN</td>\n",
              "      <td>NaN</td>\n",
              "      <td>NaN</td>\n",
              "      <td>Garage</td>\n",
              "      <td>NaN</td>\n",
              "      <td>NaN</td>\n",
              "    </tr>\n",
              "    <tr>\n",
              "      <th>freq</th>\n",
              "      <td>1</td>\n",
              "      <td>NaN</td>\n",
              "      <td>2232</td>\n",
              "      <td>4380</td>\n",
              "      <td>NaN</td>\n",
              "      <td>NaN</td>\n",
              "      <td>NaN</td>\n",
              "      <td>NaN</td>\n",
              "      <td>NaN</td>\n",
              "      <td>3057</td>\n",
              "      <td>NaN</td>\n",
              "      <td>NaN</td>\n",
              "    </tr>\n",
              "    <tr>\n",
              "      <th>mean</th>\n",
              "      <td>NaN</td>\n",
              "      <td>49.435605</td>\n",
              "      <td>NaN</td>\n",
              "      <td>NaN</td>\n",
              "      <td>16.537041</td>\n",
              "      <td>0.813312</td>\n",
              "      <td>2.038067</td>\n",
              "      <td>1374.470025</td>\n",
              "      <td>4.306816</td>\n",
              "      <td>NaN</td>\n",
              "      <td>5.903579</td>\n",
              "      <td>220.793829</td>\n",
              "    </tr>\n",
              "    <tr>\n",
              "      <th>std</th>\n",
              "      <td>NaN</td>\n",
              "      <td>18.037774</td>\n",
              "      <td>NaN</td>\n",
              "      <td>NaN</td>\n",
              "      <td>13.758559</td>\n",
              "      <td>2.179899</td>\n",
              "      <td>1.424706</td>\n",
              "      <td>214.020981</td>\n",
              "      <td>1.501104</td>\n",
              "      <td>NaN</td>\n",
              "      <td>5.106129</td>\n",
              "      <td>22.207691</td>\n",
              "    </tr>\n",
              "    <tr>\n",
              "      <th>min</th>\n",
              "      <td>NaN</td>\n",
              "      <td>18.000000</td>\n",
              "      <td>NaN</td>\n",
              "      <td>NaN</td>\n",
              "      <td>1.000000</td>\n",
              "      <td>0.000000</td>\n",
              "      <td>0.000000</td>\n",
              "      <td>1200.000000</td>\n",
              "      <td>2.000000</td>\n",
              "      <td>NaN</td>\n",
              "      <td>1.000000</td>\n",
              "      <td>154.220000</td>\n",
              "    </tr>\n",
              "    <tr>\n",
              "      <th>25%</th>\n",
              "      <td>NaN</td>\n",
              "      <td>34.000000</td>\n",
              "      <td>NaN</td>\n",
              "      <td>NaN</td>\n",
              "      <td>5.000000</td>\n",
              "      <td>0.000000</td>\n",
              "      <td>1.000000</td>\n",
              "      <td>1200.000000</td>\n",
              "      <td>3.000000</td>\n",
              "      <td>NaN</td>\n",
              "      <td>2.000000</td>\n",
              "      <td>204.810000</td>\n",
              "    </tr>\n",
              "    <tr>\n",
              "      <th>50%</th>\n",
              "      <td>NaN</td>\n",
              "      <td>50.000000</td>\n",
              "      <td>NaN</td>\n",
              "      <td>NaN</td>\n",
              "      <td>13.000000</td>\n",
              "      <td>0.000000</td>\n",
              "      <td>2.000000</td>\n",
              "      <td>1400.000000</td>\n",
              "      <td>4.000000</td>\n",
              "      <td>NaN</td>\n",
              "      <td>4.000000</td>\n",
              "      <td>220.890000</td>\n",
              "    </tr>\n",
              "    <tr>\n",
              "      <th>75%</th>\n",
              "      <td>NaN</td>\n",
              "      <td>65.000000</td>\n",
              "      <td>NaN</td>\n",
              "      <td>NaN</td>\n",
              "      <td>25.000000</td>\n",
              "      <td>0.000000</td>\n",
              "      <td>3.000000</td>\n",
              "      <td>1400.000000</td>\n",
              "      <td>6.000000</td>\n",
              "      <td>NaN</td>\n",
              "      <td>9.000000</td>\n",
              "      <td>235.960000</td>\n",
              "    </tr>\n",
              "    <tr>\n",
              "      <th>max</th>\n",
              "      <td>NaN</td>\n",
              "      <td>80.000000</td>\n",
              "      <td>NaN</td>\n",
              "      <td>NaN</td>\n",
              "      <td>63.000000</td>\n",
              "      <td>8.000000</td>\n",
              "      <td>4.000000</td>\n",
              "      <td>3800.000000</td>\n",
              "      <td>8.000000</td>\n",
              "      <td>NaN</td>\n",
              "      <td>20.000000</td>\n",
              "      <td>306.070000</td>\n",
              "    </tr>\n",
              "  </tbody>\n",
              "</table>\n",
              "</div>"
            ],
            "text/plain": [
              "               ID          Age Gender LicenceCountry       Yrs DL  \\\n",
              "count        4387  4387.000000   4387           4387  4387.000000   \n",
              "unique       4387          NaN      4              3          NaN   \n",
              "top     B69193007          NaN      M             UK          NaN   \n",
              "freq            1          NaN   2232           4380          NaN   \n",
              "mean          NaN    49.435605    NaN            NaN    16.537041   \n",
              "std           NaN    18.037774    NaN            NaN    13.758559   \n",
              "min           NaN    18.000000    NaN            NaN     1.000000   \n",
              "25%           NaN    34.000000    NaN            NaN     5.000000   \n",
              "50%           NaN    50.000000    NaN            NaN    13.000000   \n",
              "75%           NaN    65.000000    NaN            NaN    25.000000   \n",
              "max           NaN    80.000000    NaN            NaN    63.000000   \n",
              "\n",
              "             Points          NCD    Engine cc    Ins Group  Stored  \\\n",
              "count   4387.000000  4387.000000  4387.000000  4387.000000    4387   \n",
              "unique          NaN          NaN          NaN          NaN       4   \n",
              "top             NaN          NaN          NaN          NaN  Garage   \n",
              "freq            NaN          NaN          NaN          NaN    3057   \n",
              "mean       0.813312     2.038067  1374.470025     4.306816     NaN   \n",
              "std        2.179899     1.424706   214.020981     1.501104     NaN   \n",
              "min        0.000000     0.000000  1200.000000     2.000000     NaN   \n",
              "25%        0.000000     1.000000  1200.000000     3.000000     NaN   \n",
              "50%        0.000000     2.000000  1400.000000     4.000000     NaN   \n",
              "75%        0.000000     3.000000  1400.000000     6.000000     NaN   \n",
              "max        8.000000     4.000000  3800.000000     8.000000     NaN   \n",
              "\n",
              "            Car Age      Premium  \n",
              "count   4387.000000  4387.000000  \n",
              "unique          NaN          NaN  \n",
              "top             NaN          NaN  \n",
              "freq            NaN          NaN  \n",
              "mean       5.903579   220.793829  \n",
              "std        5.106129    22.207691  \n",
              "min        1.000000   154.220000  \n",
              "25%        2.000000   204.810000  \n",
              "50%        4.000000   220.890000  \n",
              "75%        9.000000   235.960000  \n",
              "max       20.000000   306.070000  "
            ]
          },
          "execution_count": 4,
          "metadata": {},
          "output_type": "execute_result"
        }
      ],
      "source": [
        "df.describe(include=\"all\")"
      ]
    },
    {
      "cell_type": "markdown",
      "metadata": {
        "id": "aJJo_6nqnKo0"
      },
      "source": [
        "This data set is (despite the errors you know about!) nice and clean. Many real-world data sets have missing or outlier values, duplicates, corrupted strings or some other noise that can cause trouble for our models. We'll have a brief look at data cleaning in this exercise but when you've completed the exercise it would be worth doing some further reading on approaches to cleaning data in Python (building on what you learned in ITNPBD2 if you were on that module). A few good guides are:\n",
        "\n",
        "Brief overview: (https://towardsdatascience.com/practical-guide-to-data-cleaning-in-python-f5334320e8e)\n",
        "Slightly longer overview: (https://www.oreilly.com/library/view/machine-learning-with/9781491989371/ch04.html)\n",
        "\n",
        "\n",
        "Detailed, wide+flat variables, and duplicates: (https://machinelearningmastery.com/basic-data-cleaning-for-machine-learning/)\n",
        "Detailed, outliers: (https://machinelearningmastery.com/how-to-use-statistics-to-identify-outliers-in-data/)\n",
        "Detailed, handling missing values: (https://machinelearningmastery.com/knn-imputation-for-missing-values-in-machine-learning/)\n",
        "Detailed, scaling and normalising: (https://machinelearningmastery.com/prepare-data-machine-learning-python-scikit-learn/)\n",
        "\n",
        "\n",
        "As well as the scikit-learn documentation on preprocessing: (https://scikit-learn.org/stable/modules/preprocessing.html)"
      ]
    },
    {
      "cell_type": "markdown",
      "metadata": {
        "id": "jJnaLYq_nKo1"
      },
      "source": [
        "# Variables and Types\n",
        "Now we'll list the types of the columns..."
      ]
    },
    {
      "cell_type": "code",
      "execution_count": null,
      "metadata": {
        "id": "jfGiQWi-nKo1",
        "outputId": "91c7891a-df29-4ae0-c16c-0396d91842c4"
      },
      "outputs": [
        {
          "data": {
            "text/plain": [
              "ID                 object\n",
              "Age                 int64\n",
              "Gender             object\n",
              "LicenceCountry     object\n",
              "Yrs DL              int64\n",
              "Points              int64\n",
              "NCD                 int64\n",
              "Engine cc           int64\n",
              "Ins Group           int64\n",
              "Stored             object\n",
              "Car Age             int64\n",
              "Premium           float64\n",
              "dtype: object"
            ]
          },
          "execution_count": 5,
          "metadata": {},
          "output_type": "execute_result"
        }
      ],
      "source": [
        "df.dtypes"
      ]
    },
    {
      "cell_type": "markdown",
      "metadata": {
        "id": "gRGRsbtVnKo1"
      },
      "source": [
        "Not quite as user friendly as Orange! However, it should be clear that the Pandas library has made a distinction between the two numeric types. int64 is an integer (discrete) and float64 is a floating point number (continuous). object is a categorical variable.\n",
        "\n",
        "Now, take a look at each variable in turn. Do you agree with the assignment of categorical or numeric that Orange made? Add to your notes:\n",
        "\n",
        "* For the numeric variables, which are continuous and which are discrete?\n",
        "* For the categorical variables, which are nominal and which are ordinal?\n",
        "\n",
        "Are any of the types or sub-types not present? If so, can you think of an example of a car-related variable that would be in that type?\n",
        "\n",
        "Could any of the variables arguably be considered as more than one type?"
      ]
    },
    {
      "cell_type": "markdown",
      "metadata": {
        "id": "HCI9FtyfnKo1"
      },
      "source": [
        "\n",
        "| Col            | Type    | Orange      |            |\n",
        "|----------------|---------|-------------|------------|\n",
        "| ID             | object  | text        | nominal    |\n",
        "| Age            | int64   | numeric     | continuous |\n",
        "| Gender         | object  | categorical | nominal    |\n",
        "| LicenceCountry | object  | categorical | nominal    |\n",
        "| Yrs DL         | int64   | numeric     | discrete   |\n",
        "| Points         | int64   | numeric     | discrete   |\n",
        "| Engine cc      | int64   | numeric     | discrete   |\n",
        "| Ins Group      | int64   | numeric     | discrete   |\n",
        "| Stored         | object  | categorical | nominal    |\n",
        "| Car Age        | int64   | numeric     | discrete   |\n",
        "| Premium        | float64 | numeric     | continuous |\n",
        "\n",
        " Yrs DL, Car e, Yrs DL - depending on context these could either be considered discrete o\n",
        "\n",
        "\n",
        " An example of a nominal car-related variable could be fuel efficiency rating eg. poor, fair, good, excellentr cr, fair, good, excellentriumeric     |  |type: object"
      ]
    },
    {
      "cell_type": "markdown",
      "metadata": {
        "id": "BLIGza4fnKo1"
      },
      "source": [
        "# Distributions\n",
        "Let's plot the distributions of our data..."
      ]
    },
    {
      "cell_type": "code",
      "execution_count": null,
      "metadata": {
        "scrolled": true,
        "id": "mDnsHRrunKo1",
        "outputId": "035c097c-9812-4937-aebc-0b676b34117f"
      },
      "outputs": [
        {
          "data": {
            "text/plain": [
              "array([[<Axes: title={'center': 'Age'}>,\n",
              "        <Axes: title={'center': 'Yrs DL'}>,\n",
              "        <Axes: title={'center': 'Points'}>],\n",
              "       [<Axes: title={'center': 'NCD'}>,\n",
              "        <Axes: title={'center': 'Engine cc'}>,\n",
              "        <Axes: title={'center': 'Ins Group'}>],\n",
              "       [<Axes: title={'center': 'Car Age'}>,\n",
              "        <Axes: title={'center': 'Premium'}>, <Axes: >]], dtype=object)"
            ]
          },
          "execution_count": 5,
          "metadata": {},
          "output_type": "execute_result"
        },
        {
          "data": {
            "image/png": "[encoded data removed]",
            "text/plain": [
              "<Figure size 1500x2000 with 9 Axes>"
            ]
          },
          "metadata": {},
          "output_type": "display_data"
        }
      ],
      "source": [
        "df.hist(figsize = (15,20))"
      ]
    },
    {
      "cell_type": "markdown",
      "metadata": {
        "id": "r2949SDYnKo1"
      },
      "source": [
        "Lets try changing the bin size for Age"
      ]
    },
    {
      "cell_type": "markdown",
      "metadata": {
        "id": "mV0EpXEonKo1"
      },
      "source": [
        "We are missing some variables...\n",
        "\n",
        "Those are the non-numeric ones: ID; Gender; LicenceCountry and Stored. There's not really an easy way to handle these, so we'll try a bar plot one at a time for them.\n",
        "\n",
        "NOTE this will take around a minute to run because of the first variable, so be patient."
      ]
    },
    {
      "cell_type": "code",
      "execution_count": null,
      "metadata": {
        "id": "dztFgARcnKo2",
        "outputId": "3ad1df97-d502-4d67-d743-f4b0385539d7"
      },
      "outputs": [
        {
          "name": "stdout",
          "output_type": "stream",
          "text": [
            "ID\n"
          ]
        },
        {
          "data": {
            "image/png": "[encoded data removed]",
            "text/plain": [
              "<Figure size 640x480 with 1 Axes>"
            ]
          },
          "metadata": {},
          "output_type": "display_data"
        },
        {
          "name": "stdout",
          "output_type": "stream",
          "text": [
            "Gender\n"
          ]
        },
        {
          "data": {
            "image/png": "[encoded data removed]",
            "text/plain": [
              "<Figure size 640x480 with 1 Axes>"
            ]
          },
          "metadata": {},
          "output_type": "display_data"
        },
        {
          "name": "stdout",
          "output_type": "stream",
          "text": [
            "LicenceCountry\n"
          ]
        },
        {
          "data": {
            "image/png": "[encoded data removed]",
            "text/plain": [
              "<Figure size 640x480 with 1 Axes>"
            ]
          },
          "metadata": {},
          "output_type": "display_data"
        },
        {
          "name": "stdout",
          "output_type": "stream",
          "text": [
            "Stored\n"
          ]
        },
        {
          "data": {
            "image/png": "[encoded data removed]",
            "text/plain": [
              "<Figure size 640x480 with 1 Axes>"
            ]
          },
          "metadata": {},
          "output_type": "display_data"
        }
      ],
      "source": [
        "# this will make a bar plot for one variable...\n",
        "#df['Gender'].value_counts().plot(kind='bar')\n",
        "\n",
        "# this will list the non-numeric columns...\n",
        "#df.select_dtypes(include=object)\n",
        "\n",
        "# so loop over all of them; count each unique value, and plot...\n",
        "\n",
        "# import matplot lib (library to do the plotting)\n",
        "import matplotlib.pyplot as plt\n",
        "\n",
        "# this will repeat the following steps for each column of type \"object\"\n",
        "# that is, the non-numeric columns\n",
        "# each time around, the column we're looking at is stored in \"col\"\n",
        "for col in df.select_dtypes(include=object).columns:\n",
        "    # print the name of the column\n",
        "    print(col)\n",
        "\n",
        "    # df[col].value_counts() gives us a pandas \"series\" which shows the count of each value\n",
        "    # appearing in the column. Read about pandas series here:\n",
        "    # https://pandas.pydata.org/pandas-docs/stable/reference/series.html\n",
        "    # \"series\" gives us a function \"plot()\" that will make a plot of the values in the series\n",
        "    df[col].value_counts().plot(kind='bar')\n",
        "\n",
        "    # display the plot\n",
        "    plt.show()"
      ]
    },
    {
      "cell_type": "markdown",
      "metadata": {
        "id": "eDA5pKgJnKo2"
      },
      "source": [
        "We can clearly see the minority values; there's also a 0 that is probably a missing value. ID is also clearly flat and wide, so we'll be dropping that when we move to modelling.\n",
        "\n",
        "Look at each variable in turn. For each one:\n",
        "\n",
        "- Is there an obvious trend or a shape to the distribution?\n",
        "- Are any of the variables following a normal or uniform distribution?\n",
        "- Given the trend, might this variable be suitable for modelling? (there are no right/wrong answers to this question at this stage)\n",
        "- For numeric variables, try changing the number of bins or the bin width: too many or too few bins and it might be hard to see the trend, so where is the ideal number? Think about this especially for the Age variable.  (you'll need to look up how to do this. hint: as a starter, look at the Pandas documentation [here](https://pandas.pydata.org/docs/reference/api/pandas.DataFrame.hist.html) )\n",
        "- Can you see anything else odd or noteworthy about the variables?\n",
        "\n",
        "\n",
        "\n",
        "You've now completed practical 1a. We’ll come back to this again in the next exercise when we start to fix errors and clean the data.\n"
      ]
    },
    {
      "cell_type": "code",
      "execution_count": null,
      "metadata": {
        "id": "ppPDsG8SnKo2",
        "outputId": "1b7c23ed-0ae2-4d91-cc88-bfa5556d7510"
      },
      "outputs": [
        {
          "data": {
            "text/plain": [
              "array([[<Axes: title={'center': 'Age'}>]], dtype=object)"
            ]
          },
          "execution_count": 13,
          "metadata": {},
          "output_type": "execute_result"
        },
        {
          "data": {
            "image/png": "[encoded data removed]",
            "text/plain": [
              "<Figure size 640x480 with 1 Axes>"
            ]
          },
          "metadata": {},
          "output_type": "display_data"
        },
        {
          "data": {
            "image/png": "[encoded data removed]",
            "text/plain": [
              "<Figure size 640x480 with 1 Axes>"
            ]
          },
          "metadata": {},
          "output_type": "display_data"
        },
        {
          "data": {
            "image/png": "[encoded data removed]",
            "text/plain": [
              "<Figure size 640x480 with 1 Axes>"
            ]
          },
          "metadata": {},
          "output_type": "display_data"
        }
      ],
      "source": [
        "df.hist(column='Age', bins=15)\n",
        "\n",
        "df.hist(column='Age', bins=[10,20,30,40,50,60,70,80])\n",
        "\n",
        "df.hist(column='Age', bins=[5,10,15,20,25,30,35,40,45,50,55,60,65,70,75,80])\n",
        "\n"
      ]
    },
    {
      "cell_type": "markdown",
      "metadata": {
        "id": "Upzct6gTnKo2"
      },
      "source": [
        " Is there an obvious trend or a shape to the distribution?\n",
        "- Are any of the variables following a normal or uniform distribution?\n",
        "Of all the variables, only Premium indicates a normal distribution\n",
        "- Given the trend, might this variable be suitable for modelling? (there are no right/wrong answers to this question at this stage)\n",
        "- For numeric variables, try changing the number of bins or the bin width: too many or too few bins and it might be hard to see the trend, so where is the ideal number? Think about this especially for the Age variable.  (you'll need to look up how to do this. hint: as a starter, look at the Pandas documentation [here](https://pandas.pydata.org/docs/reference/api/pandas.DataFrame.hist.html) )\n",
        "- Can you see anything else odd or noteworthy about the variables?"
      ]
    },
    {
      "cell_type": "markdown",
      "metadata": {
        "id": "Y6vOpkW4nKo2"
      },
      "source": [
        "# Practical 1b\n",
        "\n",
        "\n",
        "# Data cleaning\n",
        "\n",
        "Go back to the Distributions above, and look at each variable in turn. Make a note of the variables that show the characteristics listed below (you’ll discuss these later with your syndicate group):\n",
        "\n",
        "* Outliers\n",
        "* Minority Values\n",
        "* Large Majority Values\n",
        "* Flat and Wide\n",
        "\n",
        "Are any of the above characteristics likely to be errors in the data?\n",
        "\n",
        "Well, without giving too much away on the question above... As in the Orange exercise, Gender appears to have \"Female\" sometimes when it should be \"F\", and likewise for \"Male\" and \"M\". \"Stored\" seems to have a few entries that are missing, and we might want to remove the \"LicenceCountry\" feature as it doesn’t look all that useful. We'll also explicitly remove the ID variable as it seems to be all unique values.\n",
        "\n",
        "First, let's make a copy of the data, selecting only the rows we want to keep. We’ll keep the records for customers in the UK, and for whom we are not missing the information about where their car is stored:"
      ]
    },
    {
      "cell_type": "code",
      "execution_count": null,
      "metadata": {
        "id": "cDMZ3aUinKo2",
        "outputId": "ec610b6f-7f41-4240-f633-ad854cfbbe62"
      },
      "outputs": [
        {
          "data": {
            "text/html": [
              "<div>\n",
              "<style scoped>\n",
              "    .dataframe tbody tr th:only-of-type {\n",
              "        vertical-align: middle;\n",
              "    }\n",
              "\n",
              "    .dataframe tbody tr th {\n",
              "        vertical-align: top;\n",
              "    }\n",
              "\n",
              "    .dataframe thead th {\n",
              "        text-align: right;\n",
              "    }\n",
              "</style>\n",
              "<table border=\"1\" class=\"dataframe\">\n",
              "  <thead>\n",
              "    <tr style=\"text-align: right;\">\n",
              "      <th></th>\n",
              "      <th>ID</th>\n",
              "      <th>Age</th>\n",
              "      <th>Gender</th>\n",
              "      <th>LicenceCountry</th>\n",
              "      <th>Yrs DL</th>\n",
              "      <th>Points</th>\n",
              "      <th>NCD</th>\n",
              "      <th>Engine cc</th>\n",
              "      <th>Ins Group</th>\n",
              "      <th>Stored</th>\n",
              "      <th>Car Age</th>\n",
              "      <th>Premium</th>\n",
              "    </tr>\n",
              "  </thead>\n",
              "  <tbody>\n",
              "    <tr>\n",
              "      <th>0</th>\n",
              "      <td>B69193007</td>\n",
              "      <td>52</td>\n",
              "      <td>M</td>\n",
              "      <td>UK</td>\n",
              "      <td>16</td>\n",
              "      <td>0</td>\n",
              "      <td>0</td>\n",
              "      <td>1200</td>\n",
              "      <td>4</td>\n",
              "      <td>Garage</td>\n",
              "      <td>2</td>\n",
              "      <td>195.32</td>\n",
              "    </tr>\n",
              "    <tr>\n",
              "      <th>1</th>\n",
              "      <td>B58763002</td>\n",
              "      <td>46</td>\n",
              "      <td>F</td>\n",
              "      <td>UK</td>\n",
              "      <td>22</td>\n",
              "      <td>8</td>\n",
              "      <td>1</td>\n",
              "      <td>1400</td>\n",
              "      <td>2</td>\n",
              "      <td>Garage</td>\n",
              "      <td>7</td>\n",
              "      <td>225.09</td>\n",
              "    </tr>\n",
              "    <tr>\n",
              "      <th>2</th>\n",
              "      <td>A57010377</td>\n",
              "      <td>59</td>\n",
              "      <td>F</td>\n",
              "      <td>UK</td>\n",
              "      <td>9</td>\n",
              "      <td>0</td>\n",
              "      <td>0</td>\n",
              "      <td>1400</td>\n",
              "      <td>5</td>\n",
              "      <td>Garage</td>\n",
              "      <td>14</td>\n",
              "      <td>201.08</td>\n",
              "    </tr>\n",
              "    <tr>\n",
              "      <th>3</th>\n",
              "      <td>B43586226</td>\n",
              "      <td>59</td>\n",
              "      <td>F</td>\n",
              "      <td>UK</td>\n",
              "      <td>3</td>\n",
              "      <td>0</td>\n",
              "      <td>4</td>\n",
              "      <td>1400</td>\n",
              "      <td>5</td>\n",
              "      <td>Road</td>\n",
              "      <td>13</td>\n",
              "      <td>251.49</td>\n",
              "    </tr>\n",
              "    <tr>\n",
              "      <th>4</th>\n",
              "      <td>B78248875</td>\n",
              "      <td>78</td>\n",
              "      <td>M</td>\n",
              "      <td>UK</td>\n",
              "      <td>57</td>\n",
              "      <td>4</td>\n",
              "      <td>1</td>\n",
              "      <td>1800</td>\n",
              "      <td>3</td>\n",
              "      <td>Garage</td>\n",
              "      <td>1</td>\n",
              "      <td>229.46</td>\n",
              "    </tr>\n",
              "    <tr>\n",
              "      <th>...</th>\n",
              "      <td>...</td>\n",
              "      <td>...</td>\n",
              "      <td>...</td>\n",
              "      <td>...</td>\n",
              "      <td>...</td>\n",
              "      <td>...</td>\n",
              "      <td>...</td>\n",
              "      <td>...</td>\n",
              "      <td>...</td>\n",
              "      <td>...</td>\n",
              "      <td>...</td>\n",
              "      <td>...</td>\n",
              "    </tr>\n",
              "    <tr>\n",
              "      <th>4369</th>\n",
              "      <td>A1126336</td>\n",
              "      <td>28</td>\n",
              "      <td>M</td>\n",
              "      <td>UK</td>\n",
              "      <td>8</td>\n",
              "      <td>0</td>\n",
              "      <td>3</td>\n",
              "      <td>1200</td>\n",
              "      <td>4</td>\n",
              "      <td>Garage</td>\n",
              "      <td>1</td>\n",
              "      <td>214.03</td>\n",
              "    </tr>\n",
              "    <tr>\n",
              "      <th>4370</th>\n",
              "      <td>B56077025</td>\n",
              "      <td>76</td>\n",
              "      <td>F</td>\n",
              "      <td>UK</td>\n",
              "      <td>41</td>\n",
              "      <td>0</td>\n",
              "      <td>4</td>\n",
              "      <td>1600</td>\n",
              "      <td>5</td>\n",
              "      <td>Road</td>\n",
              "      <td>1</td>\n",
              "      <td>265.50</td>\n",
              "    </tr>\n",
              "    <tr>\n",
              "      <th>4371</th>\n",
              "      <td>B30440487</td>\n",
              "      <td>50</td>\n",
              "      <td>M</td>\n",
              "      <td>UK</td>\n",
              "      <td>32</td>\n",
              "      <td>0</td>\n",
              "      <td>4</td>\n",
              "      <td>1200</td>\n",
              "      <td>2</td>\n",
              "      <td>Road</td>\n",
              "      <td>1</td>\n",
              "      <td>250.51</td>\n",
              "    </tr>\n",
              "    <tr>\n",
              "      <th>4372</th>\n",
              "      <td>A48556843</td>\n",
              "      <td>36</td>\n",
              "      <td>F</td>\n",
              "      <td>UK</td>\n",
              "      <td>12</td>\n",
              "      <td>8</td>\n",
              "      <td>3</td>\n",
              "      <td>1200</td>\n",
              "      <td>5</td>\n",
              "      <td>Road</td>\n",
              "      <td>1</td>\n",
              "      <td>264.92</td>\n",
              "    </tr>\n",
              "    <tr>\n",
              "      <th>4373</th>\n",
              "      <td>B13063567</td>\n",
              "      <td>36</td>\n",
              "      <td>F</td>\n",
              "      <td>UK</td>\n",
              "      <td>2</td>\n",
              "      <td>0</td>\n",
              "      <td>3</td>\n",
              "      <td>1200</td>\n",
              "      <td>4</td>\n",
              "      <td>Drive</td>\n",
              "      <td>1</td>\n",
              "      <td>208.95</td>\n",
              "    </tr>\n",
              "  </tbody>\n",
              "</table>\n",
              "<p>4374 rows × 12 columns</p>\n",
              "</div>"
            ],
            "text/plain": [
              "             ID  Age Gender LicenceCountry  Yrs DL  Points  NCD  Engine cc  \\\n",
              "0     B69193007   52      M             UK      16       0    0       1200   \n",
              "1     B58763002   46      F             UK      22       8    1       1400   \n",
              "2     A57010377   59      F             UK       9       0    0       1400   \n",
              "3     B43586226   59      F             UK       3       0    4       1400   \n",
              "4     B78248875   78      M             UK      57       4    1       1800   \n",
              "...         ...  ...    ...            ...     ...     ...  ...        ...   \n",
              "4369   A1126336   28      M             UK       8       0    3       1200   \n",
              "4370  B56077025   76      F             UK      41       0    4       1600   \n",
              "4371  B30440487   50      M             UK      32       0    4       1200   \n",
              "4372  A48556843   36      F             UK      12       8    3       1200   \n",
              "4373  B13063567   36      F             UK       2       0    3       1200   \n",
              "\n",
              "      Ins Group  Stored  Car Age  Premium  \n",
              "0             4  Garage        2   195.32  \n",
              "1             2  Garage        7   225.09  \n",
              "2             5  Garage       14   201.08  \n",
              "3             5    Road       13   251.49  \n",
              "4             3  Garage        1   229.46  \n",
              "...         ...     ...      ...      ...  \n",
              "4369          4  Garage        1   214.03  \n",
              "4370          5    Road        1   265.50  \n",
              "4371          2    Road        1   250.51  \n",
              "4372          5    Road        1   264.92  \n",
              "4373          4   Drive        1   208.95  \n",
              "\n",
              "[4374 rows x 12 columns]"
            ]
          },
          "execution_count": 6,
          "metadata": {},
          "output_type": "execute_result"
        }
      ],
      "source": [
        "# copy the data frame so we've still got the original in case we need it\n",
        "df_cleaned = df.copy()\n",
        "\n",
        "# choose the rows we want to keep\n",
        "df_cleaned = df_cleaned[(df_cleaned.LicenceCountry==\"UK\") & (df_cleaned.Stored!=\"0\")]\n",
        "\n",
        "# this is needed so the row numbers are still in sequence\n",
        "df_cleaned.reset_index(drop=True)"
      ]
    },
    {
      "cell_type": "markdown",
      "metadata": {
        "id": "mghEC9DYnKo2"
      },
      "source": [
        "Check it's worked: there should only be one bar now!"
      ]
    },
    {
      "cell_type": "code",
      "execution_count": null,
      "metadata": {
        "id": "Z0OkICNbnKo2",
        "outputId": "22c4d0be-9f8e-44d3-fb46-3890920aadf7"
      },
      "outputs": [
        {
          "data": {
            "text/plain": [
              "<Axes: xlabel='LicenceCountry'>"
            ]
          },
          "execution_count": 7,
          "metadata": {},
          "output_type": "execute_result"
        },
        {
          "data": {
            "image/png": "[encoded data removed]",
            "text/plain": [
              "<Figure size 640x480 with 1 Axes>"
            ]
          },
          "metadata": {},
          "output_type": "display_data"
        }
      ],
      "source": [
        "df_cleaned['LicenceCountry'].value_counts().plot(kind='bar')"
      ]
    },
    {
      "cell_type": "markdown",
      "metadata": {
        "id": "Cs1f08DonKo3"
      },
      "source": [
        "And only three bars here..."
      ]
    },
    {
      "cell_type": "code",
      "execution_count": null,
      "metadata": {
        "id": "47yOaRzqnKo3",
        "outputId": "abbcc85e-7196-42a3-9ff5-294cc947987d"
      },
      "outputs": [
        {
          "data": {
            "text/plain": [
              "<Axes: xlabel='Stored'>"
            ]
          },
          "execution_count": 8,
          "metadata": {},
          "output_type": "execute_result"
        },
        {
          "data": {
            "image/png": "[encoded data removed]",
            "text/plain": [
              "<Figure size 640x480 with 1 Axes>"
            ]
          },
          "metadata": {},
          "output_type": "display_data"
        }
      ],
      "source": [
        "df_cleaned['Stored'].value_counts().plot(kind='bar')"
      ]
    },
    {
      "cell_type": "markdown",
      "metadata": {
        "id": "FJR_1jjgnKo3"
      },
      "source": [
        "Now, let's select only the columns we want to keep..."
      ]
    },
    {
      "cell_type": "code",
      "execution_count": null,
      "metadata": {
        "id": "qWtX7GcVnKo3"
      },
      "outputs": [],
      "source": [
        "# define the list of features to keep\n",
        "selected_features = ['Age','Gender','Yrs DL','Points','NCD','Engine cc',\n",
        "                     'Ins Group','Stored','Car Age','Premium']\n",
        "\n",
        "# update the data frame\n",
        "df_cleaned = df_cleaned[selected_features]"
      ]
    },
    {
      "cell_type": "markdown",
      "metadata": {
        "id": "Fb3BUQRgnKo3"
      },
      "source": [
        "The histogram showed us that Gender had some 'Female' and 'Male' values, which we'll map to F and M..."
      ]
    },
    {
      "cell_type": "code",
      "execution_count": null,
      "metadata": {
        "id": "GjxQRpRtnKo3",
        "outputId": "857d95f1-34b5-4c86-b80d-52e7e76fead1"
      },
      "outputs": [
        {
          "data": {
            "text/plain": [
              "<Axes: xlabel='Gender'>"
            ]
          },
          "execution_count": 12,
          "metadata": {},
          "output_type": "execute_result"
        },
        {
          "data": {
            "image/png": "[encoded data removed]",
            "text/plain": [
              "<Figure size 640x480 with 1 Axes>"
            ]
          },
          "metadata": {},
          "output_type": "display_data"
        }
      ],
      "source": [
        "# we can use a dictionary to set up the mapping...\n",
        "df_cleaned['Gender'] = df_cleaned['Gender'].replace({'Female':'F','Male':'M'})\n",
        "#df_cleaned['Gender'] = df_cleaned['Gender'].replace({'F':'Female','M':'Male'})\n",
        "\n",
        "# just to check it's worked...\n",
        "df_cleaned['Gender'].value_counts().plot(kind='bar')"
      ]
    },
    {
      "cell_type": "markdown",
      "metadata": {
        "id": "SGCc0KBYnKo3"
      },
      "source": [
        "Try filtering the data in other ways. Can you make a copy of the data frame in which the \"Gender\" column is removed, and in which we consider only drivers with no \"points\" on their licence?"
      ]
    },
    {
      "cell_type": "code",
      "execution_count": null,
      "metadata": {
        "id": "hqI4YFmAnKo3",
        "outputId": "80a1ca29-4c48-43b8-d82d-141536b390f7"
      },
      "outputs": [
        {
          "name": "stdout",
          "output_type": "stream",
          "text": [
            "df_filtered: \n",
            "       Age  Yrs DL  Points  NCD  Engine cc  Ins Group  Stored  Car Age  Premium\n",
            "0      52      16       0    0       1200          4  Garage        2   195.32\n",
            "2      59       9       0    0       1400          5  Garage       14   201.08\n",
            "4      59       3       0    4       1400          5    Road       13   251.49\n",
            "6      63       3       0    4       1400          6    Road       14   255.25\n",
            "8      24       5       0    3       1200          3  Garage       13   214.80\n",
            "...   ...     ...     ...  ...        ...        ...     ...      ...      ...\n",
            "4381   80      29       0    2       1200          3  Garage       15   230.09\n",
            "4382   28       8       0    3       1200          4  Garage        1   214.03\n",
            "4383   76      41       0    4       1600          5    Road        1   265.50\n",
            "4384   50      32       0    4       1200          2    Road        1   250.51\n",
            "4386   36       2       0    3       1200          4   Drive        1   208.95\n",
            "\n",
            "[3779 rows x 9 columns]\n"
          ]
        }
      ],
      "source": [
        "df_filtered = df_cleaned.copy()\n",
        "\n",
        "# Drop the 'Gender' column and filter rows where 'Points' == 0 in one step\n",
        "df_filtered = df_filtered.drop(columns=['Gender'])[df_filtered['Points'] == 0]\n",
        "\n",
        "print(\"df_filtered: \\n\", df_filtered)\n"
      ]
    },
    {
      "cell_type": "markdown",
      "metadata": {
        "id": "t0Nhsb6nnKo3"
      },
      "source": [
        "# Encoding variables"
      ]
    },
    {
      "cell_type": "markdown",
      "metadata": {
        "id": "qOxFuVX8nKo3"
      },
      "source": [
        "A few of the variables above are not numeric: *Gender* and *Stored* are strings (categorical). In theory it is possible for some model types (for example, trees) to use categorical variables directly, but sklearn does not support this. So for the model to work with this data, we'll need to convert these variables to numeric values. (Orange does this automatically in the background)\n",
        "\n",
        "sklearn provides a couple of encoders to do this:\n",
        "* sklearn.preprocessing.OrdinalEncoder - for string variables where there is a natural order to the values (e.g. \"light\"/\"medium\"/\"heavy\") - *ordinal* variables - this will transform the values into 0,1,2,3...\n",
        "* sklearn.preprocessing.OneHotEncoder - for string variables where there is no natural order to the values (e.g. place names, job titles) - *nominal* variables - this will create a new feature for each possible value, with the value 0 or 1.\n",
        "\n",
        "You can read more about the encoders [here](https://scikit-learn.org/stable/modules/preprocessing.html#encoding-categorical-features) and how you might combine them for mixed-type data [here](https://scikit-learn.org/stable/auto_examples/compose/plot_column_transformer_mixed_types.html).\n",
        "\n",
        "In our data, *Gender* and *Stored* do not have a natural order, so we want one-hot encoding. While the encoders above are arguably more flexible, a simpler way to apply one-hot encoding is built in to pandas, and that's what we'll use..."
      ]
    },
    {
      "cell_type": "code",
      "execution_count": null,
      "metadata": {
        "id": "biZxvWmjnKo4"
      },
      "outputs": [],
      "source": [
        "df_cleaned = pd.get_dummies(df_cleaned, prefix_sep='_', drop_first=True)"
      ]
    },
    {
      "cell_type": "markdown",
      "metadata": {
        "id": "9QMh47XonKo4"
      },
      "source": [
        "This function takes a data frame and returns another data frame with the transformation applied. The argument *prefix_sep='_'* is used to make the names of the newly created features;  *drop_first=True* removes one column from the resulting dummy features; this is to avoid multicollinearity, which can be a [problem](https://www.algosome.com/articles/dummy-variable-trap-regression.html) for some model types. Let's take a look at the data now:"
      ]
    },
    {
      "cell_type": "code",
      "execution_count": null,
      "metadata": {
        "scrolled": true,
        "id": "M2bT74UanKo6",
        "outputId": "058ca582-6bfb-4e1d-b36d-94d16cd2a6c3"
      },
      "outputs": [
        {
          "data": {
            "text/html": [
              "<div>\n",
              "<style scoped>\n",
              "    .dataframe tbody tr th:only-of-type {\n",
              "        vertical-align: middle;\n",
              "    }\n",
              "\n",
              "    .dataframe tbody tr th {\n",
              "        vertical-align: top;\n",
              "    }\n",
              "\n",
              "    .dataframe thead th {\n",
              "        text-align: right;\n",
              "    }\n",
              "</style>\n",
              "<table border=\"1\" class=\"dataframe\">\n",
              "  <thead>\n",
              "    <tr style=\"text-align: right;\">\n",
              "      <th></th>\n",
              "      <th>Age</th>\n",
              "      <th>Yrs DL</th>\n",
              "      <th>Points</th>\n",
              "      <th>NCD</th>\n",
              "      <th>Engine cc</th>\n",
              "      <th>Ins Group</th>\n",
              "      <th>Car Age</th>\n",
              "      <th>Premium</th>\n",
              "      <th>Gender_M</th>\n",
              "      <th>Stored_Garage</th>\n",
              "      <th>Stored_Road</th>\n",
              "    </tr>\n",
              "  </thead>\n",
              "  <tbody>\n",
              "    <tr>\n",
              "      <th>0</th>\n",
              "      <td>52</td>\n",
              "      <td>16</td>\n",
              "      <td>0</td>\n",
              "      <td>0</td>\n",
              "      <td>1200</td>\n",
              "      <td>4</td>\n",
              "      <td>2</td>\n",
              "      <td>195.32</td>\n",
              "      <td>True</td>\n",
              "      <td>True</td>\n",
              "      <td>False</td>\n",
              "    </tr>\n",
              "    <tr>\n",
              "      <th>1</th>\n",
              "      <td>46</td>\n",
              "      <td>22</td>\n",
              "      <td>8</td>\n",
              "      <td>1</td>\n",
              "      <td>1400</td>\n",
              "      <td>2</td>\n",
              "      <td>7</td>\n",
              "      <td>225.09</td>\n",
              "      <td>False</td>\n",
              "      <td>True</td>\n",
              "      <td>False</td>\n",
              "    </tr>\n",
              "    <tr>\n",
              "      <th>2</th>\n",
              "      <td>59</td>\n",
              "      <td>9</td>\n",
              "      <td>0</td>\n",
              "      <td>0</td>\n",
              "      <td>1400</td>\n",
              "      <td>5</td>\n",
              "      <td>14</td>\n",
              "      <td>201.08</td>\n",
              "      <td>False</td>\n",
              "      <td>True</td>\n",
              "      <td>False</td>\n",
              "    </tr>\n",
              "    <tr>\n",
              "      <th>4</th>\n",
              "      <td>59</td>\n",
              "      <td>3</td>\n",
              "      <td>0</td>\n",
              "      <td>4</td>\n",
              "      <td>1400</td>\n",
              "      <td>5</td>\n",
              "      <td>13</td>\n",
              "      <td>251.49</td>\n",
              "      <td>False</td>\n",
              "      <td>False</td>\n",
              "      <td>True</td>\n",
              "    </tr>\n",
              "    <tr>\n",
              "      <th>5</th>\n",
              "      <td>78</td>\n",
              "      <td>57</td>\n",
              "      <td>4</td>\n",
              "      <td>1</td>\n",
              "      <td>1800</td>\n",
              "      <td>3</td>\n",
              "      <td>1</td>\n",
              "      <td>229.46</td>\n",
              "      <td>True</td>\n",
              "      <td>True</td>\n",
              "      <td>False</td>\n",
              "    </tr>\n",
              "  </tbody>\n",
              "</table>\n",
              "</div>"
            ],
            "text/plain": [
              "   Age  Yrs DL  Points  NCD  Engine cc  Ins Group  Car Age  Premium  Gender_M  \\\n",
              "0   52      16       0    0       1200          4        2   195.32      True   \n",
              "1   46      22       8    1       1400          2        7   225.09     False   \n",
              "2   59       9       0    0       1400          5       14   201.08     False   \n",
              "4   59       3       0    4       1400          5       13   251.49     False   \n",
              "5   78      57       4    1       1800          3        1   229.46      True   \n",
              "\n",
              "   Stored_Garage  Stored_Road  \n",
              "0           True        False  \n",
              "1           True        False  \n",
              "2           True        False  \n",
              "4          False         True  \n",
              "5           True        False  "
            ]
          },
          "execution_count": 25,
          "metadata": {},
          "output_type": "execute_result"
        }
      ],
      "source": [
        "df_cleaned.head()"
      ]
    },
    {
      "cell_type": "markdown",
      "metadata": {
        "id": "SG_HxutUnKo6"
      },
      "source": [
        "### Explanation of what pd.get_dummies does\n",
        "\n",
        "The code `df_cleaned = pd.get_dummies(df_cleaned, prefix_sep='_', drop_first=True)` is transforming the `df_cleaned` DataFrame by converting categorical variables into dummy/indicator variables. Here's a step-by-step explanation of what this code is doing:\n",
        "\n",
        "### Step-by-Step Explanation:\n",
        "\n",
        "1. **Purpose of `pd.get_dummies`:**\n",
        "   - `pd.get_dummies` is a function in the pandas library that converts categorical variables into dummy/indicator variables (also known as one-hot encoding). Each category value in a column is converted into a new column, and a binary value (0 or 1) is assigned to indicate the presence of the category.\n",
        "\n",
        "2. **Input DataFrame (`df_cleaned`):**\n",
        "   - This is the DataFrame on which the `pd.get_dummies` function is applied. It should contain one or more categorical columns that need to be encoded.\n",
        "\n",
        "3. **Parameters:**\n",
        "   - `prefix_sep='_':` This parameter specifies the separator to use when constructing new column names. For example, if you have a column named \"Color\" with values \"Red\" and \"Blue\", the new columns will be named \"Color_Red\" and \"Color_Blue\" if the default `prefix_sep` is used.\n",
        "   - `drop_first=True:` This parameter indicates that the first category in each categorical feature should be dropped. This is useful to avoid multicollinearity in some machine learning models. For example, if you have a binary column \"Gender\" with values \"Male\" and \"Female\", only one column (\"Gender_Male\" or \"Gender_Female\") will be created, and the other will be dropped.\n",
        "\n",
        "### What the Code Does:\n",
        "\n",
        "1. **Identifying Categorical Columns:**\n",
        "   - `pd.get_dummies` scans the DataFrame `df_cleaned` for columns that have categorical data types.\n",
        "\n",
        "2. **Generating Dummy Variables:**\n",
        "   - For each categorical column, `pd.get_dummies` creates new columns. Each unique category in the original column gets its own new column.\n",
        "   - The original categorical columns are removed from the DataFrame.\n",
        "\n",
        "3. **Applying `prefix_sep`:**\n",
        "   - The new column names are created by combining the original column name, the specified separator (`_`), and the category value. For example, if the original column name is \"Color\" and it has categories \"Red\" and \"Blue\", the new columns will be \"Color_Red\" and \"Color_Blue\".\n",
        "\n",
        "4. **Dropping the First Category (`drop_first=True`):**\n",
        "   - To prevent multicollinearity, the first category for each categorical column is dropped. This means if the column \"Color\" has categories \"Red\", \"Blue\", and \"Green\", only the columns \"Color_Blue\" and \"Color_Green\" will be kept, and \"Color_Red\" will be dropped.\n",
        "   - This is useful in regression models to avoid the dummy variable trap, where one category can be perfectly predicted from the others.\n",
        "\n",
        "### Example:\n",
        "\n",
        "Suppose `df_cleaned` initially looks like this:\n",
        "\n",
        "| Name   | Gender | Color |\n",
        "|--------|--------|-------|\n",
        "| Alice  | Female | Red   |\n",
        "| Bob    | Male   | Blue  |\n",
        "| Charlie| Male   | Green |\n",
        "| David  | Male   | Red   |\n",
        "\n",
        "After applying `pd.get_dummies(df_cleaned, prefix_sep='_', drop_first=True)`, the DataFrame will be transformed to:\n",
        "\n",
        "| Name   | Gender_Male | Color_Blue | Color_Green |\n",
        "|--------|-------------|------------|-------------|\n",
        "| Alice  | 0           | 0          | 0           |\n",
        "| Bob    | 1           | 1          | 0           |\n",
        "| Charlie| 1           | 0          | 1           |\n",
        "| David  | 1           | 0          | 0           |\n",
        "\n",
        "- The \"Gender\" column is encoded with \"Gender_Male\", dropping \"Gender_Female\" because of `drop_first=True`.\n",
        "- The \"Color\" column is encoded with \"Color_Blue\" and \"Color_Green\", dropping \"Color_Red\".\n",
        "\n",
        "This transformation allows categorical data to be used in machine learning models that require numerical input."
      ]
    },
    {
      "cell_type": "markdown",
      "metadata": {
        "id": "4bELGnk0nKo6"
      },
      "source": [
        "You can see that we've now created some extra columns in place of Gender and Stored."
      ]
    },
    {
      "cell_type": "markdown",
      "metadata": {
        "id": "eUU8n5_dnKo6"
      },
      "source": [
        "# Set the features and targets\n",
        "We can now extract the columns we want for features and targets ready for passing to a model. By convention, we use names including `X` as the 2-D array of features, and `y` as the 1-D array of targets.\n",
        "\n",
        "Here, X and y are still Pandas objects, which has the advantage that the columns still have meaningful names. Often you will see numpy arrays being used for X and y instead as that's what's used internally by sklearn. You can convert a pandas data frame to a numpy array by calling df.values or df.to_numpy() (the latter is part of later versions of Pandas and is preferred)"
      ]
    },
    {
      "cell_type": "code",
      "execution_count": null,
      "metadata": {
        "id": "GDjvocvfnKo7"
      },
      "outputs": [],
      "source": [
        "targetName=\"Premium\"\n",
        "featureNames=df_cleaned.columns[df_cleaned.columns != targetName]\n",
        "X = df_cleaned[featureNames]\n",
        "y = df_cleaned[targetName]"
      ]
    },
    {
      "cell_type": "markdown",
      "metadata": {
        "id": "kMEXcw74nKo7"
      },
      "source": [
        "# Normalising\n",
        "It's also a good idea to normalise the features: ensuring they are all in the range 0...1. The simplest approach is, for each feature, to subtract the minimum value and divide by the range. This can be done as follows:"
      ]
    },
    {
      "cell_type": "code",
      "execution_count": null,
      "metadata": {
        "id": "zTeSPc4RnKo7"
      },
      "outputs": [],
      "source": [
        "from sklearn.preprocessing import MinMaxScaler\n",
        "\n",
        "mm_scaler = MinMaxScaler()\n",
        "X = pd.DataFrame(mm_scaler.fit_transform(X), columns=X.columns)"
      ]
    },
    {
      "cell_type": "markdown",
      "metadata": {
        "id": "ockFWtwInKo7"
      },
      "source": [
        "Note: the scaler returns a numpy array by default but, for convenience here, we want to keep the data in a Pandas data frame, so we make a new data frame with the same column names as X.\n",
        "\n",
        "Should you later want to apply the same scaling to new data, this can be doner by calling `mm_scaler.transform(X_test)`, where `X_test` is the variable holding the new data set. The same can be done with the encoders. How does our data look now? Rather different to when we started..."
      ]
    },
    {
      "cell_type": "code",
      "execution_count": null,
      "metadata": {
        "id": "DwRLz8ctnKo7",
        "outputId": "1dc236d6-1e26-450b-8e1c-042ee0e18bbe"
      },
      "outputs": [
        {
          "data": {
            "text/html": [
              "<div>\n",
              "<style scoped>\n",
              "    .dataframe tbody tr th:only-of-type {\n",
              "        vertical-align: middle;\n",
              "    }\n",
              "\n",
              "    .dataframe tbody tr th {\n",
              "        vertical-align: top;\n",
              "    }\n",
              "\n",
              "    .dataframe thead th {\n",
              "        text-align: right;\n",
              "    }\n",
              "</style>\n",
              "<table border=\"1\" class=\"dataframe\">\n",
              "  <thead>\n",
              "    <tr style=\"text-align: right;\">\n",
              "      <th></th>\n",
              "      <th>Age</th>\n",
              "      <th>Yrs DL</th>\n",
              "      <th>Points</th>\n",
              "      <th>NCD</th>\n",
              "      <th>Engine cc</th>\n",
              "      <th>Ins Group</th>\n",
              "      <th>Car Age</th>\n",
              "      <th>Gender_M</th>\n",
              "      <th>Stored_Garage</th>\n",
              "      <th>Stored_Road</th>\n",
              "    </tr>\n",
              "  </thead>\n",
              "  <tbody>\n",
              "    <tr>\n",
              "      <th>0</th>\n",
              "      <td>0.548387</td>\n",
              "      <td>0.241935</td>\n",
              "      <td>0.0</td>\n",
              "      <td>0.00</td>\n",
              "      <td>0.000000</td>\n",
              "      <td>0.333333</td>\n",
              "      <td>0.052632</td>\n",
              "      <td>1.0</td>\n",
              "      <td>1.0</td>\n",
              "      <td>0.0</td>\n",
              "    </tr>\n",
              "    <tr>\n",
              "      <th>1</th>\n",
              "      <td>0.451613</td>\n",
              "      <td>0.338710</td>\n",
              "      <td>1.0</td>\n",
              "      <td>0.25</td>\n",
              "      <td>0.076923</td>\n",
              "      <td>0.000000</td>\n",
              "      <td>0.315789</td>\n",
              "      <td>0.0</td>\n",
              "      <td>1.0</td>\n",
              "      <td>0.0</td>\n",
              "    </tr>\n",
              "    <tr>\n",
              "      <th>2</th>\n",
              "      <td>0.661290</td>\n",
              "      <td>0.129032</td>\n",
              "      <td>0.0</td>\n",
              "      <td>0.00</td>\n",
              "      <td>0.076923</td>\n",
              "      <td>0.500000</td>\n",
              "      <td>0.684211</td>\n",
              "      <td>0.0</td>\n",
              "      <td>1.0</td>\n",
              "      <td>0.0</td>\n",
              "    </tr>\n",
              "    <tr>\n",
              "      <th>3</th>\n",
              "      <td>0.661290</td>\n",
              "      <td>0.032258</td>\n",
              "      <td>0.0</td>\n",
              "      <td>1.00</td>\n",
              "      <td>0.076923</td>\n",
              "      <td>0.500000</td>\n",
              "      <td>0.631579</td>\n",
              "      <td>0.0</td>\n",
              "      <td>0.0</td>\n",
              "      <td>1.0</td>\n",
              "    </tr>\n",
              "    <tr>\n",
              "      <th>4</th>\n",
              "      <td>0.967742</td>\n",
              "      <td>0.903226</td>\n",
              "      <td>0.5</td>\n",
              "      <td>0.25</td>\n",
              "      <td>0.230769</td>\n",
              "      <td>0.166667</td>\n",
              "      <td>0.000000</td>\n",
              "      <td>1.0</td>\n",
              "      <td>1.0</td>\n",
              "      <td>0.0</td>\n",
              "    </tr>\n",
              "    <tr>\n",
              "      <th>...</th>\n",
              "      <td>...</td>\n",
              "      <td>...</td>\n",
              "      <td>...</td>\n",
              "      <td>...</td>\n",
              "      <td>...</td>\n",
              "      <td>...</td>\n",
              "      <td>...</td>\n",
              "      <td>...</td>\n",
              "      <td>...</td>\n",
              "      <td>...</td>\n",
              "    </tr>\n",
              "    <tr>\n",
              "      <th>4369</th>\n",
              "      <td>0.161290</td>\n",
              "      <td>0.112903</td>\n",
              "      <td>0.0</td>\n",
              "      <td>0.75</td>\n",
              "      <td>0.000000</td>\n",
              "      <td>0.333333</td>\n",
              "      <td>0.000000</td>\n",
              "      <td>1.0</td>\n",
              "      <td>1.0</td>\n",
              "      <td>0.0</td>\n",
              "    </tr>\n",
              "    <tr>\n",
              "      <th>4370</th>\n",
              "      <td>0.935484</td>\n",
              "      <td>0.645161</td>\n",
              "      <td>0.0</td>\n",
              "      <td>1.00</td>\n",
              "      <td>0.153846</td>\n",
              "      <td>0.500000</td>\n",
              "      <td>0.000000</td>\n",
              "      <td>0.0</td>\n",
              "      <td>0.0</td>\n",
              "      <td>1.0</td>\n",
              "    </tr>\n",
              "    <tr>\n",
              "      <th>4371</th>\n",
              "      <td>0.516129</td>\n",
              "      <td>0.500000</td>\n",
              "      <td>0.0</td>\n",
              "      <td>1.00</td>\n",
              "      <td>0.000000</td>\n",
              "      <td>0.000000</td>\n",
              "      <td>0.000000</td>\n",
              "      <td>1.0</td>\n",
              "      <td>0.0</td>\n",
              "      <td>1.0</td>\n",
              "    </tr>\n",
              "    <tr>\n",
              "      <th>4372</th>\n",
              "      <td>0.290323</td>\n",
              "      <td>0.177419</td>\n",
              "      <td>1.0</td>\n",
              "      <td>0.75</td>\n",
              "      <td>0.000000</td>\n",
              "      <td>0.500000</td>\n",
              "      <td>0.000000</td>\n",
              "      <td>0.0</td>\n",
              "      <td>0.0</td>\n",
              "      <td>1.0</td>\n",
              "    </tr>\n",
              "    <tr>\n",
              "      <th>4373</th>\n",
              "      <td>0.290323</td>\n",
              "      <td>0.016129</td>\n",
              "      <td>0.0</td>\n",
              "      <td>0.75</td>\n",
              "      <td>0.000000</td>\n",
              "      <td>0.333333</td>\n",
              "      <td>0.000000</td>\n",
              "      <td>0.0</td>\n",
              "      <td>0.0</td>\n",
              "      <td>0.0</td>\n",
              "    </tr>\n",
              "  </tbody>\n",
              "</table>\n",
              "<p>4374 rows × 10 columns</p>\n",
              "</div>"
            ],
            "text/plain": [
              "           Age    Yrs DL  Points   NCD  Engine cc  Ins Group   Car Age  \\\n",
              "0     0.548387  0.241935     0.0  0.00   0.000000   0.333333  0.052632   \n",
              "1     0.451613  0.338710     1.0  0.25   0.076923   0.000000  0.315789   \n",
              "2     0.661290  0.129032     0.0  0.00   0.076923   0.500000  0.684211   \n",
              "3     0.661290  0.032258     0.0  1.00   0.076923   0.500000  0.631579   \n",
              "4     0.967742  0.903226     0.5  0.25   0.230769   0.166667  0.000000   \n",
              "...        ...       ...     ...   ...        ...        ...       ...   \n",
              "4369  0.161290  0.112903     0.0  0.75   0.000000   0.333333  0.000000   \n",
              "4370  0.935484  0.645161     0.0  1.00   0.153846   0.500000  0.000000   \n",
              "4371  0.516129  0.500000     0.0  1.00   0.000000   0.000000  0.000000   \n",
              "4372  0.290323  0.177419     1.0  0.75   0.000000   0.500000  0.000000   \n",
              "4373  0.290323  0.016129     0.0  0.75   0.000000   0.333333  0.000000   \n",
              "\n",
              "      Gender_M  Stored_Garage  Stored_Road  \n",
              "0          1.0            1.0          0.0  \n",
              "1          0.0            1.0          0.0  \n",
              "2          0.0            1.0          0.0  \n",
              "3          0.0            0.0          1.0  \n",
              "4          1.0            1.0          0.0  \n",
              "...        ...            ...          ...  \n",
              "4369       1.0            1.0          0.0  \n",
              "4370       0.0            0.0          1.0  \n",
              "4371       1.0            0.0          1.0  \n",
              "4372       0.0            0.0          1.0  \n",
              "4373       0.0            0.0          0.0  \n",
              "\n",
              "[4374 rows x 10 columns]"
            ]
          },
          "execution_count": 18,
          "metadata": {},
          "output_type": "execute_result"
        }
      ],
      "source": [
        "X"
      ]
    },
    {
      "cell_type": "code",
      "execution_count": null,
      "metadata": {
        "id": "vQBDIpLmnKo7",
        "outputId": "bd1f2ffd-18e1-44cd-da2c-e839d45bf6a8"
      },
      "outputs": [
        {
          "data": {
            "text/plain": [
              "0       195.32\n",
              "1       225.09\n",
              "2       201.08\n",
              "4       251.49\n",
              "5       229.46\n",
              "         ...  \n",
              "4382    214.03\n",
              "4383    265.50\n",
              "4384    250.51\n",
              "4385    264.92\n",
              "4386    208.95\n",
              "Name: Premium, Length: 4374, dtype: float64"
            ]
          },
          "execution_count": 19,
          "metadata": {},
          "output_type": "execute_result"
        }
      ],
      "source": [
        "y"
      ]
    },
    {
      "cell_type": "markdown",
      "metadata": {
        "id": "Kaem8CK7nKo7"
      },
      "source": [
        "# Unbalanced Data\n",
        "We’ve one more thing to try. What if your data is unbalanced? How do we sample it down to rebalance it? There isn't an easy way to get the example \"churn\" data that we use in the Orange version of this exercise, so we've provided it as one of the file downloads for this session. For reference, it comes from here: https://www.kaggle.com/blastchar/telco-customer-churn"
      ]
    },
    {
      "cell_type": "code",
      "execution_count": null,
      "metadata": {
        "id": "gIRL9FT8nKo7"
      },
      "outputs": [],
      "source": [
        "df=pd.read_csv(\"datasets_13996_18858_WA_Fn-UseC_-Telco-Customer-Churn.csv\")"
      ]
    },
    {
      "cell_type": "markdown",
      "metadata": {
        "id": "K5HzJxPWnKo7"
      },
      "source": [
        "First, we'll take a look at the data, and our target variable *Churn*"
      ]
    },
    {
      "cell_type": "code",
      "execution_count": null,
      "metadata": {
        "id": "smj-JgeMnKo8",
        "outputId": "3d9b0097-81b2-4a9e-ae01-59e1259dd6df"
      },
      "outputs": [
        {
          "data": {
            "text/html": [
              "<div>\n",
              "<style scoped>\n",
              "    .dataframe tbody tr th:only-of-type {\n",
              "        vertical-align: middle;\n",
              "    }\n",
              "\n",
              "    .dataframe tbody tr th {\n",
              "        vertical-align: top;\n",
              "    }\n",
              "\n",
              "    .dataframe thead th {\n",
              "        text-align: right;\n",
              "    }\n",
              "</style>\n",
              "<table border=\"1\" class=\"dataframe\">\n",
              "  <thead>\n",
              "    <tr style=\"text-align: right;\">\n",
              "      <th></th>\n",
              "      <th>customerID</th>\n",
              "      <th>gender</th>\n",
              "      <th>SeniorCitizen</th>\n",
              "      <th>Partner</th>\n",
              "      <th>Dependents</th>\n",
              "      <th>tenure</th>\n",
              "      <th>PhoneService</th>\n",
              "      <th>MultipleLines</th>\n",
              "      <th>InternetService</th>\n",
              "      <th>OnlineSecurity</th>\n",
              "      <th>...</th>\n",
              "      <th>DeviceProtection</th>\n",
              "      <th>TechSupport</th>\n",
              "      <th>StreamingTV</th>\n",
              "      <th>StreamingMovies</th>\n",
              "      <th>Contract</th>\n",
              "      <th>PaperlessBilling</th>\n",
              "      <th>PaymentMethod</th>\n",
              "      <th>MonthlyCharges</th>\n",
              "      <th>TotalCharges</th>\n",
              "      <th>Churn</th>\n",
              "    </tr>\n",
              "  </thead>\n",
              "  <tbody>\n",
              "    <tr>\n",
              "      <th>0</th>\n",
              "      <td>7590-VHVEG</td>\n",
              "      <td>Female</td>\n",
              "      <td>0</td>\n",
              "      <td>Yes</td>\n",
              "      <td>No</td>\n",
              "      <td>1</td>\n",
              "      <td>No</td>\n",
              "      <td>No phone service</td>\n",
              "      <td>DSL</td>\n",
              "      <td>No</td>\n",
              "      <td>...</td>\n",
              "      <td>No</td>\n",
              "      <td>No</td>\n",
              "      <td>No</td>\n",
              "      <td>No</td>\n",
              "      <td>Month-to-month</td>\n",
              "      <td>Yes</td>\n",
              "      <td>Electronic check</td>\n",
              "      <td>29.85</td>\n",
              "      <td>29.85</td>\n",
              "      <td>No</td>\n",
              "    </tr>\n",
              "    <tr>\n",
              "      <th>1</th>\n",
              "      <td>5575-GNVDE</td>\n",
              "      <td>Male</td>\n",
              "      <td>0</td>\n",
              "      <td>No</td>\n",
              "      <td>No</td>\n",
              "      <td>34</td>\n",
              "      <td>Yes</td>\n",
              "      <td>No</td>\n",
              "      <td>DSL</td>\n",
              "      <td>Yes</td>\n",
              "      <td>...</td>\n",
              "      <td>Yes</td>\n",
              "      <td>No</td>\n",
              "      <td>No</td>\n",
              "      <td>No</td>\n",
              "      <td>One year</td>\n",
              "      <td>No</td>\n",
              "      <td>Mailed check</td>\n",
              "      <td>56.95</td>\n",
              "      <td>1889.5</td>\n",
              "      <td>No</td>\n",
              "    </tr>\n",
              "    <tr>\n",
              "      <th>2</th>\n",
              "      <td>3668-QPYBK</td>\n",
              "      <td>Male</td>\n",
              "      <td>0</td>\n",
              "      <td>No</td>\n",
              "      <td>No</td>\n",
              "      <td>2</td>\n",
              "      <td>Yes</td>\n",
              "      <td>No</td>\n",
              "      <td>DSL</td>\n",
              "      <td>Yes</td>\n",
              "      <td>...</td>\n",
              "      <td>No</td>\n",
              "      <td>No</td>\n",
              "      <td>No</td>\n",
              "      <td>No</td>\n",
              "      <td>Month-to-month</td>\n",
              "      <td>Yes</td>\n",
              "      <td>Mailed check</td>\n",
              "      <td>53.85</td>\n",
              "      <td>108.15</td>\n",
              "      <td>Yes</td>\n",
              "    </tr>\n",
              "    <tr>\n",
              "      <th>3</th>\n",
              "      <td>7795-CFOCW</td>\n",
              "      <td>Male</td>\n",
              "      <td>0</td>\n",
              "      <td>No</td>\n",
              "      <td>No</td>\n",
              "      <td>45</td>\n",
              "      <td>No</td>\n",
              "      <td>No phone service</td>\n",
              "      <td>DSL</td>\n",
              "      <td>Yes</td>\n",
              "      <td>...</td>\n",
              "      <td>Yes</td>\n",
              "      <td>Yes</td>\n",
              "      <td>No</td>\n",
              "      <td>No</td>\n",
              "      <td>One year</td>\n",
              "      <td>No</td>\n",
              "      <td>Bank transfer (automatic)</td>\n",
              "      <td>42.30</td>\n",
              "      <td>1840.75</td>\n",
              "      <td>No</td>\n",
              "    </tr>\n",
              "    <tr>\n",
              "      <th>4</th>\n",
              "      <td>9237-HQITU</td>\n",
              "      <td>Female</td>\n",
              "      <td>0</td>\n",
              "      <td>No</td>\n",
              "      <td>No</td>\n",
              "      <td>2</td>\n",
              "      <td>Yes</td>\n",
              "      <td>No</td>\n",
              "      <td>Fiber optic</td>\n",
              "      <td>No</td>\n",
              "      <td>...</td>\n",
              "      <td>No</td>\n",
              "      <td>No</td>\n",
              "      <td>No</td>\n",
              "      <td>No</td>\n",
              "      <td>Month-to-month</td>\n",
              "      <td>Yes</td>\n",
              "      <td>Electronic check</td>\n",
              "      <td>70.70</td>\n",
              "      <td>151.65</td>\n",
              "      <td>Yes</td>\n",
              "    </tr>\n",
              "    <tr>\n",
              "      <th>...</th>\n",
              "      <td>...</td>\n",
              "      <td>...</td>\n",
              "      <td>...</td>\n",
              "      <td>...</td>\n",
              "      <td>...</td>\n",
              "      <td>...</td>\n",
              "      <td>...</td>\n",
              "      <td>...</td>\n",
              "      <td>...</td>\n",
              "      <td>...</td>\n",
              "      <td>...</td>\n",
              "      <td>...</td>\n",
              "      <td>...</td>\n",
              "      <td>...</td>\n",
              "      <td>...</td>\n",
              "      <td>...</td>\n",
              "      <td>...</td>\n",
              "      <td>...</td>\n",
              "      <td>...</td>\n",
              "      <td>...</td>\n",
              "      <td>...</td>\n",
              "    </tr>\n",
              "    <tr>\n",
              "      <th>7038</th>\n",
              "      <td>6840-RESVB</td>\n",
              "      <td>Male</td>\n",
              "      <td>0</td>\n",
              "      <td>Yes</td>\n",
              "      <td>Yes</td>\n",
              "      <td>24</td>\n",
              "      <td>Yes</td>\n",
              "      <td>Yes</td>\n",
              "      <td>DSL</td>\n",
              "      <td>Yes</td>\n",
              "      <td>...</td>\n",
              "      <td>Yes</td>\n",
              "      <td>Yes</td>\n",
              "      <td>Yes</td>\n",
              "      <td>Yes</td>\n",
              "      <td>One year</td>\n",
              "      <td>Yes</td>\n",
              "      <td>Mailed check</td>\n",
              "      <td>84.80</td>\n",
              "      <td>1990.5</td>\n",
              "      <td>No</td>\n",
              "    </tr>\n",
              "    <tr>\n",
              "      <th>7039</th>\n",
              "      <td>2234-XADUH</td>\n",
              "      <td>Female</td>\n",
              "      <td>0</td>\n",
              "      <td>Yes</td>\n",
              "      <td>Yes</td>\n",
              "      <td>72</td>\n",
              "      <td>Yes</td>\n",
              "      <td>Yes</td>\n",
              "      <td>Fiber optic</td>\n",
              "      <td>No</td>\n",
              "      <td>...</td>\n",
              "      <td>Yes</td>\n",
              "      <td>No</td>\n",
              "      <td>Yes</td>\n",
              "      <td>Yes</td>\n",
              "      <td>One year</td>\n",
              "      <td>Yes</td>\n",
              "      <td>Credit card (automatic)</td>\n",
              "      <td>103.20</td>\n",
              "      <td>7362.9</td>\n",
              "      <td>No</td>\n",
              "    </tr>\n",
              "    <tr>\n",
              "      <th>7040</th>\n",
              "      <td>4801-JZAZL</td>\n",
              "      <td>Female</td>\n",
              "      <td>0</td>\n",
              "      <td>Yes</td>\n",
              "      <td>Yes</td>\n",
              "      <td>11</td>\n",
              "      <td>No</td>\n",
              "      <td>No phone service</td>\n",
              "      <td>DSL</td>\n",
              "      <td>Yes</td>\n",
              "      <td>...</td>\n",
              "      <td>No</td>\n",
              "      <td>No</td>\n",
              "      <td>No</td>\n",
              "      <td>No</td>\n",
              "      <td>Month-to-month</td>\n",
              "      <td>Yes</td>\n",
              "      <td>Electronic check</td>\n",
              "      <td>29.60</td>\n",
              "      <td>346.45</td>\n",
              "      <td>No</td>\n",
              "    </tr>\n",
              "    <tr>\n",
              "      <th>7041</th>\n",
              "      <td>8361-LTMKD</td>\n",
              "      <td>Male</td>\n",
              "      <td>1</td>\n",
              "      <td>Yes</td>\n",
              "      <td>No</td>\n",
              "      <td>4</td>\n",
              "      <td>Yes</td>\n",
              "      <td>Yes</td>\n",
              "      <td>Fiber optic</td>\n",
              "      <td>No</td>\n",
              "      <td>...</td>\n",
              "      <td>No</td>\n",
              "      <td>No</td>\n",
              "      <td>No</td>\n",
              "      <td>No</td>\n",
              "      <td>Month-to-month</td>\n",
              "      <td>Yes</td>\n",
              "      <td>Mailed check</td>\n",
              "      <td>74.40</td>\n",
              "      <td>306.6</td>\n",
              "      <td>Yes</td>\n",
              "    </tr>\n",
              "    <tr>\n",
              "      <th>7042</th>\n",
              "      <td>3186-AJIEK</td>\n",
              "      <td>Male</td>\n",
              "      <td>0</td>\n",
              "      <td>No</td>\n",
              "      <td>No</td>\n",
              "      <td>66</td>\n",
              "      <td>Yes</td>\n",
              "      <td>No</td>\n",
              "      <td>Fiber optic</td>\n",
              "      <td>Yes</td>\n",
              "      <td>...</td>\n",
              "      <td>Yes</td>\n",
              "      <td>Yes</td>\n",
              "      <td>Yes</td>\n",
              "      <td>Yes</td>\n",
              "      <td>Two year</td>\n",
              "      <td>Yes</td>\n",
              "      <td>Bank transfer (automatic)</td>\n",
              "      <td>105.65</td>\n",
              "      <td>6844.5</td>\n",
              "      <td>No</td>\n",
              "    </tr>\n",
              "  </tbody>\n",
              "</table>\n",
              "<p>7043 rows × 21 columns</p>\n",
              "</div>"
            ],
            "text/plain": [
              "      customerID  gender  SeniorCitizen Partner Dependents  tenure  \\\n",
              "0     7590-VHVEG  Female              0     Yes         No       1   \n",
              "1     5575-GNVDE    Male              0      No         No      34   \n",
              "2     3668-QPYBK    Male              0      No         No       2   \n",
              "3     7795-CFOCW    Male              0      No         No      45   \n",
              "4     9237-HQITU  Female              0      No         No       2   \n",
              "...          ...     ...            ...     ...        ...     ...   \n",
              "7038  6840-RESVB    Male              0     Yes        Yes      24   \n",
              "7039  2234-XADUH  Female              0     Yes        Yes      72   \n",
              "7040  4801-JZAZL  Female              0     Yes        Yes      11   \n",
              "7041  8361-LTMKD    Male              1     Yes         No       4   \n",
              "7042  3186-AJIEK    Male              0      No         No      66   \n",
              "\n",
              "     PhoneService     MultipleLines InternetService OnlineSecurity  ...  \\\n",
              "0              No  No phone service             DSL             No  ...   \n",
              "1             Yes                No             DSL            Yes  ...   \n",
              "2             Yes                No             DSL            Yes  ...   \n",
              "3              No  No phone service             DSL            Yes  ...   \n",
              "4             Yes                No     Fiber optic             No  ...   \n",
              "...           ...               ...             ...            ...  ...   \n",
              "7038          Yes               Yes             DSL            Yes  ...   \n",
              "7039          Yes               Yes     Fiber optic             No  ...   \n",
              "7040           No  No phone service             DSL            Yes  ...   \n",
              "7041          Yes               Yes     Fiber optic             No  ...   \n",
              "7042          Yes                No     Fiber optic            Yes  ...   \n",
              "\n",
              "     DeviceProtection TechSupport StreamingTV StreamingMovies        Contract  \\\n",
              "0                  No          No          No              No  Month-to-month   \n",
              "1                 Yes          No          No              No        One year   \n",
              "2                  No          No          No              No  Month-to-month   \n",
              "3                 Yes         Yes          No              No        One year   \n",
              "4                  No          No          No              No  Month-to-month   \n",
              "...               ...         ...         ...             ...             ...   \n",
              "7038              Yes         Yes         Yes             Yes        One year   \n",
              "7039              Yes          No         Yes             Yes        One year   \n",
              "7040               No          No          No              No  Month-to-month   \n",
              "7041               No          No          No              No  Month-to-month   \n",
              "7042              Yes         Yes         Yes             Yes        Two year   \n",
              "\n",
              "     PaperlessBilling              PaymentMethod MonthlyCharges  TotalCharges  \\\n",
              "0                 Yes           Electronic check          29.85         29.85   \n",
              "1                  No               Mailed check          56.95        1889.5   \n",
              "2                 Yes               Mailed check          53.85        108.15   \n",
              "3                  No  Bank transfer (automatic)          42.30       1840.75   \n",
              "4                 Yes           Electronic check          70.70        151.65   \n",
              "...               ...                        ...            ...           ...   \n",
              "7038              Yes               Mailed check          84.80        1990.5   \n",
              "7039              Yes    Credit card (automatic)         103.20        7362.9   \n",
              "7040              Yes           Electronic check          29.60        346.45   \n",
              "7041              Yes               Mailed check          74.40         306.6   \n",
              "7042              Yes  Bank transfer (automatic)         105.65        6844.5   \n",
              "\n",
              "     Churn  \n",
              "0       No  \n",
              "1       No  \n",
              "2      Yes  \n",
              "3       No  \n",
              "4      Yes  \n",
              "...    ...  \n",
              "7038    No  \n",
              "7039    No  \n",
              "7040    No  \n",
              "7041   Yes  \n",
              "7042    No  \n",
              "\n",
              "[7043 rows x 21 columns]"
            ]
          },
          "execution_count": 21,
          "metadata": {},
          "output_type": "execute_result"
        }
      ],
      "source": [
        "df"
      ]
    },
    {
      "cell_type": "code",
      "execution_count": null,
      "metadata": {
        "id": "N9Tp57sEnKo8",
        "outputId": "8096493a-f067-4a8c-f5a7-a7973acf7c74"
      },
      "outputs": [
        {
          "data": {
            "text/plain": [
              "<AxesSubplot:>"
            ]
          },
          "execution_count": 22,
          "metadata": {},
          "output_type": "execute_result"
        },
        {
          "data": {
            "image/png": "[encoded data removed]",
            "text/plain": [
              "<Figure size 432x288 with 1 Axes>"
            ]
          },
          "metadata": {
            "needs_background": "light"
          },
          "output_type": "display_data"
        }
      ],
      "source": [
        "df['Churn'].value_counts().plot(kind='bar')"
      ]
    },
    {
      "cell_type": "markdown",
      "metadata": {
        "id": "xUIRdstxnKo8"
      },
      "source": [
        "It's only two lines of code to rebalance the data in Python, but it takes some explaining...\n",
        "\n",
        "First we identify the groups in our data that we want to balance, using the `groupby()` function. We tell the function that we want to use the values in *Churn* to make the groups. This function returns a DataFrameGroupBy object, a collection of DataFrames, one for each groups. We store the DataFrameGroupBy object in *g*.\n",
        "\n",
        "Now we'll explain what is happening in the second line:\n",
        "\n",
        "`g.size().min()` finds the size of the smallest group in our data. We determined this by hand in Orange.\n",
        "\n",
        "`x.sample(v)` chooses a random set of `v` rows from the data frame `x`. We used the Data Sampler for this in Orange.\n",
        "\n",
        "`lambda x: x.sample(g.size().min()))` is a [Lambda function](https://www.w3schools.com/python/python_lambda.asp). This basically says \"every time we are given a data frame object called `x` I want you to sample some values from it to make a smaller data frame\"\n",
        "\n",
        "`g.apply(...)` is a function on the DataFrameGroupBy object. What it does is call the lambda function for each of the groups. So it's saying \"run the sampling operation on each group please\".\n",
        "\n",
        "`pd.DataFrame()` joins all the groups back together into one data frame again. This was done by the Concatenate widget in Orange.\n",
        "\n",
        "`.reset_index(drop=True)` is needed to reset the row numbers in the data frame after we're done.\n",
        "\n",
        "You might notice that we're sampling all the groups, and this will include the smallest one, which doesn't actually need sampled. That's okay, because the kind of sampling we're doing will just get everything if the required number of samples is the same as what's already in the data frame."
      ]
    },
    {
      "cell_type": "code",
      "execution_count": null,
      "metadata": {
        "id": "5R-kydArnKo8"
      },
      "outputs": [],
      "source": [
        "g = df.groupby('Churn')\n",
        "\n",
        "df = g.apply(lambda x: x.sample(g.size().min())).reset_index(drop=True)\n",
        "\n",
        "# note: for newer versions of Pandas (>1.1.0), you can use this much simpler code\n",
        "#df = g.sample(g.size().min()).reset_index(drop=True)"
      ]
    },
    {
      "cell_type": "markdown",
      "metadata": {
        "id": "Z7R3g3xonKo8"
      },
      "source": [
        "Let's check the data for balance again..."
      ]
    },
    {
      "cell_type": "code",
      "execution_count": null,
      "metadata": {
        "id": "itif_Q71nKo8",
        "outputId": "596dba91-b31e-4d02-cf29-81bbb250388d"
      },
      "outputs": [
        {
          "data": {
            "text/plain": [
              "<AxesSubplot:>"
            ]
          },
          "execution_count": 24,
          "metadata": {},
          "output_type": "execute_result"
        },
        {
          "data": {
            "image/png": "[encoded data removed]",
            "text/plain": [
              "<Figure size 432x288 with 1 Axes>"
            ]
          },
          "metadata": {
            "needs_background": "light"
          },
          "output_type": "display_data"
        }
      ],
      "source": [
        "df['Churn'].value_counts().plot(kind='bar')"
      ]
    },
    {
      "cell_type": "code",
      "execution_count": null,
      "metadata": {
        "id": "fATHtzzinKo8",
        "outputId": "592d8906-eca0-4650-9eba-c002765205c3"
      },
      "outputs": [
        {
          "data": {
            "text/html": [
              "<div>\n",
              "<style scoped>\n",
              "    .dataframe tbody tr th:only-of-type {\n",
              "        vertical-align: middle;\n",
              "    }\n",
              "\n",
              "    .dataframe tbody tr th {\n",
              "        vertical-align: top;\n",
              "    }\n",
              "\n",
              "    .dataframe thead th {\n",
              "        text-align: right;\n",
              "    }\n",
              "</style>\n",
              "<table border=\"1\" class=\"dataframe\">\n",
              "  <thead>\n",
              "    <tr style=\"text-align: right;\">\n",
              "      <th></th>\n",
              "      <th>customerID</th>\n",
              "      <th>gender</th>\n",
              "      <th>SeniorCitizen</th>\n",
              "      <th>Partner</th>\n",
              "      <th>Dependents</th>\n",
              "      <th>tenure</th>\n",
              "      <th>PhoneService</th>\n",
              "      <th>MultipleLines</th>\n",
              "      <th>InternetService</th>\n",
              "      <th>OnlineSecurity</th>\n",
              "      <th>...</th>\n",
              "      <th>DeviceProtection</th>\n",
              "      <th>TechSupport</th>\n",
              "      <th>StreamingTV</th>\n",
              "      <th>StreamingMovies</th>\n",
              "      <th>Contract</th>\n",
              "      <th>PaperlessBilling</th>\n",
              "      <th>PaymentMethod</th>\n",
              "      <th>MonthlyCharges</th>\n",
              "      <th>TotalCharges</th>\n",
              "      <th>Churn</th>\n",
              "    </tr>\n",
              "  </thead>\n",
              "  <tbody>\n",
              "    <tr>\n",
              "      <th>0</th>\n",
              "      <td>2525-GVKQU</td>\n",
              "      <td>Female</td>\n",
              "      <td>0</td>\n",
              "      <td>No</td>\n",
              "      <td>No</td>\n",
              "      <td>60</td>\n",
              "      <td>Yes</td>\n",
              "      <td>No</td>\n",
              "      <td>No</td>\n",
              "      <td>No internet service</td>\n",
              "      <td>...</td>\n",
              "      <td>No internet service</td>\n",
              "      <td>No internet service</td>\n",
              "      <td>No internet service</td>\n",
              "      <td>No internet service</td>\n",
              "      <td>Two year</td>\n",
              "      <td>No</td>\n",
              "      <td>Mailed check</td>\n",
              "      <td>20.60</td>\n",
              "      <td>1093</td>\n",
              "      <td>No</td>\n",
              "    </tr>\n",
              "    <tr>\n",
              "      <th>1</th>\n",
              "      <td>6988-CJEYV</td>\n",
              "      <td>Male</td>\n",
              "      <td>0</td>\n",
              "      <td>No</td>\n",
              "      <td>No</td>\n",
              "      <td>49</td>\n",
              "      <td>Yes</td>\n",
              "      <td>Yes</td>\n",
              "      <td>Fiber optic</td>\n",
              "      <td>No</td>\n",
              "      <td>...</td>\n",
              "      <td>No</td>\n",
              "      <td>No</td>\n",
              "      <td>Yes</td>\n",
              "      <td>Yes</td>\n",
              "      <td>Month-to-month</td>\n",
              "      <td>No</td>\n",
              "      <td>Electronic check</td>\n",
              "      <td>98.70</td>\n",
              "      <td>4920.55</td>\n",
              "      <td>No</td>\n",
              "    </tr>\n",
              "    <tr>\n",
              "      <th>2</th>\n",
              "      <td>5327-CNLUQ</td>\n",
              "      <td>Male</td>\n",
              "      <td>0</td>\n",
              "      <td>Yes</td>\n",
              "      <td>No</td>\n",
              "      <td>48</td>\n",
              "      <td>Yes</td>\n",
              "      <td>Yes</td>\n",
              "      <td>Fiber optic</td>\n",
              "      <td>Yes</td>\n",
              "      <td>...</td>\n",
              "      <td>Yes</td>\n",
              "      <td>No</td>\n",
              "      <td>Yes</td>\n",
              "      <td>No</td>\n",
              "      <td>Two year</td>\n",
              "      <td>Yes</td>\n",
              "      <td>Bank transfer (automatic)</td>\n",
              "      <td>96.90</td>\n",
              "      <td>4473.45</td>\n",
              "      <td>No</td>\n",
              "    </tr>\n",
              "    <tr>\n",
              "      <th>3</th>\n",
              "      <td>1251-STYSZ</td>\n",
              "      <td>Female</td>\n",
              "      <td>1</td>\n",
              "      <td>No</td>\n",
              "      <td>No</td>\n",
              "      <td>4</td>\n",
              "      <td>Yes</td>\n",
              "      <td>Yes</td>\n",
              "      <td>Fiber optic</td>\n",
              "      <td>Yes</td>\n",
              "      <td>...</td>\n",
              "      <td>No</td>\n",
              "      <td>No</td>\n",
              "      <td>No</td>\n",
              "      <td>No</td>\n",
              "      <td>Month-to-month</td>\n",
              "      <td>Yes</td>\n",
              "      <td>Electronic check</td>\n",
              "      <td>80.25</td>\n",
              "      <td>303.7</td>\n",
              "      <td>No</td>\n",
              "    </tr>\n",
              "    <tr>\n",
              "      <th>4</th>\n",
              "      <td>8606-OEGQZ</td>\n",
              "      <td>Female</td>\n",
              "      <td>0</td>\n",
              "      <td>No</td>\n",
              "      <td>Yes</td>\n",
              "      <td>18</td>\n",
              "      <td>Yes</td>\n",
              "      <td>Yes</td>\n",
              "      <td>No</td>\n",
              "      <td>No internet service</td>\n",
              "      <td>...</td>\n",
              "      <td>No internet service</td>\n",
              "      <td>No internet service</td>\n",
              "      <td>No internet service</td>\n",
              "      <td>No internet service</td>\n",
              "      <td>Two year</td>\n",
              "      <td>No</td>\n",
              "      <td>Credit card (automatic)</td>\n",
              "      <td>25.30</td>\n",
              "      <td>454.65</td>\n",
              "      <td>No</td>\n",
              "    </tr>\n",
              "    <tr>\n",
              "      <th>...</th>\n",
              "      <td>...</td>\n",
              "      <td>...</td>\n",
              "      <td>...</td>\n",
              "      <td>...</td>\n",
              "      <td>...</td>\n",
              "      <td>...</td>\n",
              "      <td>...</td>\n",
              "      <td>...</td>\n",
              "      <td>...</td>\n",
              "      <td>...</td>\n",
              "      <td>...</td>\n",
              "      <td>...</td>\n",
              "      <td>...</td>\n",
              "      <td>...</td>\n",
              "      <td>...</td>\n",
              "      <td>...</td>\n",
              "      <td>...</td>\n",
              "      <td>...</td>\n",
              "      <td>...</td>\n",
              "      <td>...</td>\n",
              "      <td>...</td>\n",
              "    </tr>\n",
              "    <tr>\n",
              "      <th>3733</th>\n",
              "      <td>2265-CYWIV</td>\n",
              "      <td>Female</td>\n",
              "      <td>1</td>\n",
              "      <td>Yes</td>\n",
              "      <td>No</td>\n",
              "      <td>4</td>\n",
              "      <td>Yes</td>\n",
              "      <td>Yes</td>\n",
              "      <td>Fiber optic</td>\n",
              "      <td>Yes</td>\n",
              "      <td>...</td>\n",
              "      <td>No</td>\n",
              "      <td>No</td>\n",
              "      <td>Yes</td>\n",
              "      <td>Yes</td>\n",
              "      <td>Month-to-month</td>\n",
              "      <td>Yes</td>\n",
              "      <td>Electronic check</td>\n",
              "      <td>99.60</td>\n",
              "      <td>347.65</td>\n",
              "      <td>Yes</td>\n",
              "    </tr>\n",
              "    <tr>\n",
              "      <th>3734</th>\n",
              "      <td>4228-ZGYUW</td>\n",
              "      <td>Male</td>\n",
              "      <td>0</td>\n",
              "      <td>No</td>\n",
              "      <td>No</td>\n",
              "      <td>4</td>\n",
              "      <td>Yes</td>\n",
              "      <td>Yes</td>\n",
              "      <td>Fiber optic</td>\n",
              "      <td>No</td>\n",
              "      <td>...</td>\n",
              "      <td>No</td>\n",
              "      <td>No</td>\n",
              "      <td>No</td>\n",
              "      <td>Yes</td>\n",
              "      <td>Month-to-month</td>\n",
              "      <td>Yes</td>\n",
              "      <td>Electronic check</td>\n",
              "      <td>90.05</td>\n",
              "      <td>368.1</td>\n",
              "      <td>Yes</td>\n",
              "    </tr>\n",
              "    <tr>\n",
              "      <th>3735</th>\n",
              "      <td>8610-WFCJF</td>\n",
              "      <td>Female</td>\n",
              "      <td>0</td>\n",
              "      <td>Yes</td>\n",
              "      <td>Yes</td>\n",
              "      <td>49</td>\n",
              "      <td>Yes</td>\n",
              "      <td>Yes</td>\n",
              "      <td>Fiber optic</td>\n",
              "      <td>No</td>\n",
              "      <td>...</td>\n",
              "      <td>No</td>\n",
              "      <td>No</td>\n",
              "      <td>Yes</td>\n",
              "      <td>Yes</td>\n",
              "      <td>Month-to-month</td>\n",
              "      <td>Yes</td>\n",
              "      <td>Electronic check</td>\n",
              "      <td>95.60</td>\n",
              "      <td>4783.5</td>\n",
              "      <td>Yes</td>\n",
              "    </tr>\n",
              "    <tr>\n",
              "      <th>3736</th>\n",
              "      <td>9732-KPKBW</td>\n",
              "      <td>Male</td>\n",
              "      <td>0</td>\n",
              "      <td>No</td>\n",
              "      <td>No</td>\n",
              "      <td>1</td>\n",
              "      <td>Yes</td>\n",
              "      <td>No</td>\n",
              "      <td>DSL</td>\n",
              "      <td>Yes</td>\n",
              "      <td>...</td>\n",
              "      <td>No</td>\n",
              "      <td>Yes</td>\n",
              "      <td>No</td>\n",
              "      <td>No</td>\n",
              "      <td>Month-to-month</td>\n",
              "      <td>Yes</td>\n",
              "      <td>Electronic check</td>\n",
              "      <td>53.95</td>\n",
              "      <td>53.95</td>\n",
              "      <td>Yes</td>\n",
              "    </tr>\n",
              "    <tr>\n",
              "      <th>3737</th>\n",
              "      <td>5482-NUPNA</td>\n",
              "      <td>Female</td>\n",
              "      <td>0</td>\n",
              "      <td>No</td>\n",
              "      <td>No</td>\n",
              "      <td>4</td>\n",
              "      <td>Yes</td>\n",
              "      <td>No</td>\n",
              "      <td>DSL</td>\n",
              "      <td>Yes</td>\n",
              "      <td>...</td>\n",
              "      <td>No</td>\n",
              "      <td>Yes</td>\n",
              "      <td>No</td>\n",
              "      <td>No</td>\n",
              "      <td>Month-to-month</td>\n",
              "      <td>Yes</td>\n",
              "      <td>Mailed check</td>\n",
              "      <td>60.40</td>\n",
              "      <td>272.15</td>\n",
              "      <td>Yes</td>\n",
              "    </tr>\n",
              "  </tbody>\n",
              "</table>\n",
              "<p>3738 rows × 21 columns</p>\n",
              "</div>"
            ],
            "text/plain": [
              "      customerID  gender  SeniorCitizen Partner Dependents  tenure  \\\n",
              "0     2525-GVKQU  Female              0      No         No      60   \n",
              "1     6988-CJEYV    Male              0      No         No      49   \n",
              "2     5327-CNLUQ    Male              0     Yes         No      48   \n",
              "3     1251-STYSZ  Female              1      No         No       4   \n",
              "4     8606-OEGQZ  Female              0      No        Yes      18   \n",
              "...          ...     ...            ...     ...        ...     ...   \n",
              "3733  2265-CYWIV  Female              1     Yes         No       4   \n",
              "3734  4228-ZGYUW    Male              0      No         No       4   \n",
              "3735  8610-WFCJF  Female              0     Yes        Yes      49   \n",
              "3736  9732-KPKBW    Male              0      No         No       1   \n",
              "3737  5482-NUPNA  Female              0      No         No       4   \n",
              "\n",
              "     PhoneService MultipleLines InternetService       OnlineSecurity  ...  \\\n",
              "0             Yes            No              No  No internet service  ...   \n",
              "1             Yes           Yes     Fiber optic                   No  ...   \n",
              "2             Yes           Yes     Fiber optic                  Yes  ...   \n",
              "3             Yes           Yes     Fiber optic                  Yes  ...   \n",
              "4             Yes           Yes              No  No internet service  ...   \n",
              "...           ...           ...             ...                  ...  ...   \n",
              "3733          Yes           Yes     Fiber optic                  Yes  ...   \n",
              "3734          Yes           Yes     Fiber optic                   No  ...   \n",
              "3735          Yes           Yes     Fiber optic                   No  ...   \n",
              "3736          Yes            No             DSL                  Yes  ...   \n",
              "3737          Yes            No             DSL                  Yes  ...   \n",
              "\n",
              "         DeviceProtection          TechSupport          StreamingTV  \\\n",
              "0     No internet service  No internet service  No internet service   \n",
              "1                      No                   No                  Yes   \n",
              "2                     Yes                   No                  Yes   \n",
              "3                      No                   No                   No   \n",
              "4     No internet service  No internet service  No internet service   \n",
              "...                   ...                  ...                  ...   \n",
              "3733                   No                   No                  Yes   \n",
              "3734                   No                   No                   No   \n",
              "3735                   No                   No                  Yes   \n",
              "3736                   No                  Yes                   No   \n",
              "3737                   No                  Yes                   No   \n",
              "\n",
              "          StreamingMovies        Contract PaperlessBilling  \\\n",
              "0     No internet service        Two year               No   \n",
              "1                     Yes  Month-to-month               No   \n",
              "2                      No        Two year              Yes   \n",
              "3                      No  Month-to-month              Yes   \n",
              "4     No internet service        Two year               No   \n",
              "...                   ...             ...              ...   \n",
              "3733                  Yes  Month-to-month              Yes   \n",
              "3734                  Yes  Month-to-month              Yes   \n",
              "3735                  Yes  Month-to-month              Yes   \n",
              "3736                   No  Month-to-month              Yes   \n",
              "3737                   No  Month-to-month              Yes   \n",
              "\n",
              "                  PaymentMethod MonthlyCharges  TotalCharges Churn  \n",
              "0                  Mailed check          20.60          1093    No  \n",
              "1              Electronic check          98.70       4920.55    No  \n",
              "2     Bank transfer (automatic)          96.90       4473.45    No  \n",
              "3              Electronic check          80.25         303.7    No  \n",
              "4       Credit card (automatic)          25.30        454.65    No  \n",
              "...                         ...            ...           ...   ...  \n",
              "3733           Electronic check          99.60        347.65   Yes  \n",
              "3734           Electronic check          90.05         368.1   Yes  \n",
              "3735           Electronic check          95.60        4783.5   Yes  \n",
              "3736           Electronic check          53.95         53.95   Yes  \n",
              "3737               Mailed check          60.40        272.15   Yes  \n",
              "\n",
              "[3738 rows x 21 columns]"
            ]
          },
          "execution_count": 25,
          "metadata": {},
          "output_type": "execute_result"
        }
      ],
      "source": [
        "df"
      ]
    },
    {
      "cell_type": "markdown",
      "metadata": {
        "id": "6rkBkBbhnKo8"
      },
      "source": [
        "Excellent! It's nicely balanced. Well done: that's the end of this exercise."
      ]
    }
  ],
  "metadata": {
    "kernelspec": {
      "display_name": "Python 3 (ipykernel)",
      "language": "python",
      "name": "python3"
    },
    "language_info": {
      "codemirror_mode": {
        "name": "ipython",
        "version": 3
      },
      "file_extension": ".py",
      "mimetype": "text/x-python",
      "name": "python",
      "nbconvert_exporter": "python",
      "pygments_lexer": "ipython3",
      "version": "3.11.7"
    },
    "colab": {
      "provenance": [],
      "include_colab_link": true
    }
  },
  "nbformat": 4,
  "nbformat_minor": 0
}