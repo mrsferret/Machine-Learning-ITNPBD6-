{
  "cells": [
    {
      "cell_type": "markdown",
      "metadata": {
        "id": "view-in-github",
        "colab_type": "text"
      },
      "source": [
        "<a href=\"https://colab.research.google.com/github/mrsferret/Machine-Learning-ITNPBD6-/blob/main/MyExerciseSession3_MotorClaims.ipynb\" target=\"_parent\"><img src=\"https://colab.research.google.com/assets/colab-badge.svg\" alt=\"Open In Colab\"/></a>"
      ]
    },
    {
      "cell_type": "markdown",
      "metadata": {
        "id": "zdKJxExYmWGK"
      },
      "source": [
        "# kNN in Python\n",
        "\n",
        "In this exercise, we will train and test a k Nearest Neighbours classifier using the sklearn library.\n",
        "\n",
        "In prior practicals, you learned a number of different phases to the machine learning process, and they are necessary for us to perform again.\n",
        "\n",
        "(remember, click on a cell, then control+enter will run it)\n",
        "\n",
        "\n",
        "Let's recap:"
      ]
    },
    {
      "cell_type": "markdown",
      "metadata": {
        "id": "0EO0tI9NmWGN"
      },
      "source": [
        "Load the data as you did in your last exercise with Python, ensuring that the path to your data is correct."
      ]
    },
    {
      "cell_type": "code",
      "execution_count": 3,
      "metadata": {
        "id": "y7zcPF9PmWGO"
      },
      "outputs": [],
      "source": [
        "import pandas as pd\n",
        "import numpy as np\n",
        "\n",
        "# remember to change this path if you've saved the data somewhere else\n",
        "df=pd.read_csv(\"MotorClaims.csv\")"
      ]
    },
    {
      "cell_type": "code",
      "source": [
        "from google.colab import drive\n",
        "drive.mount('/content/drive')"
      ],
      "metadata": {
        "id": "p68P4BB0-vw1"
      },
      "execution_count": null,
      "outputs": []
    },
    {
      "cell_type": "markdown",
      "metadata": {
        "id": "wP9Fv0mImWGQ"
      },
      "source": [
        "and inspect the data (an important habit to get into)"
      ]
    },
    {
      "cell_type": "code",
      "execution_count": 17,
      "metadata": {
        "id": "eRgTXW-QmWGQ",
        "outputId": "c27e18a1-7e3b-41f0-c2f2-9e82e9258d25",
        "colab": {
          "base_uri": "https://localhost:8080/"
        }
      },
      "outputs": [
        {
          "output_type": "execute_result",
          "data": {
            "text/plain": [
              "['ID',\n",
              " 'Age',\n",
              " 'Gender',\n",
              " 'LicenceCountry',\n",
              " 'Yrs DL',\n",
              " 'Points',\n",
              " 'NCD',\n",
              " 'Engine cc',\n",
              " 'Ins Group',\n",
              " 'Stored',\n",
              " 'Car Age',\n",
              " 'Claim']"
            ]
          },
          "metadata": {},
          "execution_count": 17
        }
      ],
      "source": [
        "# list(data) or\n",
        "list(df.columns)\n",
        "#df.head()"
      ]
    },
    {
      "cell_type": "code",
      "source": [
        "#\n",
        "print(df['LicenceCountry'].value_counts().index.tolist())\n",
        "print(type(df['LicenceCountry'].value_counts().index.tolist()))\n",
        "print(df['LicenceCountry'].value_counts(dropna=False).index.tolist())\n",
        "vc = df['LicenceCountry'].value_counts()\n",
        "print(vc['UK'])\n",
        "print(vc['Ireland'])\n",
        "print(vc['France'])\n",
        "\n",
        "print(df['Stored'].value_counts(dropna=False).index.tolist())\n",
        "vc = df['Stored'].value_counts()\n",
        "df.LicenceCountry.unique()\n",
        "\n",
        "vc = df['Stored'].value_counts()\n",
        "print(vc['Garage'])\n",
        "print(vc['Drive'])\n",
        "print(vc['Road'])\n",
        "print(vc['0'])\n",
        "\n",
        "df.Gender.unique()\n"
      ],
      "metadata": {
        "colab": {
          "base_uri": "https://localhost:8080/"
        },
        "id": "BPs16n_RqL9Z",
        "outputId": "4395f626-e8f7-4dcc-c994-c67b8d6fb7d7"
      },
      "execution_count": 15,
      "outputs": [
        {
          "output_type": "stream",
          "name": "stdout",
          "text": [
            "['UK', 'Ireland', 'France']\n",
            "<class 'list'>\n",
            "['UK', 'Ireland', 'France']\n",
            "4380\n",
            "5\n",
            "2\n",
            "['Garage', 'Road', 'Drive', '0']\n",
            "3057\n",
            "393\n",
            "931\n",
            "6\n"
          ]
        },
        {
          "output_type": "execute_result",
          "data": {
            "text/plain": [
              "array(['Garage', '0', 'Road', 'Drive'], dtype=object)"
            ]
          },
          "metadata": {},
          "execution_count": 15
        }
      ]
    },
    {
      "cell_type": "code",
      "source": [
        "# copy the data frame so we've still got the original in case we need it\n",
        "\n",
        "df_cleaned = df.copy()\n",
        "\n",
        "# choose which rows to keep\n",
        "#df_cleaned = df_cleaned[(df_cleaned.Stored != 0)]\n",
        "df_cleaned = df_cleaned[(df_cleaned.LicenceCountry==\"UK\") & (df_cleaned.Stored!=\"0\")]\n",
        "\n",
        "# needed so that row numbers still in sequence\n",
        "df_cleaned.reset_index(drop=True)\n",
        "\n",
        "vc = df_cleaned['Stored'].value_counts()\n",
        "print(vc['Garage'])\n",
        "print(vc['Drive'])\n",
        "print(vc['Road'])\n",
        "#print(vc['0'])\n",
        "\n",
        "df_cleaned['Stored'].value_counts().plot(kind='bar')"
      ],
      "metadata": {
        "colab": {
          "base_uri": "https://localhost:8080/",
          "height": 559
        },
        "id": "n34nxLI60ZQG",
        "outputId": "606c1abd-ff85-4285-a516-ccdfb273e043"
      },
      "execution_count": 22,
      "outputs": [
        {
          "output_type": "stream",
          "name": "stdout",
          "text": [
            "3052\n",
            "392\n",
            "930\n"
          ]
        },
        {
          "output_type": "execute_result",
          "data": {
            "text/plain": [
              "<Axes: xlabel='Stored'>"
            ]
          },
          "metadata": {},
          "execution_count": 22
        },
        {
          "output_type": "display_data",
          "data": {
            "text/plain": [
              "<Figure size 640x480 with 1 Axes>"
            ],
            "image/png": "[encoded data removed]"
          },
          "metadata": {}
        }
      ]
    },
    {
      "cell_type": "code",
      "source": [
        "# Select only the columns we want to keep\n",
        "# define the list of features to keep\n",
        "selected_features = ['Age',\n",
        " 'Gender',\n",
        " #'LicenceCountry',\n",
        " 'Yrs DL',\n",
        " 'Points',\n",
        " 'NCD',\n",
        " 'Engine cc',\n",
        " 'Ins Group',\n",
        " 'Stored',\n",
        " 'Car Age',\n",
        " 'Claim']"
      ],
      "metadata": {
        "id": "p5FOkwFX4TOs"
      },
      "execution_count": 29,
      "outputs": []
    },
    {
      "cell_type": "code",
      "source": [
        "# now update the dataframe with selected features\n",
        "df_cleaned = df_cleaned[selected_features]\n",
        "list(df_cleaned.columns)\n",
        "# df_cleaned.describe()"
      ],
      "metadata": {
        "colab": {
          "base_uri": "https://localhost:8080/"
        },
        "id": "UhR2MrZT5M1x",
        "outputId": "e6254e48-cb05-4363-8601-7baa37006f1d"
      },
      "execution_count": 30,
      "outputs": [
        {
          "output_type": "execute_result",
          "data": {
            "text/plain": [
              "['Age',\n",
              " 'Gender',\n",
              " 'Yrs DL',\n",
              " 'Points',\n",
              " 'NCD',\n",
              " 'Engine cc',\n",
              " 'Ins Group',\n",
              " 'Stored',\n",
              " 'Car Age',\n",
              " 'Claim']"
            ]
          },
          "metadata": {},
          "execution_count": 30
        }
      ]
    },
    {
      "cell_type": "code",
      "source": [
        "# Gender column is inconsistent -  some 'Female' and 'Male' values, as well as\n",
        "# 'M' and 'F'\n",
        "# which we'll map to F and M...\n",
        "# we can use a dictionary to set up the mapping...\n",
        "df_cleaned['Gender'] = df_cleaned['Gender'].replace({'Female':'F','Male':'M'})\n",
        "# just to check it's worked...\n",
        "df_cleaned['Gender'].value_counts().plot(kind='bar')"
      ],
      "metadata": {
        "colab": {
          "base_uri": "https://localhost:8080/",
          "height": 465
        },
        "id": "_t90SUyL6ODB",
        "outputId": "f413d63b-749b-4cfa-bcfd-dc74bc1f5388"
      },
      "execution_count": 31,
      "outputs": [
        {
          "output_type": "execute_result",
          "data": {
            "text/plain": [
              "<Axes: xlabel='Gender'>"
            ]
          },
          "metadata": {},
          "execution_count": 31
        },
        {
          "output_type": "display_data",
          "data": {
            "text/plain": [
              "<Figure size 640x480 with 1 Axes>"
            ],
            "image/png": "[encoded data removed]"
          },
          "metadata": {}
        }
      ]
    },
    {
      "cell_type": "code",
      "source": [
        "df_cleaned = pd.get_dummies(df_cleaned, prefix_sep='_', drop_first=True)\n",
        "df_cleaned.head()"
      ],
      "metadata": {
        "colab": {
          "base_uri": "https://localhost:8080/",
          "height": 206
        },
        "id": "z_VDuuWvuRR2",
        "outputId": "18b197a6-a7b7-4969-f5cd-6f7eba9674b2"
      },
      "execution_count": 32,
      "outputs": [
        {
          "output_type": "execute_result",
          "data": {
            "text/plain": [
              "   Age  Yrs DL  Points  NCD  Engine cc  Ins Group  Car Age  Gender_M  \\\n",
              "0   52      16       0    0       1200          4        2      True   \n",
              "1   46      22       8    1       1400          2        7     False   \n",
              "2   59       9       0    0       1400          5       14     False   \n",
              "4   59       3       0    4       1400          5       13     False   \n",
              "5   78      57       4    1       1800          3        1      True   \n",
              "\n",
              "   Stored_Garage  Stored_Road  Claim_Yes  \n",
              "0           True        False      False  \n",
              "1           True        False       True  \n",
              "2           True        False      False  \n",
              "4          False         True       True  \n",
              "5           True        False       True  "
            ],
            "text/html": [
              "\n",
              "  <div id=\"df-556cd3ac-c624-4a2f-bab0-31442e88c97d\" class=\"colab-df-container\">\n",
              "    <div>\n",
              "<style scoped>\n",
              "    .dataframe tbody tr th:only-of-type {\n",
              "        vertical-align: middle;\n",
              "    }\n",
              "\n",
              "    .dataframe tbody tr th {\n",
              "        vertical-align: top;\n",
              "    }\n",
              "\n",
              "    .dataframe thead th {\n",
              "        text-align: right;\n",
              "    }\n",
              "</style>\n",
              "<table border=\"1\" class=\"dataframe\">\n",
              "  <thead>\n",
              "    <tr style=\"text-align: right;\">\n",
              "      <th></th>\n",
              "      <th>Age</th>\n",
              "      <th>Yrs DL</th>\n",
              "      <th>Points</th>\n",
              "      <th>NCD</th>\n",
              "      <th>Engine cc</th>\n",
              "      <th>Ins Group</th>\n",
              "      <th>Car Age</th>\n",
              "      <th>Gender_M</th>\n",
              "      <th>Stored_Garage</th>\n",
              "      <th>Stored_Road</th>\n",
              "      <th>Claim_Yes</th>\n",
              "    </tr>\n",
              "  </thead>\n",
              "  <tbody>\n",
              "    <tr>\n",
              "      <th>0</th>\n",
              "      <td>52</td>\n",
              "      <td>16</td>\n",
              "      <td>0</td>\n",
              "      <td>0</td>\n",
              "      <td>1200</td>\n",
              "      <td>4</td>\n",
              "      <td>2</td>\n",
              "      <td>True</td>\n",
              "      <td>True</td>\n",
              "      <td>False</td>\n",
              "      <td>False</td>\n",
              "    </tr>\n",
              "    <tr>\n",
              "      <th>1</th>\n",
              "      <td>46</td>\n",
              "      <td>22</td>\n",
              "      <td>8</td>\n",
              "      <td>1</td>\n",
              "      <td>1400</td>\n",
              "      <td>2</td>\n",
              "      <td>7</td>\n",
              "      <td>False</td>\n",
              "      <td>True</td>\n",
              "      <td>False</td>\n",
              "      <td>True</td>\n",
              "    </tr>\n",
              "    <tr>\n",
              "      <th>2</th>\n",
              "      <td>59</td>\n",
              "      <td>9</td>\n",
              "      <td>0</td>\n",
              "      <td>0</td>\n",
              "      <td>1400</td>\n",
              "      <td>5</td>\n",
              "      <td>14</td>\n",
              "      <td>False</td>\n",
              "      <td>True</td>\n",
              "      <td>False</td>\n",
              "      <td>False</td>\n",
              "    </tr>\n",
              "    <tr>\n",
              "      <th>4</th>\n",
              "      <td>59</td>\n",
              "      <td>3</td>\n",
              "      <td>0</td>\n",
              "      <td>4</td>\n",
              "      <td>1400</td>\n",
              "      <td>5</td>\n",
              "      <td>13</td>\n",
              "      <td>False</td>\n",
              "      <td>False</td>\n",
              "      <td>True</td>\n",
              "      <td>True</td>\n",
              "    </tr>\n",
              "    <tr>\n",
              "      <th>5</th>\n",
              "      <td>78</td>\n",
              "      <td>57</td>\n",
              "      <td>4</td>\n",
              "      <td>1</td>\n",
              "      <td>1800</td>\n",
              "      <td>3</td>\n",
              "      <td>1</td>\n",
              "      <td>True</td>\n",
              "      <td>True</td>\n",
              "      <td>False</td>\n",
              "      <td>True</td>\n",
              "    </tr>\n",
              "  </tbody>\n",
              "</table>\n",
              "</div>\n",
              "    <div class=\"colab-df-buttons\">\n",
              "\n",
              "  <div class=\"colab-df-container\">\n",
              "    <button class=\"colab-df-convert\" onclick=\"convertToInteractive('df-556cd3ac-c624-4a2f-bab0-31442e88c97d')\"\n",
              "            title=\"Convert this dataframe to an interactive table.\"\n",
              "            style=\"display:none;\">\n",
              "\n",
              "  <svg xmlns=\"http://www.w3.org/2000/svg\" height=\"24px\" viewBox=\"0 -960 960 960\">\n",
              "    <path d=\"M120-120v-720h720v720H120Zm60-500h600v-160H180v160Zm220 220h160v-160H400v160Zm0 220h160v-160H400v160ZM180-400h160v-160H180v160Zm440 0h160v-160H620v160ZM180-180h160v-160H180v160Zm440 0h160v-160H620v160Z\"/>\n",
              "  </svg>\n",
              "    </button>\n",
              "\n",
              "  <style>\n",
              "    .colab-df-container {\n",
              "      display:flex;\n",
              "      gap: 12px;\n",
              "    }\n",
              "\n",
              "    .colab-df-convert {\n",
              "      background-color: #E8F0FE;\n",
              "      border: none;\n",
              "      border-radius: 50%;\n",
              "      cursor: pointer;\n",
              "      display: none;\n",
              "      fill: #1967D2;\n",
              "      height: 32px;\n",
              "      padding: 0 0 0 0;\n",
              "      width: 32px;\n",
              "    }\n",
              "\n",
              "    .colab-df-convert:hover {\n",
              "      background-color: #E2EBFA;\n",
              "      box-shadow: 0px 1px 2px rgba(60, 64, 67, 0.3), 0px 1px 3px 1px rgba(60, 64, 67, 0.15);\n",
              "      fill: #174EA6;\n",
              "    }\n",
              "\n",
              "    .colab-df-buttons div {\n",
              "      margin-bottom: 4px;\n",
              "    }\n",
              "\n",
              "    [theme=dark] .colab-df-convert {\n",
              "      background-color: #3B4455;\n",
              "      fill: #D2E3FC;\n",
              "    }\n",
              "\n",
              "    [theme=dark] .colab-df-convert:hover {\n",
              "      background-color: #434B5C;\n",
              "      box-shadow: 0px 1px 3px 1px rgba(0, 0, 0, 0.15);\n",
              "      filter: drop-shadow(0px 1px 2px rgba(0, 0, 0, 0.3));\n",
              "      fill: #FFFFFF;\n",
              "    }\n",
              "  </style>\n",
              "\n",
              "    <script>\n",
              "      const buttonEl =\n",
              "        document.querySelector('#df-556cd3ac-c624-4a2f-bab0-31442e88c97d button.colab-df-convert');\n",
              "      buttonEl.style.display =\n",
              "        google.colab.kernel.accessAllowed ? 'block' : 'none';\n",
              "\n",
              "      async function convertToInteractive(key) {\n",
              "        const element = document.querySelector('#df-556cd3ac-c624-4a2f-bab0-31442e88c97d');\n",
              "        const dataTable =\n",
              "          await google.colab.kernel.invokeFunction('convertToInteractive',\n",
              "                                                    [key], {});\n",
              "        if (!dataTable) return;\n",
              "\n",
              "        const docLinkHtml = 'Like what you see? Visit the ' +\n",
              "          '<a target=\"_blank\" href=https://colab.research.google.com/notebooks/data_table.ipynb>data table notebook</a>'\n",
              "          + ' to learn more about interactive tables.';\n",
              "        element.innerHTML = '';\n",
              "        dataTable['output_type'] = 'display_data';\n",
              "        await google.colab.output.renderOutput(dataTable, element);\n",
              "        const docLink = document.createElement('div');\n",
              "        docLink.innerHTML = docLinkHtml;\n",
              "        element.appendChild(docLink);\n",
              "      }\n",
              "    </script>\n",
              "  </div>\n",
              "\n",
              "\n",
              "<div id=\"df-57deaa7d-1bfd-4896-9232-0d0dcfb1cfdf\">\n",
              "  <button class=\"colab-df-quickchart\" onclick=\"quickchart('df-57deaa7d-1bfd-4896-9232-0d0dcfb1cfdf')\"\n",
              "            title=\"Suggest charts\"\n",
              "            style=\"display:none;\">\n",
              "\n",
              "<svg xmlns=\"http://www.w3.org/2000/svg\" height=\"24px\"viewBox=\"0 0 24 24\"\n",
              "     width=\"24px\">\n",
              "    <g>\n",
              "        <path d=\"M19 3H5c-1.1 0-2 .9-2 2v14c0 1.1.9 2 2 2h14c1.1 0 2-.9 2-2V5c0-1.1-.9-2-2-2zM9 17H7v-7h2v7zm4 0h-2V7h2v10zm4 0h-2v-4h2v4z\"/>\n",
              "    </g>\n",
              "</svg>\n",
              "  </button>\n",
              "\n",
              "<style>\n",
              "  .colab-df-quickchart {\n",
              "      --bg-color: #E8F0FE;\n",
              "      --fill-color: #1967D2;\n",
              "      --hover-bg-color: #E2EBFA;\n",
              "      --hover-fill-color: #174EA6;\n",
              "      --disabled-fill-color: #AAA;\n",
              "      --disabled-bg-color: #DDD;\n",
              "  }\n",
              "\n",
              "  [theme=dark] .colab-df-quickchart {\n",
              "      --bg-color: #3B4455;\n",
              "      --fill-color: #D2E3FC;\n",
              "      --hover-bg-color: #434B5C;\n",
              "      --hover-fill-color: #FFFFFF;\n",
              "      --disabled-bg-color: #3B4455;\n",
              "      --disabled-fill-color: #666;\n",
              "  }\n",
              "\n",
              "  .colab-df-quickchart {\n",
              "    background-color: var(--bg-color);\n",
              "    border: none;\n",
              "    border-radius: 50%;\n",
              "    cursor: pointer;\n",
              "    display: none;\n",
              "    fill: var(--fill-color);\n",
              "    height: 32px;\n",
              "    padding: 0;\n",
              "    width: 32px;\n",
              "  }\n",
              "\n",
              "  .colab-df-quickchart:hover {\n",
              "    background-color: var(--hover-bg-color);\n",
              "    box-shadow: 0 1px 2px rgba(60, 64, 67, 0.3), 0 1px 3px 1px rgba(60, 64, 67, 0.15);\n",
              "    fill: var(--button-hover-fill-color);\n",
              "  }\n",
              "\n",
              "  .colab-df-quickchart-complete:disabled,\n",
              "  .colab-df-quickchart-complete:disabled:hover {\n",
              "    background-color: var(--disabled-bg-color);\n",
              "    fill: var(--disabled-fill-color);\n",
              "    box-shadow: none;\n",
              "  }\n",
              "\n",
              "  .colab-df-spinner {\n",
              "    border: 2px solid var(--fill-color);\n",
              "    border-color: transparent;\n",
              "    border-bottom-color: var(--fill-color);\n",
              "    animation:\n",
              "      spin 1s steps(1) infinite;\n",
              "  }\n",
              "\n",
              "  @keyframes spin {\n",
              "    0% {\n",
              "      border-color: transparent;\n",
              "      border-bottom-color: var(--fill-color);\n",
              "      border-left-color: var(--fill-color);\n",
              "    }\n",
              "    20% {\n",
              "      border-color: transparent;\n",
              "      border-left-color: var(--fill-color);\n",
              "      border-top-color: var(--fill-color);\n",
              "    }\n",
              "    30% {\n",
              "      border-color: transparent;\n",
              "      border-left-color: var(--fill-color);\n",
              "      border-top-color: var(--fill-color);\n",
              "      border-right-color: var(--fill-color);\n",
              "    }\n",
              "    40% {\n",
              "      border-color: transparent;\n",
              "      border-right-color: var(--fill-color);\n",
              "      border-top-color: var(--fill-color);\n",
              "    }\n",
              "    60% {\n",
              "      border-color: transparent;\n",
              "      border-right-color: var(--fill-color);\n",
              "    }\n",
              "    80% {\n",
              "      border-color: transparent;\n",
              "      border-right-color: var(--fill-color);\n",
              "      border-bottom-color: var(--fill-color);\n",
              "    }\n",
              "    90% {\n",
              "      border-color: transparent;\n",
              "      border-bottom-color: var(--fill-color);\n",
              "    }\n",
              "  }\n",
              "</style>\n",
              "\n",
              "  <script>\n",
              "    async function quickchart(key) {\n",
              "      const quickchartButtonEl =\n",
              "        document.querySelector('#' + key + ' button');\n",
              "      quickchartButtonEl.disabled = true;  // To prevent multiple clicks.\n",
              "      quickchartButtonEl.classList.add('colab-df-spinner');\n",
              "      try {\n",
              "        const charts = await google.colab.kernel.invokeFunction(\n",
              "            'suggestCharts', [key], {});\n",
              "      } catch (error) {\n",
              "        console.error('Error during call to suggestCharts:', error);\n",
              "      }\n",
              "      quickchartButtonEl.classList.remove('colab-df-spinner');\n",
              "      quickchartButtonEl.classList.add('colab-df-quickchart-complete');\n",
              "    }\n",
              "    (() => {\n",
              "      let quickchartButtonEl =\n",
              "        document.querySelector('#df-57deaa7d-1bfd-4896-9232-0d0dcfb1cfdf button');\n",
              "      quickchartButtonEl.style.display =\n",
              "        google.colab.kernel.accessAllowed ? 'block' : 'none';\n",
              "    })();\n",
              "  </script>\n",
              "</div>\n",
              "\n",
              "    </div>\n",
              "  </div>\n"
            ],
            "application/vnd.google.colaboratory.intrinsic+json": {
              "type": "dataframe",
              "variable_name": "df_cleaned",
              "summary": "{\n  \"name\": \"df_cleaned\",\n  \"rows\": 4374,\n  \"fields\": [\n    {\n      \"column\": \"Age\",\n      \"properties\": {\n        \"dtype\": \"number\",\n        \"std\": 18,\n        \"min\": 18,\n        \"max\": 80,\n        \"num_unique_values\": 63,\n        \"samples\": [\n          45,\n          43,\n          52\n        ],\n        \"semantic_type\": \"\",\n        \"description\": \"\"\n      }\n    },\n    {\n      \"column\": \"Yrs DL\",\n      \"properties\": {\n        \"dtype\": \"number\",\n        \"std\": 13,\n        \"min\": 1,\n        \"max\": 63,\n        \"num_unique_values\": 62,\n        \"samples\": [\n          23,\n          51,\n          16\n        ],\n        \"semantic_type\": \"\",\n        \"description\": \"\"\n      }\n    },\n    {\n      \"column\": \"Points\",\n      \"properties\": {\n        \"dtype\": \"number\",\n        \"std\": 2,\n        \"min\": 0,\n        \"max\": 8,\n        \"num_unique_values\": 3,\n        \"samples\": [\n          0,\n          8,\n          4\n        ],\n        \"semantic_type\": \"\",\n        \"description\": \"\"\n      }\n    },\n    {\n      \"column\": \"NCD\",\n      \"properties\": {\n        \"dtype\": \"number\",\n        \"std\": 1,\n        \"min\": 0,\n        \"max\": 4,\n        \"num_unique_values\": 5,\n        \"samples\": [\n          1,\n          2,\n          4\n        ],\n        \"semantic_type\": \"\",\n        \"description\": \"\"\n      }\n    },\n    {\n      \"column\": \"Engine cc\",\n      \"properties\": {\n        \"dtype\": \"number\",\n        \"std\": 214,\n        \"min\": 1200,\n        \"max\": 3800,\n        \"num_unique_values\": 10,\n        \"samples\": [\n          2600,\n          1400,\n          2200\n        ],\n        \"semantic_type\": \"\",\n        \"description\": \"\"\n      }\n    },\n    {\n      \"column\": \"Ins Group\",\n      \"properties\": {\n        \"dtype\": \"number\",\n        \"std\": 1,\n        \"min\": 2,\n        \"max\": 8,\n        \"num_unique_values\": 7,\n        \"samples\": [\n          4,\n          2,\n          8\n        ],\n        \"semantic_type\": \"\",\n        \"description\": \"\"\n      }\n    },\n    {\n      \"column\": \"Car Age\",\n      \"properties\": {\n        \"dtype\": \"number\",\n        \"std\": 5,\n        \"min\": 1,\n        \"max\": 20,\n        \"num_unique_values\": 20,\n        \"samples\": [\n          2,\n          15,\n          12\n        ],\n        \"semantic_type\": \"\",\n        \"description\": \"\"\n      }\n    },\n    {\n      \"column\": \"Gender_M\",\n      \"properties\": {\n        \"dtype\": \"boolean\",\n        \"num_unique_values\": 2,\n        \"samples\": [\n          false,\n          true\n        ],\n        \"semantic_type\": \"\",\n        \"description\": \"\"\n      }\n    },\n    {\n      \"column\": \"Stored_Garage\",\n      \"properties\": {\n        \"dtype\": \"boolean\",\n        \"num_unique_values\": 2,\n        \"samples\": [\n          false,\n          true\n        ],\n        \"semantic_type\": \"\",\n        \"description\": \"\"\n      }\n    },\n    {\n      \"column\": \"Stored_Road\",\n      \"properties\": {\n        \"dtype\": \"boolean\",\n        \"num_unique_values\": 2,\n        \"samples\": [\n          true,\n          false\n        ],\n        \"semantic_type\": \"\",\n        \"description\": \"\"\n      }\n    },\n    {\n      \"column\": \"Claim_Yes\",\n      \"properties\": {\n        \"dtype\": \"boolean\",\n        \"num_unique_values\": 2,\n        \"samples\": [\n          true,\n          false\n        ],\n        \"semantic_type\": \"\",\n        \"description\": \"\"\n      }\n    }\n  ]\n}"
            }
          },
          "metadata": {},
          "execution_count": 32
        }
      ]
    },
    {
      "cell_type": "markdown",
      "metadata": {
        "id": "SjEtgLK6mWGR"
      },
      "source": [
        "Select the features to train the model, and set the species variable as the target"
      ]
    },
    {
      "cell_type": "code",
      "execution_count": 33,
      "metadata": {
        "id": "zQD44oOWmWGR",
        "outputId": "0b4019df-a303-41fe-da6c-fd20e2838b9d",
        "colab": {
          "base_uri": "https://localhost:8080/"
        }
      },
      "outputs": [
        {
          "output_type": "stream",
          "name": "stdout",
          "text": [
            "X:        Age  Yrs DL  Points  NCD  Engine cc  Ins Group  Car Age  Gender_M  \\\n",
            "0      52      16       0    0       1200          4        2      True   \n",
            "1      46      22       8    1       1400          2        7     False   \n",
            "2      59       9       0    0       1400          5       14     False   \n",
            "4      59       3       0    4       1400          5       13     False   \n",
            "5      78      57       4    1       1800          3        1      True   \n",
            "...   ...     ...     ...  ...        ...        ...      ...       ...   \n",
            "4382   28       8       0    3       1200          4        1      True   \n",
            "4383   76      41       0    4       1600          5        1     False   \n",
            "4384   50      32       0    4       1200          2        1      True   \n",
            "4385   36      12       8    3       1200          5        1     False   \n",
            "4386   36       2       0    3       1200          4        1     False   \n",
            "\n",
            "      Stored_Garage  Stored_Road  \n",
            "0              True        False  \n",
            "1              True        False  \n",
            "2              True        False  \n",
            "4             False         True  \n",
            "5              True        False  \n",
            "...             ...          ...  \n",
            "4382           True        False  \n",
            "4383          False         True  \n",
            "4384          False         True  \n",
            "4385          False         True  \n",
            "4386          False        False  \n",
            "\n",
            "[4374 rows x 10 columns]\n",
            "y:  0       False\n",
            "1        True\n",
            "2       False\n",
            "4        True\n",
            "5        True\n",
            "        ...  \n",
            "4382    False\n",
            "4383     True\n",
            "4384    False\n",
            "4385     True\n",
            "4386    False\n",
            "Name: Claim_Yes, Length: 4374, dtype: bool\n"
          ]
        }
      ],
      "source": [
        "# set features and targets\n",
        "targetName=\"Claim_Yes\"\n",
        "\n",
        "featureNames=df_cleaned.columns[df_cleaned.columns != targetName]\n",
        "X = df_cleaned[featureNames]\n",
        "y = df_cleaned[targetName]\n",
        "print(\"X: \", X)\n",
        "print(\"y: \", y)"
      ]
    },
    {
      "cell_type": "code",
      "source": [
        "# Now Normalise the data\n",
        "from sklearn.preprocessing import MinMaxScaler\n",
        "\n",
        "mm_scaler = MinMaxScaler()\n",
        "X = pd.DataFrame(mm_scaler.fit_transform(X), columns=X.columns)"
      ],
      "metadata": {
        "id": "Chh8E7oL-9-1"
      },
      "execution_count": 34,
      "outputs": []
    },
    {
      "cell_type": "code",
      "source": [
        "X"
      ],
      "metadata": {
        "colab": {
          "base_uri": "https://localhost:8080/",
          "height": 423
        },
        "id": "atgVU4Ga_-u8",
        "outputId": "2e5e3220-166d-42d3-ffad-80910efffdd9"
      },
      "execution_count": 36,
      "outputs": [
        {
          "output_type": "execute_result",
          "data": {
            "text/plain": [
              "           Age    Yrs DL  Points   NCD  Engine cc  Ins Group   Car Age  \\\n",
              "0     0.548387  0.241935     0.0  0.00   0.000000   0.333333  0.052632   \n",
              "1     0.451613  0.338710     1.0  0.25   0.076923   0.000000  0.315789   \n",
              "2     0.661290  0.129032     0.0  0.00   0.076923   0.500000  0.684211   \n",
              "3     0.661290  0.032258     0.0  1.00   0.076923   0.500000  0.631579   \n",
              "4     0.967742  0.903226     0.5  0.25   0.230769   0.166667  0.000000   \n",
              "...        ...       ...     ...   ...        ...        ...       ...   \n",
              "4369  0.161290  0.112903     0.0  0.75   0.000000   0.333333  0.000000   \n",
              "4370  0.935484  0.645161     0.0  1.00   0.153846   0.500000  0.000000   \n",
              "4371  0.516129  0.500000     0.0  1.00   0.000000   0.000000  0.000000   \n",
              "4372  0.290323  0.177419     1.0  0.75   0.000000   0.500000  0.000000   \n",
              "4373  0.290323  0.016129     0.0  0.75   0.000000   0.333333  0.000000   \n",
              "\n",
              "      Gender_M  Stored_Garage  Stored_Road  \n",
              "0          1.0            1.0          0.0  \n",
              "1          0.0            1.0          0.0  \n",
              "2          0.0            1.0          0.0  \n",
              "3          0.0            0.0          1.0  \n",
              "4          1.0            1.0          0.0  \n",
              "...        ...            ...          ...  \n",
              "4369       1.0            1.0          0.0  \n",
              "4370       0.0            0.0          1.0  \n",
              "4371       1.0            0.0          1.0  \n",
              "4372       0.0            0.0          1.0  \n",
              "4373       0.0            0.0          0.0  \n",
              "\n",
              "[4374 rows x 10 columns]"
            ],
            "text/html": [
              "\n",
              "  <div id=\"df-a60dce0d-bd59-4493-b16c-35e363cc9c5f\" class=\"colab-df-container\">\n",
              "    <div>\n",
              "<style scoped>\n",
              "    .dataframe tbody tr th:only-of-type {\n",
              "        vertical-align: middle;\n",
              "    }\n",
              "\n",
              "    .dataframe tbody tr th {\n",
              "        vertical-align: top;\n",
              "    }\n",
              "\n",
              "    .dataframe thead th {\n",
              "        text-align: right;\n",
              "    }\n",
              "</style>\n",
              "<table border=\"1\" class=\"dataframe\">\n",
              "  <thead>\n",
              "    <tr style=\"text-align: right;\">\n",
              "      <th></th>\n",
              "      <th>Age</th>\n",
              "      <th>Yrs DL</th>\n",
              "      <th>Points</th>\n",
              "      <th>NCD</th>\n",
              "      <th>Engine cc</th>\n",
              "      <th>Ins Group</th>\n",
              "      <th>Car Age</th>\n",
              "      <th>Gender_M</th>\n",
              "      <th>Stored_Garage</th>\n",
              "      <th>Stored_Road</th>\n",
              "    </tr>\n",
              "  </thead>\n",
              "  <tbody>\n",
              "    <tr>\n",
              "      <th>0</th>\n",
              "      <td>0.548387</td>\n",
              "      <td>0.241935</td>\n",
              "      <td>0.0</td>\n",
              "      <td>0.00</td>\n",
              "      <td>0.000000</td>\n",
              "      <td>0.333333</td>\n",
              "      <td>0.052632</td>\n",
              "      <td>1.0</td>\n",
              "      <td>1.0</td>\n",
              "      <td>0.0</td>\n",
              "    </tr>\n",
              "    <tr>\n",
              "      <th>1</th>\n",
              "      <td>0.451613</td>\n",
              "      <td>0.338710</td>\n",
              "      <td>1.0</td>\n",
              "      <td>0.25</td>\n",
              "      <td>0.076923</td>\n",
              "      <td>0.000000</td>\n",
              "      <td>0.315789</td>\n",
              "      <td>0.0</td>\n",
              "      <td>1.0</td>\n",
              "      <td>0.0</td>\n",
              "    </tr>\n",
              "    <tr>\n",
              "      <th>2</th>\n",
              "      <td>0.661290</td>\n",
              "      <td>0.129032</td>\n",
              "      <td>0.0</td>\n",
              "      <td>0.00</td>\n",
              "      <td>0.076923</td>\n",
              "      <td>0.500000</td>\n",
              "      <td>0.684211</td>\n",
              "      <td>0.0</td>\n",
              "      <td>1.0</td>\n",
              "      <td>0.0</td>\n",
              "    </tr>\n",
              "    <tr>\n",
              "      <th>3</th>\n",
              "      <td>0.661290</td>\n",
              "      <td>0.032258</td>\n",
              "      <td>0.0</td>\n",
              "      <td>1.00</td>\n",
              "      <td>0.076923</td>\n",
              "      <td>0.500000</td>\n",
              "      <td>0.631579</td>\n",
              "      <td>0.0</td>\n",
              "      <td>0.0</td>\n",
              "      <td>1.0</td>\n",
              "    </tr>\n",
              "    <tr>\n",
              "      <th>4</th>\n",
              "      <td>0.967742</td>\n",
              "      <td>0.903226</td>\n",
              "      <td>0.5</td>\n",
              "      <td>0.25</td>\n",
              "      <td>0.230769</td>\n",
              "      <td>0.166667</td>\n",
              "      <td>0.000000</td>\n",
              "      <td>1.0</td>\n",
              "      <td>1.0</td>\n",
              "      <td>0.0</td>\n",
              "    </tr>\n",
              "    <tr>\n",
              "      <th>...</th>\n",
              "      <td>...</td>\n",
              "      <td>...</td>\n",
              "      <td>...</td>\n",
              "      <td>...</td>\n",
              "      <td>...</td>\n",
              "      <td>...</td>\n",
              "      <td>...</td>\n",
              "      <td>...</td>\n",
              "      <td>...</td>\n",
              "      <td>...</td>\n",
              "    </tr>\n",
              "    <tr>\n",
              "      <th>4369</th>\n",
              "      <td>0.161290</td>\n",
              "      <td>0.112903</td>\n",
              "      <td>0.0</td>\n",
              "      <td>0.75</td>\n",
              "      <td>0.000000</td>\n",
              "      <td>0.333333</td>\n",
              "      <td>0.000000</td>\n",
              "      <td>1.0</td>\n",
              "      <td>1.0</td>\n",
              "      <td>0.0</td>\n",
              "    </tr>\n",
              "    <tr>\n",
              "      <th>4370</th>\n",
              "      <td>0.935484</td>\n",
              "      <td>0.645161</td>\n",
              "      <td>0.0</td>\n",
              "      <td>1.00</td>\n",
              "      <td>0.153846</td>\n",
              "      <td>0.500000</td>\n",
              "      <td>0.000000</td>\n",
              "      <td>0.0</td>\n",
              "      <td>0.0</td>\n",
              "      <td>1.0</td>\n",
              "    </tr>\n",
              "    <tr>\n",
              "      <th>4371</th>\n",
              "      <td>0.516129</td>\n",
              "      <td>0.500000</td>\n",
              "      <td>0.0</td>\n",
              "      <td>1.00</td>\n",
              "      <td>0.000000</td>\n",
              "      <td>0.000000</td>\n",
              "      <td>0.000000</td>\n",
              "      <td>1.0</td>\n",
              "      <td>0.0</td>\n",
              "      <td>1.0</td>\n",
              "    </tr>\n",
              "    <tr>\n",
              "      <th>4372</th>\n",
              "      <td>0.290323</td>\n",
              "      <td>0.177419</td>\n",
              "      <td>1.0</td>\n",
              "      <td>0.75</td>\n",
              "      <td>0.000000</td>\n",
              "      <td>0.500000</td>\n",
              "      <td>0.000000</td>\n",
              "      <td>0.0</td>\n",
              "      <td>0.0</td>\n",
              "      <td>1.0</td>\n",
              "    </tr>\n",
              "    <tr>\n",
              "      <th>4373</th>\n",
              "      <td>0.290323</td>\n",
              "      <td>0.016129</td>\n",
              "      <td>0.0</td>\n",
              "      <td>0.75</td>\n",
              "      <td>0.000000</td>\n",
              "      <td>0.333333</td>\n",
              "      <td>0.000000</td>\n",
              "      <td>0.0</td>\n",
              "      <td>0.0</td>\n",
              "      <td>0.0</td>\n",
              "    </tr>\n",
              "  </tbody>\n",
              "</table>\n",
              "<p>4374 rows × 10 columns</p>\n",
              "</div>\n",
              "    <div class=\"colab-df-buttons\">\n",
              "\n",
              "  <div class=\"colab-df-container\">\n",
              "    <button class=\"colab-df-convert\" onclick=\"convertToInteractive('df-a60dce0d-bd59-4493-b16c-35e363cc9c5f')\"\n",
              "            title=\"Convert this dataframe to an interactive table.\"\n",
              "            style=\"display:none;\">\n",
              "\n",
              "  <svg xmlns=\"http://www.w3.org/2000/svg\" height=\"24px\" viewBox=\"0 -960 960 960\">\n",
              "    <path d=\"M120-120v-720h720v720H120Zm60-500h600v-160H180v160Zm220 220h160v-160H400v160Zm0 220h160v-160H400v160ZM180-400h160v-160H180v160Zm440 0h160v-160H620v160ZM180-180h160v-160H180v160Zm440 0h160v-160H620v160Z\"/>\n",
              "  </svg>\n",
              "    </button>\n",
              "\n",
              "  <style>\n",
              "    .colab-df-container {\n",
              "      display:flex;\n",
              "      gap: 12px;\n",
              "    }\n",
              "\n",
              "    .colab-df-convert {\n",
              "      background-color: #E8F0FE;\n",
              "      border: none;\n",
              "      border-radius: 50%;\n",
              "      cursor: pointer;\n",
              "      display: none;\n",
              "      fill: #1967D2;\n",
              "      height: 32px;\n",
              "      padding: 0 0 0 0;\n",
              "      width: 32px;\n",
              "    }\n",
              "\n",
              "    .colab-df-convert:hover {\n",
              "      background-color: #E2EBFA;\n",
              "      box-shadow: 0px 1px 2px rgba(60, 64, 67, 0.3), 0px 1px 3px 1px rgba(60, 64, 67, 0.15);\n",
              "      fill: #174EA6;\n",
              "    }\n",
              "\n",
              "    .colab-df-buttons div {\n",
              "      margin-bottom: 4px;\n",
              "    }\n",
              "\n",
              "    [theme=dark] .colab-df-convert {\n",
              "      background-color: #3B4455;\n",
              "      fill: #D2E3FC;\n",
              "    }\n",
              "\n",
              "    [theme=dark] .colab-df-convert:hover {\n",
              "      background-color: #434B5C;\n",
              "      box-shadow: 0px 1px 3px 1px rgba(0, 0, 0, 0.15);\n",
              "      filter: drop-shadow(0px 1px 2px rgba(0, 0, 0, 0.3));\n",
              "      fill: #FFFFFF;\n",
              "    }\n",
              "  </style>\n",
              "\n",
              "    <script>\n",
              "      const buttonEl =\n",
              "        document.querySelector('#df-a60dce0d-bd59-4493-b16c-35e363cc9c5f button.colab-df-convert');\n",
              "      buttonEl.style.display =\n",
              "        google.colab.kernel.accessAllowed ? 'block' : 'none';\n",
              "\n",
              "      async function convertToInteractive(key) {\n",
              "        const element = document.querySelector('#df-a60dce0d-bd59-4493-b16c-35e363cc9c5f');\n",
              "        const dataTable =\n",
              "          await google.colab.kernel.invokeFunction('convertToInteractive',\n",
              "                                                    [key], {});\n",
              "        if (!dataTable) return;\n",
              "\n",
              "        const docLinkHtml = 'Like what you see? Visit the ' +\n",
              "          '<a target=\"_blank\" href=https://colab.research.google.com/notebooks/data_table.ipynb>data table notebook</a>'\n",
              "          + ' to learn more about interactive tables.';\n",
              "        element.innerHTML = '';\n",
              "        dataTable['output_type'] = 'display_data';\n",
              "        await google.colab.output.renderOutput(dataTable, element);\n",
              "        const docLink = document.createElement('div');\n",
              "        docLink.innerHTML = docLinkHtml;\n",
              "        element.appendChild(docLink);\n",
              "      }\n",
              "    </script>\n",
              "  </div>\n",
              "\n",
              "\n",
              "<div id=\"df-cf5539ad-5427-45a5-9d3e-8410728d2fc4\">\n",
              "  <button class=\"colab-df-quickchart\" onclick=\"quickchart('df-cf5539ad-5427-45a5-9d3e-8410728d2fc4')\"\n",
              "            title=\"Suggest charts\"\n",
              "            style=\"display:none;\">\n",
              "\n",
              "<svg xmlns=\"http://www.w3.org/2000/svg\" height=\"24px\"viewBox=\"0 0 24 24\"\n",
              "     width=\"24px\">\n",
              "    <g>\n",
              "        <path d=\"M19 3H5c-1.1 0-2 .9-2 2v14c0 1.1.9 2 2 2h14c1.1 0 2-.9 2-2V5c0-1.1-.9-2-2-2zM9 17H7v-7h2v7zm4 0h-2V7h2v10zm4 0h-2v-4h2v4z\"/>\n",
              "    </g>\n",
              "</svg>\n",
              "  </button>\n",
              "\n",
              "<style>\n",
              "  .colab-df-quickchart {\n",
              "      --bg-color: #E8F0FE;\n",
              "      --fill-color: #1967D2;\n",
              "      --hover-bg-color: #E2EBFA;\n",
              "      --hover-fill-color: #174EA6;\n",
              "      --disabled-fill-color: #AAA;\n",
              "      --disabled-bg-color: #DDD;\n",
              "  }\n",
              "\n",
              "  [theme=dark] .colab-df-quickchart {\n",
              "      --bg-color: #3B4455;\n",
              "      --fill-color: #D2E3FC;\n",
              "      --hover-bg-color: #434B5C;\n",
              "      --hover-fill-color: #FFFFFF;\n",
              "      --disabled-bg-color: #3B4455;\n",
              "      --disabled-fill-color: #666;\n",
              "  }\n",
              "\n",
              "  .colab-df-quickchart {\n",
              "    background-color: var(--bg-color);\n",
              "    border: none;\n",
              "    border-radius: 50%;\n",
              "    cursor: pointer;\n",
              "    display: none;\n",
              "    fill: var(--fill-color);\n",
              "    height: 32px;\n",
              "    padding: 0;\n",
              "    width: 32px;\n",
              "  }\n",
              "\n",
              "  .colab-df-quickchart:hover {\n",
              "    background-color: var(--hover-bg-color);\n",
              "    box-shadow: 0 1px 2px rgba(60, 64, 67, 0.3), 0 1px 3px 1px rgba(60, 64, 67, 0.15);\n",
              "    fill: var(--button-hover-fill-color);\n",
              "  }\n",
              "\n",
              "  .colab-df-quickchart-complete:disabled,\n",
              "  .colab-df-quickchart-complete:disabled:hover {\n",
              "    background-color: var(--disabled-bg-color);\n",
              "    fill: var(--disabled-fill-color);\n",
              "    box-shadow: none;\n",
              "  }\n",
              "\n",
              "  .colab-df-spinner {\n",
              "    border: 2px solid var(--fill-color);\n",
              "    border-color: transparent;\n",
              "    border-bottom-color: var(--fill-color);\n",
              "    animation:\n",
              "      spin 1s steps(1) infinite;\n",
              "  }\n",
              "\n",
              "  @keyframes spin {\n",
              "    0% {\n",
              "      border-color: transparent;\n",
              "      border-bottom-color: var(--fill-color);\n",
              "      border-left-color: var(--fill-color);\n",
              "    }\n",
              "    20% {\n",
              "      border-color: transparent;\n",
              "      border-left-color: var(--fill-color);\n",
              "      border-top-color: var(--fill-color);\n",
              "    }\n",
              "    30% {\n",
              "      border-color: transparent;\n",
              "      border-left-color: var(--fill-color);\n",
              "      border-top-color: var(--fill-color);\n",
              "      border-right-color: var(--fill-color);\n",
              "    }\n",
              "    40% {\n",
              "      border-color: transparent;\n",
              "      border-right-color: var(--fill-color);\n",
              "      border-top-color: var(--fill-color);\n",
              "    }\n",
              "    60% {\n",
              "      border-color: transparent;\n",
              "      border-right-color: var(--fill-color);\n",
              "    }\n",
              "    80% {\n",
              "      border-color: transparent;\n",
              "      border-right-color: var(--fill-color);\n",
              "      border-bottom-color: var(--fill-color);\n",
              "    }\n",
              "    90% {\n",
              "      border-color: transparent;\n",
              "      border-bottom-color: var(--fill-color);\n",
              "    }\n",
              "  }\n",
              "</style>\n",
              "\n",
              "  <script>\n",
              "    async function quickchart(key) {\n",
              "      const quickchartButtonEl =\n",
              "        document.querySelector('#' + key + ' button');\n",
              "      quickchartButtonEl.disabled = true;  // To prevent multiple clicks.\n",
              "      quickchartButtonEl.classList.add('colab-df-spinner');\n",
              "      try {\n",
              "        const charts = await google.colab.kernel.invokeFunction(\n",
              "            'suggestCharts', [key], {});\n",
              "      } catch (error) {\n",
              "        console.error('Error during call to suggestCharts:', error);\n",
              "      }\n",
              "      quickchartButtonEl.classList.remove('colab-df-spinner');\n",
              "      quickchartButtonEl.classList.add('colab-df-quickchart-complete');\n",
              "    }\n",
              "    (() => {\n",
              "      let quickchartButtonEl =\n",
              "        document.querySelector('#df-cf5539ad-5427-45a5-9d3e-8410728d2fc4 button');\n",
              "      quickchartButtonEl.style.display =\n",
              "        google.colab.kernel.accessAllowed ? 'block' : 'none';\n",
              "    })();\n",
              "  </script>\n",
              "</div>\n",
              "\n",
              "  <div id=\"id_6591d515-54e4-4630-a212-b5a61f5cd8e0\">\n",
              "    <style>\n",
              "      .colab-df-generate {\n",
              "        background-color: #E8F0FE;\n",
              "        border: none;\n",
              "        border-radius: 50%;\n",
              "        cursor: pointer;\n",
              "        display: none;\n",
              "        fill: #1967D2;\n",
              "        height: 32px;\n",
              "        padding: 0 0 0 0;\n",
              "        width: 32px;\n",
              "      }\n",
              "\n",
              "      .colab-df-generate:hover {\n",
              "        background-color: #E2EBFA;\n",
              "        box-shadow: 0px 1px 2px rgba(60, 64, 67, 0.3), 0px 1px 3px 1px rgba(60, 64, 67, 0.15);\n",
              "        fill: #174EA6;\n",
              "      }\n",
              "\n",
              "      [theme=dark] .colab-df-generate {\n",
              "        background-color: #3B4455;\n",
              "        fill: #D2E3FC;\n",
              "      }\n",
              "\n",
              "      [theme=dark] .colab-df-generate:hover {\n",
              "        background-color: #434B5C;\n",
              "        box-shadow: 0px 1px 3px 1px rgba(0, 0, 0, 0.15);\n",
              "        filter: drop-shadow(0px 1px 2px rgba(0, 0, 0, 0.3));\n",
              "        fill: #FFFFFF;\n",
              "      }\n",
              "    </style>\n",
              "    <button class=\"colab-df-generate\" onclick=\"generateWithVariable('X')\"\n",
              "            title=\"Generate code using this dataframe.\"\n",
              "            style=\"display:none;\">\n",
              "\n",
              "  <svg xmlns=\"http://www.w3.org/2000/svg\" height=\"24px\"viewBox=\"0 0 24 24\"\n",
              "       width=\"24px\">\n",
              "    <path d=\"M7,19H8.4L18.45,9,17,7.55,7,17.6ZM5,21V16.75L18.45,3.32a2,2,0,0,1,2.83,0l1.4,1.43a1.91,1.91,0,0,1,.58,1.4,1.91,1.91,0,0,1-.58,1.4L9.25,21ZM18.45,9,17,7.55Zm-12,3A5.31,5.31,0,0,0,4.9,8.1,5.31,5.31,0,0,0,1,6.5,5.31,5.31,0,0,0,4.9,4.9,5.31,5.31,0,0,0,6.5,1,5.31,5.31,0,0,0,8.1,4.9,5.31,5.31,0,0,0,12,6.5,5.46,5.46,0,0,0,6.5,12Z\"/>\n",
              "  </svg>\n",
              "    </button>\n",
              "    <script>\n",
              "      (() => {\n",
              "      const buttonEl =\n",
              "        document.querySelector('#id_6591d515-54e4-4630-a212-b5a61f5cd8e0 button.colab-df-generate');\n",
              "      buttonEl.style.display =\n",
              "        google.colab.kernel.accessAllowed ? 'block' : 'none';\n",
              "\n",
              "      buttonEl.onclick = () => {\n",
              "        google.colab.notebook.generateWithVariable('X');\n",
              "      }\n",
              "      })();\n",
              "    </script>\n",
              "  </div>\n",
              "\n",
              "    </div>\n",
              "  </div>\n"
            ],
            "application/vnd.google.colaboratory.intrinsic+json": {
              "type": "dataframe",
              "variable_name": "X",
              "summary": "{\n  \"name\": \"X\",\n  \"rows\": 4374,\n  \"fields\": [\n    {\n      \"column\": \"Age\",\n      \"properties\": {\n        \"dtype\": \"number\",\n        \"std\": 0.29078734702169506,\n        \"min\": 0.0,\n        \"max\": 1.0,\n        \"num_unique_values\": 63,\n        \"samples\": [\n          0.435483870967742,\n          0.4032258064516129,\n          0.5483870967741935\n        ],\n        \"semantic_type\": \"\",\n        \"description\": \"\"\n      }\n    },\n    {\n      \"column\": \"Yrs DL\",\n      \"properties\": {\n        \"dtype\": \"number\",\n        \"std\": 0.22192543594833314,\n        \"min\": 0.0,\n        \"max\": 1.0,\n        \"num_unique_values\": 62,\n        \"samples\": [\n          0.3548387096774194,\n          0.8064516129032258,\n          0.24193548387096775\n        ],\n        \"semantic_type\": \"\",\n        \"description\": \"\"\n      }\n    },\n    {\n      \"column\": \"Points\",\n      \"properties\": {\n        \"dtype\": \"number\",\n        \"std\": 0.2725017679095294,\n        \"min\": 0.0,\n        \"max\": 1.0,\n        \"num_unique_values\": 3,\n        \"samples\": [\n          0.0,\n          1.0,\n          0.5\n        ],\n        \"semantic_type\": \"\",\n        \"description\": \"\"\n      }\n    },\n    {\n      \"column\": \"NCD\",\n      \"properties\": {\n        \"dtype\": \"number\",\n        \"std\": 0.3561406029536089,\n        \"min\": 0.0,\n        \"max\": 1.0,\n        \"num_unique_values\": 5,\n        \"samples\": [\n          0.25,\n          0.5,\n          1.0\n        ],\n        \"semantic_type\": \"\",\n        \"description\": \"\"\n      }\n    },\n    {\n      \"column\": \"Engine cc\",\n      \"properties\": {\n        \"dtype\": \"number\",\n        \"std\": 0.08240570067628583,\n        \"min\": 0.0,\n        \"max\": 0.9999999999999999,\n        \"num_unique_values\": 10,\n        \"samples\": [\n          0.5384615384615384,\n          0.07692307692307687,\n          0.3846153846153846\n        ],\n        \"semantic_type\": \"\",\n        \"description\": \"\"\n      }\n    },\n    {\n      \"column\": \"Ins Group\",\n      \"properties\": {\n        \"dtype\": \"number\",\n        \"std\": 0.250305772979007,\n        \"min\": 0.0,\n        \"max\": 1.0,\n        \"num_unique_values\": 7,\n        \"samples\": [\n          0.3333333333333333,\n          0.0,\n          1.0\n        ],\n        \"semantic_type\": \"\",\n        \"description\": \"\"\n      }\n    },\n    {\n      \"column\": \"Car Age\",\n      \"properties\": {\n        \"dtype\": \"number\",\n        \"std\": 0.2688689396486591,\n        \"min\": 0.0,\n        \"max\": 1.0,\n        \"num_unique_values\": 20,\n        \"samples\": [\n          0.05263157894736842,\n          0.736842105263158,\n          0.5789473684210527\n        ],\n        \"semantic_type\": \"\",\n        \"description\": \"\"\n      }\n    },\n    {\n      \"column\": \"Gender_M\",\n      \"properties\": {\n        \"dtype\": \"number\",\n        \"std\": 0.49996494453350393,\n        \"min\": 0.0,\n        \"max\": 1.0,\n        \"num_unique_values\": 2,\n        \"samples\": [\n          0.0,\n          1.0\n        ],\n        \"semantic_type\": \"\",\n        \"description\": \"\"\n      }\n    },\n    {\n      \"column\": \"Stored_Garage\",\n      \"properties\": {\n        \"dtype\": \"number\",\n        \"std\": 0.4592814068713736,\n        \"min\": 0.0,\n        \"max\": 1.0,\n        \"num_unique_values\": 2,\n        \"samples\": [\n          0.0,\n          1.0\n        ],\n        \"semantic_type\": \"\",\n        \"description\": \"\"\n      }\n    },\n    {\n      \"column\": \"Stored_Road\",\n      \"properties\": {\n        \"dtype\": \"number\",\n        \"std\": 0.40920781351425245,\n        \"min\": 0.0,\n        \"max\": 1.0,\n        \"num_unique_values\": 2,\n        \"samples\": [\n          1.0,\n          0.0\n        ],\n        \"semantic_type\": \"\",\n        \"description\": \"\"\n      }\n    }\n  ]\n}"
            }
          },
          "metadata": {},
          "execution_count": 36
        }
      ]
    },
    {
      "cell_type": "code",
      "source": [
        "y"
      ],
      "metadata": {
        "colab": {
          "base_uri": "https://localhost:8080/"
        },
        "id": "DuxF5cM4AIYv",
        "outputId": "dacca093-9ad7-43ad-95f8-2f34a7d1918c"
      },
      "execution_count": 37,
      "outputs": [
        {
          "output_type": "execute_result",
          "data": {
            "text/plain": [
              "0       False\n",
              "1        True\n",
              "2       False\n",
              "4        True\n",
              "5        True\n",
              "        ...  \n",
              "4382    False\n",
              "4383     True\n",
              "4384    False\n",
              "4385     True\n",
              "4386    False\n",
              "Name: Claim_Yes, Length: 4374, dtype: bool"
            ]
          },
          "metadata": {},
          "execution_count": 37
        }
      ]
    },
    {
      "cell_type": "markdown",
      "metadata": {
        "id": "V9JDGn3pmWGS"
      },
      "source": [
        "Split the data into training and testing - remember that it's of utmost importance to ensure that some of the data is kept out of the training process so that we can independently evaluate the model."
      ]
    },
    {
      "cell_type": "code",
      "execution_count": 38,
      "metadata": {
        "id": "7uA0basEmWGS",
        "outputId": "191ddd67-c6fe-458b-a0e0-3366685fb107",
        "colab": {
          "base_uri": "https://localhost:8080/"
        }
      },
      "outputs": [
        {
          "output_type": "stream",
          "name": "stdout",
          "text": [
            "X_train:             Age    Yrs DL  Points   NCD  Engine cc  Ins Group   Car Age  \\\n",
            "293   0.854839  0.564516     0.5  0.00   0.153846   0.666667  0.105263   \n",
            "1835  0.870968  0.774194     1.0  0.25   0.230769   0.500000  0.578947   \n",
            "1816  0.693548  0.532258     0.0  0.50   0.076923   0.166667  0.578947   \n",
            "3718  0.822581  0.709677     0.0  0.25   0.153846   0.833333  0.157895   \n",
            "3059  0.145161  0.016129     0.0  0.25   0.153846   0.833333  0.473684   \n",
            "...        ...       ...     ...   ...        ...        ...       ...   \n",
            "789   0.306452  0.274194     0.5  0.00   0.076923   0.666667  0.315789   \n",
            "968   0.629032  0.241935     0.0  0.75   0.153846   0.333333  0.157895   \n",
            "1667  0.548387  0.354839     0.0  0.25   0.000000   0.500000  0.000000   \n",
            "3321  0.080645  0.016129     0.0  0.00   0.000000   0.500000  0.052632   \n",
            "1688  0.064516  0.000000     1.0  0.50   0.384615   1.000000  0.157895   \n",
            "\n",
            "      Gender_M  Stored_Garage  Stored_Road  \n",
            "293        1.0            1.0          0.0  \n",
            "1835       1.0            1.0          0.0  \n",
            "1816       0.0            1.0          0.0  \n",
            "3718       1.0            1.0          0.0  \n",
            "3059       0.0            0.0          1.0  \n",
            "...        ...            ...          ...  \n",
            "789        0.0            1.0          0.0  \n",
            "968        0.0            1.0          0.0  \n",
            "1667       0.0            0.0          0.0  \n",
            "3321       0.0            1.0          0.0  \n",
            "1688       0.0            1.0          0.0  \n",
            "\n",
            "[3499 rows x 10 columns]\n",
            "X_test:             Age    Yrs DL  Points   NCD  Engine cc  Ins Group   Car Age  \\\n",
            "3238  0.758065  0.725806     0.0  1.00   0.000000   0.333333  0.473684   \n",
            "2242  0.887097  0.596774     1.0  0.25   0.000000   0.500000  0.526316   \n",
            "3368  0.145161  0.064516     0.0  0.75   0.000000   0.666667  0.368421   \n",
            "2190  0.032258  0.000000     0.0  0.25   0.000000   0.666667  0.052632   \n",
            "2720  1.000000  0.209677     0.0  0.50   0.000000   0.333333  0.473684   \n",
            "...        ...       ...     ...   ...        ...        ...       ...   \n",
            "4135  0.048387  0.048387     0.0  0.75   0.153846   0.500000  0.210526   \n",
            "1389  0.225806  0.129032     0.0  0.25   0.000000   0.500000  0.315789   \n",
            "216   0.790323  0.725806     0.0  1.00   0.000000   0.333333  0.052632   \n",
            "2934  0.725806  0.467742     0.0  0.00   0.000000   0.666667  0.631579   \n",
            "1032  0.161290  0.032258     0.0  1.00   0.000000   0.333333  0.000000   \n",
            "\n",
            "      Gender_M  Stored_Garage  Stored_Road  \n",
            "3238       0.0            0.0          1.0  \n",
            "2242       0.0            1.0          0.0  \n",
            "3368       0.0            1.0          0.0  \n",
            "2190       1.0            0.0          0.0  \n",
            "2720       0.0            1.0          0.0  \n",
            "...        ...            ...          ...  \n",
            "4135       0.0            1.0          0.0  \n",
            "1389       0.0            0.0          1.0  \n",
            "216        1.0            1.0          0.0  \n",
            "2934       1.0            1.0          0.0  \n",
            "1032       0.0            1.0          0.0  \n",
            "\n",
            "[875 rows x 10 columns]\n",
            "y_train:  294      True\n",
            "1841     True\n",
            "1822    False\n",
            "3728    False\n",
            "3069     True\n",
            "        ...  \n",
            "790      True\n",
            "970     False\n",
            "1673    False\n",
            "3331    False\n",
            "1694     True\n",
            "Name: Claim_Yes, Length: 3499, dtype: bool\n",
            "y_test:  3248     True\n",
            "2250     True\n",
            "3378    False\n",
            "2198     True\n",
            "2728     True\n",
            "        ...  \n",
            "4147     True\n",
            "1393    False\n",
            "217     False\n",
            "2943    False\n",
            "1034    False\n",
            "Name: Claim_Yes, Length: 875, dtype: bool\n"
          ]
        }
      ],
      "source": [
        "# Use the train_test_split function provided by sklearn\n",
        "from sklearn.model_selection import train_test_split\n",
        "# Split the data into 80% training and 20% testing. Setting the random_state will ensure replicability.\n",
        "X_train, X_test, y_train, y_test = train_test_split(X, y, test_size=0.2, random_state=3)\n",
        "print(\"X_train: \", X_train)\n",
        "print(\"X_test: \", X_test)\n",
        "print(\"y_train: \", y_train)\n",
        "print(\"y_test: \", y_test)"
      ]
    },
    {
      "cell_type": "markdown",
      "metadata": {
        "id": "yqVgFl4WmWGT"
      },
      "source": [
        "This example data set is already clean and ready to use, so we can skip the cleaning and data preparation stages this time.\n",
        "\n",
        "Now your data is ready, we can create our kNN model! Begin by importing it from sklearn, and setting the number of neighbours that we wish to consider (k). We begin with the 5 nearest datapoint neighbours."
      ]
    },
    {
      "cell_type": "code",
      "execution_count": 39,
      "metadata": {
        "id": "_Vy0HlBhmWGT",
        "outputId": "a748f3a9-29c7-40e8-b709-9d94ccb4e754",
        "colab": {
          "base_uri": "https://localhost:8080/"
        }
      },
      "outputs": [
        {
          "output_type": "stream",
          "name": "stdout",
          "text": [
            "KNeighborsClassifier()\n"
          ]
        }
      ],
      "source": [
        "from sklearn.neighbors import KNeighborsClassifier\n",
        "\n",
        "# Number of neighbours\n",
        "k = 5\n",
        "knn_clf = KNeighborsClassifier(n_neighbors = k)\n",
        "\n",
        "# Train the model\n",
        "knn_clf.fit(X_train, y_train)\n",
        "print(knn_clf)"
      ]
    },
    {
      "cell_type": "markdown",
      "metadata": {
        "id": "3KReGJtfmWGU"
      },
      "source": [
        "And that's it! Our model has been created, but now we need to evaluate it. We can ask it to make predictions based on the test data like this:"
      ]
    },
    {
      "cell_type": "code",
      "execution_count": 40,
      "metadata": {
        "id": "Ylz8F_iImWGU"
      },
      "outputs": [],
      "source": [
        "y_pred = knn_clf.predict(X_test)"
      ]
    },
    {
      "cell_type": "markdown",
      "metadata": {
        "id": "wfbf_nljmWGU"
      },
      "source": [
        "And now y_pred contains the predicted classes of each instance in the training set... you can see the predictions like this:"
      ]
    },
    {
      "cell_type": "code",
      "execution_count": 41,
      "metadata": {
        "id": "rqqkuLWDmWGV",
        "outputId": "b12aba66-bc4a-4031-ab1d-ca9b509eafe4",
        "colab": {
          "base_uri": "https://localhost:8080/"
        }
      },
      "outputs": [
        {
          "output_type": "execute_result",
          "data": {
            "text/plain": [
              "array([ True,  True, False, False,  True, False, False, False,  True,\n",
              "       False, False,  True, False, False, False, False, False,  True,\n",
              "       False, False, False, False, False,  True,  True, False,  True,\n",
              "        True,  True, False,  True, False, False, False,  True, False,\n",
              "       False, False,  True, False, False, False,  True, False, False,\n",
              "        True,  True,  True, False,  True, False,  True,  True,  True,\n",
              "        True, False,  True, False, False,  True,  True, False, False,\n",
              "        True,  True,  True, False, False, False, False, False,  True,\n",
              "       False, False, False, False, False,  True,  True,  True,  True,\n",
              "        True, False,  True, False,  True,  True, False, False, False,\n",
              "        True, False, False, False, False, False, False, False, False,\n",
              "        True, False, False,  True,  True,  True,  True,  True, False,\n",
              "       False, False, False,  True, False,  True, False, False, False,\n",
              "        True, False, False,  True, False, False,  True, False, False,\n",
              "        True, False, False,  True, False,  True, False,  True, False,\n",
              "        True, False, False, False, False, False, False,  True, False,\n",
              "       False,  True,  True,  True, False, False,  True, False,  True,\n",
              "       False,  True, False,  True, False, False, False, False, False,\n",
              "        True, False,  True,  True, False,  True, False, False,  True,\n",
              "        True, False, False,  True,  True, False, False, False,  True,\n",
              "        True, False, False, False, False, False,  True, False, False,\n",
              "       False,  True,  True, False,  True,  True,  True, False, False,\n",
              "       False, False, False,  True, False, False, False,  True, False,\n",
              "        True, False, False,  True,  True, False, False, False,  True,\n",
              "       False,  True, False, False, False, False,  True,  True, False,\n",
              "       False, False, False, False,  True, False, False, False,  True,\n",
              "       False, False, False,  True,  True,  True,  True,  True,  True,\n",
              "       False, False, False, False,  True,  True, False,  True, False,\n",
              "        True, False, False,  True, False,  True, False,  True,  True,\n",
              "        True, False,  True, False,  True, False, False,  True, False,\n",
              "       False, False,  True,  True,  True, False, False, False, False,\n",
              "        True, False, False, False, False, False, False,  True,  True,\n",
              "       False, False,  True, False, False, False, False,  True,  True,\n",
              "        True, False, False, False,  True, False,  True, False, False,\n",
              "       False, False, False,  True,  True,  True, False,  True,  True,\n",
              "        True, False, False, False,  True,  True, False,  True, False,\n",
              "       False,  True, False, False, False,  True,  True, False,  True,\n",
              "       False,  True, False, False, False,  True,  True, False,  True,\n",
              "       False, False,  True, False, False, False,  True,  True,  True,\n",
              "        True,  True,  True,  True, False,  True, False, False, False,\n",
              "       False, False,  True, False,  True,  True,  True, False, False,\n",
              "       False,  True, False, False,  True, False,  True, False,  True,\n",
              "       False,  True,  True,  True,  True,  True, False, False, False,\n",
              "        True, False, False, False, False,  True, False, False, False,\n",
              "       False, False, False, False, False, False,  True,  True,  True,\n",
              "        True,  True, False, False, False, False, False,  True,  True,\n",
              "        True, False, False, False, False, False,  True, False,  True,\n",
              "        True,  True,  True,  True, False, False,  True,  True, False,\n",
              "       False, False,  True,  True,  True, False, False,  True, False,\n",
              "       False, False, False, False,  True,  True, False, False, False,\n",
              "        True, False, False, False, False,  True, False,  True, False,\n",
              "        True, False, False,  True,  True,  True,  True, False, False,\n",
              "       False, False,  True, False, False,  True, False,  True, False,\n",
              "        True, False, False, False,  True,  True,  True,  True,  True,\n",
              "        True,  True,  True,  True,  True, False, False,  True,  True,\n",
              "       False, False, False, False, False, False, False, False, False,\n",
              "       False,  True,  True,  True, False, False, False,  True,  True,\n",
              "       False,  True, False, False, False, False, False,  True, False,\n",
              "        True, False, False, False, False, False, False, False,  True,\n",
              "       False, False, False,  True,  True, False, False, False, False,\n",
              "       False,  True, False,  True, False, False,  True, False, False,\n",
              "       False, False,  True, False, False, False, False,  True, False,\n",
              "       False,  True,  True, False, False, False, False,  True, False,\n",
              "       False, False, False,  True,  True,  True,  True, False,  True,\n",
              "        True,  True,  True, False, False,  True, False, False, False,\n",
              "        True,  True, False,  True, False,  True,  True, False,  True,\n",
              "        True,  True,  True,  True,  True, False,  True,  True,  True,\n",
              "        True, False, False,  True, False,  True, False,  True,  True,\n",
              "        True,  True, False, False, False, False,  True, False,  True,\n",
              "        True,  True, False, False,  True, False,  True,  True, False,\n",
              "       False,  True,  True, False,  True,  True, False, False,  True,\n",
              "       False, False, False,  True, False, False, False, False, False,\n",
              "       False,  True, False, False, False, False, False,  True, False,\n",
              "       False, False, False,  True, False,  True, False, False,  True,\n",
              "       False, False,  True,  True, False,  True,  True,  True, False,\n",
              "        True, False, False,  True, False, False,  True, False,  True,\n",
              "        True, False,  True,  True,  True, False,  True, False,  True,\n",
              "        True, False,  True,  True, False, False,  True,  True, False,\n",
              "       False,  True,  True, False,  True,  True,  True, False, False,\n",
              "        True, False,  True,  True,  True, False, False,  True, False,\n",
              "        True, False,  True, False,  True, False, False,  True,  True,\n",
              "       False,  True,  True,  True, False, False,  True,  True,  True,\n",
              "       False,  True, False, False, False, False, False,  True, False,\n",
              "       False, False,  True,  True, False, False, False, False, False,\n",
              "       False,  True, False,  True, False, False, False,  True,  True,\n",
              "       False, False,  True, False, False, False, False,  True,  True,\n",
              "        True,  True, False,  True, False,  True, False, False, False,\n",
              "       False,  True,  True, False,  True, False, False, False, False,\n",
              "       False, False,  True, False,  True,  True, False, False,  True,\n",
              "       False, False,  True, False,  True,  True,  True,  True,  True,\n",
              "        True,  True,  True, False, False, False,  True, False,  True,\n",
              "        True, False, False,  True,  True, False,  True, False,  True,\n",
              "        True,  True,  True, False,  True, False, False, False,  True,\n",
              "       False,  True, False, False,  True, False, False,  True,  True,\n",
              "        True, False,  True, False, False,  True, False, False, False,\n",
              "        True, False,  True,  True, False,  True,  True, False,  True,\n",
              "       False, False, False, False,  True,  True, False,  True, False,\n",
              "       False, False])"
            ]
          },
          "metadata": {},
          "execution_count": 41
        }
      ],
      "source": [
        "y_pred"
      ]
    },
    {
      "cell_type": "markdown",
      "metadata": {
        "id": "iZr7_ximmWGV"
      },
      "source": [
        "And now we can compare these predictions (y_pred) to the actual values for those instances (y_test). To find the percentage that are correct, we can do this:"
      ]
    },
    {
      "cell_type": "code",
      "execution_count": 42,
      "metadata": {
        "id": "HRSr-E4omWGV",
        "outputId": "4eaf4c6d-2ec4-4a2f-e983-79e0a1bd9b9b",
        "colab": {
          "base_uri": "https://localhost:8080/"
        }
      },
      "outputs": [
        {
          "output_type": "stream",
          "name": "stdout",
          "text": [
            "0.8582857142857143\n"
          ]
        }
      ],
      "source": [
        "test_count = y_test.shape[0]\n",
        "print(sum(y_test == y_pred)/test_count)"
      ]
    },
    {
      "cell_type": "markdown",
      "metadata": {
        "id": "akyJCVYmmWGW"
      },
      "source": [
        "But thankfully, sklearn makes calculating metrics easy for us as well. If you want to find the accuracy of your model on unseen data, try this:"
      ]
    },
    {
      "cell_type": "code",
      "execution_count": 43,
      "metadata": {
        "id": "oKiS2cdamWGW",
        "outputId": "416ebdbb-b1e2-4dae-afd8-8bad76708dfd",
        "colab": {
          "base_uri": "https://localhost:8080/"
        }
      },
      "outputs": [
        {
          "output_type": "stream",
          "name": "stdout",
          "text": [
            "0.8582857142857143\n"
          ]
        }
      ],
      "source": [
        "from sklearn import metrics\n",
        "print(metrics.accuracy_score(y_test, y_pred))"
      ]
    },
    {
      "cell_type": "markdown",
      "metadata": {
        "id": "zAtQ6KGgmWGW"
      },
      "source": [
        "Before moving on, look up the scikit-learn documentation on the Confusion Matrix. Try adding one in the box below and see how well the kNN model does on different Iris classes."
      ]
    },
    {
      "cell_type": "code",
      "execution_count": 44,
      "metadata": {
        "id": "uddkonIWmWGX"
      },
      "outputs": [],
      "source": [
        "# you might want to try one of these two implementations.\n",
        "# The latter one looks nicer but only comes with more recent versions of Anaconda\n",
        "from sklearn.metrics import confusion_matrix\n",
        "from sklearn.metrics import ConfusionMatrixDisplay\n",
        "import matplotlib.pyplot as plt\n"
      ]
    },
    {
      "cell_type": "code",
      "source": [
        "# call to confusion matrix function goes here\n",
        "\n",
        "# Generate the confusion matrix\n",
        "\n",
        "# Import necessary libraries for confusion matrix and display\n",
        "from sklearn.metrics import confusion_matrix, ConfusionMatrixDisplay\n",
        "import matplotlib.pyplot as plt\n",
        "\n",
        "# Generate and print the confusion matrix\n",
        "cm = confusion_matrix(y_test, y_pred)\n",
        "print(\"Confusion Matrix:\")\n",
        "print(cm)\n",
        "\n",
        "# Plot the confusion matrix using ConfusionMatrixDisplay\n",
        "disp = ConfusionMatrixDisplay(confusion_matrix=cm, display_labels=knn_clf.classes_)\n",
        "disp.plot(cmap=plt.cm.Blues)\n",
        "plt.title('Confusion Matrix')\n",
        "plt.show()"
      ],
      "metadata": {
        "colab": {
          "base_uri": "https://localhost:8080/",
          "height": 526
        },
        "id": "hDHl9OzX9B5H",
        "outputId": "ae8407d7-02f8-4d9d-b52e-7f7f632db9c4"
      },
      "execution_count": 45,
      "outputs": [
        {
          "output_type": "stream",
          "name": "stdout",
          "text": [
            "Confusion Matrix:\n",
            "[[417  40]\n",
            " [ 84 334]]\n"
          ]
        },
        {
          "output_type": "display_data",
          "data": {
            "text/plain": [
              "<Figure size 640x480 with 2 Axes>"
            ],
            "image/png": "[encoded data removed]"
          },
          "metadata": {}
        }
      ]
    },
    {
      "cell_type": "markdown",
      "metadata": {
        "id": "5KA6A3LlmWGX"
      },
      "source": [
        "That's great, but testing the model on a single test set assumes that the test split was not unlucky. What we need to do, is use cross-validation. Begin by importing the cross_val_score function from sklearn."
      ]
    },
    {
      "cell_type": "code",
      "execution_count": 47,
      "metadata": {
        "id": "YlCaoO8hmWGX",
        "outputId": "493e5d08-d7bf-434a-ce29-68bb9629a39a",
        "colab": {
          "base_uri": "https://localhost:8080/"
        }
      },
      "outputs": [
        {
          "output_type": "stream",
          "name": "stdout",
          "text": [
            "cv_scores mean: 0.8545309625996321\n"
          ]
        }
      ],
      "source": [
        "# import cross validation function\n",
        "from sklearn.model_selection import cross_val_score\n",
        "\n",
        "# Now, compute scores for the 5 folds (this makes 5 seperate models, and tests them\n",
        "# each on a different 0.2 of the data set- returning a list of these scores).\n",
        "cv_scores = cross_val_score(knn_clf, X_train, y_train, cv=5)\n",
        "\n",
        "# print the mean of the list of scores\n",
        "print(\"cv_scores mean: {}\".format(np.mean(cv_scores)))"
      ]
    },
    {
      "cell_type": "markdown",
      "metadata": {
        "id": "cwi--WzgmWGX"
      },
      "source": [
        "You'll also need to look up what you learned about encoding variables in week 1's practical (hint: get_dummies), because the motor claims data has some non-numerical variables.\n",
        "\n",
        "Compare the kNN performance on the train and test data, and using cross validation. With a more complicated problem, we can see that our model typically performs worse on unseen data - just as we would expect.\n"
      ]
    },
    {
      "cell_type": "markdown",
      "metadata": {
        "id": "fVskBp99mWGY"
      },
      "source": [
        "Now that you have a model in python, go back and experiment with the number of neighbours - how did this effect the cross validation accuracy score? Where the increases or decreases in the CV score reflected by changes in the accuracy observed on unseen data?"
      ]
    },
    {
      "cell_type": "markdown",
      "metadata": {
        "id": "XN0rQnPvmWGY"
      },
      "source": [
        "# Decision Trees in Python"
      ]
    },
    {
      "cell_type": "markdown",
      "metadata": {
        "id": "F-0QTezamWGY"
      },
      "source": [
        "We have already seen how to create kNN models in python, and because we are using the sklearn library, testing other models means changing only small pieces of our code."
      ]
    },
    {
      "cell_type": "markdown",
      "metadata": {
        "id": "zJcW99swmWGY"
      },
      "source": [
        "Just like before, we are going to import the dataset set the target and feature variables, and split the data into training and testing data (this cell is not necessary if you have already run all of this code earlier in this notebook).\n"
      ]
    },
    {
      "cell_type": "code",
      "execution_count": 48,
      "metadata": {
        "id": "J54fIzmQmWGZ",
        "colab": {
          "base_uri": "https://localhost:8080/",
          "height": 492
        },
        "outputId": "98a7a905-925c-4521-dfa3-9d07473d31b2"
      },
      "outputs": [
        {
          "output_type": "error",
          "ename": "KeyError",
          "evalue": "'Claim_Yes'",
          "traceback": [
            "\u001b[0;31m---------------------------------------------------------------------------\u001b[0m",
            "\u001b[0;31mKeyError\u001b[0m                                  Traceback (most recent call last)",
            "\u001b[0;32m/usr/local/lib/python3.10/dist-packages/pandas/core/indexes/base.py\u001b[0m in \u001b[0;36mget_loc\u001b[0;34m(self, key)\u001b[0m\n\u001b[1;32m   3652\u001b[0m         \u001b[0;32mtry\u001b[0m\u001b[0;34m:\u001b[0m\u001b[0;34m\u001b[0m\u001b[0;34m\u001b[0m\u001b[0m\n\u001b[0;32m-> 3653\u001b[0;31m             \u001b[0;32mreturn\u001b[0m \u001b[0mself\u001b[0m\u001b[0;34m.\u001b[0m\u001b[0m_engine\u001b[0m\u001b[0;34m.\u001b[0m\u001b[0mget_loc\u001b[0m\u001b[0;34m(\u001b[0m\u001b[0mcasted_key\u001b[0m\u001b[0;34m)\u001b[0m\u001b[0;34m\u001b[0m\u001b[0;34m\u001b[0m\u001b[0m\n\u001b[0m\u001b[1;32m   3654\u001b[0m         \u001b[0;32mexcept\u001b[0m \u001b[0mKeyError\u001b[0m \u001b[0;32mas\u001b[0m \u001b[0merr\u001b[0m\u001b[0;34m:\u001b[0m\u001b[0;34m\u001b[0m\u001b[0;34m\u001b[0m\u001b[0m\n",
            "\u001b[0;32m/usr/local/lib/python3.10/dist-packages/pandas/_libs/index.pyx\u001b[0m in \u001b[0;36mpandas._libs.index.IndexEngine.get_loc\u001b[0;34m()\u001b[0m\n",
            "\u001b[0;32m/usr/local/lib/python3.10/dist-packages/pandas/_libs/index.pyx\u001b[0m in \u001b[0;36mpandas._libs.index.IndexEngine.get_loc\u001b[0;34m()\u001b[0m\n",
            "\u001b[0;32mpandas/_libs/hashtable_class_helper.pxi\u001b[0m in \u001b[0;36mpandas._libs.hashtable.PyObjectHashTable.get_item\u001b[0;34m()\u001b[0m\n",
            "\u001b[0;32mpandas/_libs/hashtable_class_helper.pxi\u001b[0m in \u001b[0;36mpandas._libs.hashtable.PyObjectHashTable.get_item\u001b[0;34m()\u001b[0m\n",
            "\u001b[0;31mKeyError\u001b[0m: 'Claim_Yes'",
            "\nThe above exception was the direct cause of the following exception:\n",
            "\u001b[0;31mKeyError\u001b[0m                                  Traceback (most recent call last)",
            "\u001b[0;32m<ipython-input-48-552e0cf04b86>\u001b[0m in \u001b[0;36m<cell line: 9>\u001b[0;34m()\u001b[0m\n\u001b[1;32m      7\u001b[0m \u001b[0;31m# set features and targets\u001b[0m\u001b[0;34m\u001b[0m\u001b[0;34m\u001b[0m\u001b[0m\n\u001b[1;32m      8\u001b[0m \u001b[0mtargetName\u001b[0m\u001b[0;34m=\u001b[0m\u001b[0;34m\"Claim_Yes\"\u001b[0m\u001b[0;34m\u001b[0m\u001b[0;34m\u001b[0m\u001b[0m\n\u001b[0;32m----> 9\u001b[0;31m \u001b[0mdf\u001b[0m\u001b[0;34m.\u001b[0m\u001b[0mcolumns\u001b[0m\u001b[0;34m.\u001b[0m\u001b[0mget_loc\u001b[0m\u001b[0;34m(\u001b[0m\u001b[0mtargetName\u001b[0m\u001b[0;34m)\u001b[0m\u001b[0;34m\u001b[0m\u001b[0;34m\u001b[0m\u001b[0m\n\u001b[0m\u001b[1;32m     10\u001b[0m \u001b[0mfeatureNames\u001b[0m\u001b[0;34m=\u001b[0m\u001b[0mdf\u001b[0m\u001b[0;34m.\u001b[0m\u001b[0mcolumns\u001b[0m\u001b[0;34m[\u001b[0m\u001b[0mnp\u001b[0m\u001b[0;34m.\u001b[0m\u001b[0mwhere\u001b[0m\u001b[0;34m(\u001b[0m\u001b[0mdf\u001b[0m\u001b[0;34m.\u001b[0m\u001b[0mcolumns\u001b[0m \u001b[0;34m!=\u001b[0m \u001b[0mtargetName\u001b[0m\u001b[0;34m)\u001b[0m\u001b[0;34m]\u001b[0m\u001b[0;34m\u001b[0m\u001b[0;34m\u001b[0m\u001b[0m\n\u001b[1;32m     11\u001b[0m \u001b[0mX\u001b[0m \u001b[0;34m=\u001b[0m \u001b[0mdf\u001b[0m\u001b[0;34m[\u001b[0m\u001b[0mfeatureNames\u001b[0m\u001b[0;34m]\u001b[0m\u001b[0;34m\u001b[0m\u001b[0;34m\u001b[0m\u001b[0m\n",
            "\u001b[0;32m/usr/local/lib/python3.10/dist-packages/pandas/core/indexes/base.py\u001b[0m in \u001b[0;36mget_loc\u001b[0;34m(self, key)\u001b[0m\n\u001b[1;32m   3653\u001b[0m             \u001b[0;32mreturn\u001b[0m \u001b[0mself\u001b[0m\u001b[0;34m.\u001b[0m\u001b[0m_engine\u001b[0m\u001b[0;34m.\u001b[0m\u001b[0mget_loc\u001b[0m\u001b[0;34m(\u001b[0m\u001b[0mcasted_key\u001b[0m\u001b[0;34m)\u001b[0m\u001b[0;34m\u001b[0m\u001b[0;34m\u001b[0m\u001b[0m\n\u001b[1;32m   3654\u001b[0m         \u001b[0;32mexcept\u001b[0m \u001b[0mKeyError\u001b[0m \u001b[0;32mas\u001b[0m \u001b[0merr\u001b[0m\u001b[0;34m:\u001b[0m\u001b[0;34m\u001b[0m\u001b[0;34m\u001b[0m\u001b[0m\n\u001b[0;32m-> 3655\u001b[0;31m             \u001b[0;32mraise\u001b[0m \u001b[0mKeyError\u001b[0m\u001b[0;34m(\u001b[0m\u001b[0mkey\u001b[0m\u001b[0;34m)\u001b[0m \u001b[0;32mfrom\u001b[0m \u001b[0merr\u001b[0m\u001b[0;34m\u001b[0m\u001b[0;34m\u001b[0m\u001b[0m\n\u001b[0m\u001b[1;32m   3656\u001b[0m         \u001b[0;32mexcept\u001b[0m \u001b[0mTypeError\u001b[0m\u001b[0;34m:\u001b[0m\u001b[0;34m\u001b[0m\u001b[0;34m\u001b[0m\u001b[0m\n\u001b[1;32m   3657\u001b[0m             \u001b[0;31m# If we have a listlike key, _check_indexing_error will raise\u001b[0m\u001b[0;34m\u001b[0m\u001b[0;34m\u001b[0m\u001b[0m\n",
            "\u001b[0;31mKeyError\u001b[0m: 'Claim_Yes'"
          ]
        }
      ],
      "source": [
        "import pandas as pd\n",
        "import numpy as np\n",
        "\n",
        "# remember to change this path if you've saved the data somewhere else\n",
        "df=pd.read_csv(\"MotorClaims.csv\")\n",
        "\n",
        "# set features and targets\n",
        "targetName=\"Claim_Yes\"\n",
        "df.columns.get_loc(targetName)\n",
        "featureNames=df.columns[np.where(df.columns != targetName)]\n",
        "X = df[featureNames]\n",
        "y = df[targetName]\n",
        "\n",
        "# Use the train_test_split function provided by sklearn\n",
        "from sklearn.model_selection import train_test_split\n",
        "# Split the data into 80% training and 20% testing. Setting the random_state will ensure replicability.\n",
        "X_train, X_test, y_train, y_test = train_test_split(X, y, test_size=0.2, random_state=3)"
      ]
    },
    {
      "cell_type": "markdown",
      "metadata": {
        "id": "LRGUR9I_mWGZ"
      },
      "source": [
        "And now we're ready to create our Decision Tree models"
      ]
    },
    {
      "cell_type": "code",
      "execution_count": null,
      "metadata": {
        "id": "GmaXAmwKmWGZ"
      },
      "outputs": [],
      "source": [
        "# import decision tree from sklearn\n",
        "from sklearn import tree\n",
        "\n",
        "# create and train the model\n",
        "tree_clf = tree.DecisionTreeClassifier()\n",
        "tree_clf = tree_clf.fit(X_train, y_train)"
      ]
    },
    {
      "cell_type": "markdown",
      "metadata": {
        "id": "SiIfxCM4mWGZ"
      },
      "source": [
        "And just like the kNN model, this is all it takes! Let's try evaluating it just like we did with the previous model."
      ]
    },
    {
      "cell_type": "code",
      "execution_count": null,
      "metadata": {
        "id": "caKJPmKdmWGa",
        "outputId": "352b54d5-090c-4e0e-ab6e-26f95352d08e",
        "colab": {
          "base_uri": "https://localhost:8080/"
        }
      },
      "outputs": [
        {
          "output_type": "stream",
          "name": "stdout",
          "text": [
            "cv_scores mean: 0.9416666666666668\n"
          ]
        }
      ],
      "source": [
        "# import cross validation function\n",
        "from sklearn.model_selection import cross_val_score\n",
        "\n",
        "# Now, compute scores for the 5 folds (this makes 5 seperate models, and tests them\n",
        "# each on a different 0.2 of the data set- returning a list of these scores).\n",
        "cv_scores = cross_val_score(tree_clf, X_train, y_train, cv=5)\n",
        "\n",
        "# print the mean of the list of scores\n",
        "print(\"cv_scores mean: {}\".format(np.mean(cv_scores)))"
      ]
    },
    {
      "cell_type": "markdown",
      "metadata": {
        "id": "xQ4ttfjZmWGa"
      },
      "source": [
        "And now let's see how it performs on the unseen (test) data"
      ]
    },
    {
      "cell_type": "code",
      "execution_count": null,
      "metadata": {
        "id": "VzINS4cimWGa",
        "outputId": "1d298a29-ed35-47e1-b2a3-18deeb45eba8",
        "colab": {
          "base_uri": "https://localhost:8080/"
        }
      },
      "outputs": [
        {
          "output_type": "stream",
          "name": "stdout",
          "text": [
            "1.0\n"
          ]
        }
      ],
      "source": [
        "# make some predictions on unseen data\n",
        "y_pred = tree_clf.predict(X_test)\n",
        "\n",
        "# calculate accuracy of the predictions\n",
        "from sklearn import metrics\n",
        "print(metrics.accuracy_score(y_test, y_pred))"
      ]
    },
    {
      "cell_type": "markdown",
      "metadata": {
        "id": "EhTflg8bmWGb"
      },
      "source": [
        "As we mentioned previously, a considerable advantage of Decision Trees are their explainability, and we can view the tree in python like this:"
      ]
    },
    {
      "cell_type": "code",
      "execution_count": null,
      "metadata": {
        "id": "8EgaIfahmWGb",
        "outputId": "e784d036-3825-40e7-9d06-b4660a851121",
        "colab": {
          "base_uri": "https://localhost:8080/",
          "height": 406
        }
      },
      "outputs": [
        {
          "output_type": "display_data",
          "data": {
            "text/plain": [
              "<Figure size 640x480 with 1 Axes>"
            ],
            "image/png": "[encoded data removed]"
          },
          "metadata": {}
        }
      ],
      "source": [
        "tree.plot_tree(tree_clf); # could just call this on its own to display the tree here\n",
        "\n",
        "# these lines will save the tree so you can view it outside the browser\n",
        "import matplotlib.pyplot as plt\n",
        "plt.savefig('tree.svg',format='svg',bbox_inches = \"tight\")"
      ]
    },
    {
      "cell_type": "markdown",
      "metadata": {
        "id": "arngaD63mWGb"
      },
      "source": [
        "This is quite difficult to read due to the variable encodings hiding the information. We can add more detail into our visualisation like this:"
      ]
    },
    {
      "cell_type": "code",
      "execution_count": null,
      "metadata": {
        "id": "QypITHh4mWGc",
        "outputId": "36794b4e-68ec-4ec8-f713-2bc5be0585ba",
        "colab": {
          "base_uri": "https://localhost:8080/",
          "height": 1000
        }
      },
      "outputs": [
        {
          "output_type": "display_data",
          "data": {
            "text/plain": [
              "<Figure size 1200x1200 with 1 Axes>"
            ],
            "image/png": "[encoded data removed]"
          },
          "metadata": {}
        }
      ],
      "source": [
        "from matplotlib import pyplot as plt\n",
        "var_names=['sepal length (cm)','sepal width (cm)','petal length (cm)','petal width (cm)']\n",
        "class_names=['setosa', 'versicolor', 'virginica']\n",
        "fig, axes = plt.subplots(nrows = 1,ncols = 1,figsize = (4,4), dpi=300)\n",
        "tree.plot_tree(tree_clf,\n",
        "               feature_names = var_names,\n",
        "               class_names=class_names,\n",
        "               filled = True);\n",
        "\n",
        "plt.savefig('tree_detailed.svg',format='svg',bbox_inches = \"tight\")"
      ]
    },
    {
      "cell_type": "markdown",
      "metadata": {
        "id": "asG9GlOemWGi"
      },
      "source": [
        "Now you can see exactly how the tree makes its classifications.\n",
        "\n",
        "Each internal node contains a variable name, and a rule to split that variable on. You can also see how many instances among the training data reached that node in the tree, and how many fell into each class. At the leaf nodes (those with no child nodes connected to them) the data falls into one class (e.g., value=0,0,35 or value=40, 0, 0 ).\n",
        "\n",
        "Choose one of the leaf nodes and make a list of all the nodes (and the subsequent rules) that led to the decision tree making that classification.\n",
        "\n",
        "If you look up the documentation for [DecisionTreeClassifier](https://scikit-learn.org/stable/modules/generated/sklearn.tree.DecisionTreeClassifier.html) you'll see the various parameters that control the model's structure and learning. These parameters are designed to help us balance bias and variance: stopping the tree from creating overly complex rules that overfit to the training data and prevent generalisation to new datasets, but still allowing the tree to learn something from the training data. One of these parameters is `max_depth`, which helps to prevent the model overfitting by limiting how deep it can get. It defaults to \"None\", which means overfitting can easily happen, but we don't see it on the easy-to-model Iris data.  As before, change the dataset to MotorClaims.csv, and inspect the tree visualisation. It’s much more complicated now!\n",
        "\n",
        "Make a note of the accuracy computed for cross validation. Change the creation of the tree above to look like this: `tree_clf = tree.DecisionTreeClassifier(max_depth=2)`. Now the tree is much simpler, and you should see that the leaf nodes are no longer \"pure\", but many have instances in more than one class.\n",
        "\n",
        "Try changing the max_depth parameter; which value produces the highest accuracy value when running cross validation?"
      ]
    },
    {
      "cell_type": "markdown",
      "metadata": {
        "id": "Om5fEnmLmWGi"
      },
      "source": [
        "# Evaluating Classification Models"
      ]
    },
    {
      "cell_type": "markdown",
      "metadata": {
        "id": "am0_EiVfmWGi"
      },
      "source": [
        "Now that we know how to create different models in python, we should look at how to compare them. Let's begin by loading our new dataset concerning defaulting credit holders. Note that we also changed the targetName to reflect this different dataset."
      ]
    },
    {
      "cell_type": "code",
      "execution_count": null,
      "metadata": {
        "id": "uXMFvK1TmWGj"
      },
      "outputs": [],
      "source": [
        "import pandas as pd\n",
        "import numpy as np\n",
        "\n",
        "# remember to change this path if you've saved the data somewhere else\n",
        "df=pd.read_csv(\"creditDefault.csv\")\n",
        "\n",
        "# set features and targets\n",
        "targetName=\"default payment next month\"\n",
        "df.columns.get_loc(targetName)\n",
        "featureNames=df.columns[np.where(df.columns != targetName)]\n",
        "X = df[featureNames]\n",
        "y = df[targetName]\n",
        "\n",
        "# Use the train_test_split function provided by sklearn\n",
        "from sklearn.model_selection import train_test_split\n",
        "# Split the data into 80% training and 20% testing. Setting the random_state will ensure replicability.\n",
        "X_train, X_test, y_train, y_test = train_test_split(X, y, test_size=0.2, random_state=3)"
      ]
    },
    {
      "cell_type": "markdown",
      "metadata": {
        "id": "X40ZdjrEmWGj"
      },
      "source": [
        "Now we will train a Decision Tree and kNN model to compare."
      ]
    },
    {
      "cell_type": "code",
      "execution_count": null,
      "metadata": {
        "id": "wn4sLHz2mWGj",
        "outputId": "699e7aca-6672-4317-bd10-443fab899210"
      },
      "outputs": [
        {
          "data": {
            "text/html": [
              "<style>#sk-container-id-2 {color: black;}#sk-container-id-2 pre{padding: 0;}#sk-container-id-2 div.sk-toggleable {background-color: white;}#sk-container-id-2 label.sk-toggleable__label {cursor: pointer;display: block;width: 100%;margin-bottom: 0;padding: 0.3em;box-sizing: border-box;text-align: center;}#sk-container-id-2 label.sk-toggleable__label-arrow:before {content: \"▸\";float: left;margin-right: 0.25em;color: #696969;}#sk-container-id-2 label.sk-toggleable__label-arrow:hover:before {color: black;}#sk-container-id-2 div.sk-estimator:hover label.sk-toggleable__label-arrow:before {color: black;}#sk-container-id-2 div.sk-toggleable__content {max-height: 0;max-width: 0;overflow: hidden;text-align: left;background-color: #f0f8ff;}#sk-container-id-2 div.sk-toggleable__content pre {margin: 0.2em;color: black;border-radius: 0.25em;background-color: #f0f8ff;}#sk-container-id-2 input.sk-toggleable__control:checked~div.sk-toggleable__content {max-height: 200px;max-width: 100%;overflow: auto;}#sk-container-id-2 input.sk-toggleable__control:checked~label.sk-toggleable__label-arrow:before {content: \"▾\";}#sk-container-id-2 div.sk-estimator input.sk-toggleable__control:checked~label.sk-toggleable__label {background-color: #d4ebff;}#sk-container-id-2 div.sk-label input.sk-toggleable__control:checked~label.sk-toggleable__label {background-color: #d4ebff;}#sk-container-id-2 input.sk-hidden--visually {border: 0;clip: rect(1px 1px 1px 1px);clip: rect(1px, 1px, 1px, 1px);height: 1px;margin: -1px;overflow: hidden;padding: 0;position: absolute;width: 1px;}#sk-container-id-2 div.sk-estimator {font-family: monospace;background-color: #f0f8ff;border: 1px dotted black;border-radius: 0.25em;box-sizing: border-box;margin-bottom: 0.5em;}#sk-container-id-2 div.sk-estimator:hover {background-color: #d4ebff;}#sk-container-id-2 div.sk-parallel-item::after {content: \"\";width: 100%;border-bottom: 1px solid gray;flex-grow: 1;}#sk-container-id-2 div.sk-label:hover label.sk-toggleable__label {background-color: #d4ebff;}#sk-container-id-2 div.sk-serial::before {content: \"\";position: absolute;border-left: 1px solid gray;box-sizing: border-box;top: 0;bottom: 0;left: 50%;z-index: 0;}#sk-container-id-2 div.sk-serial {display: flex;flex-direction: column;align-items: center;background-color: white;padding-right: 0.2em;padding-left: 0.2em;position: relative;}#sk-container-id-2 div.sk-item {position: relative;z-index: 1;}#sk-container-id-2 div.sk-parallel {display: flex;align-items: stretch;justify-content: center;background-color: white;position: relative;}#sk-container-id-2 div.sk-item::before, #sk-container-id-2 div.sk-parallel-item::before {content: \"\";position: absolute;border-left: 1px solid gray;box-sizing: border-box;top: 0;bottom: 0;left: 50%;z-index: -1;}#sk-container-id-2 div.sk-parallel-item {display: flex;flex-direction: column;z-index: 1;position: relative;background-color: white;}#sk-container-id-2 div.sk-parallel-item:first-child::after {align-self: flex-end;width: 50%;}#sk-container-id-2 div.sk-parallel-item:last-child::after {align-self: flex-start;width: 50%;}#sk-container-id-2 div.sk-parallel-item:only-child::after {width: 0;}#sk-container-id-2 div.sk-dashed-wrapped {border: 1px dashed gray;margin: 0 0.4em 0.5em 0.4em;box-sizing: border-box;padding-bottom: 0.4em;background-color: white;}#sk-container-id-2 div.sk-label label {font-family: monospace;font-weight: bold;display: inline-block;line-height: 1.2em;}#sk-container-id-2 div.sk-label-container {text-align: center;}#sk-container-id-2 div.sk-container {/* jupyter's `normalize.less` sets `[hidden] { display: none; }` but bootstrap.min.css set `[hidden] { display: none !important; }` so we also need the `!important` here to be able to override the default hidden behavior on the sphinx rendered scikit-learn.org. See: https://github.com/scikit-learn/scikit-learn/issues/21755 */display: inline-block !important;position: relative;}#sk-container-id-2 div.sk-text-repr-fallback {display: none;}</style><div id=\"sk-container-id-2\" class=\"sk-top-container\"><div class=\"sk-text-repr-fallback\"><pre>KNeighborsClassifier()</pre><b>In a Jupyter environment, please rerun this cell to show the HTML representation or trust the notebook. <br />On GitHub, the HTML representation is unable to render, please try loading this page with nbviewer.org.</b></div><div class=\"sk-container\" hidden><div class=\"sk-item\"><div class=\"sk-estimator sk-toggleable\"><input class=\"sk-toggleable__control sk-hidden--visually\" id=\"sk-estimator-id-2\" type=\"checkbox\" checked><label for=\"sk-estimator-id-2\" class=\"sk-toggleable__label sk-toggleable__label-arrow\">KNeighborsClassifier</label><div class=\"sk-toggleable__content\"><pre>KNeighborsClassifier()</pre></div></div></div></div></div>"
            ],
            "text/plain": [
              "KNeighborsClassifier()"
            ]
          },
          "execution_count": 19,
          "metadata": {},
          "output_type": "execute_result"
        }
      ],
      "source": [
        "# import decision tree from sklearn\n",
        "from sklearn import tree\n",
        "# create and train the model\n",
        "tree_clf = tree.DecisionTreeClassifier()\n",
        "tree_clf = tree_clf.fit(X_train, y_train)\n",
        "\n",
        "from sklearn.neighbors import KNeighborsClassifier\n",
        "# create and train the model\n",
        "k = 5 # Number of neighbours\n",
        "knn_clf = KNeighborsClassifier(n_neighbors = k)\n",
        "knn_clf.fit(X_train, y_train)"
      ]
    },
    {
      "cell_type": "markdown",
      "metadata": {
        "id": "wQncumcDmWGj"
      },
      "source": [
        "Now that we have the kNN and Decision Tree models, we can evaluate them. Let's begin by performing k-fold cross validation (remember that this is a bigger dataset, and CV involves creating multiple models for evaluation, so this will take a little while)"
      ]
    },
    {
      "cell_type": "code",
      "execution_count": null,
      "metadata": {
        "id": "aZSMhLGSmWGk",
        "outputId": "183196bb-92ef-4fb0-e66d-d159e4b2c3a7"
      },
      "outputs": [
        {
          "name": "stdout",
          "output_type": "stream",
          "text": [
            "Decision Tree CV Score: 0.7202500000000001\n",
            "kNN CV Score:           0.7457083333333333\n"
          ]
        }
      ],
      "source": [
        "# import cross validation function\n",
        "from sklearn.model_selection import cross_val_score\n",
        "\n",
        "# Now, compute scores for the 5 folds (this makes 5 seperate models, and tests them\n",
        "# each on a different 0.2 of the data set- returning a list of these scores).\n",
        "tree_cv_scores = cross_val_score(tree_clf, X_train, y_train, cv=5)\n",
        "knn_cv_scores = cross_val_score(knn_clf, X_train.values, y_train, cv=5) # \".values\" is needed due to a bug in some sklearn builds that breaks dataframe functionality for knn\n",
        "\n",
        "# print the mean of the list of scores\n",
        "print(\"Decision Tree CV Score: {}\".format(np.mean(tree_cv_scores)))\n",
        "print(\"kNN CV Score:           {}\".format(np.mean(knn_cv_scores)))"
      ]
    },
    {
      "cell_type": "markdown",
      "metadata": {
        "id": "mytbrJJ7mWGk"
      },
      "source": [
        "This CV score defaults to the accuracy of the splits by default. If we want to find other metrics, we can ask cross_validate to calculate them for us by including them in an iterable passed with the keyword 'scoring'"
      ]
    },
    {
      "cell_type": "code",
      "execution_count": null,
      "metadata": {
        "id": "VhvYo7ZRmWGk",
        "outputId": "34a3e1bf-6c2d-448c-bc76-c72da410192b"
      },
      "outputs": [
        {
          "name": "stdout",
          "output_type": "stream",
          "text": [
            "{'fit_time': array([0.49753356, 0.51733255, 0.49647546, 0.46889615, 0.46589589]), 'score_time': array([0.0177803 , 0.01955462, 0.01732278, 0.01719403, 0.01718807]), 'test_accuracy': array([0.71208333, 0.71625   , 0.72916667, 0.71583333, 0.731875  ]), 'test_roc_auc': array([0.59695845, 0.60360389, 0.61325031, 0.61422371, 0.62498503]), 'test_precision': array([0.36634531, 0.37554585, 0.39780018, 0.38169827, 0.40737489]), 'test_f1': array([0.37691614, 0.3870387 , 0.400369  , 0.40436681, 0.41896163]), 'test_recall': array([0.38811513, 0.3992572 , 0.40297122, 0.42989786, 0.43122677])}\n",
            "{'fit_time': array([0.00255418, 0.0025084 , 0.00242043, 0.00244999, 0.00274396]), 'score_time': array([5.94499755, 5.80230951, 5.71060419, 6.12229395, 6.66042042]), 'test_accuracy': array([0.74020833, 0.75      , 0.745     , 0.74333333, 0.75      ]), 'test_roc_auc': array([0.60359765, 0.60258298, 0.60368881, 0.60044714, 0.60403007]), 'test_precision': array([0.35243056, 0.39076377, 0.36210131, 0.35459662, 0.38928571]), 'test_f1': array([0.24561404, 0.26829268, 0.23975155, 0.23478261, 0.26650367]), 'test_recall': array([0.18848654, 0.20427112, 0.17920149, 0.17548747, 0.20260223])}\n"
          ]
        }
      ],
      "source": [
        "from sklearn.model_selection import cross_validate\n",
        "metrics_to_calculate = ['accuracy', 'roc_auc', 'precision', 'f1','recall']\n",
        "\n",
        "tree_cv_scores = cross_validate(tree_clf, X_train, y_train, cv=5, scoring=metrics_to_calculate)\n",
        "knn_cv_scores = cross_validate(knn_clf, X_train.values, y_train, cv=5, scoring=metrics_to_calculate)\n",
        "\n",
        "print(tree_cv_scores)\n",
        "print(knn_cv_scores)"
      ]
    },
    {
      "cell_type": "markdown",
      "metadata": {
        "id": "p3iwIWhhmWGl"
      },
      "source": [
        "Each of which can be extracted and calculated like this:"
      ]
    },
    {
      "cell_type": "code",
      "execution_count": null,
      "metadata": {
        "id": "PtBXr3R3mWGl",
        "outputId": "9ec0ed2c-af32-460c-80b7-37b43618da58"
      },
      "outputs": [
        {
          "name": "stdout",
          "output_type": "stream",
          "text": [
            "0.39753045714738655\n"
          ]
        }
      ],
      "source": [
        "tree_f1_score = np.mean(tree_cv_scores['test_f1'])\n",
        "print(tree_f1_score)"
      ]
    },
    {
      "cell_type": "markdown",
      "metadata": {
        "id": "79jFa055mWGl"
      },
      "source": [
        "There are a wide range of different metrics available to test - here are all that are available within sklearn (remember that only some of these are applicable to classifiers!)."
      ]
    },
    {
      "cell_type": "code",
      "execution_count": null,
      "metadata": {
        "id": "YV-GKoltmWGm",
        "outputId": "691c3219-393a-4339-e594-f806c1116800"
      },
      "outputs": [
        {
          "data": {
            "text/plain": [
              "['accuracy',\n",
              " 'adjusted_mutual_info_score',\n",
              " 'adjusted_rand_score',\n",
              " 'average_precision',\n",
              " 'balanced_accuracy',\n",
              " 'completeness_score',\n",
              " 'explained_variance',\n",
              " 'f1',\n",
              " 'f1_macro',\n",
              " 'f1_micro',\n",
              " 'f1_samples',\n",
              " 'f1_weighted',\n",
              " 'fowlkes_mallows_score',\n",
              " 'homogeneity_score',\n",
              " 'jaccard',\n",
              " 'jaccard_macro',\n",
              " 'jaccard_micro',\n",
              " 'jaccard_samples',\n",
              " 'jaccard_weighted',\n",
              " 'matthews_corrcoef',\n",
              " 'max_error',\n",
              " 'mutual_info_score',\n",
              " 'neg_brier_score',\n",
              " 'neg_log_loss',\n",
              " 'neg_mean_absolute_error',\n",
              " 'neg_mean_absolute_percentage_error',\n",
              " 'neg_mean_gamma_deviance',\n",
              " 'neg_mean_poisson_deviance',\n",
              " 'neg_mean_squared_error',\n",
              " 'neg_mean_squared_log_error',\n",
              " 'neg_median_absolute_error',\n",
              " 'neg_negative_likelihood_ratio',\n",
              " 'neg_root_mean_squared_error',\n",
              " 'normalized_mutual_info_score',\n",
              " 'positive_likelihood_ratio',\n",
              " 'precision',\n",
              " 'precision_macro',\n",
              " 'precision_micro',\n",
              " 'precision_samples',\n",
              " 'precision_weighted',\n",
              " 'r2',\n",
              " 'rand_score',\n",
              " 'recall',\n",
              " 'recall_macro',\n",
              " 'recall_micro',\n",
              " 'recall_samples',\n",
              " 'recall_weighted',\n",
              " 'roc_auc',\n",
              " 'roc_auc_ovo',\n",
              " 'roc_auc_ovo_weighted',\n",
              " 'roc_auc_ovr',\n",
              " 'roc_auc_ovr_weighted',\n",
              " 'top_k_accuracy',\n",
              " 'v_measure_score']"
            ]
          },
          "execution_count": 23,
          "metadata": {},
          "output_type": "execute_result"
        }
      ],
      "source": [
        "from sklearn.metrics._scorer import _SCORERS\n",
        "sorted(_SCORERS.keys())\n",
        "\n",
        "# older versions of scikit-learn need this instead:\n",
        "#from sklearn.metrics import SCORERS\n",
        "#sorted(SCORERS.keys())"
      ]
    },
    {
      "cell_type": "markdown",
      "metadata": {
        "id": "cEdXqGl0mWGm"
      },
      "source": [
        "Similarly, as you've already seen earlier, calculating the confusion matrix in python is also quite simple. We simply pass the predicted labels and the actual labels to the confusion_matrix function like this:"
      ]
    },
    {
      "cell_type": "code",
      "execution_count": null,
      "metadata": {
        "id": "eqWZJTTnmWGm",
        "outputId": "5a498853-4900-4b16-c8a1-683baef3370e"
      },
      "outputs": [
        {
          "name": "stderr",
          "output_type": "stream",
          "text": [
            "/home/sbr/anaconda3/lib/python3.11/site-packages/sklearn/base.py:464: UserWarning: X does not have valid feature names, but KNeighborsClassifier was fitted with feature names\n",
            "  warnings.warn(\n"
          ]
        },
        {
          "data": {
            "text/plain": [
              "array([[4304,  444],\n",
              "       [1038,  214]])"
            ]
          },
          "execution_count": 24,
          "metadata": {},
          "output_type": "execute_result"
        }
      ],
      "source": [
        "from sklearn.metrics import confusion_matrix\n",
        "knn_pred = knn_clf.predict(X_test.values)\n",
        "\n",
        "# this produces a nicer result but seems to be broken in current scikit learn at time of writing\n",
        "# knn_pred = knn_clf.predict(X_test)\n",
        "\n",
        "confusion_matrix(y_test, knn_pred)"
      ]
    },
    {
      "cell_type": "markdown",
      "metadata": {
        "id": "0lj6EnnXmWGn"
      },
      "source": [
        "# Ensembles"
      ]
    },
    {
      "cell_type": "markdown",
      "metadata": {
        "id": "99aLT8UbmWGn"
      },
      "source": [
        "In this exercise, we are going to improve upon the Decision Trees we used earlier by creating emsemble models - specifically, we are going to use Bagging and Boosting.\n",
        "\n",
        "Remember that ensembles train many models and use their outputs to form a single prediction. It's important to bear in mind that this often takes much longer to run. If you find it's taking too long on your machine, make the n_estimators smaller to speed up the execution time.\n",
        "\n",
        "Just like before, we are going to import the dataset set the target and feature variables, and split the data into training and testing data."
      ]
    },
    {
      "cell_type": "code",
      "execution_count": null,
      "metadata": {
        "id": "hlwAZjT4mWGn"
      },
      "outputs": [],
      "source": [
        "import pandas as pd\n",
        "import numpy as np\n",
        "\n",
        "# remember to change this path if you've saved the data somewhere else\n",
        "df=pd.read_csv(\"creditDefault.csv\")\n",
        "\n",
        "# set features and targets\n",
        "targetName=\"default payment next month\"\n",
        "df.columns.get_loc(targetName)\n",
        "featureNames=df.columns[np.where(df.columns != targetName)]\n",
        "X = df[featureNames]\n",
        "y = df[targetName]\n",
        "\n",
        "# Use the train_test_split function provided by sklearn\n",
        "from sklearn.model_selection import train_test_split\n",
        "# Split the data into 80% training and 20% testing. Setting the random_state will ensure replicability.\n",
        "X_train, X_test, y_train, y_test = train_test_split(X, y, test_size=0.2, random_state=3)"
      ]
    },
    {
      "cell_type": "markdown",
      "metadata": {
        "id": "5d-FSYIymWGo"
      },
      "source": [
        "Let's begin with a decision tree to form a baseline for comparison"
      ]
    },
    {
      "cell_type": "code",
      "execution_count": null,
      "metadata": {
        "id": "gcGgGba9mWGo"
      },
      "outputs": [],
      "source": [
        "# import decision tree from sklearn\n",
        "from sklearn import tree\n",
        "\n",
        "# create and train the model\n",
        "tree_clf = tree.DecisionTreeClassifier()\n",
        "tree_clf = tree_clf.fit(X_train, y_train)"
      ]
    },
    {
      "cell_type": "markdown",
      "metadata": {
        "id": "S2vpBBLTmWGo"
      },
      "source": [
        "Now we're ready to create our first ensemble method. Let's start with one of the most powerful and well known Bagging methods: Random Forests."
      ]
    },
    {
      "cell_type": "code",
      "execution_count": null,
      "metadata": {
        "id": "N2GphT8YmWGp",
        "outputId": "6fcc500f-0d92-45d8-a446-bf14bb9d9eb7"
      },
      "outputs": [
        {
          "data": {
            "text/html": [
              "<style>#sk-container-id-3 {color: black;}#sk-container-id-3 pre{padding: 0;}#sk-container-id-3 div.sk-toggleable {background-color: white;}#sk-container-id-3 label.sk-toggleable__label {cursor: pointer;display: block;width: 100%;margin-bottom: 0;padding: 0.3em;box-sizing: border-box;text-align: center;}#sk-container-id-3 label.sk-toggleable__label-arrow:before {content: \"▸\";float: left;margin-right: 0.25em;color: #696969;}#sk-container-id-3 label.sk-toggleable__label-arrow:hover:before {color: black;}#sk-container-id-3 div.sk-estimator:hover label.sk-toggleable__label-arrow:before {color: black;}#sk-container-id-3 div.sk-toggleable__content {max-height: 0;max-width: 0;overflow: hidden;text-align: left;background-color: #f0f8ff;}#sk-container-id-3 div.sk-toggleable__content pre {margin: 0.2em;color: black;border-radius: 0.25em;background-color: #f0f8ff;}#sk-container-id-3 input.sk-toggleable__control:checked~div.sk-toggleable__content {max-height: 200px;max-width: 100%;overflow: auto;}#sk-container-id-3 input.sk-toggleable__control:checked~label.sk-toggleable__label-arrow:before {content: \"▾\";}#sk-container-id-3 div.sk-estimator input.sk-toggleable__control:checked~label.sk-toggleable__label {background-color: #d4ebff;}#sk-container-id-3 div.sk-label input.sk-toggleable__control:checked~label.sk-toggleable__label {background-color: #d4ebff;}#sk-container-id-3 input.sk-hidden--visually {border: 0;clip: rect(1px 1px 1px 1px);clip: rect(1px, 1px, 1px, 1px);height: 1px;margin: -1px;overflow: hidden;padding: 0;position: absolute;width: 1px;}#sk-container-id-3 div.sk-estimator {font-family: monospace;background-color: #f0f8ff;border: 1px dotted black;border-radius: 0.25em;box-sizing: border-box;margin-bottom: 0.5em;}#sk-container-id-3 div.sk-estimator:hover {background-color: #d4ebff;}#sk-container-id-3 div.sk-parallel-item::after {content: \"\";width: 100%;border-bottom: 1px solid gray;flex-grow: 1;}#sk-container-id-3 div.sk-label:hover label.sk-toggleable__label {background-color: #d4ebff;}#sk-container-id-3 div.sk-serial::before {content: \"\";position: absolute;border-left: 1px solid gray;box-sizing: border-box;top: 0;bottom: 0;left: 50%;z-index: 0;}#sk-container-id-3 div.sk-serial {display: flex;flex-direction: column;align-items: center;background-color: white;padding-right: 0.2em;padding-left: 0.2em;position: relative;}#sk-container-id-3 div.sk-item {position: relative;z-index: 1;}#sk-container-id-3 div.sk-parallel {display: flex;align-items: stretch;justify-content: center;background-color: white;position: relative;}#sk-container-id-3 div.sk-item::before, #sk-container-id-3 div.sk-parallel-item::before {content: \"\";position: absolute;border-left: 1px solid gray;box-sizing: border-box;top: 0;bottom: 0;left: 50%;z-index: -1;}#sk-container-id-3 div.sk-parallel-item {display: flex;flex-direction: column;z-index: 1;position: relative;background-color: white;}#sk-container-id-3 div.sk-parallel-item:first-child::after {align-self: flex-end;width: 50%;}#sk-container-id-3 div.sk-parallel-item:last-child::after {align-self: flex-start;width: 50%;}#sk-container-id-3 div.sk-parallel-item:only-child::after {width: 0;}#sk-container-id-3 div.sk-dashed-wrapped {border: 1px dashed gray;margin: 0 0.4em 0.5em 0.4em;box-sizing: border-box;padding-bottom: 0.4em;background-color: white;}#sk-container-id-3 div.sk-label label {font-family: monospace;font-weight: bold;display: inline-block;line-height: 1.2em;}#sk-container-id-3 div.sk-label-container {text-align: center;}#sk-container-id-3 div.sk-container {/* jupyter's `normalize.less` sets `[hidden] { display: none; }` but bootstrap.min.css set `[hidden] { display: none !important; }` so we also need the `!important` here to be able to override the default hidden behavior on the sphinx rendered scikit-learn.org. See: https://github.com/scikit-learn/scikit-learn/issues/21755 */display: inline-block !important;position: relative;}#sk-container-id-3 div.sk-text-repr-fallback {display: none;}</style><div id=\"sk-container-id-3\" class=\"sk-top-container\"><div class=\"sk-text-repr-fallback\"><pre>RandomForestClassifier(n_estimators=50, random_state=1)</pre><b>In a Jupyter environment, please rerun this cell to show the HTML representation or trust the notebook. <br />On GitHub, the HTML representation is unable to render, please try loading this page with nbviewer.org.</b></div><div class=\"sk-container\" hidden><div class=\"sk-item\"><div class=\"sk-estimator sk-toggleable\"><input class=\"sk-toggleable__control sk-hidden--visually\" id=\"sk-estimator-id-3\" type=\"checkbox\" checked><label for=\"sk-estimator-id-3\" class=\"sk-toggleable__label sk-toggleable__label-arrow\">RandomForestClassifier</label><div class=\"sk-toggleable__content\"><pre>RandomForestClassifier(n_estimators=50, random_state=1)</pre></div></div></div></div></div>"
            ],
            "text/plain": [
              "RandomForestClassifier(n_estimators=50, random_state=1)"
            ]
          },
          "execution_count": 27,
          "metadata": {},
          "output_type": "execute_result"
        }
      ],
      "source": [
        "from sklearn.ensemble import RandomForestClassifier\n",
        "\n",
        "rand_forest_clf = RandomForestClassifier(n_estimators=50, random_state=1)\n",
        "rand_forest_clf.fit(X_train, y_train)"
      ]
    },
    {
      "cell_type": "markdown",
      "metadata": {
        "id": "cHPUFRIjmWGp"
      },
      "source": [
        "And now, let's take one of the most popular Boosting methods: Adaboost."
      ]
    },
    {
      "cell_type": "code",
      "execution_count": null,
      "metadata": {
        "id": "E3PRwhGnmWGp",
        "outputId": "8d8887bf-69fa-4d7e-980c-5b6c58b99c45"
      },
      "outputs": [
        {
          "data": {
            "text/html": [
              "<style>#sk-container-id-4 {color: black;}#sk-container-id-4 pre{padding: 0;}#sk-container-id-4 div.sk-toggleable {background-color: white;}#sk-container-id-4 label.sk-toggleable__label {cursor: pointer;display: block;width: 100%;margin-bottom: 0;padding: 0.3em;box-sizing: border-box;text-align: center;}#sk-container-id-4 label.sk-toggleable__label-arrow:before {content: \"▸\";float: left;margin-right: 0.25em;color: #696969;}#sk-container-id-4 label.sk-toggleable__label-arrow:hover:before {color: black;}#sk-container-id-4 div.sk-estimator:hover label.sk-toggleable__label-arrow:before {color: black;}#sk-container-id-4 div.sk-toggleable__content {max-height: 0;max-width: 0;overflow: hidden;text-align: left;background-color: #f0f8ff;}#sk-container-id-4 div.sk-toggleable__content pre {margin: 0.2em;color: black;border-radius: 0.25em;background-color: #f0f8ff;}#sk-container-id-4 input.sk-toggleable__control:checked~div.sk-toggleable__content {max-height: 200px;max-width: 100%;overflow: auto;}#sk-container-id-4 input.sk-toggleable__control:checked~label.sk-toggleable__label-arrow:before {content: \"▾\";}#sk-container-id-4 div.sk-estimator input.sk-toggleable__control:checked~label.sk-toggleable__label {background-color: #d4ebff;}#sk-container-id-4 div.sk-label input.sk-toggleable__control:checked~label.sk-toggleable__label {background-color: #d4ebff;}#sk-container-id-4 input.sk-hidden--visually {border: 0;clip: rect(1px 1px 1px 1px);clip: rect(1px, 1px, 1px, 1px);height: 1px;margin: -1px;overflow: hidden;padding: 0;position: absolute;width: 1px;}#sk-container-id-4 div.sk-estimator {font-family: monospace;background-color: #f0f8ff;border: 1px dotted black;border-radius: 0.25em;box-sizing: border-box;margin-bottom: 0.5em;}#sk-container-id-4 div.sk-estimator:hover {background-color: #d4ebff;}#sk-container-id-4 div.sk-parallel-item::after {content: \"\";width: 100%;border-bottom: 1px solid gray;flex-grow: 1;}#sk-container-id-4 div.sk-label:hover label.sk-toggleable__label {background-color: #d4ebff;}#sk-container-id-4 div.sk-serial::before {content: \"\";position: absolute;border-left: 1px solid gray;box-sizing: border-box;top: 0;bottom: 0;left: 50%;z-index: 0;}#sk-container-id-4 div.sk-serial {display: flex;flex-direction: column;align-items: center;background-color: white;padding-right: 0.2em;padding-left: 0.2em;position: relative;}#sk-container-id-4 div.sk-item {position: relative;z-index: 1;}#sk-container-id-4 div.sk-parallel {display: flex;align-items: stretch;justify-content: center;background-color: white;position: relative;}#sk-container-id-4 div.sk-item::before, #sk-container-id-4 div.sk-parallel-item::before {content: \"\";position: absolute;border-left: 1px solid gray;box-sizing: border-box;top: 0;bottom: 0;left: 50%;z-index: -1;}#sk-container-id-4 div.sk-parallel-item {display: flex;flex-direction: column;z-index: 1;position: relative;background-color: white;}#sk-container-id-4 div.sk-parallel-item:first-child::after {align-self: flex-end;width: 50%;}#sk-container-id-4 div.sk-parallel-item:last-child::after {align-self: flex-start;width: 50%;}#sk-container-id-4 div.sk-parallel-item:only-child::after {width: 0;}#sk-container-id-4 div.sk-dashed-wrapped {border: 1px dashed gray;margin: 0 0.4em 0.5em 0.4em;box-sizing: border-box;padding-bottom: 0.4em;background-color: white;}#sk-container-id-4 div.sk-label label {font-family: monospace;font-weight: bold;display: inline-block;line-height: 1.2em;}#sk-container-id-4 div.sk-label-container {text-align: center;}#sk-container-id-4 div.sk-container {/* jupyter's `normalize.less` sets `[hidden] { display: none; }` but bootstrap.min.css set `[hidden] { display: none !important; }` so we also need the `!important` here to be able to override the default hidden behavior on the sphinx rendered scikit-learn.org. See: https://github.com/scikit-learn/scikit-learn/issues/21755 */display: inline-block !important;position: relative;}#sk-container-id-4 div.sk-text-repr-fallback {display: none;}</style><div id=\"sk-container-id-4\" class=\"sk-top-container\"><div class=\"sk-text-repr-fallback\"><pre>AdaBoostClassifier(random_state=1)</pre><b>In a Jupyter environment, please rerun this cell to show the HTML representation or trust the notebook. <br />On GitHub, the HTML representation is unable to render, please try loading this page with nbviewer.org.</b></div><div class=\"sk-container\" hidden><div class=\"sk-item\"><div class=\"sk-estimator sk-toggleable\"><input class=\"sk-toggleable__control sk-hidden--visually\" id=\"sk-estimator-id-4\" type=\"checkbox\" checked><label for=\"sk-estimator-id-4\" class=\"sk-toggleable__label sk-toggleable__label-arrow\">AdaBoostClassifier</label><div class=\"sk-toggleable__content\"><pre>AdaBoostClassifier(random_state=1)</pre></div></div></div></div></div>"
            ],
            "text/plain": [
              "AdaBoostClassifier(random_state=1)"
            ]
          },
          "execution_count": 28,
          "metadata": {},
          "output_type": "execute_result"
        }
      ],
      "source": [
        "from sklearn.ensemble import AdaBoostClassifier\n",
        "\n",
        "adaboost_clf = AdaBoostClassifier(n_estimators=50, random_state=1)\n",
        "adaboost_clf.fit(X_train, y_train)"
      ]
    },
    {
      "cell_type": "markdown",
      "metadata": {
        "id": "ZfFxeaEnmWGq"
      },
      "source": [
        "Note that both of these ensembles consist of 50 decision trees (n_estimators), but this can be varied according to the nature of the problem!\n",
        "\n",
        "Now that we have examples, we should evaluate them against the original decision tree classifier."
      ]
    },
    {
      "cell_type": "code",
      "execution_count": null,
      "metadata": {
        "id": "gJBFOt3JmWGq",
        "outputId": "7c8dce7b-3b2f-4745-be63-c9360655b4e8"
      },
      "outputs": [
        {
          "name": "stdout",
          "output_type": "stream",
          "text": [
            "Decision Tree CV Score: 0.7225833333333332\n",
            "Random Forest CV Score: 0.8140833333333333\n",
            "Adaboost CV Score:      0.8135\n"
          ]
        }
      ],
      "source": [
        "# Now, compute scores for the 5 folds (this makes 5 seperate models, and tests them\n",
        "# each on a different 0.2 of the data set- returning a list of these scores).\n",
        "tree_cv_scores = cross_val_score(tree_clf, X_train, y_train, cv=5)\n",
        "rand_forest_cv_scores = cross_val_score(rand_forest_clf, X_train, y_train, cv=5)\n",
        "adaboost_cv_scores = cross_val_score(adaboost_clf, X_train, y_train, cv=5)\n",
        "\n",
        "# print the mean of the list of scores\n",
        "print(\"Decision Tree CV Score: {}\".format(np.mean(tree_cv_scores)))\n",
        "print(\"Random Forest CV Score: {}\".format(np.mean(rand_forest_cv_scores)))\n",
        "print(\"Adaboost CV Score:      {}\".format(np.mean(adaboost_cv_scores)))"
      ]
    },
    {
      "cell_type": "markdown",
      "metadata": {
        "id": "PPJpGCDqmWGq"
      },
      "source": [
        "Which method was most successful according to the cross validation accuracy?\n",
        "\n",
        "To demonstrate something quite interesting, try rerunning the cross validation cell above repeatedly and watch the results. Notice how the results are much more stable for the ensemble methods than they are for the decision tree?"
      ]
    },
    {
      "cell_type": "markdown",
      "metadata": {
        "id": "hjxa0k6QmWGq"
      },
      "source": [
        "How does this translate into performance on the testing set? Let's find out:"
      ]
    },
    {
      "cell_type": "code",
      "execution_count": null,
      "metadata": {
        "id": "9Gt7cKhNmWGq",
        "outputId": "1f6736cb-0cf5-4e98-9d1e-ecbec2161f5d"
      },
      "outputs": [
        {
          "name": "stdout",
          "output_type": "stream",
          "text": [
            "Decision Tree CV Score: 0.7365\n",
            "Random Forest CV Score: 0.8266666666666667\n",
            "Adaboost CV Score:      0.8293333333333334\n"
          ]
        }
      ],
      "source": [
        "# Make the predictions using each model\n",
        "y_pred_tree = tree_clf.predict(X_test)\n",
        "y_pred_forest = rand_forest_clf.predict(X_test)\n",
        "y_pred_adaboost = adaboost_clf.predict(X_test)\n",
        "\n",
        "# print the accuracies on the test data\n",
        "from sklearn import metrics\n",
        "print(\"Decision Tree CV Score: {}\".format(metrics.accuracy_score(y_test, y_pred_tree)))\n",
        "print(\"Random Forest CV Score: {}\".format(metrics.accuracy_score(y_test, y_pred_forest)))\n",
        "print(\"Adaboost CV Score:      {}\".format(metrics.accuracy_score(y_test, y_pred_adaboost)))"
      ]
    },
    {
      "cell_type": "markdown",
      "metadata": {
        "id": "1ZjhCXG3mWGr"
      },
      "source": [
        "Did the ensemble methods improve upon the use of a single decision tree?"
      ]
    },
    {
      "cell_type": "markdown",
      "metadata": {
        "id": "fdBrtstomWGr"
      },
      "source": [
        "While creating an array of different decisions trees makes it somewhat more difficult to ascertain as to how the ensembles make their decisions, we should note that it is possible to extract individual trees (estimators) and plot them using the code below. Remember, the idea of an ensemble is that it comprises lots of simple models, so the extracted trees tend to be quite small."
      ]
    },
    {
      "cell_type": "code",
      "execution_count": null,
      "metadata": {
        "id": "17yxpT4JmWGr",
        "outputId": "da03033a-7327-493d-9519-7b5ca0cd5d8d"
      },
      "outputs": [
        {
          "data": {
            "image/png": "[encoded data removed]",
            "text/plain": [
              "<Figure size 640x480 with 1 Axes>"
            ]
          },
          "metadata": {},
          "output_type": "display_data"
        }
      ],
      "source": [
        "tree.plot_tree(adaboost_clf.estimators_[0]);"
      ]
    },
    {
      "cell_type": "markdown",
      "metadata": {
        "id": "aGYcxsZPmWGs"
      },
      "source": [
        "And for an overview, we can also inspect the feature importances according to the ensemble. These are a good guide as to which features were most important when training the models, but don't rely on them completely - there are slight nuances to how these are calculated which can lead to slightly misleading importances.\n",
        "\n",
        "We'll come back to this idea later in the course."
      ]
    },
    {
      "cell_type": "code",
      "execution_count": null,
      "metadata": {
        "id": "RNKWYBiGmWGs",
        "outputId": "4edf7525-138e-4f2b-e091-6e8a42b5cd65"
      },
      "outputs": [
        {
          "data": {
            "text/plain": [
              "array([0.  , 0.06, 0.02, 0.04, 0.04, 0.02, 0.14, 0.1 , 0.04, 0.  , 0.02,\n",
              "       0.02, 0.12, 0.04, 0.08, 0.04, 0.  , 0.02, 0.06, 0.06, 0.04, 0.04,\n",
              "       0.  , 0.  ])"
            ]
          },
          "execution_count": 32,
          "metadata": {},
          "output_type": "execute_result"
        }
      ],
      "source": [
        "adaboost_clf.feature_importances_"
      ]
    },
    {
      "cell_type": "markdown",
      "metadata": {
        "id": "_lcLoCj6mWGs"
      },
      "source": [
        "# Under- and Over Sampling\n",
        "Revisiting credit default data set, we see that it is actually somewhat imbalanced:"
      ]
    },
    {
      "cell_type": "code",
      "execution_count": null,
      "metadata": {
        "id": "qyFc39fkmWGt",
        "outputId": "8209e28f-9eef-4a13-e640-99abf51a5459"
      },
      "outputs": [
        {
          "data": {
            "text/plain": [
              "<Axes: >"
            ]
          },
          "execution_count": 33,
          "metadata": {},
          "output_type": "execute_result"
        },
        {
          "data": {
            "image/png": "[encoded data removed]",
            "text/plain": [
              "<Figure size 640x480 with 1 Axes>"
            ]
          },
          "metadata": {},
          "output_type": "display_data"
        }
      ],
      "source": [
        "import pandas as pd\n",
        "import numpy as np\n",
        "\n",
        "# remember to change this path if you've saved the data somewhere else\n",
        "df=pd.read_csv(\"creditDefault.csv\")\n",
        "\n",
        "# set features and targets\n",
        "targetName=\"default payment next month\"\n",
        "df.columns.get_loc(targetName)\n",
        "featureNames=df.columns[np.where(df.columns != targetName)]\n",
        "X = df[featureNames]\n",
        "y = df[targetName]\n",
        "\n",
        "y.value_counts().plot(kind='bar')"
      ]
    },
    {
      "cell_type": "markdown",
      "metadata": {
        "id": "40R2c1bkmWGt"
      },
      "source": [
        "So, the 0 class has more instances than the 1 class.\n",
        "\n",
        "We tried undersampling in Week 1. We are taking a random selection of the instances from the majority class, so that the two classes have the same number of instances..."
      ]
    },
    {
      "cell_type": "code",
      "execution_count": null,
      "metadata": {
        "id": "3i3W90LDmWGt",
        "outputId": "6d5bcf38-7f91-4870-d1aa-046f5ed6ebe1"
      },
      "outputs": [
        {
          "data": {
            "text/plain": [
              "<Axes: >"
            ]
          },
          "execution_count": 34,
          "metadata": {},
          "output_type": "execute_result"
        },
        {
          "data": {
            "image/png": "[encoded data removed]",
            "text/plain": [
              "<Figure size 640x480 with 1 Axes>"
            ]
          },
          "metadata": {},
          "output_type": "display_data"
        }
      ],
      "source": [
        "g = df.groupby(targetName)\n",
        "df_undersampled = g.apply(lambda x: x.sample(g.size().min())).reset_index(drop=True)\n",
        "\n",
        "# can do this if using Pandas > 1.1.0\n",
        "#df_undersampled = g.sample(g.size().min()).reset_index(drop=True)\n",
        "\n",
        "X_undersampled = df_undersampled[featureNames]\n",
        "y_undersampled = df_undersampled[targetName]\n",
        "\n",
        "y_undersampled.value_counts().plot(kind='bar')"
      ]
    },
    {
      "cell_type": "markdown",
      "metadata": {
        "id": "awcHnCQMmWGt"
      },
      "source": [
        "Oversampling can follow the same process, but this time we sample the smaller class. We are allowed to choose the same instance more than once (`replace=True`), so what's happening is that we're duplicating the data until the two classes are the same size. This is fairly crude: an alternative is to use SMOTE, which doesn't just duplicate the instances but also adds some variation to them. We won't cover that here but you are welcome to read up on this in your own time. [This](https://machinelearningmastery.com/smote-oversampling-for-imbalanced-classification/) is a good tutorial on implementing SMOTE."
      ]
    },
    {
      "cell_type": "code",
      "execution_count": null,
      "metadata": {
        "id": "Lel35RGgmWGu",
        "outputId": "b621e36b-e2ee-4bec-f343-ad184e0efbfb"
      },
      "outputs": [
        {
          "data": {
            "text/plain": [
              "<Axes: >"
            ]
          },
          "execution_count": 35,
          "metadata": {},
          "output_type": "execute_result"
        },
        {
          "data": {
            "image/png": "[encoded data removed]",
            "text/plain": [
              "<Figure size 640x480 with 1 Axes>"
            ]
          },
          "metadata": {},
          "output_type": "display_data"
        }
      ],
      "source": [
        "g = df.groupby(targetName)\n",
        "df_oversampled = g.apply(lambda x: x.sample(g.size().max(), replace=True)).reset_index(drop=True)\n",
        "\n",
        "# can do this if using Pandas > 1.1.0\n",
        "#df_oversampled = g.sample(g.size().max(), replace=True).reset_index(drop=True)\n",
        "\n",
        "X_oversampled = df_undersampled[featureNames]\n",
        "y_oversampled = df_undersampled[targetName]\n",
        "\n",
        "y_oversampled.value_counts().plot(kind='bar')"
      ]
    },
    {
      "cell_type": "markdown",
      "metadata": {
        "id": "mMBv_GnRmWGu"
      },
      "source": [
        "Now let's try fitting a kNN model for each data set and use a confusion matrix to see how well they're doing."
      ]
    },
    {
      "cell_type": "code",
      "execution_count": null,
      "metadata": {
        "id": "A7bNyAqDmWGu"
      },
      "outputs": [],
      "source": [
        "# Use the train_test_split function provided by sklearn\n",
        "from sklearn.model_selection import train_test_split\n",
        "\n",
        "# Split the data into 80% training and 20% testing. Setting the random_state will ensure replicability.\n",
        "X_train, X_test, y_train, y_test = train_test_split(X, y, test_size=0.2, random_state=3)\n",
        "\n",
        "X_undersampled_train, X_undersampled_test, y_undersampled_train, y_undersampled_test = train_test_split(X_undersampled, y_undersampled, test_size=0.2, random_state=3)\n",
        "X_oversampled_train, X_oversampled_test, y_oversampled_train, y_oversampled_test = train_test_split(X_oversampled, y_oversampled, test_size=0.2, random_state=3)"
      ]
    },
    {
      "cell_type": "code",
      "execution_count": null,
      "metadata": {
        "id": "NYiI-n5LmWGv",
        "outputId": "5faf06d5-4973-46bd-9a1e-63f576fe6614"
      },
      "outputs": [
        {
          "data": {
            "image/png": "[encoded data removed]",
            "text/plain": [
              "<Figure size 640x480 with 2 Axes>"
            ]
          },
          "metadata": {},
          "output_type": "display_data"
        }
      ],
      "source": [
        "# original data\n",
        "from sklearn.neighbors import KNeighborsClassifier\n",
        "from sklearn.metrics import confusion_matrix, ConfusionMatrixDisplay\n",
        "\n",
        "knn_clf = KNeighborsClassifier()#n_neighbors = 5)\n",
        "knn_clf.fit(X_train.values, y_train)\n",
        "\n",
        "y_pred = knn_clf.predict(X_test.values)\n",
        "#ConfusionMatrixDisplay.from_predictions(y_test, y_pred) # sklearn 1.0 onwards\n",
        "import matplotlib.pyplot as plt\n",
        "cm = confusion_matrix(y_test, y_pred)\n",
        "disp = ConfusionMatrixDisplay(confusion_matrix=cm)\n",
        "disp.plot()\n",
        "plt.show()"
      ]
    },
    {
      "cell_type": "code",
      "execution_count": null,
      "metadata": {
        "id": "UFYwwqIAmWGv",
        "outputId": "a99f8eb4-4c57-433d-8a3c-93bd844b2032"
      },
      "outputs": [
        {
          "name": "stderr",
          "output_type": "stream",
          "text": [
            "/home/sbr/anaconda3/lib/python3.11/site-packages/sklearn/base.py:464: UserWarning: X does not have valid feature names, but KNeighborsClassifier was fitted with feature names\n",
            "  warnings.warn(\n"
          ]
        },
        {
          "data": {
            "image/png": "[encoded data removed]",
            "text/plain": [
              "<Figure size 640x480 with 2 Axes>"
            ]
          },
          "metadata": {},
          "output_type": "display_data"
        }
      ],
      "source": [
        "# undersampled data\n",
        "knn_clf.fit(X_undersampled_train, y_undersampled_train)\n",
        "\n",
        "y_undersampled_pred = knn_clf.predict(X_undersampled_test.values)\n",
        "#ConfusionMatrixDisplay.from_predictions(y_undersampled_test, y_undersampled_pred) # sklearn 1.0 onwards\n",
        "import matplotlib.pyplot as plt\n",
        "cm = confusion_matrix(y_undersampled_test, y_undersampled_pred)\n",
        "disp = ConfusionMatrixDisplay(confusion_matrix=cm)\n",
        "disp.plot()\n",
        "plt.show()"
      ]
    },
    {
      "cell_type": "code",
      "execution_count": null,
      "metadata": {
        "id": "8w3HKVNvmWGv",
        "outputId": "1b4d3c92-9f10-4be4-c6df-4a097725244d"
      },
      "outputs": [
        {
          "data": {
            "image/png": "[encoded data removed]",
            "text/plain": [
              "<Figure size 640x480 with 2 Axes>"
            ]
          },
          "metadata": {},
          "output_type": "display_data"
        }
      ],
      "source": [
        "# original data\n",
        "knn_clf.fit(X_oversampled_train.values, y_oversampled_train)\n",
        "\n",
        "y_oversampled_pred = knn_clf.predict(X_oversampled_test.values)\n",
        "#ConfusionMatrixDisplay.from_predictions(y_oversampled_test, y_oversampled_pred) # sklearn 1.0 onwards\n",
        "import matplotlib.pyplot as plt\n",
        "cm = confusion_matrix(y_oversampled_test, y_oversampled_pred)\n",
        "disp = ConfusionMatrixDisplay(confusion_matrix=cm)\n",
        "disp.plot()\n",
        "plt.show()"
      ]
    },
    {
      "cell_type": "markdown",
      "metadata": {
        "id": "BFB-JTsemWGw"
      },
      "source": [
        "With the original data, it gets the majority class (0) right most of the time, but it also gets the minority class (1) wrong most of the time. With the rebalanced data, we have sacrificed some of our accuracy on the majority class (0) to greatly improve accuracy on the minority class (1). Clearly the models are far from perfect: the error rate is still quite high, but the point is that we are now doing much better than we were doing with the unbalanced data."
      ]
    }
  ],
  "metadata": {
    "kernelspec": {
      "display_name": "Python 3 (ipykernel)",
      "language": "python",
      "name": "python3"
    },
    "language_info": {
      "codemirror_mode": {
        "name": "ipython",
        "version": 3
      },
      "file_extension": ".py",
      "mimetype": "text/x-python",
      "name": "python",
      "nbconvert_exporter": "python",
      "pygments_lexer": "ipython3",
      "version": "3.12.3"
    },
    "colab": {
      "provenance": [],
      "include_colab_link": true
    }
  },
  "nbformat": 4,
  "nbformat_minor": 0
}